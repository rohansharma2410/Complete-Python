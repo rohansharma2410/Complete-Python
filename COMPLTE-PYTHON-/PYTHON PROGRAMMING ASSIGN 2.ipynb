{
 "cells": [
  {
   "cell_type": "raw",
   "id": "84ee760a",
   "metadata": {},
   "source": [
    "#1.Write a Python program to convert kilometers to miles?\n",
    "#2.Write a Python program to convert Celsius to Fahrenheit?\n",
    "#3.Write a Python program to display calendar?\n",
    "#4.Write a Python program to solve quadratic equation?\n",
    "#5.Write a Python program to swap two variables without temp variable?\n",
    "\n"
   ]
  },
  {
   "cell_type": "markdown",
   "id": "b3d6180c",
   "metadata": {},
   "source": [
    "Q 1) Write a Python program to convert kilometers to miles?"
   ]
  },
  {
   "cell_type": "code",
   "execution_count": 5,
   "id": "b1b73cef",
   "metadata": {},
   "outputs": [
    {
     "name": "stdout",
     "output_type": "stream",
     "text": [
      "Enter the kilimeters:45.9\n",
      "Expected miles: 45900.0\n"
     ]
    }
   ],
   "source": [
    "#Ans 1)\n",
    "Kilometer_number=float(input(\"Enter the kilimeters:\"))\n",
    "miles=Kilometer_number*1000\n",
    "print(\"Expected miles:\",miles)\n",
    "\n",
    "\n"
   ]
  },
  {
   "cell_type": "markdown",
   "id": "ee39f494",
   "metadata": {},
   "source": [
    "Q 2) Write a Python program to convert Celsius to Fahrenheit?"
   ]
  },
  {
   "cell_type": "code",
   "execution_count": 8,
   "id": "4170a335",
   "metadata": {},
   "outputs": [
    {
     "name": "stdout",
     "output_type": "stream",
     "text": [
      "Enter the celsius:26\n",
      "The Fahrenheit is: 878.8\n"
     ]
    }
   ],
   "source": [
    "#Ans 2)\n",
    "celsius=float(input(\"Enter the celsius:\"))\n",
    "fah=celsius*33.8\n",
    "print(\"The Fahrenheit is:\", fah)\n"
   ]
  },
  {
   "cell_type": "raw",
   "id": "9d0f3a55",
   "metadata": {},
   "source": [
    "Q 3)Write a Python program to display calendar?"
   ]
  },
  {
   "cell_type": "code",
   "execution_count": 26,
   "id": "ead4bf9f",
   "metadata": {},
   "outputs": [
    {
     "name": "stdout",
     "output_type": "stream",
     "text": [
      "Enter the year: 2023\n",
      "Enter the month: 05\n",
      "      May 2023\n",
      "Mo Tu We Th Fr Sa Su\n",
      " 1  2  3  4  5  6  7\n",
      " 8  9 10 11 12 13 14\n",
      "15 16 17 18 19 20 21\n",
      "22 23 24 25 26 27 28\n",
      "29 30 31\n",
      "\n"
     ]
    }
   ],
   "source": [
    "import calendar\n",
    "\n",
    "year = int(input(\"Enter the year: \"))\n",
    "month = int(input(\"Enter the month: \"))\n",
    "\n",
    "# Display the calendar\n",
    "print(calendar.month(year, month))"
   ]
  },
  {
   "cell_type": "code",
   "execution_count": 22,
   "id": "88ed6369",
   "metadata": {},
   "outputs": [
    {
     "name": "stdout",
     "output_type": "stream",
     "text": [
      "Enter the year: 2023\n",
      "Enter the month: 05\n",
      "May 2023\n",
      "      May 2023\n",
      "Mo Tu We Th Fr Sa Su\n",
      " 1  2  3  4  5  6  7\n",
      " 8  9 10 11 12 13 14\n",
      "15 16 17 18 19 20 21\n",
      "22 23 24 25 26 27 28\n",
      "29 30 31\n",
      "\n"
     ]
    }
   ],
   "source": [
    "#using function\n",
    "import calendar\n",
    "\n",
    "def display_calendar(year, month):\n",
    "    # Print the month and year header\n",
    "    print(calendar.month_name[month], year)\n",
    "    print(calendar.month(year, month))\n",
    "\n",
    "# Prompt the user for input\n",
    "year = int(input(\"Enter the year: \"))\n",
    "month = int(input(\"Enter the month: \"))\n",
    "\n",
    "# Call the display_calendar function\n",
    "display_calendar(year, month)"
   ]
  },
  {
   "cell_type": "code",
   "execution_count": 24,
   "id": "cffac6ad",
   "metadata": {},
   "outputs": [
    {
     "name": "stdout",
     "output_type": "stream",
     "text": [
      "Enter calender year: 2023\n",
      "                                  2023\n",
      "\n",
      "      January                   February                   March\n",
      "Mo Tu We Th Fr Sa Su      Mo Tu We Th Fr Sa Su      Mo Tu We Th Fr Sa Su\n",
      "                   1             1  2  3  4  5             1  2  3  4  5\n",
      " 2  3  4  5  6  7  8       6  7  8  9 10 11 12       6  7  8  9 10 11 12\n",
      " 9 10 11 12 13 14 15      13 14 15 16 17 18 19      13 14 15 16 17 18 19\n",
      "16 17 18 19 20 21 22      20 21 22 23 24 25 26      20 21 22 23 24 25 26\n",
      "23 24 25 26 27 28 29      27 28                     27 28 29 30 31\n",
      "30 31\n",
      "\n",
      "       April                      May                       June\n",
      "Mo Tu We Th Fr Sa Su      Mo Tu We Th Fr Sa Su      Mo Tu We Th Fr Sa Su\n",
      "                1  2       1  2  3  4  5  6  7                1  2  3  4\n",
      " 3  4  5  6  7  8  9       8  9 10 11 12 13 14       5  6  7  8  9 10 11\n",
      "10 11 12 13 14 15 16      15 16 17 18 19 20 21      12 13 14 15 16 17 18\n",
      "17 18 19 20 21 22 23      22 23 24 25 26 27 28      19 20 21 22 23 24 25\n",
      "24 25 26 27 28 29 30      29 30 31                  26 27 28 29 30\n",
      "\n",
      "        July                     August                  September\n",
      "Mo Tu We Th Fr Sa Su      Mo Tu We Th Fr Sa Su      Mo Tu We Th Fr Sa Su\n",
      "                1  2          1  2  3  4  5  6                   1  2  3\n",
      " 3  4  5  6  7  8  9       7  8  9 10 11 12 13       4  5  6  7  8  9 10\n",
      "10 11 12 13 14 15 16      14 15 16 17 18 19 20      11 12 13 14 15 16 17\n",
      "17 18 19 20 21 22 23      21 22 23 24 25 26 27      18 19 20 21 22 23 24\n",
      "24 25 26 27 28 29 30      28 29 30 31               25 26 27 28 29 30\n",
      "31\n",
      "\n",
      "      October                   November                  December\n",
      "Mo Tu We Th Fr Sa Su      Mo Tu We Th Fr Sa Su      Mo Tu We Th Fr Sa Su\n",
      "                   1             1  2  3  4  5                   1  2  3\n",
      " 2  3  4  5  6  7  8       6  7  8  9 10 11 12       4  5  6  7  8  9 10\n",
      " 9 10 11 12 13 14 15      13 14 15 16 17 18 19      11 12 13 14 15 16 17\n",
      "16 17 18 19 20 21 22      20 21 22 23 24 25 26      18 19 20 21 22 23 24\n",
      "23 24 25 26 27 28 29      27 28 29 30               25 26 27 28 29 30 31\n",
      "30 31\n",
      "\n"
     ]
    }
   ],
   "source": [
    "#entire year calender\n",
    "def showCalender():\n",
    "\n",
    "    import calendar\n",
    "\n",
    "    year = int(input(\"Enter calender year: \"))\n",
    "    print(calendar.calendar(year))\n",
    "    \n",
    "showCalender()"
   ]
  },
  {
   "cell_type": "code",
   "execution_count": 20,
   "id": "eff75a1a",
   "metadata": {},
   "outputs": [],
   "source": [
    "#Q 4) Write a Python program to solve quadratic equation?"
   ]
  },
  {
   "cell_type": "raw",
   "id": "2801e5b0",
   "metadata": {},
   "source": [
    "#Ans 4:\n",
    "-> quadratic equation ax^2+bx+c=0 a, b, c = known numbers, where a ≠ 0 x = the unknown\n",
    "\n",
    "-> descriminant = b2 - (4 a c)\n",
    "\n",
    "-> x1 = (-b-sqrt(d))/2\n",
    "\n",
    "-> x2 = (b-sqrt(d))/2\n"
   ]
  },
  {
   "cell_type": "code",
   "execution_count": 27,
   "id": "0741f43f",
   "metadata": {},
   "outputs": [
    {
     "name": "stdout",
     "output_type": "stream",
     "text": [
      " Enter value of a : 4\n",
      " Enter value of b : 5\n",
      " Enter value of c : 6\n",
      "The roots are = \n",
      "x1 = (-0.625-1.0532687216470449j)\n",
      "x2 = (-0.625+1.0532687216470449j)\n"
     ]
    }
   ],
   "source": [
    "def quadarticEquationRoots():\n",
    "    \n",
    "    # import complex math module\n",
    "    import cmath\n",
    "  \n",
    "\n",
    "    a = int(input(\" Enter value of a : \"))\n",
    "    b = int(input(\" Enter value of b : \"))\n",
    "    c = int(input(\" Enter value of c : \"))\n",
    "\n",
    "    # calculating  the discriminant\n",
    "    dis = (b**2) - (4 * a*c)\n",
    "    \n",
    "    \n",
    "    # find two results\n",
    "    x1 = (-b-cmath.sqrt(dis))/(2 * a)\n",
    "    x2 = (-b + cmath.sqrt(dis))/(2 * a)\n",
    "    \n",
    "    # printing the results\n",
    "    print('The roots are = ')\n",
    "    print(\"x1 =\", x1)\n",
    "    print(\"x2 =\",x2)\n",
    "    \n",
    "    \n",
    "quadarticEquationRoots()    \n",
    "   \n"
   ]
  },
  {
   "cell_type": "raw",
   "id": "be4c23a0",
   "metadata": {},
   "source": [
    "Q 5).Write a Python program to swap two variables without temp variable?"
   ]
  },
  {
   "cell_type": "code",
   "execution_count": 29,
   "id": "745d317d",
   "metadata": {},
   "outputs": [
    {
     "name": "stdout",
     "output_type": "stream",
     "text": [
      "Num1 : 45\n",
      "Num2 : 2123\n",
      "Before swaping x = 45  y = 2123\n",
      "After swaping x = 2123  y = 45\n"
     ]
    }
   ],
   "source": [
    "#Ans 5)\n",
    "def swapNumbers():\n",
    "\n",
    "    x = int(input(\"Num1 : \"))\n",
    "    y = int(input(\"Num2 : \"))\n",
    "    \n",
    "    print(\"Before swaping x =\", x,\" y =\", y)\n",
    "    y,x = x,y\n",
    "\n",
    "    print(\"After swaping x =\", x,\" y =\", y)\n",
    "    \n",
    "swapNumbers()  "
   ]
  },
  {
   "cell_type": "code",
   "execution_count": null,
   "id": "6200e11a",
   "metadata": {},
   "outputs": [],
   "source": []
  },
  {
   "cell_type": "code",
   "execution_count": null,
   "id": "f8d03a41",
   "metadata": {},
   "outputs": [],
   "source": []
  },
  {
   "cell_type": "code",
   "execution_count": null,
   "id": "fd6479d3",
   "metadata": {},
   "outputs": [],
   "source": []
  },
  {
   "cell_type": "code",
   "execution_count": null,
   "id": "b3d97a49",
   "metadata": {},
   "outputs": [],
   "source": [
    "\n"
   ]
  }
 ],
 "metadata": {
  "kernelspec": {
   "display_name": "Python 3 (ipykernel)",
   "language": "python",
   "name": "python3"
  },
  "language_info": {
   "codemirror_mode": {
    "name": "ipython",
    "version": 3
   },
   "file_extension": ".py",
   "mimetype": "text/x-python",
   "name": "python",
   "nbconvert_exporter": "python",
   "pygments_lexer": "ipython3",
   "version": "3.9.13"
  }
 },
 "nbformat": 4,
 "nbformat_minor": 5
}
