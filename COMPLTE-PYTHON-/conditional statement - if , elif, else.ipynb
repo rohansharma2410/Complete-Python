{
 "cells": [
  {
   "cell_type": "code",
   "execution_count": null,
   "id": "07ae68cd",
   "metadata": {},
   "outputs": [],
   "source": [
    "a = 10 \n",
    "if a == 11 :\n",
    "    print(\"this is my first condition\")\n",
    "    \n"
   ]
  },
  {
   "cell_type": "code",
   "execution_count": null,
   "id": "2aa2337a",
   "metadata": {},
   "outputs": [],
   "source": [
    "a = 10\n",
    "if a >5 :\n",
    "    pass"
   ]
  },
  {
   "cell_type": "code",
   "execution_count": null,
   "id": "2367014d",
   "metadata": {},
   "outputs": [],
   "source": [
    "a = 10 \n",
    "if a <8 :\n",
    "    print(\"print this if condition is true \")"
   ]
  },
  {
   "cell_type": "code",
   "execution_count": null,
   "id": "4e186e58",
   "metadata": {},
   "outputs": [],
   "source": [
    "a = 10\n",
    "if a == 11:\n",
    "    print(\"my condition is false\")\n",
    "else :\n",
    "    print(\"print this \")"
   ]
  },
  {
   "cell_type": "code",
   "execution_count": null,
   "id": "9f99ff47",
   "metadata": {},
   "outputs": [],
   "source": [
    "a = 10 \n",
    "if a == 12 :\n",
    "    print(\"here we are trying to compare 10 with 12\")\n",
    "elif a ==10:\n",
    "    print(\"we are trying to compare 10 with 11\")\n",
    "else :\n",
    "    print(\"if all the blocks wil fail then do this \")"
   ]
  },
  {
   "cell_type": "code",
   "execution_count": null,
   "id": "a120c605",
   "metadata": {},
   "outputs": [],
   "source": [
    "price = 500\n",
    "\n",
    "if price > 500 : \n",
    "    print(\" may b i wont be able to buy a jacket \")\n",
    "elif price < 500 :\n",
    "    print(\"i will be able to buy a jacket\")\n",
    "elif  price == 500 :\n",
    "    print(\"for sure i will be able to buy\")\n",
    "\n",
    "else  :\n",
    "    print(\"i dont know\")\n",
    "    "
   ]
  },
  {
   "cell_type": "code",
   "execution_count": null,
   "id": "13fe70d0",
   "metadata": {},
   "outputs": [],
   "source": [
    "price > 500"
   ]
  },
  {
   "cell_type": "code",
   "execution_count": null,
   "id": "162c2a51",
   "metadata": {},
   "outputs": [],
   "source": [
    "price < 500"
   ]
  },
  {
   "cell_type": "code",
   "execution_count": null,
   "id": "4fb33716",
   "metadata": {},
   "outputs": [],
   "source": [
    " price == 500"
   ]
  },
  {
   "cell_type": "code",
   "execution_count": null,
   "id": "d650f78a",
   "metadata": {},
   "outputs": [],
   "source": [
    "l = [1,2,3,4,5,6]\n",
    "2 in l"
   ]
  },
  {
   "cell_type": "code",
   "execution_count": null,
   "id": "2c84bcb2",
   "metadata": {},
   "outputs": [],
   "source": [
    "if 60 in l :\n",
    "    print(\"try to perform a task \")\n",
    "else :\n",
    "    print(\"do not perform this task\")"
   ]
  },
  {
   "cell_type": "code",
   "execution_count": null,
   "id": "740c73fd",
   "metadata": {},
   "outputs": [],
   "source": [
    "60 in l"
   ]
  },
  {
   "cell_type": "code",
   "execution_count": null,
   "id": "0f1d7f3d",
   "metadata": {},
   "outputs": [],
   "source": [
    "l"
   ]
  },
  {
   "cell_type": "code",
   "execution_count": null,
   "id": "6f4ad9ab",
   "metadata": {},
   "outputs": [],
   "source": [
    "if 10 in l :\n",
    "    print(\"thy to do a addition\")\n",
    "elif 2 in l :\n",
    "    print(\"try to do sub\")\n",
    "elif 3 in l :\n",
    "    print(\"try to do mul\")\n",
    "if 4 in l :\n",
    "    print(\"this is new statement\")"
   ]
  },
  {
   "cell_type": "code",
   "execution_count": null,
   "id": "4ae964c6",
   "metadata": {},
   "outputs": [],
   "source": [
    "a = 400"
   ]
  },
  {
   "cell_type": "code",
   "execution_count": null,
   "id": "3b4020dc",
   "metadata": {},
   "outputs": [],
   "source": [
    "b = int(input())"
   ]
  },
  {
   "cell_type": "code",
   "execution_count": null,
   "id": "b0234101",
   "metadata": {},
   "outputs": [],
   "source": [
    "type(b)\n"
   ]
  },
  {
   "cell_type": "code",
   "execution_count": null,
   "id": "772cf77a",
   "metadata": {},
   "outputs": [],
   "source": [
    "price  = int(input())\n",
    "if price  <500 :\n",
    "    print(\"i will be able to buy something\")\n",
    "    if price < 400 :\n",
    "        print(\"i will be able to buy a jacket\")\n",
    "    elif price < 300 :\n",
    "        \n",
    "        print(\"i will be able to buy a shirt\")\n",
    "        if price < 200 :\n",
    "            print(\"i would like to do sometign\")\n",
    "    else :\n",
    "        print(\"i wont be able to buy anyting\")\n",
    "else :\n",
    "     print(\"i wont be able to buy anything with this price tag\")\n",
    "     if price >500:\n",
    "        print(\"lets try someting else \")\n",
    "        "
   ]
  },
  {
   "cell_type": "code",
   "execution_count": null,
   "id": "a1c62e14",
   "metadata": {},
   "outputs": [],
   "source": [
    "marks = int(input())\n",
    "if marks < 600:\n",
    "    print(\"NO GRE\")\n",
    "    if marks < 500:\n",
    "        print(\"TOFEL\")\n",
    "        if marks < 400:\n",
    "            print(\"Try something else\")\n",
    "    else:\n",
    "        print(\"YOU GOT TOFEL\")\n",
    "else:\n",
    "    print(\"You got GRE congratulations\")\n"
   ]
  },
  {
   "cell_type": "code",
   "execution_count": null,
   "id": "bee988ed",
   "metadata": {},
   "outputs": [],
   "source": [
    "val  = float(input(\"enter a floating point number\"))\n",
    "if val >= 0 :\n",
    "    if val == 0 :\n",
    "        print(\"entered value is zero\")\n",
    "    else :\n",
    "        print(\"enter value is a positive number \")\n",
    "else :\n",
    "    print(\"entered number is a negative number\")"
   ]
  },
  {
   "cell_type": "code",
   "execution_count": null,
   "id": "f16fd943",
   "metadata": {},
   "outputs": [],
   "source": [
    "a = 10\n",
    "if a <10  and a == 10 :\n",
    "    print(\"try to do someting \")"
   ]
  },
  {
   "cell_type": "code",
   "execution_count": null,
   "id": "3acc4a2f",
   "metadata": {},
   "outputs": [],
   "source": [
    "a = \"sudh\"\n",
    "if a == \"sudh\" or a == \"Sudh\":\n",
    "    print(\"this is sudh \")"
   ]
  },
  {
   "cell_type": "code",
   "execution_count": null,
   "id": "56b7a084",
   "metadata": {},
   "outputs": [],
   "source": [
    "a = 10 \n",
    "b = 11\n",
    "c = 12\n",
    "d = 13\n",
    "if a == 9 or b == 11 and c == 12 and d ==13:\n",
    "    print(\"lets do something\")"
   ]
  },
  {
   "cell_type": "code",
   "execution_count": null,
   "id": "63112035",
   "metadata": {},
   "outputs": [],
   "source": [
    "d = {'key1' :\"value\" , \"key2\" : \"sudh\" , \"key3\" : \"iNeuron\"}"
   ]
  },
  {
   "cell_type": "code",
   "execution_count": null,
   "id": "16839f82",
   "metadata": {},
   "outputs": [],
   "source": [
    "if d['key1'] == \"value\" and d['key2'] == \"Sudh\" and d['key3'] == \"iNeuron\":\n",
    "    print(\"all the values are verified \")\n",
    "    print(d.values())\n",
    "else :\n",
    "    print(\"all the values are not verified \")"
   ]
  },
  {
   "cell_type": "code",
   "execution_count": null,
   "id": "032d1b6d",
   "metadata": {},
   "outputs": [],
   "source": [
    "d['key1']"
   ]
  },
  {
   "cell_type": "code",
   "execution_count": null,
   "id": "20101f30",
   "metadata": {},
   "outputs": [],
   "source": [
    "l = [1,2,3,4,5,\"sudh\" ,234.45]"
   ]
  },
  {
   "cell_type": "code",
   "execution_count": null,
   "id": "f1bfcbb1",
   "metadata": {},
   "outputs": [],
   "source": [
    "l[0]"
   ]
  },
  {
   "cell_type": "code",
   "execution_count": null,
   "id": "e0d07b4c",
   "metadata": {},
   "outputs": [],
   "source": [
    "l[1]"
   ]
  },
  {
   "cell_type": "code",
   "execution_count": null,
   "id": "8b099ed8",
   "metadata": {},
   "outputs": [],
   "source": [
    "l[2:5]"
   ]
  },
  {
   "cell_type": "code",
   "execution_count": null,
   "id": "2f925627",
   "metadata": {},
   "outputs": [],
   "source": [
    "l"
   ]
  },
  {
   "cell_type": "code",
   "execution_count": null,
   "id": "1072abce",
   "metadata": {},
   "outputs": [],
   "source": [
    "for i in l :\n",
    "    if type(i) == int or type(i) == float:\n",
    "        print(i+1)\n",
    "    elif type(i) == str:\n",
    "        print(i + str(1))\n",
    "    "
   ]
  },
  {
   "cell_type": "code",
   "execution_count": null,
   "id": "57621ff5",
   "metadata": {},
   "outputs": [],
   "source": [
    "l"
   ]
  },
  {
   "cell_type": "code",
   "execution_count": null,
   "id": "b89d5e3f",
   "metadata": {},
   "outputs": [],
   "source": [
    "a=[9, 8,7,6,5,4,3,2,10]\n",
    "for i in a :\n",
    "       print(i ,end=' ') "
   ]
  },
  {
   "cell_type": "code",
   "execution_count": null,
   "id": "3533c6e5",
   "metadata": {},
   "outputs": [],
   "source": [
    "l "
   ]
  },
  {
   "cell_type": "code",
   "execution_count": null,
   "id": "b02db6a0",
   "metadata": {},
   "outputs": [],
   "source": [
    "l1 = []\n",
    "for i in l :\n",
    "    if type(i) == int:\n",
    "        l1.append(i)"
   ]
  },
  {
   "cell_type": "code",
   "execution_count": null,
   "id": "cd6a0fc6",
   "metadata": {},
   "outputs": [],
   "source": [
    "l1"
   ]
  },
  {
   "cell_type": "code",
   "execution_count": null,
   "id": "4e334d0b",
   "metadata": {},
   "outputs": [],
   "source": [
    "for a in l:\n",
    "    if type(a)==int:\n",
    "        print(a+1)\n",
    "    elif type(a)==str:\n",
    "        print(a+str(1))\n",
    "    elif type(a)==float:\n",
    "        print(a+float(1))\n"
   ]
  },
  {
   "cell_type": "code",
   "execution_count": null,
   "id": "191d395b",
   "metadata": {},
   "outputs": [],
   "source": [
    "for i in l:\n",
    "    if type(i)==int  or type(i) == float:\n",
    "        print(i+1)\n",
    "    elif type(i)== str:    \n",
    "        print(i+ str(1))"
   ]
  },
  {
   "cell_type": "code",
   "execution_count": null,
   "id": "a89fb784",
   "metadata": {},
   "outputs": [],
   "source": [
    "for i in l :\n",
    "    if type(i) ==  int or type(i) == float :\n",
    "        print(i+1) \n",
    "    elif type(i) == str:\n",
    "        print(i + str(1))\n"
   ]
  },
  {
   "cell_type": "code",
   "execution_count": null,
   "id": "904cdf5b",
   "metadata": {},
   "outputs": [],
   "source": [
    "l = [1,2,3,4,5 ,\"car\",5,6,7]\n",
    "\n",
    "for i in l:\n",
    "    if i.isnumeric():\n",
    "        print(i)"
   ]
  },
  {
   "cell_type": "code",
   "execution_count": null,
   "id": "5184ef4d",
   "metadata": {},
   "outputs": [],
   "source": [
    "if d['key1']==\"value\" and d['key2']==\"amrit\" and d['key3']==\"ineuron\":\n",
    "    print (\"all the values aree verified\")\n",
    "    print(d.value())\n",
    "if d['key1']==\"value\" and d['key2']==\"amrit\" and d['key3']==\"ineuron\":\n",
    "    print (\"all the values aree verified\")\n",
    "    print(d.value())"
   ]
  },
  {
   "cell_type": "code",
   "execution_count": 1,
   "id": "eb1cbab9",
   "metadata": {},
   "outputs": [
    {
     "name": "stdout",
     "output_type": "stream",
     "text": [
      "So far, you've entered the following names: ['rohan']\n",
      "Thanks for entering the names!\n"
     ]
    }
   ],
   "source": [
    "names = []\n",
    "while True:\n",
    "    name = input(\"Enter a name (or 'Rohan' to stop):-\")\n",
    "    if name == \"Rohan\":\n",
    "        break\n",
    "    names.append(name)\n",
    "    print(f\"So far, you've entered the following names: {names}\")\n",
    "print(\"Thanks for entering the names!\")"
   ]
  },
  {
   "cell_type": "code",
   "execution_count": 2,
   "id": "9624d6df",
   "metadata": {},
   "outputs": [],
   "source": [
    "l = [1,2,3,4,5465,67,\"sudh\"]"
   ]
  },
  {
   "cell_type": "code",
   "execution_count": 3,
   "id": "76c62111",
   "metadata": {},
   "outputs": [
    {
     "name": "stdout",
     "output_type": "stream",
     "text": [
      "sudh\n"
     ]
    }
   ],
   "source": [
    "for i in l:\n",
    "    if type(i)==str:\n",
    "        if i=='d':\n",
    "            break\n",
    "        print(i)\n",
    "        \n"
   ]
  },
  {
   "cell_type": "code",
   "execution_count": 4,
   "id": "9a6d6b93",
   "metadata": {},
   "outputs": [
    {
     "name": "stdout",
     "output_type": "stream",
     "text": [
      "2\n",
      "3\n",
      "4\n",
      "5\n",
      "CK1\n",
      "2021.12\n"
     ]
    }
   ],
   "source": [
    "l = [1,2,3,4,'CK',2020.12]\n",
    "for i in l:\n",
    "    if type(i) == int :\n",
    "        print(i+1)\n",
    "    elif type(i) == str:\n",
    "        print(i +str(1))\n",
    "    elif type(i) == float:\n",
    "        print(i + float(1))\n",
    "\n"
   ]
  },
  {
   "cell_type": "code",
   "execution_count": 5,
   "id": "e7f2a0f7",
   "metadata": {},
   "outputs": [],
   "source": [
    "a = 10 \n",
    "if a < 8 :\n",
    "    print(\"print this if condition is true\")"
   ]
  },
  {
   "cell_type": "code",
   "execution_count": 6,
   "id": "61d7bf12",
   "metadata": {},
   "outputs": [
    {
     "name": "stdout",
     "output_type": "stream",
     "text": [
      "No Gre\n"
     ]
    }
   ],
   "source": [
    "marks =int(input())\n",
    "if marks  > 600:\n",
    "    print(\"Able to clear GRE \")\n",
    "elif marks < 600:\n",
    "        print(\"No Gre\")\n",
    "elif marks <500:\n",
    "    pass"
   ]
  },
  {
   "cell_type": "code",
   "execution_count": 33,
   "id": "a4b56fff",
   "metadata": {},
   "outputs": [
    {
     "ename": "IndentationError",
     "evalue": "unindent does not match any outer indentation level (<tokenize>, line 5)",
     "output_type": "error",
     "traceback": [
      "\u001b[1;36m  File \u001b[1;32m<tokenize>:5\u001b[1;36m\u001b[0m\n\u001b[1;33m    else:\u001b[0m\n\u001b[1;37m    ^\u001b[0m\n\u001b[1;31mIndentationError\u001b[0m\u001b[1;31m:\u001b[0m unindent does not match any outer indentation level\n"
     ]
    }
   ],
   "source": [
    "val = float(input(\"enter a floating number\"))\n",
    "if val>=0:\n",
    "     if val== 0:\n",
    "        print(\"entered number is zero\")\n",
    "    else:\n",
    "        print(\"value is a positive number\")\n",
    "    else :\n",
    "        print(\"value is a negative number\")\n"
   ]
  },
  {
   "cell_type": "code",
   "execution_count": 34,
   "id": "bcc85e27",
   "metadata": {},
   "outputs": [
    {
     "name": "stdout",
     "output_type": "stream",
     "text": [
      "lets do something 1\n",
      "lets do something 2\n",
      "lets do something 3\n",
      "lets do something 4\n",
      "True\n",
      "True\n"
     ]
    }
   ],
   "source": [
    "a,b,c,d=10,11,12,13\n",
    "####### Question 01 #######\n",
    "if a==10 or b==11 and c==12 and d==113: #### Case 1\n",
    "    # this is equal to a==10 or (b==11 and c==12 and d==113)\n",
    "    print('lets do something 1')\n",
    "if (a==10 and b==11 ) or (c==12 and d==113):  #### Case 2\n",
    "    # this is equal to (a==10 and b==11) or (c==12 and d==113)\n",
    "    print('lets do something 2')\n",
    "if a==10 and b==11 and c==12 and d==13 or a==9:   #### Case 3\n",
    "    # this is equal to (a==10 and b==11 and c==12 and d==13) or a==9\n",
    "    print('lets do something 3')\n",
    "if a==9 or b==11 and c==12 and d==13:   #### Case 4\n",
    "    print('lets do something 4')\n",
    "############# Question 2 #########\n",
    "# What is the difference between:\n",
    "print(type(a) == int)\n",
    "print(type(a) is int)\n"
   ]
  },
  {
   "cell_type": "code",
   "execution_count": 35,
   "id": "775d752a",
   "metadata": {},
   "outputs": [
    {
     "data": {
      "text/plain": [
       "True"
      ]
     },
     "execution_count": 35,
     "metadata": {},
     "output_type": "execute_result"
    }
   ],
   "source": [
    "\n",
    "type(a) == int"
   ]
  },
  {
   "cell_type": "code",
   "execution_count": 36,
   "id": "225806cc",
   "metadata": {},
   "outputs": [
    {
     "data": {
      "text/plain": [
       "10"
      ]
     },
     "execution_count": 36,
     "metadata": {},
     "output_type": "execute_result"
    }
   ],
   "source": [
    "a "
   ]
  },
  {
   "cell_type": "code",
   "execution_count": 37,
   "id": "855a9eaf",
   "metadata": {},
   "outputs": [
    {
     "data": {
      "text/plain": [
       "True"
      ]
     },
     "execution_count": 37,
     "metadata": {},
     "output_type": "execute_result"
    }
   ],
   "source": [
    "type(a) is int"
   ]
  },
  {
   "cell_type": "code",
   "execution_count": 38,
   "id": "0846aaf5",
   "metadata": {},
   "outputs": [
    {
     "name": "stdout",
     "output_type": "stream",
     "text": [
      "We have an active alarm Number: 1324\n",
      "No alarm\n"
     ]
    }
   ],
   "source": [
    "l = [0,0,0,0,0,0,0,1324,0,0,0,0,0]\n",
    "\n",
    "for i in l:\n",
    "    if i > 0 :\n",
    "        print(\"We have an active alarm Number:\",i)         \n",
    "else:\n",
    "    print (\"No alarm\")\n",
    "    "
   ]
  },
  {
   "cell_type": "code",
   "execution_count": 39,
   "id": "4700d795",
   "metadata": {},
   "outputs": [
    {
     "name": "stdout",
     "output_type": "stream",
     "text": [
      "[1, 2, 3, 4, 5]\n"
     ]
    }
   ],
   "source": [
    "l=[1,2,3,4,5,\"sudh\",234.45]\n",
    "\n",
    "a=0\n",
    "l1=[]\n",
    "for i in l:\n",
    "    if type(i) == int:\n",
    "          l1 = l1 + [i]\n",
    "print(l1)"
   ]
  },
  {
   "cell_type": "code",
   "execution_count": 40,
   "id": "8be19a06",
   "metadata": {},
   "outputs": [
    {
     "data": {
      "text/plain": [
       "[1, 2, 3, 4, 5]"
      ]
     },
     "execution_count": 40,
     "metadata": {},
     "output_type": "execute_result"
    }
   ],
   "source": [
    "l1"
   ]
  },
  {
   "cell_type": "code",
   "execution_count": 43,
   "id": "1d537040",
   "metadata": {},
   "outputs": [
    {
     "name": "stdout",
     "output_type": "stream",
     "text": [
      "white\n",
      "yellow\n",
      "Please enter number from 1 to 40\n"
     ]
    }
   ],
   "source": [
    "a=int(input(\"Input a number from 1 to 40-------\"))\n",
    "if a >=1 or a <=9:\n",
    "    print (\"white\")\n",
    "if 10<=a>=20:\n",
    "    print (\"yellow\")\n",
    "if 21<=a>=30:\n",
    "        print (\"blue\")\n",
    "elif 31<=a>=40:\n",
    "        print (\"red\")\n",
    "else :\n",
    "    print(\"Please enter number from 1 to 40\")"
   ]
  },
  {
   "cell_type": "code",
   "execution_count": 44,
   "id": "c9a3d9a9",
   "metadata": {},
   "outputs": [
    {
     "name": "stdout",
     "output_type": "stream",
     "text": [
      "2\n",
      "3\n",
      "4\n",
      "5\n",
      "6\n",
      "sudh1\n",
      "235.45\n"
     ]
    }
   ],
   "source": [
    "for i in l :\n",
    "    if type(i) == int or type(i) == float :\n",
    "        print(i+1)\n",
    "    elif type(i) == str :\n",
    "        print(i + str(1))\n"
   ]
  },
  {
   "cell_type": "code",
   "execution_count": 48,
   "id": "7dcf5214",
   "metadata": {},
   "outputs": [
    {
     "name": "stdout",
     "output_type": "stream",
     "text": [
      "2\n",
      "3\n",
      "4\n",
      "5\n",
      "6\n",
      "sudh1\n",
      "235.45\n"
     ]
    }
   ],
   "source": [
    "for i in l :\n",
    "    if type(i) == int or type(i) == float :\n",
    "        print(i+1)\n",
    "    elif type(i) == str :\n",
    "        print(i+ str(1))"
   ]
  },
  {
   "cell_type": "code",
   "execution_count": 49,
   "id": "d3b70082",
   "metadata": {},
   "outputs": [
    {
     "name": "stdout",
     "output_type": "stream",
     "text": [
      "I can buy a Jacket\n"
     ]
    }
   ],
   "source": [
    "price = int(input(\"enter an integer\"))\n",
    "if price < 5000 :\n",
    "    print(\"I can buy a Jacket\")\n",
    "elif price > 5000 and price <= 10000 :\n",
    "    print(\"I can buy a shirt and Jacket\")\n",
    "elif price > 10000 :\n",
    "    print(\"I can buy 2 pairs\")\n",
    "else :\n",
    "    print(\"leave it\")\n"
   ]
  },
  {
   "cell_type": "code",
   "execution_count": 51,
   "id": "613f4306",
   "metadata": {},
   "outputs": [
    {
     "name": "stdout",
     "output_type": "stream",
     "text": [
      "[[2, 56, 43], ['sad', 'sad', 234, 'forty', 'rest', 734], [12, 39, 67], [(2-8j), 3.065, 7, 'tinku'], 'welcome'] \n",
      "\n",
      "Q1\n",
      "Sublist : ['sad', 'sad', 234, 'forty', 'rest', 734] \n",
      " index=  0 , value =  sad \n",
      "\n",
      "Sublist : ['sad', 'sad', 234, 'forty', 'rest', 734] \n",
      " index=  1 , value =  sad \n",
      "\n",
      "Sublist : ['sad', 'sad', 234, 'forty', 'rest', 734] \n",
      " index=  3 , value =  forty \n",
      "\n",
      "Sublist : ['sad', 'sad', 234, 'forty', 'rest', 734] \n",
      " index=  4 , value =  rest \n",
      "\n",
      "Sublist : [(2-8j), 3.065, 7, 'tinku'] \n",
      " index=  3 , value =  tinku \n",
      "\n",
      "[[2, 56, 43], ['sad', 'sad', 234, 'forty', 'rest', 734], [12, 39, 67], [(2-8j), 3.065, 7, 'tinku'], 'welcome'] \n",
      "\n",
      "Q2\n",
      "final list after removing all str in nested list: [[2, 56, 43], [' ', ' ', 234, ' ', ' ', 734], [12, 39, 67], [(2-8j), 3.065, 7, ' '], 'welcome']\n"
     ]
    }
   ],
   "source": [
    "l=[[2,56,43],['sad','sad',234,'forty','rest',734],[2-8j,3.065,7,'tinku'],'welcome']\n",
    "l.insert(2,[12,39,67])\n",
    "\n",
    "print(l,'\\n')\n",
    "print('Q1')\n",
    "for i in l :\n",
    "    if type(i) == list :\n",
    "        \n",
    "        for j in range(len(i)) :\n",
    "            if type(i[j]) == str :\n",
    "                print('Sublist :',i,'\\n','index= ',j,', value = ',i[j],'\\n')\n",
    "                \n",
    "print(l,'\\n' )\n",
    "print('Q2')\n",
    "for i in l :\n",
    "    if type(i) == list :\n",
    "        for j in range(len(i)) :\n",
    "            if type(i[j]) == str :\n",
    "                i[j]=' '\n",
    "                \n",
    "                \n",
    "print('final list after removing all str in nested list:',l)\n"
   ]
  },
  {
   "cell_type": "code",
   "execution_count": 54,
   "id": "ea655cf9",
   "metadata": {},
   "outputs": [
    {
     "name": "stdout",
     "output_type": "stream",
     "text": [
      "    January 2332\n",
      "Mo Tu We Th Fr Sa Su\n",
      "             1  2  3\n",
      " 4  5  6  7  8  9 10\n",
      "11 12 13 14 15 16 17\n",
      "18 19 20 21 22 23 24\n",
      "25 26 27 28 29 30 31\n",
      "\n",
      "   February 2332\n",
      "Mo Tu We Th Fr Sa Su\n",
      " 1  2  3  4  5  6  7\n",
      " 8  9 10 11 12 13 14\n",
      "15 16 17 18 19 20 21\n",
      "22 23 24 25 26 27 28\n",
      "29\n",
      "\n",
      "     March 2332\n",
      "Mo Tu We Th Fr Sa Su\n",
      "    1  2  3  4  5  6\n",
      " 7  8  9 10 11 12 13\n",
      "14 15 16 17 18 19 20\n",
      "21 22 23 24 25 26 27\n",
      "28 29 30 31\n",
      "\n",
      "     April 2332\n",
      "Mo Tu We Th Fr Sa Su\n",
      "             1  2  3\n",
      " 4  5  6  7  8  9 10\n",
      "11 12 13 14 15 16 17\n",
      "18 19 20 21 22 23 24\n",
      "25 26 27 28 29 30\n",
      "\n",
      "      May 2332\n",
      "Mo Tu We Th Fr Sa Su\n",
      "                   1\n",
      " 2  3  4  5  6  7  8\n",
      " 9 10 11 12 13 14 15\n",
      "16 17 18 19 20 21 22\n",
      "23 24 25 26 27 28 29\n",
      "30 31\n",
      "\n",
      "     June 2332\n",
      "Mo Tu We Th Fr Sa Su\n",
      "       1  2  3  4  5\n",
      " 6  7  8  9 10 11 12\n",
      "13 14 15 16 17 18 19\n",
      "20 21 22 23 24 25 26\n",
      "27 28 29 30\n",
      "\n",
      "     July 2332\n",
      "Mo Tu We Th Fr Sa Su\n",
      "             1  2  3\n",
      " 4  5  6  7  8  9 10\n",
      "11 12 13 14 15 16 17\n",
      "18 19 20 21 22 23 24\n",
      "25 26 27 28 29 30 31\n",
      "\n",
      "    August 2332\n",
      "Mo Tu We Th Fr Sa Su\n",
      " 1  2  3  4  5  6  7\n",
      " 8  9 10 11 12 13 14\n",
      "15 16 17 18 19 20 21\n",
      "22 23 24 25 26 27 28\n",
      "29 30 31\n",
      "\n",
      "   September 2332\n",
      "Mo Tu We Th Fr Sa Su\n",
      "          1  2  3  4\n",
      " 5  6  7  8  9 10 11\n",
      "12 13 14 15 16 17 18\n",
      "19 20 21 22 23 24 25\n",
      "26 27 28 29 30\n",
      "\n",
      "    October 2332\n",
      "Mo Tu We Th Fr Sa Su\n",
      "                1  2\n",
      " 3  4  5  6  7  8  9\n",
      "10 11 12 13 14 15 16\n",
      "17 18 19 20 21 22 23\n",
      "24 25 26 27 28 29 30\n",
      "31\n",
      "\n",
      "   November 2332\n",
      "Mo Tu We Th Fr Sa Su\n",
      "    1  2  3  4  5  6\n",
      " 7  8  9 10 11 12 13\n",
      "14 15 16 17 18 19 20\n",
      "21 22 23 24 25 26 27\n",
      "28 29 30\n",
      "\n",
      "   December 2332\n",
      "Mo Tu We Th Fr Sa Su\n",
      "          1  2  3  4\n",
      " 5  6  7  8  9 10 11\n",
      "12 13 14 15 16 17 18\n",
      "19 20 21 22 23 24 25\n",
      "26 27 28 29 30 31\n",
      "\n"
     ]
    }
   ],
   "source": [
    "#3. Write a Python program to display calendar?\n",
    "\n",
    "import calendar\n",
    "n=int(input('Type 1 for monthly calendar or Type 2 for yearly calendar'))\n",
    "\n",
    "if n==1 :\n",
    "    yy=int(input('Enter the Year: '))\n",
    "    mm=int(input('Enter the month number: '))\n",
    "    print(calendar.month(yy,mm))\n",
    "elif n==2:\n",
    "    yy=int(input('Enter the Year: '))\n",
    "    for m in range(1,13):\n",
    "        print(calendar.month(yy,m))\n",
    "\n"
   ]
  },
  {
   "cell_type": "code",
   "execution_count": 55,
   "id": "b12ffa80",
   "metadata": {},
   "outputs": [
    {
     "name": "stdout",
     "output_type": "stream",
     "text": [
      "I am pass in TOFEL\n"
     ]
    }
   ],
   "source": [
    "Marks = int(input())\n",
    "if Marks > 600 :\n",
    "    print(\"I am pass in GRE\")\n",
    "elif Marks<600 or Marks>=500:\n",
    "        print(\"I am pass in TOFEL\")\n",
    "elif Marks<=500 or Marks>=400:\n",
    "        print(\"I am pass in Python\")\n",
    "else :\n",
    "    print(\"please try further examination\")\n"
   ]
  },
  {
   "cell_type": "code",
   "execution_count": 56,
   "id": "235bbaaf",
   "metadata": {},
   "outputs": [
    {
     "name": "stdout",
     "output_type": "stream",
     "text": [
      "No Gre admission\n",
      "TOEFL\n"
     ]
    }
   ],
   "source": [
    "marks = int(input())\n",
    "\n",
    "if marks < 600:\n",
    "    print('No Gre admission')\n",
    "    if marks < 500:\n",
    "        print('TOEFL')\n",
    "    elif marks < 400:\n",
    "        print('try something else')\n",
    "    else:\n",
    "        print('got ')\n",
    "else:\n",
    "    print('gre admission')\n"
   ]
  },
  {
   "cell_type": "code",
   "execution_count": 58,
   "id": "aa06f54e",
   "metadata": {},
   "outputs": [
    {
     "data": {
      "text/plain": [
       "'sudh'"
      ]
     },
     "execution_count": 58,
     "metadata": {},
     "output_type": "execute_result"
    }
   ],
   "source": [
    "l = [3,4,5,6,7 , [23,456,67,8,78,78] , [345,56,87,8,98,9] , (234,6657,6) , {\"key1\" :\"sudh\" , 234:[23,45,656]}]\n",
    "\n",
    "l[-1]['key1']"
   ]
  },
  {
   "cell_type": "code",
   "execution_count": 59,
   "id": "a84cdf80",
   "metadata": {},
   "outputs": [],
   "source": [
    "l=[1,2,3,4,5,\"sudh\",23.55]\n",
    "l1 = []\n",
    "for i in l:\n",
    "    if type(i)==int:\n",
    "        l1.append(i)\n"
   ]
  },
  {
   "cell_type": "code",
   "execution_count": 60,
   "id": "0742c290",
   "metadata": {},
   "outputs": [
    {
     "data": {
      "text/plain": [
       "[1, 2, 3, 4, 5]"
      ]
     },
     "execution_count": 60,
     "metadata": {},
     "output_type": "execute_result"
    }
   ],
   "source": [
    "l1"
   ]
  },
  {
   "cell_type": "code",
   "execution_count": 61,
   "id": "563f5a58",
   "metadata": {},
   "outputs": [
    {
     "name": "stdout",
     "output_type": "stream",
     "text": [
      "nothing \n"
     ]
    }
   ],
   "source": [
    "a=10\n",
    "b=11\n",
    "c=12\n",
    "d=12\n",
    "if a==9 or (b==11 and c==12 and d==13):\n",
    "    print(\"lets do something\")\n",
    "else :\n",
    "    print(\"nothing \")"
   ]
  },
  {
   "cell_type": "code",
   "execution_count": 62,
   "id": "e013b376",
   "metadata": {},
   "outputs": [
    {
     "name": "stdout",
     "output_type": "stream",
     "text": [
      "all the values are verified\n",
      "dict_values(['value', 'sudh', 'ineuron'])\n"
     ]
    }
   ],
   "source": [
    "d ={\"key1\": \"value\", \"key2\":\"sudh\",\"key3\":\"ineuron\"}\n",
    "if d['key1'] == \"value\" and d['key2'] == \"sudh\" and d['key3'] == \"ineuron\":\n",
    "    print(\"all the values are verified\")\n",
    "    print(d.values())\n"
   ]
  },
  {
   "cell_type": "code",
   "execution_count": 64,
   "id": "cd41b43b",
   "metadata": {},
   "outputs": [],
   "source": [
    "l = [{'key1': 'sudh', 234: [23, 45, 656]},\n",
    " (234, 6657, 6),\n",
    " [345, 56, 87, 8, 98, 9],\n",
    " [23, 456, 67, 8, 78, 78],\n",
    " 7,\n",
    " 6,\n",
    " 5,\n",
    " 4,\n",
    " 3]\n"
   ]
  },
  {
   "cell_type": "code",
   "execution_count": 65,
   "id": "6e8f4bc4",
   "metadata": {},
   "outputs": [
    {
     "data": {
      "text/plain": [
       "['key1', 234]"
      ]
     },
     "execution_count": 65,
     "metadata": {},
     "output_type": "execute_result"
    }
   ],
   "source": [
    "list(l[0].keys())"
   ]
  },
  {
   "cell_type": "code",
   "execution_count": 66,
   "id": "be54ae3b",
   "metadata": {},
   "outputs": [
    {
     "name": "stdout",
     "output_type": "stream",
     "text": [
      "['key1', 234]\n"
     ]
    }
   ],
   "source": [
    "for i in l :\n",
    "    if type(i) == dict :\n",
    "        print(list(i.keys()))"
   ]
  },
  {
   "cell_type": "code",
   "execution_count": 67,
   "id": "9c8bd9a3",
   "metadata": {},
   "outputs": [
    {
     "name": "stdout",
     "output_type": "stream",
     "text": [
      "The original list : [3, 5, 6, 8, 10]\n",
      "The list of missing elements : [0, 1, 2, 4, 7, 9]\n"
     ]
    }
   ],
   "source": [
    "test_list = [3, 5, 6, 8, 10]\n",
    "  \n",
    "# printing original list\n",
    "print(\"The original list : \" + str(test_list))\n",
    "  \n",
    "# using list comprehension\n",
    "# Finding missing elements in List\n",
    "res = [ele for ele in range(max(test_list)+1) if ele not in test_list]\n",
    "  \n",
    "# print result\n",
    "print(\"The list of missing elements : \" + str(res))\n"
   ]
  },
  {
   "cell_type": "code",
   "execution_count": 71,
   "id": "5955ca8c",
   "metadata": {},
   "outputs": [
    {
     "name": "stdout",
     "output_type": "stream",
     "text": [
      "bacon\n",
      "spam\n",
      "spam\n"
     ]
    }
   ],
   "source": [
    "#Q. Identify the three blocks in this code:\n",
    "spam = 6\n",
    "if spam == 10:\n",
    "    print('eggs')\n",
    "\n",
    "if spam >5:\n",
    "    print('bacon')\n",
    "else:\n",
    "    print('ham')\n",
    "print('spam')\n",
    "print('spam')\n"
   ]
  },
  {
   "cell_type": "code",
   "execution_count": 72,
   "id": "bdc810ea",
   "metadata": {},
   "outputs": [
    {
     "data": {
      "text/plain": [
       "dict_values(['surendra', 'sudh', 'ineuron'])"
      ]
     },
     "execution_count": 72,
     "metadata": {},
     "output_type": "execute_result"
    }
   ],
   "source": [
    "d={'key1':\"surendra\", 'key2':\"sudh\", 'key3':\"ineuron\"}\n",
    "\n",
    "\n",
    "d.values()"
   ]
  },
  {
   "cell_type": "code",
   "execution_count": 73,
   "id": "59f0fc3b",
   "metadata": {},
   "outputs": [
    {
     "name": "stdout",
     "output_type": "stream",
     "text": [
      "i will be able to buy somthing\n",
      "i will be able to buy a shirt\n"
     ]
    }
   ],
   "source": [
    "price = int(input())\n",
    "if price < 500:\n",
    "    print(\"i will be able to buy somthing\")\n",
    "    if price < 300 :\n",
    "        print(\"i will be able to buy a shirt\")    \n",
    "    elif price < 400 :\n",
    "        print(\"i will be able to buy a jacket\")\n",
    "        if price < 200 :\n",
    "            print(\"i would like to do somthig\")\n",
    "    else :\n",
    "        print(\"i wont be able to buy anything\")\n",
    "else :\n",
    "    print(\"i wont be able to buy anything with this price tag\")\n",
    "    if price > 500:\n",
    "        print(\"lets try something else\")\n"
   ]
  },
  {
   "cell_type": "code",
   "execution_count": 77,
   "id": "2238fbb2",
   "metadata": {},
   "outputs": [
    {
     "name": "stdout",
     "output_type": "stream",
     "text": [
      "2\n",
      "2\n",
      "2\n",
      "2\n",
      "2\n"
     ]
    }
   ],
   "source": [
    "l=[1,2,3,\"trip\",234.6]\n",
    "for i in l:\n",
    "    print(l[i])\n"
   ]
  },
  {
   "cell_type": "code",
   "execution_count": 78,
   "id": "98c002c0",
   "metadata": {},
   "outputs": [
    {
     "name": "stdout",
     "output_type": "stream",
     "text": [
      "no GRE\n",
      "ToFEl\n"
     ]
    }
   ],
   "source": [
    "marks=int(input())\n",
    "if marks>600:\n",
    "    print('i would get admission in GRE')\n",
    "elif marks< 600:\n",
    "    print(\"no GRE\")\n",
    "    if marks< 500:\n",
    "        print(\"ToFEl\")\n",
    "    elif marks<400:\n",
    "        print(\"try something else\")\n"
   ]
  },
  {
   "cell_type": "code",
   "execution_count": 79,
   "id": "15bf459e",
   "metadata": {},
   "outputs": [
    {
     "name": "stdout",
     "output_type": "stream",
     "text": [
      " this is Sudh\n"
     ]
    }
   ],
   "source": [
    "a = \"sudh\"\n",
    "if a == \"sudh\" or a == \"Sudh\":\n",
    "    print (\" this is Sudh\")\n",
    "else:\n",
    "    print (\"nothing\")\n"
   ]
  },
  {
   "cell_type": "code",
   "execution_count": 80,
   "id": "6fcd969b",
   "metadata": {},
   "outputs": [
    {
     "name": "stdout",
     "output_type": "stream",
     "text": [
      "int\n",
      "invalid\n"
     ]
    }
   ],
   "source": [
    "i = int(input())\n",
    "if type(i) == int : \n",
    "    print(\"int\")\n",
    "if type(i) == float : \n",
    "    print(\"float\") \n",
    "else :\n",
    "    print (\"invalid\")"
   ]
  },
  {
   "cell_type": "code",
   "execution_count": 81,
   "id": "a68086a8",
   "metadata": {},
   "outputs": [
    {
     "name": "stdout",
     "output_type": "stream",
     "text": [
      " you can use metro train service\n"
     ]
    }
   ],
   "source": [
    "travel_allowance=int(input()) \n",
    "if travel_allowance>1000 :\n",
    "    print (\"you can use petrol cab\")\n",
    "elif travel_allowance < 500 :\n",
    "    print (\" you can use metro train service\")\n"
   ]
  },
  {
   "cell_type": "code",
   "execution_count": 82,
   "id": "6c530883",
   "metadata": {},
   "outputs": [
    {
     "name": "stdout",
     "output_type": "stream",
     "text": [
      "no gre\n"
     ]
    }
   ],
   "source": [
    "x=int(input(\"Enter the marks  \"))\n",
    "if x<600:\n",
    "    print(\"no gre\")\n",
    "elif x<500 or x>400:\n",
    "    print(\"tofel\")\n",
    "elif x<400:\n",
    "    print(\"try something else\")\n",
    "else:\n",
    "    print(\"you got tofel\")\n"
   ]
  },
  {
   "cell_type": "code",
   "execution_count": 83,
   "id": "31b6857c",
   "metadata": {},
   "outputs": [
    {
     "data": {
      "text/plain": [
       "True"
      ]
     },
     "execution_count": 83,
     "metadata": {},
     "output_type": "execute_result"
    }
   ],
   "source": [
    "x = 100\n",
    "y = 100\n",
    "x is y"
   ]
  },
  {
   "cell_type": "code",
   "execution_count": 84,
   "id": "2d80a505",
   "metadata": {},
   "outputs": [
    {
     "data": {
      "text/plain": [
       "False"
      ]
     },
     "execution_count": 84,
     "metadata": {},
     "output_type": "execute_result"
    }
   ],
   "source": [
    "z = 1000\n",
    "m = 1000\n",
    "m is z"
   ]
  },
  {
   "cell_type": "code",
   "execution_count": 85,
   "id": "2cd191fe",
   "metadata": {},
   "outputs": [],
   "source": [
    "l = [1,2,3,4,5]"
   ]
  },
  {
   "cell_type": "code",
   "execution_count": 86,
   "id": "d111e76a",
   "metadata": {},
   "outputs": [
    {
     "data": {
      "text/plain": [
       "15"
      ]
     },
     "execution_count": 86,
     "metadata": {},
     "output_type": "execute_result"
    }
   ],
   "source": [
    "\n",
    "sum(l)"
   ]
  },
  {
   "cell_type": "code",
   "execution_count": 87,
   "id": "41a8bac1",
   "metadata": {},
   "outputs": [],
   "source": [
    "t = (\"a\", 658, \"sudh\", 23.45) "
   ]
  },
  {
   "cell_type": "code",
   "execution_count": 88,
   "id": "c30647ed",
   "metadata": {},
   "outputs": [
    {
     "name": "stdout",
     "output_type": "stream",
     "text": [
      "Entered values is positive number\n"
     ]
    }
   ],
   "source": [
    "val = float(input(\"Enter a floating point number \"))\n",
    "\n",
    "if val >=0:\n",
    "    if val ==0:\n",
    "        print(\"Entered value is zero\")\n",
    "    elif val < 0:\n",
    "        print(\"Number is smaller than zero\")\n",
    "    else:\n",
    "        print(\"Entered values is positive number\")\n",
    "else:\n",
    "    print(\"None\")\n"
   ]
  },
  {
   "cell_type": "code",
   "execution_count": 98,
   "id": "4e0171e4",
   "metadata": {},
   "outputs": [
    {
     "name": "stdout",
     "output_type": "stream",
     "text": [
      "6\n",
      "7\n",
      "8\n",
      "9\n",
      "10\n"
     ]
    },
    {
     "ename": "AttributeError",
     "evalue": "'list' object has no attribute 'replace'",
     "output_type": "error",
     "traceback": [
      "\u001b[1;31m---------------------------------------------------------------------------\u001b[0m",
      "\u001b[1;31mAttributeError\u001b[0m                            Traceback (most recent call last)",
      "Cell \u001b[1;32mIn[98], line 9\u001b[0m\n\u001b[0;32m      7\u001b[0m         \u001b[38;5;28mprint\u001b[39m(i\u001b[38;5;241m+\u001b[39m\u001b[38;5;241m10\u001b[39m)\n\u001b[0;32m      8\u001b[0m \u001b[38;5;28;01melif\u001b[39;00m \u001b[38;5;28mtype\u001b[39m(i)\u001b[38;5;241m==\u001b[39m\u001b[38;5;28mstr\u001b[39m:\n\u001b[1;32m----> 9\u001b[0m     \u001b[38;5;28mprint\u001b[39m(\u001b[43ml\u001b[49m\u001b[38;5;241;43m.\u001b[39;49m\u001b[43mreplace\u001b[49m(\u001b[38;5;124m\"\u001b[39m\u001b[38;5;124mineuron\u001b[39m\u001b[38;5;124m\"\u001b[39m))\n",
      "\u001b[1;31mAttributeError\u001b[0m: 'list' object has no attribute 'replace'"
     ]
    }
   ],
   "source": [
    "l= [1,2,3,4,5,\"sudh\", 234.45]\n",
    "\n",
    "for i in l:\n",
    "    if type(i)== int:\n",
    "        print(i+5)\n",
    "    elif type(i)==float:\n",
    "            print(i+10)\n",
    "    elif type(i)==str:\n",
    "        print(l.append(\"ineuron\"))\n"
   ]
  },
  {
   "cell_type": "code",
   "execution_count": 99,
   "id": "e58a4c2e",
   "metadata": {},
   "outputs": [
    {
     "name": "stdout",
     "output_type": "stream",
     "text": [
      "sum 500\n"
     ]
    }
   ],
   "source": [
    "d = {\"a\":200,\"b\":300}\n",
    "s =sum(d.values())\n",
    "print(\"sum\",s)"
   ]
  },
  {
   "cell_type": "code",
   "execution_count": 100,
   "id": "5c5df21a",
   "metadata": {},
   "outputs": [
    {
     "name": "stdout",
     "output_type": "stream",
     "text": [
      "this is an interger\n"
     ]
    }
   ],
   "source": [
    "def number(i):\n",
    "    if type(i) == int:\n",
    "        print(\"this is an interger\")\n",
    "    elif type(i) == float:\n",
    "        print(\"this is a float\")\n",
    "    else:\n",
    "        print(\"Invalid\")\n",
    "\n",
    "number(5)\n"
   ]
  },
  {
   "cell_type": "code",
   "execution_count": 101,
   "id": "fa755965",
   "metadata": {},
   "outputs": [
    {
     "name": "stdout",
     "output_type": "stream",
     "text": [
      "Didn't clear Gre\n",
      "try something else\n"
     ]
    }
   ],
   "source": [
    "\n",
    "m=int(input())\n",
    "if m>600:\n",
    "    print(\"I will be able to clear Gre\")\n",
    "elif m<=600:\n",
    "    print(\"Didn't clear Gre\")\n",
    "    if m<500 and m>=400:\n",
    "        print(\"Tofel\")\n",
    "    elif m<400:\n",
    "        print(\"try something else\")\n"
   ]
  },
  {
   "cell_type": "code",
   "execution_count": null,
   "id": "3bb2e21b",
   "metadata": {},
   "outputs": [],
   "source": []
  }
 ],
 "metadata": {
  "kernelspec": {
   "display_name": "Python 3 (ipykernel)",
   "language": "python",
   "name": "python3"
  },
  "language_info": {
   "codemirror_mode": {
    "name": "ipython",
    "version": 3
   },
   "file_extension": ".py",
   "mimetype": "text/x-python",
   "name": "python",
   "nbconvert_exporter": "python",
   "pygments_lexer": "ipython3",
   "version": "3.11.5"
  }
 },
 "nbformat": 4,
 "nbformat_minor": 5
}
