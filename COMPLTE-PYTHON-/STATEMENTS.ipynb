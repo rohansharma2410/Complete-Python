{
 "cells": [
  {
   "cell_type": "markdown",
   "id": "fceb57e9",
   "metadata": {},
   "source": [
    "IF ELIF ELSE"
   ]
  },
  {
   "cell_type": "code",
   "execution_count": 1,
   "id": "321b7c6f",
   "metadata": {},
   "outputs": [
    {
     "name": "stdout",
     "output_type": "stream",
     "text": [
      "this is mty first condition \n"
     ]
    }
   ],
   "source": [
    "a=10\n",
    "if a==10:\n",
    "    print(\"this is mty first condition \")\n",
    "    "
   ]
  },
  {
   "cell_type": "code",
   "execution_count": 2,
   "id": "1efd1ccb",
   "metadata": {},
   "outputs": [],
   "source": [
    "a=10\n",
    "if a==11:\n",
    "    print(\"this is mty first condition \")\n",
    "    \n",
    "        \n",
    "    "
   ]
  },
  {
   "cell_type": "code",
   "execution_count": 3,
   "id": "0d78eef9",
   "metadata": {},
   "outputs": [
    {
     "ename": "IndentationError",
     "evalue": "expected an indented block (4244964638.py, line 6)",
     "output_type": "error",
     "traceback": [
      "\u001b[1;36m  File \u001b[1;32m\"C:\\Users\\Swapnil\\AppData\\Local\\Temp\\ipykernel_11512\\4244964638.py\"\u001b[1;36m, line \u001b[1;32m6\u001b[0m\n\u001b[1;33m    \u001b[0m\n\u001b[1;37m    ^\u001b[0m\n\u001b[1;31mIndentationError\u001b[0m\u001b[1;31m:\u001b[0m expected an indented block\n"
     ]
    }
   ],
   "source": [
    "a=10\n",
    "if a>5:\n",
    "      \n",
    "  \n",
    "\n",
    "    "
   ]
  },
  {
   "cell_type": "code",
   "execution_count": 4,
   "id": "81436c24",
   "metadata": {},
   "outputs": [],
   "source": [
    "a=10\n",
    "if a>5:\n",
    "    pass"
   ]
  },
  {
   "cell_type": "code",
   "execution_count": 5,
   "id": "594920bd",
   "metadata": {},
   "outputs": [
    {
     "name": "stdout",
     "output_type": "stream",
     "text": [
      "this is my first condition \n"
     ]
    }
   ],
   "source": [
    "a=10\n",
    "if a>5:\n",
    "    print(\"this is my first condition \")"
   ]
  },
  {
   "cell_type": "code",
   "execution_count": 6,
   "id": "746173e4",
   "metadata": {},
   "outputs": [],
   "source": [
    "a=10\n",
    "if a<5:\n",
    "    print(\"this is my first condition \")"
   ]
  },
  {
   "cell_type": "code",
   "execution_count": 7,
   "id": "4b4c111e",
   "metadata": {},
   "outputs": [
    {
     "name": "stdout",
     "output_type": "stream",
     "text": [
      "my conidtion is False\n"
     ]
    }
   ],
   "source": [
    "a=10\n",
    "if a!=11:\n",
    "    print(\"my conidtion is False\")\n",
    "else:\n",
    "    print(\"print this\")\n",
    "    "
   ]
  },
  {
   "cell_type": "code",
   "execution_count": 8,
   "id": "c02fa999",
   "metadata": {},
   "outputs": [
    {
     "name": "stdout",
     "output_type": "stream",
     "text": [
      "print this\n"
     ]
    }
   ],
   "source": [
    "a=10\n",
    "if a==11:\n",
    "    print(\"my conidtion is False\")\n",
    "else:\n",
    "    print(\"print this\")\n",
    "    "
   ]
  },
  {
   "cell_type": "code",
   "execution_count": 9,
   "id": "9a24c5ab",
   "metadata": {},
   "outputs": [
    {
     "name": "stdout",
     "output_type": "stream",
     "text": [
      "if all blocks will fail then do this \n"
     ]
    }
   ],
   "source": [
    "a=10\n",
    "if a==12:\n",
    "    print(\"here we are trying to compare 10 with 12\")\n",
    "elif a==11:\n",
    "    print(\"here we are trying to compare 10 with 11\")\n",
    "else :\n",
    "    print(\"if all blocks will fail then do this \")"
   ]
  },
  {
   "cell_type": "code",
   "execution_count": 10,
   "id": "5b58dd63",
   "metadata": {},
   "outputs": [],
   "source": [
    "price=500\n",
    "if price>500:\n",
    "    print(\"I wont be able to buy shirt \")\n",
    "elif price <500:\n",
    "    print(\"I will be able to buy shirt \")"
   ]
  },
  {
   "cell_type": "code",
   "execution_count": 11,
   "id": "547e4e4c",
   "metadata": {},
   "outputs": [
    {
     "name": "stdout",
     "output_type": "stream",
     "text": [
      "I will be able to buy shirt \n"
     ]
    }
   ],
   "source": [
    "price=500\n",
    "if price>500:\n",
    "    print(\"I wont be able to buy shirt \")\n",
    "elif price <=500:\n",
    "    print(\"I will be able to buy shirt \")"
   ]
  },
  {
   "cell_type": "code",
   "execution_count": 12,
   "id": "2ad28167",
   "metadata": {},
   "outputs": [
    {
     "ename": "SyntaxError",
     "evalue": "invalid syntax (3718680827.py, line 6)",
     "output_type": "error",
     "traceback": [
      "\u001b[1;36m  File \u001b[1;32m\"C:\\Users\\Swapnil\\AppData\\Local\\Temp\\ipykernel_11512\\3718680827.py\"\u001b[1;36m, line \u001b[1;32m6\u001b[0m\n\u001b[1;33m    else price ==500:\u001b[0m\n\u001b[1;37m         ^\u001b[0m\n\u001b[1;31mSyntaxError\u001b[0m\u001b[1;31m:\u001b[0m invalid syntax\n"
     ]
    }
   ],
   "source": [
    "price=500\n",
    "if price>500:\n",
    "    print(\"I wont be able to buy shirt \")\n",
    "elif price <500:\n",
    "    print(\"I will be able to buy shirt \")\n",
    "else price ==500:\n",
    "    print(\"I dont know\")# no conditions should be with else"
   ]
  },
  {
   "cell_type": "code",
   "execution_count": 13,
   "id": "29e754dd",
   "metadata": {},
   "outputs": [
    {
     "name": "stdout",
     "output_type": "stream",
     "text": [
      "for sure i will be able to buy\n"
     ]
    }
   ],
   "source": [
    "price=500\n",
    "if price>500:\n",
    "    print(\"I wont be able to buy shirt \")\n",
    "elif price <500:\n",
    "    print(\"I will be able to buy shirt \")\n",
    "elif price ==500:\n",
    "    print(\"for sure i will be able to buy\")\n",
    "else:\n",
    "    print(\"I dont know\")\n"
   ]
  },
  {
   "cell_type": "code",
   "execution_count": 14,
   "id": "c5b0c765",
   "metadata": {},
   "outputs": [
    {
     "data": {
      "text/plain": [
       "False"
      ]
     },
     "execution_count": 14,
     "metadata": {},
     "output_type": "execute_result"
    }
   ],
   "source": [
    "price<500"
   ]
  },
  {
   "cell_type": "code",
   "execution_count": 15,
   "id": "9961b1df",
   "metadata": {},
   "outputs": [
    {
     "data": {
      "text/plain": [
       "False"
      ]
     },
     "execution_count": 15,
     "metadata": {},
     "output_type": "execute_result"
    }
   ],
   "source": [
    "price>500"
   ]
  },
  {
   "cell_type": "code",
   "execution_count": 16,
   "id": "6e10c4d5",
   "metadata": {},
   "outputs": [
    {
     "data": {
      "text/plain": [
       "True"
      ]
     },
     "execution_count": 16,
     "metadata": {},
     "output_type": "execute_result"
    }
   ],
   "source": [
    "price==500"
   ]
  },
  {
   "cell_type": "code",
   "execution_count": 17,
   "id": "26b65bf5",
   "metadata": {},
   "outputs": [
    {
     "data": {
      "text/plain": [
       "False"
      ]
     },
     "execution_count": 17,
     "metadata": {},
     "output_type": "execute_result"
    }
   ],
   "source": [
    "price!=500"
   ]
  },
  {
   "cell_type": "code",
   "execution_count": 18,
   "id": "2a3d7e88",
   "metadata": {},
   "outputs": [
    {
     "name": "stdout",
     "output_type": "stream",
     "text": [
      "No\n"
     ]
    }
   ],
   "source": [
    "l=[1,23,4,5,6,7]\n",
    "if 2 in l:\n",
    "    print(\"Yes\")\n",
    "else:\n",
    "    print(\"No\")\n",
    "    "
   ]
  },
  {
   "cell_type": "code",
   "execution_count": 19,
   "id": "3c5aac6c",
   "metadata": {},
   "outputs": [
    {
     "name": "stdout",
     "output_type": "stream",
     "text": [
      "try to perform\n"
     ]
    }
   ],
   "source": [
    "l=[1,23,4,5,6,7]\n",
    "if 1 in l:\n",
    "    print(\"try to perform\")\n",
    "elif 2 in l :\n",
    "    print(\"try to do sub\")\n",
    "elif 3 in l:\n",
    "    print(\"try to do mul\")"
   ]
  },
  {
   "cell_type": "code",
   "execution_count": 20,
   "id": "e7c21725",
   "metadata": {},
   "outputs": [
    {
     "name": "stdout",
     "output_type": "stream",
     "text": [
      "try to perform\n",
      "its a new block\n"
     ]
    }
   ],
   "source": [
    "l=[1,23,4,5,6,7]\n",
    "if 1 in l:\n",
    "    print(\"try to perform\")\n",
    "elif 2 in l :\n",
    "    print(\"try to do sub\")\n",
    "elif 3 in l:\n",
    "    print(\"try to do mul\")\n",
    "if 4 in l:\n",
    "    print(\"its a new block\")"
   ]
  },
  {
   "cell_type": "code",
   "execution_count": 21,
   "id": "6c673abc",
   "metadata": {},
   "outputs": [],
   "source": [
    "a=400"
   ]
  },
  {
   "cell_type": "code",
   "execution_count": 23,
   "id": "de042101",
   "metadata": {},
   "outputs": [
    {
     "name": "stdout",
     "output_type": "stream",
     "text": [
      "500\n"
     ]
    }
   ],
   "source": [
    "b=input()"
   ]
  },
  {
   "cell_type": "code",
   "execution_count": 24,
   "id": "453b7c41",
   "metadata": {},
   "outputs": [
    {
     "data": {
      "text/plain": [
       "str"
      ]
     },
     "execution_count": 24,
     "metadata": {},
     "output_type": "execute_result"
    }
   ],
   "source": [
    "type(b)"
   ]
  },
  {
   "cell_type": "code",
   "execution_count": 25,
   "id": "947ba3ab",
   "metadata": {},
   "outputs": [
    {
     "name": "stdout",
     "output_type": "stream",
     "text": [
      "425\n"
     ]
    }
   ],
   "source": [
    "c=int(input())"
   ]
  },
  {
   "cell_type": "code",
   "execution_count": 26,
   "id": "50192eb9",
   "metadata": {},
   "outputs": [
    {
     "data": {
      "text/plain": [
       "int"
      ]
     },
     "execution_count": 26,
     "metadata": {},
     "output_type": "execute_result"
    }
   ],
   "source": [
    "type(c)"
   ]
  },
  {
   "cell_type": "code",
   "execution_count": 31,
   "id": "cc8ad5e5",
   "metadata": {},
   "outputs": [
    {
     "name": "stdout",
     "output_type": "stream",
     "text": [
      "320\n",
      "i Will be able to buy\n"
     ]
    }
   ],
   "source": [
    "price=int(input())\n",
    "if price <500:\n",
    "    print(\"i Will be able to buy\")"
   ]
  },
  {
   "cell_type": "code",
   "execution_count": 32,
   "id": "fd12ba31",
   "metadata": {},
   "outputs": [
    {
     "name": "stdout",
     "output_type": "stream",
     "text": [
      "380\n",
      "i will be able to buy something \n",
      " i will be able to buy t shirt\n"
     ]
    }
   ],
   "source": [
    "price=int(input())\n",
    "if price <500:\n",
    "    print(\"i will be able to buy something \")\n",
    "    if price<400:\n",
    "        print(\" i will be able to buy t shirt\")\n",
    "    elif price <300:\n",
    "        print(\"i will be able to buy shorts\")\n",
    "    else:\n",
    "        print(\" i wont be able to buy jacket\")\n",
    "else:\n",
    "    print(\"i wont be able to buy\")\n",
    "    if price >500:\n",
    "        print(\" lets try something\")"
   ]
  },
  {
   "cell_type": "code",
   "execution_count": 35,
   "id": "c00d3235",
   "metadata": {},
   "outputs": [
    {
     "name": "stdout",
     "output_type": "stream",
     "text": [
      "300\n",
      "No GRE\n",
      "TOFFEL\n",
      " try something else\n"
     ]
    }
   ],
   "source": [
    "marks=int(input())\n",
    "if marks <600:\n",
    "    print(\"No GRE\")\n",
    "    if marks <500:\n",
    "        print(\"TOFFEL\")\n",
    "        if marks <400:\n",
    "            print(\" try something else\")\n",
    "        else:\n",
    "            print(\" You got TOFFEL\")\n",
    "else:\n",
    "    print(\"You got GRE congo\")\n",
    "    "
   ]
  },
  {
   "cell_type": "code",
   "execution_count": 41,
   "id": "d9c6ca0a",
   "metadata": {},
   "outputs": [
    {
     "name": "stdout",
     "output_type": "stream",
     "text": [
      "enter a number45\n",
      "enter value is positive number\n"
     ]
    }
   ],
   "source": [
    "val=float(input(\"enter a number\"))\n",
    "if val>=0:\n",
    "    if val==0:\n",
    "        print(\"enter value is zero\")\n",
    "    else:\n",
    "        print(\"enter value is positive number\")\n",
    "else:\n",
    "    print(\"enter number is negative number\")\n",
    "    \n",
    "        \n"
   ]
  },
  {
   "cell_type": "code",
   "execution_count": 42,
   "id": "c4030636",
   "metadata": {},
   "outputs": [
    {
     "name": "stdout",
     "output_type": "stream",
     "text": [
      "try to do something\n"
     ]
    }
   ],
   "source": [
    "a=10\n",
    "if a<=10:\n",
    "    print(\"try to do something\")"
   ]
  },
  {
   "cell_type": "code",
   "execution_count": 56,
   "id": "633adcac",
   "metadata": {},
   "outputs": [
    {
     "name": "stdout",
     "output_type": "stream",
     "text": [
      "try to do something\n"
     ]
    }
   ],
   "source": [
    "a=10\n",
    "if a<10 or a==10:\n",
    "    print(\"try to do something\")"
   ]
  },
  {
   "cell_type": "code",
   "execution_count": 57,
   "id": "1d24aabb",
   "metadata": {},
   "outputs": [],
   "source": [
    "a=10\n",
    "if a<10 or a>10:\n",
    "    print(\"try to do something\")"
   ]
  },
  {
   "cell_type": "code",
   "execution_count": 54,
   "id": "7c7ebff8",
   "metadata": {},
   "outputs": [],
   "source": [
    "a=10\n",
    "if a<10 and a==10:\n",
    "    print(\"try to do something\")"
   ]
  },
  {
   "cell_type": "code",
   "execution_count": 55,
   "id": "80be4d1a",
   "metadata": {},
   "outputs": [],
   "source": [
    "a=10\n",
    "if a<10 and a>10:\n",
    "    print(\"try to do something\")"
   ]
  },
  {
   "cell_type": "code",
   "execution_count": 62,
   "id": "0719cc31",
   "metadata": {},
   "outputs": [
    {
     "name": "stdout",
     "output_type": "stream",
     "text": [
      "try somthing\n"
     ]
    }
   ],
   "source": [
    "a=\"sudh\"\n",
    "if a ==\"sudh\" and a==\"sudh\":\n",
    "    print(\"try somthing\")"
   ]
  },
  {
   "cell_type": "code",
   "execution_count": 66,
   "id": "d629e4d7",
   "metadata": {},
   "outputs": [],
   "source": [
    "a=\"sudh\"\n",
    "if a ==\"sudh\" and a==\"Sudh\":\n",
    "    print(\"try somthing\")"
   ]
  },
  {
   "cell_type": "code",
   "execution_count": 67,
   "id": "887377bd",
   "metadata": {},
   "outputs": [
    {
     "name": "stdout",
     "output_type": "stream",
     "text": [
      "try somthing\n"
     ]
    }
   ],
   "source": [
    "a=\"sudh\"\n",
    "if a ==\"sudh\" or a==\"sudh\":\n",
    "    print(\"try somthing\")"
   ]
  },
  {
   "cell_type": "code",
   "execution_count": 69,
   "id": "a264166c",
   "metadata": {},
   "outputs": [],
   "source": [
    "a=10\n",
    "b=11\n",
    "c=12\n",
    "d=13\n",
    "if a==9 and b==11 and c==12 and d==13:\n",
    "    print(\"try something\")"
   ]
  },
  {
   "cell_type": "code",
   "execution_count": 71,
   "id": "7eb76088",
   "metadata": {},
   "outputs": [
    {
     "name": "stdout",
     "output_type": "stream",
     "text": [
      "try something\n"
     ]
    }
   ],
   "source": [
    "a=10\n",
    "b=11\n",
    "c=12\n",
    "d=13\n",
    "if a==9 or b==11 and c==12 and d==13:\n",
    "    print(\"try something\")"
   ]
  },
  {
   "cell_type": "code",
   "execution_count": 75,
   "id": "71d2ed90",
   "metadata": {},
   "outputs": [
    {
     "name": "stdout",
     "output_type": "stream",
     "text": [
      "all the values are verified \n",
      "dict_values(['value', 'Sudh', 'iNeuron'])\n"
     ]
    }
   ],
   "source": [
    "d={\"key1\":\"value\", \"key2\":\"Sudh\", \"key3\":\"iNeuron\" }\n",
    "if d[\"key1\"]==\"value\" and d[\"key2\"]==\"Sudh\" and d[\"key3\"]==\"iNeuron\":\n",
    "    print(\"all the values are verified \")\n",
    "    print(d.values())\n",
    "else:\n",
    "    print(\"all the values are not verified\")"
   ]
  },
  {
   "cell_type": "code",
   "execution_count": 77,
   "id": "1d5a0e4d",
   "metadata": {},
   "outputs": [
    {
     "name": "stdout",
     "output_type": "stream",
     "text": [
      "all the values are verified \n",
      "dict_values(['value', 'Sudh', 'iNeuron'])\n"
     ]
    }
   ],
   "source": [
    "d={\"key1\":\"value\", \"key2\":\"Sudh\", \"key3\":\"iNeuron\" }\n",
    "if d[\"key1\"]==\"value\" or d[\"key2\"]==\"Sudh\" and d[\"key3\"]==\"iNeuron\":\n",
    "    print(\"all the values are verified \")\n",
    "    print(d.values())\n",
    "else:\n",
    "    print(\"all the values are not verified\")"
   ]
  },
  {
   "cell_type": "code",
   "execution_count": 78,
   "id": "bdc27f04",
   "metadata": {},
   "outputs": [
    {
     "name": "stdout",
     "output_type": "stream",
     "text": [
      "all the values are not verified\n"
     ]
    }
   ],
   "source": [
    "d={\"key1\":\"value\", \"key2\":\"Sudh\", \"key3\":\"iNeuron\" }\n",
    "if d[\"key1\"]==\"value\" and d[\"key2\"]==\"sudh\" and d[\"key3\"]==\"iNeuron\":\n",
    "    print(\"all the values are verified \")\n",
    "    print(d.values())\n",
    "else:\n",
    "    print(\"all the values are not verified\")"
   ]
  },
  {
   "cell_type": "code",
   "execution_count": null,
   "id": "32aa2c34",
   "metadata": {},
   "outputs": [],
   "source": []
  },
  {
   "cell_type": "code",
   "execution_count": null,
   "id": "9924b973",
   "metadata": {},
   "outputs": [],
   "source": []
  },
  {
   "cell_type": "code",
   "execution_count": null,
   "id": "5ae135cb",
   "metadata": {},
   "outputs": [],
   "source": []
  },
  {
   "cell_type": "code",
   "execution_count": null,
   "id": "b5e2cd64",
   "metadata": {},
   "outputs": [],
   "source": []
  },
  {
   "cell_type": "code",
   "execution_count": null,
   "id": "bcf64657",
   "metadata": {},
   "outputs": [],
   "source": []
  },
  {
   "cell_type": "code",
   "execution_count": null,
   "id": "103a7bf3",
   "metadata": {},
   "outputs": [],
   "source": []
  },
  {
   "cell_type": "code",
   "execution_count": null,
   "id": "9ad9714b",
   "metadata": {},
   "outputs": [],
   "source": []
  },
  {
   "cell_type": "code",
   "execution_count": null,
   "id": "2bdd1746",
   "metadata": {},
   "outputs": [],
   "source": []
  },
  {
   "cell_type": "code",
   "execution_count": null,
   "id": "d37961bf",
   "metadata": {},
   "outputs": [],
   "source": []
  },
  {
   "cell_type": "code",
   "execution_count": null,
   "id": "4e3c8431",
   "metadata": {},
   "outputs": [],
   "source": []
  },
  {
   "cell_type": "code",
   "execution_count": null,
   "id": "ac2429b1",
   "metadata": {},
   "outputs": [],
   "source": []
  },
  {
   "cell_type": "code",
   "execution_count": null,
   "id": "36e6bd1c",
   "metadata": {},
   "outputs": [],
   "source": []
  },
  {
   "cell_type": "code",
   "execution_count": null,
   "id": "3180a276",
   "metadata": {},
   "outputs": [],
   "source": []
  },
  {
   "cell_type": "code",
   "execution_count": null,
   "id": "bd5f5ee6",
   "metadata": {},
   "outputs": [],
   "source": []
  },
  {
   "cell_type": "code",
   "execution_count": null,
   "id": "45651978",
   "metadata": {},
   "outputs": [],
   "source": []
  }
 ],
 "metadata": {
  "kernelspec": {
   "display_name": "Python 3 (ipykernel)",
   "language": "python",
   "name": "python3"
  },
  "language_info": {
   "codemirror_mode": {
    "name": "ipython",
    "version": 3
   },
   "file_extension": ".py",
   "mimetype": "text/x-python",
   "name": "python",
   "nbconvert_exporter": "python",
   "pygments_lexer": "ipython3",
   "version": "3.9.13"
  }
 },
 "nbformat": 4,
 "nbformat_minor": 5
}
