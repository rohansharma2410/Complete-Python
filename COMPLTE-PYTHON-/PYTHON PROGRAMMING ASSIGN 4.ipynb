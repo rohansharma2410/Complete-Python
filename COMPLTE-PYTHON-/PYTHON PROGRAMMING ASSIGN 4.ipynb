{
 "cells": [
  {
   "cell_type": "code",
   "execution_count": null,
   "id": "4b50e134",
   "metadata": {},
   "outputs": [],
   "source": [
    "PYTHON BASIC PROGRAMMING ASSIGN 4\n",
    "SUBMITTED BY :SWAPNIL GOSAVI"
   ]
  },
  {
   "cell_type": "raw",
   "id": "758063d6",
   "metadata": {},
   "source": [
    "1.\tWrite a Python Program to Find the Factorial of a Number?\n",
    "2.\tWrite a Python Program to Display the multiplication Table?\n",
    "3.\tWrite a Python Program to Print the Fibonacci sequence?\n",
    "4.\tWrite a Python Program to Check Armstrong Number?\n",
    "5.\tWrite a Python Program to Find Armstrong Number in an Interval?\n",
    "6.\tWrite a Python Program to Find the Sum of Natural Numbers?\n"
   ]
  },
  {
   "cell_type": "markdown",
   "id": "79c85e49",
   "metadata": {},
   "source": [
    "Q 1) Write a Python Program to Find the Factorial of a Number?"
   ]
  },
  {
   "cell_type": "code",
   "execution_count": 1,
   "id": "1b54bff7",
   "metadata": {},
   "outputs": [
    {
     "name": "stdout",
     "output_type": "stream",
     "text": [
      "Enter a number: 5\n",
      "The factorial of 5 is 120\n"
     ]
    }
   ],
   "source": [
    "#Ans 1)\n",
    "def factorial(n):\n",
    "    if n == 0:\n",
    "        return 1\n",
    "    else:\n",
    "        return n * factorial(n-1)\n",
    "\n",
    "# Taking input from the user\n",
    "num = int(input(\"Enter a number: \"))\n",
    "\n",
    "# Checking if the number is negative\n",
    "if num < 0:\n",
    "    print(\"Factorial cannot be calculated for negative numbers.\")\n",
    "else:\n",
    "    result = factorial(num)\n",
    "    print(\"The factorial of\", num, \"is\", result)"
   ]
  },
  {
   "cell_type": "markdown",
   "id": "672a1142",
   "metadata": {},
   "source": [
    "Q 2)Write a Python Program to Display the multiplication Table?"
   ]
  },
  {
   "cell_type": "code",
   "execution_count": 2,
   "id": "9d74f27a",
   "metadata": {},
   "outputs": [
    {
     "name": "stdout",
     "output_type": "stream",
     "text": [
      "Display multiplication table of? 26\n",
      "26 X 1 = 26\n",
      "26 X 2 = 52\n",
      "26 X 3 = 78\n",
      "26 X 4 = 104\n",
      "26 X 5 = 130\n",
      "26 X 6 = 156\n",
      "26 X 7 = 182\n",
      "26 X 8 = 208\n",
      "26 X 9 = 234\n",
      "26 X 10 = 260\n"
     ]
    }
   ],
   "source": [
    "#Ans 2)\n",
    "def GenerateTable(num):\n",
    "    for i in range(1, 11):\n",
    "        print(f'{num} X {i} = {num*i}')\n",
    "        \n",
    "num = int(input(\"Display multiplication table of? \"))\n",
    "GenerateTable(num)"
   ]
  },
  {
   "cell_type": "markdown",
   "id": "8bea5de0",
   "metadata": {},
   "source": [
    "Q 3)Write a Python Program to Print the Fibonacci sequence?"
   ]
  },
  {
   "cell_type": "code",
   "execution_count": 4,
   "id": "daad3e4e",
   "metadata": {},
   "outputs": [
    {
     "name": "stdout",
     "output_type": "stream",
     "text": [
      "How many terms? 15\n",
      "Fibonacci sequence:\n",
      "0\n",
      "1\n",
      "1\n",
      "2\n",
      "3\n",
      "5\n",
      "8\n",
      "13\n",
      "21\n",
      "34\n",
      "55\n",
      "89\n",
      "144\n",
      "233\n",
      "377\n"
     ]
    }
   ],
   "source": [
    "#Ans 3)\n",
    "def FibonacciSeries():\n",
    "    nterms = int(input(\"How many terms? \"))\n",
    "    n1, n2 = 0, 1\n",
    "    count = 0\n",
    "\n",
    "    if nterms <= 0:\n",
    "        print(\"Please enter a positive integer\")\n",
    "    elif nterms == 1:\n",
    "        print(\"Fibonacci sequence up to\", nterms, \":\")\n",
    "        print(n1)\n",
    "    else:\n",
    "        print(\"Fibonacci sequence:\")\n",
    "        while count < nterms:\n",
    "            print(n1)\n",
    "            nth = n1 + n2\n",
    "            n1 = n2\n",
    "            n2 = nth\n",
    "            count += 1\n",
    "\n",
    "FibonacciSeries()"
   ]
  },
  {
   "cell_type": "markdown",
   "id": "f31e3f55",
   "metadata": {},
   "source": [
    "Q 4) Write a Python Program to Check Armstrong Number?"
   ]
  },
  {
   "cell_type": "code",
   "execution_count": 7,
   "id": "282ea040",
   "metadata": {},
   "outputs": [
    {
     "name": "stdout",
     "output_type": "stream",
     "text": [
      "Enter a number: 153\n",
      "153 is an Armstrong number.\n"
     ]
    }
   ],
   "source": [
    "#Ans 4) \n",
    "def is_armstrong_number(num):\n",
    "    # Convert the number to a string to calculate the length\n",
    "    num_str = str(num)\n",
    "    # Calculate the length of the number\n",
    "    num_length = len(num_str)\n",
    "    \n",
    "    # Calculate the sum of the cubes of each digit\n",
    "    sum_of_cubes = sum([int(digit)**num_length for digit in num_str])\n",
    "    \n",
    "    # Check if the sum of cubes is equal to the original number\n",
    "    if sum_of_cubes == num:\n",
    "        return True\n",
    "    else:\n",
    "        return False\n",
    "\n",
    "# Taking input from the user\n",
    "num = int(input(\"Enter a number: \"))\n",
    "\n",
    "if is_armstrong_number(num):\n",
    "    print(num, \"is an Armstrong number.\")\n",
    "else:\n",
    "    print(num, \"is not an Armstrong number.\")\n",
    "\n"
   ]
  },
  {
   "cell_type": "markdown",
   "id": "1f910887",
   "metadata": {},
   "source": [
    "Q 5) Write a Python Program to Find Armstrong Number in an Interval?"
   ]
  },
  {
   "cell_type": "code",
   "execution_count": 13,
   "id": "77897a04",
   "metadata": {},
   "outputs": [
    {
     "name": "stdout",
     "output_type": "stream",
     "text": [
      "Enter the lower bound of the interval: 111\n",
      "Enter the upper bound of the interval: 5000\n",
      "Armstrong numbers in the interval [111, 5000]: [153, 370, 371, 407, 1634]\n"
     ]
    }
   ],
   "source": [
    "#Ans 5)\n",
    "def is_armstrong_number(num):\n",
    "    num_str = str(num)\n",
    "    num_length = len(num_str)\n",
    "    sum_of_cubes = sum([int(digit)**num_length for digit in num_str])\n",
    "    if sum_of_cubes == num:\n",
    "        return True\n",
    "    else:\n",
    "        return False\n",
    "\n",
    "# Taking input from the user\n",
    "lower = int(input(\"Enter the lower bound of the interval: \"))\n",
    "upper = int(input(\"Enter the upper bound of the interval: \"))\n",
    "\n",
    "armstrong_numbers = []\n",
    "\n",
    "for num in range(lower, upper + 1):\n",
    "    if is_armstrong_number(num):\n",
    "        armstrong_numbers.append(num)\n",
    "\n",
    "print(\"Armstrong numbers in the interval [{}, {}]: {}\".format(lower, upper, armstrong_numbers))\n"
   ]
  },
  {
   "cell_type": "markdown",
   "id": "a4cd3d52",
   "metadata": {},
   "source": [
    "Q 6) Write a Python Program to Find the Sum of Natural Numbers?"
   ]
  },
  {
   "cell_type": "code",
   "execution_count": 14,
   "id": "5526c337",
   "metadata": {},
   "outputs": [
    {
     "name": "stdout",
     "output_type": "stream",
     "text": [
      "Enter a number: 41\n",
      "Sum of 41 natural numbers is 861.0\n"
     ]
    }
   ],
   "source": [
    "#Ans 6) \n",
    "def sumOfNaturalNumbers(num):\n",
    "    sum = num*((num+1)/2)\n",
    "    print(f'Sum of {num} natural numbers is {sum}')\n",
    "    \n",
    "num = int(input('Enter a number: '))\n",
    "sumOfNaturalNumbers(num)"
   ]
  },
  {
   "cell_type": "code",
   "execution_count": null,
   "id": "5674a4eb",
   "metadata": {},
   "outputs": [],
   "source": []
  },
  {
   "cell_type": "code",
   "execution_count": null,
   "id": "c80339d4",
   "metadata": {},
   "outputs": [],
   "source": []
  },
  {
   "cell_type": "code",
   "execution_count": null,
   "id": "24137906",
   "metadata": {},
   "outputs": [],
   "source": []
  },
  {
   "cell_type": "code",
   "execution_count": null,
   "id": "cc96e1b1",
   "metadata": {},
   "outputs": [],
   "source": []
  },
  {
   "cell_type": "code",
   "execution_count": null,
   "id": "1d6fe14b",
   "metadata": {},
   "outputs": [],
   "source": []
  },
  {
   "cell_type": "code",
   "execution_count": null,
   "id": "43568513",
   "metadata": {},
   "outputs": [],
   "source": []
  },
  {
   "cell_type": "code",
   "execution_count": null,
   "id": "809ee026",
   "metadata": {},
   "outputs": [],
   "source": []
  },
  {
   "cell_type": "code",
   "execution_count": null,
   "id": "d5b72203",
   "metadata": {},
   "outputs": [],
   "source": []
  },
  {
   "cell_type": "code",
   "execution_count": null,
   "id": "9262ffb8",
   "metadata": {},
   "outputs": [],
   "source": []
  },
  {
   "cell_type": "code",
   "execution_count": null,
   "id": "6150becf",
   "metadata": {},
   "outputs": [],
   "source": []
  },
  {
   "cell_type": "code",
   "execution_count": null,
   "id": "9a74e820",
   "metadata": {},
   "outputs": [],
   "source": []
  }
 ],
 "metadata": {
  "kernelspec": {
   "display_name": "Python 3 (ipykernel)",
   "language": "python",
   "name": "python3"
  },
  "language_info": {
   "codemirror_mode": {
    "name": "ipython",
    "version": 3
   },
   "file_extension": ".py",
   "mimetype": "text/x-python",
   "name": "python",
   "nbconvert_exporter": "python",
   "pygments_lexer": "ipython3",
   "version": "3.9.13"
  }
 },
 "nbformat": 4,
 "nbformat_minor": 5
}
