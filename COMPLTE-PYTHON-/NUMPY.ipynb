{
 "cells": [
  {
   "cell_type": "code",
   "execution_count": 107,
   "id": "de93d3b8",
   "metadata": {},
   "outputs": [],
   "source": [
    "#NUMERICAL PYTHON \n",
    "#numerical computation\n",
    "#We are going to use Numpy in Machine Learning, Deep Learning and Computer Vision because Computer understands numbers. \n",
    "#There are lot of functions (2000+ converted from MATLAB) inside numpy but majorly we will use 10-20 functions only"
   ]
  },
  {
   "cell_type": "code",
   "execution_count": 108,
   "id": "45f28e58",
   "metadata": {},
   "outputs": [],
   "source": [
    "import numpy as np#importing numpy lib"
   ]
  },
  {
   "cell_type": "code",
   "execution_count": 109,
   "id": "578688c2",
   "metadata": {},
   "outputs": [
    {
     "data": {
      "text/plain": [
       "array([2, 3, 4, 5, 6])"
      ]
     },
     "execution_count": 109,
     "metadata": {},
     "output_type": "execute_result"
    }
   ],
   "source": [
    "np.array([2,3,4,5,6])#1 Dimension"
   ]
  },
  {
   "cell_type": "code",
   "execution_count": 110,
   "id": "9c8301a8",
   "metadata": {},
   "outputs": [
    {
     "data": {
      "text/plain": [
       "numpy.ndarray"
      ]
     },
     "execution_count": 110,
     "metadata": {},
     "output_type": "execute_result"
    }
   ],
   "source": [
    "type(np.array([2,3,4,5,6]))#checked type "
   ]
  },
  {
   "cell_type": "code",
   "execution_count": 111,
   "id": "5695af48",
   "metadata": {},
   "outputs": [
    {
     "data": {
      "text/plain": [
       "array([[2, 3, 4],\n",
       "       [4, 5, 6]])"
      ]
     },
     "execution_count": 111,
     "metadata": {},
     "output_type": "execute_result"
    }
   ],
   "source": [
    "np.array([[2,3,4] , [4,5,6]])"
   ]
  },
  {
   "cell_type": "code",
   "execution_count": 112,
   "id": "f5f80b23",
   "metadata": {},
   "outputs": [
    {
     "data": {
      "text/plain": [
       "array([[1, 2, 3, 4],\n",
       "       [2, 3, 4, 5]])"
      ]
     },
     "execution_count": 112,
     "metadata": {},
     "output_type": "execute_result"
    }
   ],
   "source": [
    "np.array([[1,2,3,4] , [ 2,3,4,5]])"
   ]
  },
  {
   "cell_type": "code",
   "execution_count": 113,
   "id": "e7ac0fba",
   "metadata": {},
   "outputs": [],
   "source": [
    "l = [[1,2,3,4] , [ 2,3,4,5]]#list"
   ]
  },
  {
   "cell_type": "code",
   "execution_count": 114,
   "id": "9cfca483",
   "metadata": {},
   "outputs": [
    {
     "data": {
      "text/plain": [
       "[1, 2, 3, 4]"
      ]
     },
     "execution_count": 114,
     "metadata": {},
     "output_type": "execute_result"
    }
   ],
   "source": [
    "l[0]"
   ]
  },
  {
   "cell_type": "code",
   "execution_count": 115,
   "id": "78baaf2a",
   "metadata": {},
   "outputs": [
    {
     "data": {
      "text/plain": [
       "1"
      ]
     },
     "execution_count": 115,
     "metadata": {},
     "output_type": "execute_result"
    }
   ],
   "source": [
    "l[0][0]"
   ]
  },
  {
   "cell_type": "code",
   "execution_count": 116,
   "id": "7504cd71",
   "metadata": {},
   "outputs": [],
   "source": [
    "a = np.array([3,4,5,6] , ndmin= 4)"
   ]
  },
  {
   "cell_type": "code",
   "execution_count": 117,
   "id": "d67c5bf0",
   "metadata": {},
   "outputs": [
    {
     "data": {
      "text/plain": [
       "array([[[[3, 4, 5, 6]]]])"
      ]
     },
     "execution_count": 117,
     "metadata": {},
     "output_type": "execute_result"
    }
   ],
   "source": [
    "a"
   ]
  },
  {
   "cell_type": "code",
   "execution_count": 118,
   "id": "19d036ba",
   "metadata": {},
   "outputs": [],
   "source": [
    "arr = np.array([[1,2,3] , [4,5,6] , [7,8,9]])"
   ]
  },
  {
   "cell_type": "code",
   "execution_count": 119,
   "id": "ae20fc5e",
   "metadata": {},
   "outputs": [
    {
     "data": {
      "text/plain": [
       "array([[1, 2, 3],\n",
       "       [4, 5, 6],\n",
       "       [7, 8, 9]])"
      ]
     },
     "execution_count": 119,
     "metadata": {},
     "output_type": "execute_result"
    }
   ],
   "source": [
    "arr"
   ]
  },
  {
   "cell_type": "code",
   "execution_count": 120,
   "id": "8fdf7a25",
   "metadata": {},
   "outputs": [
    {
     "data": {
      "text/plain": [
       "2"
      ]
     },
     "execution_count": 120,
     "metadata": {},
     "output_type": "execute_result"
    }
   ],
   "source": [
    "arr.ndim"
   ]
  },
  {
   "cell_type": "code",
   "execution_count": 121,
   "id": "4efb2464",
   "metadata": {},
   "outputs": [
    {
     "name": "stdout",
     "output_type": "stream",
     "text": [
      "4\n",
      "5\n",
      "[[32 10  6 29]\n",
      " [20  6 33 31]\n",
      " [20 18 16 13]]\n",
      "[[[ 8  8 12 47]\n",
      "  [37 20 11 20]\n",
      "  [49 48 13 11]]\n",
      "\n",
      " [[35 28 23 22]\n",
      "  [46  9 20 35]\n",
      "  [46 25  8 24]]]\n"
     ]
    }
   ],
   "source": [
    "#Generating Random Numbers between 2 and 4\n",
    "print(np.random.randint(2,5))\n",
    "#Generating Random Numbers between 2 and 49\n",
    "print(np.random.randint(2,50))\n",
    "#Generating Multiple Random Numbers\n",
    "print(np.random.randint(2,50,(3,4))) #3 Rows and 4 Columns\n",
    "#Generating Multiple Random Numbers\n",
    "print(np.random.randint(2,50,(2,3,4))) #3 Rows and 4 Columns and 2 such matrices\n",
    "#Images are actually 3D Arrays"
   ]
  },
  {
   "cell_type": "code",
   "execution_count": 122,
   "id": "11f6d974",
   "metadata": {},
   "outputs": [
    {
     "data": {
      "text/plain": [
       "array([[8, 1, 2, 8],\n",
       "       [1, 3, 3, 2],\n",
       "       [4, 3, 6, 8],\n",
       "       [4, 4, 2, 4],\n",
       "       [7, 4, 3, 3]])"
      ]
     },
     "execution_count": 122,
     "metadata": {},
     "output_type": "execute_result"
    }
   ],
   "source": [
    "np.random.randint(1,10,(5,4))#Random Numbers between 1 and 10, 5 Rows and 4 Columns"
   ]
  },
  {
   "cell_type": "code",
   "execution_count": 123,
   "id": "b2cc1498",
   "metadata": {},
   "outputs": [
    {
     "data": {
      "text/plain": [
       "array([[[9, 6],\n",
       "        [7, 2],\n",
       "        [1, 4]],\n",
       "\n",
       "       [[4, 9],\n",
       "        [5, 1],\n",
       "        [9, 9]],\n",
       "\n",
       "       [[5, 2],\n",
       "        [3, 2],\n",
       "        [4, 4]],\n",
       "\n",
       "       [[6, 4],\n",
       "        [9, 1],\n",
       "        [8, 2]]])"
      ]
     },
     "execution_count": 123,
     "metadata": {},
     "output_type": "execute_result"
    }
   ],
   "source": [
    "np.random.randint(1,10,(4,3,2))#Random Numbers between 1 and 10,4 matrices,  3 Rows and 2 Columns"
   ]
  },
  {
   "cell_type": "code",
   "execution_count": 124,
   "id": "d233042e",
   "metadata": {},
   "outputs": [],
   "source": [
    "l = [1,2,3,4,5,6]#list created"
   ]
  },
  {
   "cell_type": "code",
   "execution_count": 125,
   "id": "318d0c7c",
   "metadata": {},
   "outputs": [
    {
     "data": {
      "text/plain": [
       "array([1, 2, 3, 4, 5, 6])"
      ]
     },
     "execution_count": 125,
     "metadata": {},
     "output_type": "execute_result"
    }
   ],
   "source": [
    "np.array(l)#passed list from array"
   ]
  },
  {
   "cell_type": "code",
   "execution_count": 126,
   "id": "b2bca150",
   "metadata": {},
   "outputs": [
    {
     "data": {
      "text/plain": [
       "array(['4', '5', '6', '7', 'sudh', '34.565', 'True'], dtype='<U32')"
      ]
     },
     "execution_count": 126,
     "metadata": {},
     "output_type": "execute_result"
    }
   ],
   "source": [
    "l1 = [4,5,6,7,\"sudh\" , 34.565, True]##Converted everything into string automatically. String occupies higher space than boolean,integer or float values. \n",
    "#U32 is internal representation of numpy array: 32 bits, 16 bits, 64 bits etc.\n",
    "np.array(l1)"
   ]
  },
  {
   "cell_type": "code",
   "execution_count": 127,
   "id": "35c5ff23",
   "metadata": {},
   "outputs": [],
   "source": [
    "a1=np.array(l1)"
   ]
  },
  {
   "cell_type": "code",
   "execution_count": 128,
   "id": "51dd7efe",
   "metadata": {},
   "outputs": [],
   "source": [
    "a2 = np.array([[1,2,3] , [4,5,6]])"
   ]
  },
  {
   "cell_type": "code",
   "execution_count": 129,
   "id": "89482797",
   "metadata": {},
   "outputs": [
    {
     "data": {
      "text/plain": [
       "array([[1, 2, 3],\n",
       "       [4, 5, 6]])"
      ]
     },
     "execution_count": 129,
     "metadata": {},
     "output_type": "execute_result"
    }
   ],
   "source": [
    "a2"
   ]
  },
  {
   "cell_type": "code",
   "execution_count": 130,
   "id": "207bab41",
   "metadata": {},
   "outputs": [],
   "source": [
    "a3 = np.array([[[1,2,3] , [4,5,6] , [7,8,9]]])"
   ]
  },
  {
   "cell_type": "code",
   "execution_count": 131,
   "id": "b186bd1f",
   "metadata": {},
   "outputs": [
    {
     "data": {
      "text/plain": [
       "array([[[1, 2, 3],\n",
       "        [4, 5, 6],\n",
       "        [7, 8, 9]]])"
      ]
     },
     "execution_count": 131,
     "metadata": {},
     "output_type": "execute_result"
    }
   ],
   "source": [
    "a3"
   ]
  },
  {
   "cell_type": "code",
   "execution_count": 132,
   "id": "bc77288e",
   "metadata": {},
   "outputs": [
    {
     "name": "stdout",
     "output_type": "stream",
     "text": [
      "1\n",
      "2\n",
      "3\n"
     ]
    }
   ],
   "source": [
    "#Dimensions of Array: How much axes is needed for data to be represented: When we perform data manipulation/computation, these dimensions will become important (Matrix Multiplication etc)\n",
    "print(a1.ndim) #One Axis needed to represent this entire data point\n",
    "print(a2.ndim) #Two Axes needed to represent this entire data point\n",
    "print(a3.ndim) #Three Axes needed to represent this entire data point"
   ]
  },
  {
   "cell_type": "code",
   "execution_count": 133,
   "id": "2b98b1fe",
   "metadata": {},
   "outputs": [
    {
     "data": {
      "text/plain": [
       "1"
      ]
     },
     "execution_count": 133,
     "metadata": {},
     "output_type": "execute_result"
    }
   ],
   "source": [
    "a1.ndim#1d"
   ]
  },
  {
   "cell_type": "code",
   "execution_count": 134,
   "id": "a152af0f",
   "metadata": {},
   "outputs": [
    {
     "data": {
      "text/plain": [
       "2"
      ]
     },
     "execution_count": 134,
     "metadata": {},
     "output_type": "execute_result"
    }
   ],
   "source": [
    "a2.ndim#2d"
   ]
  },
  {
   "cell_type": "code",
   "execution_count": 135,
   "id": "71459b8b",
   "metadata": {},
   "outputs": [
    {
     "data": {
      "text/plain": [
       "3"
      ]
     },
     "execution_count": 135,
     "metadata": {},
     "output_type": "execute_result"
    }
   ],
   "source": [
    "a3.ndim#3d"
   ]
  },
  {
   "cell_type": "code",
   "execution_count": 136,
   "id": "671b3120",
   "metadata": {},
   "outputs": [
    {
     "data": {
      "text/plain": [
       "array(['4', '5', '6', '7', 'sudh', '34.565', 'True'], dtype='<U32')"
      ]
     },
     "execution_count": 136,
     "metadata": {},
     "output_type": "execute_result"
    }
   ],
   "source": [
    "a1"
   ]
  },
  {
   "cell_type": "code",
   "execution_count": 137,
   "id": "2317eee2",
   "metadata": {},
   "outputs": [
    {
     "data": {
      "text/plain": [
       "7"
      ]
     },
     "execution_count": 137,
     "metadata": {},
     "output_type": "execute_result"
    }
   ],
   "source": [
    "a1.size"
   ]
  },
  {
   "cell_type": "code",
   "execution_count": 138,
   "id": "69d9ef93",
   "metadata": {},
   "outputs": [
    {
     "data": {
      "text/plain": [
       "array([[1, 2, 3],\n",
       "       [4, 5, 6]])"
      ]
     },
     "execution_count": 138,
     "metadata": {},
     "output_type": "execute_result"
    }
   ],
   "source": [
    "a2"
   ]
  },
  {
   "cell_type": "code",
   "execution_count": 139,
   "id": "1f2cacf3",
   "metadata": {},
   "outputs": [
    {
     "data": {
      "text/plain": [
       "6"
      ]
     },
     "execution_count": 139,
     "metadata": {},
     "output_type": "execute_result"
    }
   ],
   "source": [
    "a2.size"
   ]
  },
  {
   "cell_type": "code",
   "execution_count": 140,
   "id": "18330acf",
   "metadata": {},
   "outputs": [
    {
     "data": {
      "text/plain": [
       "array([[[1, 2, 3],\n",
       "        [4, 5, 6],\n",
       "        [7, 8, 9]]])"
      ]
     },
     "execution_count": 140,
     "metadata": {},
     "output_type": "execute_result"
    }
   ],
   "source": [
    "a3"
   ]
  },
  {
   "cell_type": "code",
   "execution_count": 141,
   "id": "b0638939",
   "metadata": {},
   "outputs": [
    {
     "data": {
      "text/plain": [
       "9"
      ]
     },
     "execution_count": 141,
     "metadata": {},
     "output_type": "execute_result"
    }
   ],
   "source": [
    "a3.size"
   ]
  },
  {
   "cell_type": "code",
   "execution_count": 142,
   "id": "9ecfd7ef",
   "metadata": {},
   "outputs": [
    {
     "name": "stdout",
     "output_type": "stream",
     "text": [
      "7\n",
      "6\n",
      "9\n"
     ]
    }
   ],
   "source": [
    "#Size always tells us number of elements in the array\n",
    "print(a1.size)\n",
    "print(a2.size)\n",
    "print(a3.size)\n",
    "     "
   ]
  },
  {
   "cell_type": "code",
   "execution_count": 143,
   "id": "a2970a10",
   "metadata": {},
   "outputs": [
    {
     "data": {
      "text/plain": [
       "array(['4', '5', '6', '7', 'sudh', '34.565', 'True'], dtype='<U32')"
      ]
     },
     "execution_count": 143,
     "metadata": {},
     "output_type": "execute_result"
    }
   ],
   "source": [
    "a1"
   ]
  },
  {
   "cell_type": "code",
   "execution_count": 144,
   "id": "6072ac7f",
   "metadata": {},
   "outputs": [
    {
     "name": "stdout",
     "output_type": "stream",
     "text": [
      "(7,)\n",
      "(2, 3)\n",
      "(1, 3, 3)\n"
     ]
    }
   ],
   "source": [
    "#Shape gives rows and columns\n",
    "print(a1.shape) \n",
    "print(a2.shape) #2 Rows and 3 Columns\n",
    "print(a3.shape) #3 Rows and 3 Columns   \n",
    "#We read as we have 3 cross 3 and have one such matrice (z Axis Depth,Rows,Columns)"
   ]
  },
  {
   "cell_type": "code",
   "execution_count": 145,
   "id": "83eafdfa",
   "metadata": {},
   "outputs": [
    {
     "data": {
      "text/plain": [
       "(7,)"
      ]
     },
     "execution_count": 145,
     "metadata": {},
     "output_type": "execute_result"
    }
   ],
   "source": [
    "a1.shape"
   ]
  },
  {
   "cell_type": "code",
   "execution_count": 146,
   "id": "d67a2a32",
   "metadata": {},
   "outputs": [
    {
     "data": {
      "text/plain": [
       "array([[1, 2, 3],\n",
       "       [4, 5, 6]])"
      ]
     },
     "execution_count": 146,
     "metadata": {},
     "output_type": "execute_result"
    }
   ],
   "source": [
    "a2"
   ]
  },
  {
   "cell_type": "code",
   "execution_count": 147,
   "id": "9e198f62",
   "metadata": {},
   "outputs": [
    {
     "data": {
      "text/plain": [
       "(2, 3)"
      ]
     },
     "execution_count": 147,
     "metadata": {},
     "output_type": "execute_result"
    }
   ],
   "source": [
    "a2.shape"
   ]
  },
  {
   "cell_type": "code",
   "execution_count": 148,
   "id": "d7459679",
   "metadata": {},
   "outputs": [
    {
     "data": {
      "text/plain": [
       "array([[[1, 2, 3],\n",
       "        [4, 5, 6],\n",
       "        [7, 8, 9]]])"
      ]
     },
     "execution_count": 148,
     "metadata": {},
     "output_type": "execute_result"
    }
   ],
   "source": [
    "a3"
   ]
  },
  {
   "cell_type": "code",
   "execution_count": 149,
   "id": "12880ea2",
   "metadata": {},
   "outputs": [
    {
     "data": {
      "text/plain": [
       "(1, 3, 3)"
      ]
     },
     "execution_count": 149,
     "metadata": {},
     "output_type": "execute_result"
    }
   ],
   "source": [
    "a3.shape"
   ]
  },
  {
   "cell_type": "code",
   "execution_count": 156,
   "id": "57ee2716",
   "metadata": {},
   "outputs": [
    {
     "data": {
      "text/plain": [
       "array([[0.3876431 , 0.35763401, 0.49325461, 0.33270194],\n",
       "       [0.19140233, 0.06753103, 0.32090523, 0.28478995],\n",
       "       [0.84667626, 0.01208437, 0.2242166 , 0.50774804],\n",
       "       [0.29588933, 0.06202619, 0.11941257, 0.97587137],\n",
       "       [0.9038082 , 0.2276159 , 0.34729487, 0.51191139]])"
      ]
     },
     "execution_count": 156,
     "metadata": {},
     "output_type": "execute_result"
    }
   ],
   "source": [
    "#Decimals also: Random Function is used for Data Normalization\n",
    "np.random.rand(5,4)"
   ]
  },
  {
   "cell_type": "code",
   "execution_count": 158,
   "id": "eda87cc0",
   "metadata": {},
   "outputs": [
    {
     "data": {
      "text/plain": [
       "array([[-1.39782617,  1.3529308 ,  2.23799923, -0.742564  ],\n",
       "       [ 0.51291731, -0.82211014,  1.12794451,  0.59868766],\n",
       "       [-1.69991443, -0.48779123, -0.10333153,  1.71229602],\n",
       "       [-0.37326131, -0.57047055,  0.3267387 , -0.38251041],\n",
       "       [-0.78576485,  1.1475976 , -0.75916029, -0.39473587]])"
      ]
     },
     "execution_count": 158,
     "metadata": {},
     "output_type": "execute_result"
    }
   ],
   "source": [
    "np.random.randn(5,4)#\n",
    "#Normal Distribtuion "
   ]
  },
  {
   "cell_type": "code",
   "execution_count": 159,
   "id": "38ede27c",
   "metadata": {},
   "outputs": [],
   "source": [
    "a4=np.random.rand(5,4)"
   ]
  },
  {
   "cell_type": "code",
   "execution_count": 160,
   "id": "9d57731a",
   "metadata": {},
   "outputs": [
    {
     "data": {
      "text/plain": [
       "array([[0.18009131, 0.48443023, 0.75153323, 0.79041423],\n",
       "       [0.64771994, 0.33088539, 0.01439887, 0.20264494],\n",
       "       [0.7739492 , 0.07970932, 0.25579202, 0.25126012],\n",
       "       [0.15813887, 0.9995731 , 0.35234541, 0.84031972],\n",
       "       [0.21350468, 0.68903829, 0.89280891, 0.50231763]])"
      ]
     },
     "execution_count": 160,
     "metadata": {},
     "output_type": "execute_result"
    }
   ],
   "source": [
    "a4"
   ]
  },
  {
   "cell_type": "code",
   "execution_count": 164,
   "id": "3dd63b8f",
   "metadata": {},
   "outputs": [
    {
     "data": {
      "text/plain": [
       "array([[0.18009131, 0.48443023],\n",
       "       [0.75153323, 0.79041423],\n",
       "       [0.64771994, 0.33088539],\n",
       "       [0.01439887, 0.20264494],\n",
       "       [0.7739492 , 0.07970932],\n",
       "       [0.25579202, 0.25126012],\n",
       "       [0.15813887, 0.9995731 ],\n",
       "       [0.35234541, 0.84031972],\n",
       "       [0.21350468, 0.68903829],\n",
       "       [0.89280891, 0.50231763]])"
      ]
     },
     "execution_count": 164,
     "metadata": {},
     "output_type": "execute_result"
    }
   ],
   "source": [
    "a4.reshape(10,2)\n",
    "##Changing Shape of Data (In Images, we crop the image)\n",
    "#a4.reshape(3,4) #Error because this will accomodate 12 dataset points but we have 16 dataset points"
   ]
  },
  {
   "cell_type": "code",
   "execution_count": 163,
   "id": "43d515b2",
   "metadata": {},
   "outputs": [
    {
     "data": {
      "text/plain": [
       "array([[0.18009131, 0.48443023, 0.75153323, 0.79041423, 0.64771994,\n",
       "        0.33088539, 0.01439887, 0.20264494, 0.7739492 , 0.07970932],\n",
       "       [0.25579202, 0.25126012, 0.15813887, 0.9995731 , 0.35234541,\n",
       "        0.84031972, 0.21350468, 0.68903829, 0.89280891, 0.50231763]])"
      ]
     },
     "execution_count": 163,
     "metadata": {},
     "output_type": "execute_result"
    }
   ],
   "source": [
    "a4.reshape(2,10)"
   ]
  },
  {
   "cell_type": "code",
   "execution_count": 170,
   "id": "bc3fbb1d",
   "metadata": {},
   "outputs": [],
   "source": [
    "a5=np.random.rand(4,4)"
   ]
  },
  {
   "cell_type": "code",
   "execution_count": 171,
   "id": "69db3d7f",
   "metadata": {},
   "outputs": [
    {
     "name": "stdout",
     "output_type": "stream",
     "text": [
      "[[0.85718828 0.00906244 0.21099691 0.90557587 0.06325078 0.03561213\n",
      "  0.94613534 0.14080027]\n",
      " [0.24420947 0.57311055 0.38893711 0.30553878 0.71328334 0.37447934\n",
      "  0.81088702 0.890711  ]]\n",
      "[[0.85718828 0.00906244]\n",
      " [0.21099691 0.90557587]\n",
      " [0.06325078 0.03561213]\n",
      " [0.94613534 0.14080027]\n",
      " [0.24420947 0.57311055]\n",
      " [0.38893711 0.30553878]\n",
      " [0.71328334 0.37447934]\n",
      " [0.81088702 0.890711  ]]\n",
      "[[0.85718828 0.00906244 0.21099691 0.90557587 0.06325078 0.03561213\n",
      "  0.94613534 0.14080027 0.24420947 0.57311055 0.38893711 0.30553878\n",
      "  0.71328334 0.37447934 0.81088702 0.890711  ]]\n",
      "[[0.85718828]\n",
      " [0.00906244]\n",
      " [0.21099691]\n",
      " [0.90557587]\n",
      " [0.06325078]\n",
      " [0.03561213]\n",
      " [0.94613534]\n",
      " [0.14080027]\n",
      " [0.24420947]\n",
      " [0.57311055]\n",
      " [0.38893711]\n",
      " [0.30553878]\n",
      " [0.71328334]\n",
      " [0.37447934]\n",
      " [0.81088702]\n",
      " [0.890711  ]]\n"
     ]
    }
   ],
   "source": [
    "b1 = a5.reshape(2,8) #2 rows and 8 columns\n",
    "b2 = a5.reshape(8,2) #8 rows and 2 columns\n",
    "b3 = a5.reshape(1,16) #1 row and 16 columns\n",
    "b4 = a5.reshape(16,1) #16 columns and 1 row\n",
    "\n",
    "print(b1)\n",
    "print(b2)\n",
    "print(b3)\n",
    "print(b4)"
   ]
  },
  {
   "cell_type": "code",
   "execution_count": 172,
   "id": "f36e5191",
   "metadata": {},
   "outputs": [
    {
     "data": {
      "text/plain": [
       "array([[0.18009131, 0.48443023, 0.75153323, 0.79041423, 0.64771994,\n",
       "        0.33088539, 0.01439887, 0.20264494, 0.7739492 , 0.07970932],\n",
       "       [0.25579202, 0.25126012, 0.15813887, 0.9995731 , 0.35234541,\n",
       "        0.84031972, 0.21350468, 0.68903829, 0.89280891, 0.50231763]])"
      ]
     },
     "execution_count": 172,
     "metadata": {},
     "output_type": "execute_result"
    }
   ],
   "source": [
    "a4.reshape(2,-1) #Since 2 is a factor of 16, -1 or any negative number means that it will \n",
    "#automatically detect the other factor which is 8 in this case\n",
    "  "
   ]
  },
  {
   "cell_type": "code",
   "execution_count": 187,
   "id": "14a28005",
   "metadata": {},
   "outputs": [
    {
     "data": {
      "text/plain": [
       "array(['4', '5', '6', '7', 'sudh', '34.565', 'True'], dtype='<U32')"
      ]
     },
     "execution_count": 187,
     "metadata": {},
     "output_type": "execute_result"
    }
   ],
   "source": [
    "a1"
   ]
  },
  {
   "cell_type": "code",
   "execution_count": 188,
   "id": "6d6c73a6",
   "metadata": {},
   "outputs": [
    {
     "data": {
      "text/plain": [
       "array(['6', '7', 'sudh', '34.565'], dtype='<U32')"
      ]
     },
     "execution_count": 188,
     "metadata": {},
     "output_type": "execute_result"
    }
   ],
   "source": [
    "a1[2:6]"
   ]
  },
  {
   "cell_type": "code",
   "execution_count": 189,
   "id": "973159d3",
   "metadata": {},
   "outputs": [
    {
     "data": {
      "text/plain": [
       "array(['6', 'sudh'], dtype='<U32')"
      ]
     },
     "execution_count": 189,
     "metadata": {},
     "output_type": "execute_result"
    }
   ],
   "source": [
    "a1[2:6:2]"
   ]
  },
  {
   "cell_type": "code",
   "execution_count": 190,
   "id": "f8f015b0",
   "metadata": {},
   "outputs": [
    {
     "data": {
      "text/plain": [
       "array(['True', '34.565', 'sudh', '7', '6', '5', '4'], dtype='<U32')"
      ]
     },
     "execution_count": 190,
     "metadata": {},
     "output_type": "execute_result"
    }
   ],
   "source": [
    "a1[::-1]"
   ]
  },
  {
   "cell_type": "code",
   "execution_count": 191,
   "id": "9701d827",
   "metadata": {},
   "outputs": [
    {
     "name": "stdout",
     "output_type": "stream",
     "text": [
      "['4' '5' '6' '7' 'sudh' '34.565' 'True']\n",
      "4\n",
      "['6' '7' 'sudh' '34.565']\n",
      "['6' 'sudh']\n"
     ]
    }
   ],
   "source": [
    "#Slicing Exact similar to list\n",
    "print(a1)\n",
    "print(a1[0])     \n",
    "print(a1[2:6])\n",
    "print(a1[2:6:2])"
   ]
  },
  {
   "cell_type": "code",
   "execution_count": 192,
   "id": "b7b1bda9",
   "metadata": {},
   "outputs": [
    {
     "data": {
      "text/plain": [
       "array([[1, 2, 3],\n",
       "       [4, 5, 6]])"
      ]
     },
     "execution_count": 192,
     "metadata": {},
     "output_type": "execute_result"
    }
   ],
   "source": [
    "a2"
   ]
  },
  {
   "cell_type": "code",
   "execution_count": 193,
   "id": "02e8d6d2",
   "metadata": {},
   "outputs": [
    {
     "data": {
      "text/plain": [
       "array([1, 2, 3])"
      ]
     },
     "execution_count": 193,
     "metadata": {},
     "output_type": "execute_result"
    }
   ],
   "source": [
    "a2[0]"
   ]
  },
  {
   "cell_type": "code",
   "execution_count": 180,
   "id": "b3b04869",
   "metadata": {},
   "outputs": [
    {
     "data": {
      "text/plain": [
       "array([[2, 3],\n",
       "       [5, 6]])"
      ]
     },
     "execution_count": 180,
     "metadata": {},
     "output_type": "execute_result"
    }
   ],
   "source": [
    "a2[:,1:]"
   ]
  },
  {
   "cell_type": "code",
   "execution_count": 194,
   "id": "79a2aa4d",
   "metadata": {},
   "outputs": [
    {
     "data": {
      "text/plain": [
       "array([[2, 3],\n",
       "       [5, 6]])"
      ]
     },
     "execution_count": 194,
     "metadata": {},
     "output_type": "execute_result"
    }
   ],
   "source": [
    "a2[:,[1,2]]"
   ]
  },
  {
   "cell_type": "code",
   "execution_count": 195,
   "id": "646f05a4",
   "metadata": {},
   "outputs": [
    {
     "data": {
      "text/plain": [
       "array([[2, 3],\n",
       "       [5, 6]])"
      ]
     },
     "execution_count": 195,
     "metadata": {},
     "output_type": "execute_result"
    }
   ],
   "source": [
    "a2[[0,1],1:]"
   ]
  },
  {
   "cell_type": "code",
   "execution_count": 196,
   "id": "82648ed5",
   "metadata": {},
   "outputs": [
    {
     "name": "stdout",
     "output_type": "stream",
     "text": [
      "[[1 2 3]\n",
      " [4 5 6]]\n",
      "[1 2 3]\n",
      "[[2 3]\n",
      " [5 6]]\n",
      "[[2 3]\n",
      " [5 6]]\n",
      "[2 6]\n"
     ]
    }
   ],
   "source": [
    "\n",
    "print(a2)\n",
    "print(a2[0])\n",
    "print(a2[:,1:])\n",
    "print(a2[:,[1,2]]) #Same thing as above\n",
    "print(a2[[0,1],[1,2]]) #Same thing as above"
   ]
  },
  {
   "cell_type": "code",
   "execution_count": 197,
   "id": "b2d4853a",
   "metadata": {},
   "outputs": [],
   "source": [
    "a5 = np.random.randint(2,90 , (6,5))"
   ]
  },
  {
   "cell_type": "code",
   "execution_count": 198,
   "id": "ad38d713",
   "metadata": {},
   "outputs": [
    {
     "data": {
      "text/plain": [
       "array([[41, 89, 26, 22, 51],\n",
       "       [58, 47, 52, 50, 75],\n",
       "       [23, 17,  6, 69, 39],\n",
       "       [34, 39,  8, 48, 42],\n",
       "       [22, 75, 68, 35, 35],\n",
       "       [25, 16, 67, 66, 76]])"
      ]
     },
     "execution_count": 198,
     "metadata": {},
     "output_type": "execute_result"
    }
   ],
   "source": [
    "a5"
   ]
  },
  {
   "cell_type": "code",
   "execution_count": 208,
   "id": "7a6d8b78",
   "metadata": {},
   "outputs": [
    {
     "data": {
      "text/plain": [
       "array([ 41, 100,  51,  58,  47,  52,  50,  75,  69,  48,  42,  75,  68,\n",
       "        67,  66,  76])"
      ]
     },
     "execution_count": 208,
     "metadata": {},
     "output_type": "execute_result"
    }
   ],
   "source": [
    "##Similar to Pandas Dataframe, we can write filter condition\n",
    "a5[a5>40]"
   ]
  },
  {
   "cell_type": "code",
   "execution_count": 200,
   "id": "a30b8aa5",
   "metadata": {},
   "outputs": [
    {
     "data": {
      "text/plain": [
       "array([[41, 89, 26, 22, 51],\n",
       "       [58, 47, 52, 50, 75],\n",
       "       [23, 17,  6, 69, 39],\n",
       "       [34, 39,  8, 48, 42],\n",
       "       [22, 75, 68, 35, 35],\n",
       "       [25, 16, 67, 66, 76]])"
      ]
     },
     "execution_count": 200,
     "metadata": {},
     "output_type": "execute_result"
    }
   ],
   "source": [
    "a5"
   ]
  },
  {
   "cell_type": "code",
   "execution_count": 210,
   "id": "b64e7f53",
   "metadata": {},
   "outputs": [],
   "source": [
    "#Updating data\n",
    "a5[0,1] = 100#11 Replaced by 100"
   ]
  },
  {
   "cell_type": "code",
   "execution_count": 202,
   "id": "f471e816",
   "metadata": {},
   "outputs": [
    {
     "data": {
      "text/plain": [
       "array([[ 41, 100,  26,  22,  51],\n",
       "       [ 58,  47,  52,  50,  75],\n",
       "       [ 23,  17,   6,  69,  39],\n",
       "       [ 34,  39,   8,  48,  42],\n",
       "       [ 22,  75,  68,  35,  35],\n",
       "       [ 25,  16,  67,  66,  76]])"
      ]
     },
     "execution_count": 202,
     "metadata": {},
     "output_type": "execute_result"
    }
   ],
   "source": [
    "a5"
   ]
  },
  {
   "cell_type": "code",
   "execution_count": 203,
   "id": "527eea22",
   "metadata": {},
   "outputs": [],
   "source": [
    "a6 = np.random.randint(0,3 , (3,3))"
   ]
  },
  {
   "cell_type": "code",
   "execution_count": 204,
   "id": "7e702a30",
   "metadata": {},
   "outputs": [],
   "source": [
    "a7 = np.random.randint(0,3 , (3,3))"
   ]
  },
  {
   "cell_type": "code",
   "execution_count": 205,
   "id": "f2316ca8",
   "metadata": {},
   "outputs": [
    {
     "data": {
      "text/plain": [
       "array([[2, 1, 2],\n",
       "       [2, 0, 1],\n",
       "       [0, 0, 0]])"
      ]
     },
     "execution_count": 205,
     "metadata": {},
     "output_type": "execute_result"
    }
   ],
   "source": [
    "a6"
   ]
  },
  {
   "cell_type": "code",
   "execution_count": 206,
   "id": "070b2460",
   "metadata": {},
   "outputs": [
    {
     "data": {
      "text/plain": [
       "array([[1, 2, 1],\n",
       "       [0, 2, 1],\n",
       "       [1, 2, 2]])"
      ]
     },
     "execution_count": 206,
     "metadata": {},
     "output_type": "execute_result"
    }
   ],
   "source": [
    "a7"
   ]
  },
  {
   "cell_type": "code",
   "execution_count": 211,
   "id": "63e69862",
   "metadata": {},
   "outputs": [
    {
     "data": {
      "text/plain": [
       "array([[2, 2, 2],\n",
       "       [0, 0, 1],\n",
       "       [0, 0, 0]])"
      ]
     },
     "execution_count": 211,
     "metadata": {},
     "output_type": "execute_result"
    }
   ],
   "source": [
    "a6*a7##Element Wise Multiplication and not Matrix Multiplication"
   ]
  },
  {
   "cell_type": "code",
   "execution_count": 212,
   "id": "ba3abd81",
   "metadata": {},
   "outputs": [
    {
     "data": {
      "text/plain": [
       "array([[ 4, 10,  7],\n",
       "       [ 3,  6,  4],\n",
       "       [ 0,  0,  0]])"
      ]
     },
     "execution_count": 212,
     "metadata": {},
     "output_type": "execute_result"
    }
   ],
   "source": [
    "#Matrix Multiplication\n",
    "a6@a7"
   ]
  },
  {
   "cell_type": "code",
   "execution_count": 213,
   "id": "d586f87f",
   "metadata": {},
   "outputs": [
    {
     "data": {
      "text/plain": [
       "array([[102, 101, 102],\n",
       "       [102, 100, 101],\n",
       "       [100, 100, 100]])"
      ]
     },
     "execution_count": 213,
     "metadata": {},
     "output_type": "execute_result"
    }
   ],
   "source": [
    "a6+100"
   ]
  },
  {
   "cell_type": "code",
   "execution_count": 214,
   "id": "85f3c845",
   "metadata": {},
   "outputs": [
    {
     "data": {
      "text/plain": [
       "array([[4, 2, 4],\n",
       "       [4, 0, 2],\n",
       "       [0, 0, 0]])"
      ]
     },
     "execution_count": 214,
     "metadata": {},
     "output_type": "execute_result"
    }
   ],
   "source": [
    "a6*2"
   ]
  },
  {
   "cell_type": "code",
   "execution_count": 215,
   "id": "ecf7b5cc",
   "metadata": {},
   "outputs": [
    {
     "name": "stderr",
     "output_type": "stream",
     "text": [
      "C:\\Users\\Swapnil\\AppData\\Local\\Temp\\ipykernel_17640\\1058679823.py:1: RuntimeWarning: divide by zero encountered in true_divide\n",
      "  a6/0\n",
      "C:\\Users\\Swapnil\\AppData\\Local\\Temp\\ipykernel_17640\\1058679823.py:1: RuntimeWarning: invalid value encountered in true_divide\n",
      "  a6/0\n"
     ]
    },
    {
     "data": {
      "text/plain": [
       "array([[inf, inf, inf],\n",
       "       [inf, nan, inf],\n",
       "       [nan, nan, nan]])"
      ]
     },
     "execution_count": 215,
     "metadata": {},
     "output_type": "execute_result"
    }
   ],
   "source": [
    "a6/0"
   ]
  },
  {
   "cell_type": "code",
   "execution_count": 216,
   "id": "bfd78ede",
   "metadata": {},
   "outputs": [
    {
     "data": {
      "text/plain": [
       "array([[2, 1, 2],\n",
       "       [2, 0, 1],\n",
       "       [0, 0, 0]])"
      ]
     },
     "execution_count": 216,
     "metadata": {},
     "output_type": "execute_result"
    }
   ],
   "source": [
    "a6\n"
   ]
  },
  {
   "cell_type": "code",
   "execution_count": 217,
   "id": "80d68cca",
   "metadata": {},
   "outputs": [
    {
     "data": {
      "text/plain": [
       "array([[8, 1, 8],\n",
       "       [8, 0, 1],\n",
       "       [0, 0, 0]], dtype=int32)"
      ]
     },
     "execution_count": 217,
     "metadata": {},
     "output_type": "execute_result"
    }
   ],
   "source": [
    "a6**3"
   ]
  },
  {
   "cell_type": "code",
   "execution_count": 218,
   "id": "5a608556",
   "metadata": {},
   "outputs": [],
   "source": [
    "a8 = np.zeros((4,4))"
   ]
  },
  {
   "cell_type": "code",
   "execution_count": 219,
   "id": "79fd1a72",
   "metadata": {},
   "outputs": [
    {
     "data": {
      "text/plain": [
       "array([[0., 0., 0., 0.],\n",
       "       [0., 0., 0., 0.],\n",
       "       [0., 0., 0., 0.],\n",
       "       [0., 0., 0., 0.]])"
      ]
     },
     "execution_count": 219,
     "metadata": {},
     "output_type": "execute_result"
    }
   ],
   "source": [
    "a8"
   ]
  },
  {
   "cell_type": "code",
   "execution_count": 220,
   "id": "df6cade8",
   "metadata": {},
   "outputs": [],
   "source": [
    "a9  = np.ones((4,5))"
   ]
  },
  {
   "cell_type": "code",
   "execution_count": 221,
   "id": "80ccf4cb",
   "metadata": {},
   "outputs": [
    {
     "data": {
      "text/plain": [
       "array([[1., 1., 1., 1., 1.],\n",
       "       [1., 1., 1., 1., 1.],\n",
       "       [1., 1., 1., 1., 1.],\n",
       "       [1., 1., 1., 1., 1.]])"
      ]
     },
     "execution_count": 221,
     "metadata": {},
     "output_type": "execute_result"
    }
   ],
   "source": [
    "a9"
   ]
  },
  {
   "cell_type": "code",
   "execution_count": 235,
   "id": "ba35abf2",
   "metadata": {},
   "outputs": [
    {
     "data": {
      "text/plain": [
       "array([[2., 3., 4., 5., 6.],\n",
       "       [2., 3., 4., 5., 6.],\n",
       "       [2., 3., 4., 5., 6.],\n",
       "       [2., 3., 4., 5., 6.]])"
      ]
     },
     "execution_count": 235,
     "metadata": {},
     "output_type": "execute_result"
    }
   ],
   "source": [
    "a9+np.array([1,2,3,4,5])#Doing row by row operation. Also called as Broadcasting operation"
   ]
  },
  {
   "cell_type": "code",
   "execution_count": 236,
   "id": "6977c812",
   "metadata": {},
   "outputs": [
    {
     "data": {
      "text/plain": [
       "array([[11., 11., 11., 11., 11.],\n",
       "       [11., 11., 11., 11., 11.],\n",
       "       [11., 11., 11., 11., 11.],\n",
       "       [11., 11., 11., 11., 11.]])"
      ]
     },
     "execution_count": 236,
     "metadata": {},
     "output_type": "execute_result"
    }
   ],
   "source": [
    "a9+10"
   ]
  },
  {
   "cell_type": "code",
   "execution_count": 238,
   "id": "e313cb0b",
   "metadata": {},
   "outputs": [
    {
     "data": {
      "text/plain": [
       "array([[2., 2., 2., 2., 2.],\n",
       "       [3., 3., 3., 3., 3.],\n",
       "       [4., 4., 4., 4., 4.],\n",
       "       [5., 5., 5., 5., 5.]])"
      ]
     },
     "execution_count": 238,
     "metadata": {},
     "output_type": "execute_result"
    }
   ],
   "source": [
    "##How to do column wise Boradcasting operation: We will have to transpose first and then add\n",
    "#np.array([1,2,3,4]).T + a9   #Error because for transpose we need 2 dimesnsions. Hence we will give 2 brackets to convert \n",
    "#into 2d\n",
    "\n",
    "np.array([[1,2,3,4]]).T + a9"
   ]
  },
  {
   "cell_type": "code",
   "execution_count": 250,
   "id": "31f575e2",
   "metadata": {},
   "outputs": [
    {
     "name": "stdout",
     "output_type": "stream",
     "text": [
      "[[2 1 2]\n",
      " [2 0 1]\n",
      " [0 0 0]]\n",
      "[[2 2 0]\n",
      " [1 0 0]\n",
      " [2 1 0]]\n"
     ]
    }
   ],
   "source": [
    "#Understanding Transpose\n",
    "print(a6)\n",
    "print(a6.T)"
   ]
  },
  {
   "cell_type": "code",
   "execution_count": 239,
   "id": "89b35829",
   "metadata": {},
   "outputs": [
    {
     "data": {
      "text/plain": [
       "array([[1],\n",
       "       [2],\n",
       "       [3],\n",
       "       [4]])"
      ]
     },
     "execution_count": 239,
     "metadata": {},
     "output_type": "execute_result"
    }
   ],
   "source": [
    "np.array([[1,2,3,4]]).T"
   ]
  },
  {
   "cell_type": "code",
   "execution_count": 240,
   "id": "35a503ef",
   "metadata": {},
   "outputs": [
    {
     "data": {
      "text/plain": [
       "array([[1, 2, 3, 4]])"
      ]
     },
     "execution_count": 240,
     "metadata": {},
     "output_type": "execute_result"
    }
   ],
   "source": [
    "np.array([[1,2,3,4]])"
   ]
  },
  {
   "cell_type": "code",
   "execution_count": 241,
   "id": "0c03f8d3",
   "metadata": {},
   "outputs": [
    {
     "data": {
      "text/plain": [
       "array([[2, 2, 0],\n",
       "       [1, 0, 0],\n",
       "       [2, 1, 0]])"
      ]
     },
     "execution_count": 241,
     "metadata": {},
     "output_type": "execute_result"
    }
   ],
   "source": [
    "a6.T"
   ]
  },
  {
   "cell_type": "code",
   "execution_count": 242,
   "id": "38a7ed4a",
   "metadata": {},
   "outputs": [
    {
     "data": {
      "text/plain": [
       "array([[2, 1, 2],\n",
       "       [2, 0, 1],\n",
       "       [0, 0, 0]])"
      ]
     },
     "execution_count": 242,
     "metadata": {},
     "output_type": "execute_result"
    }
   ],
   "source": [
    "a6"
   ]
  },
  {
   "cell_type": "code",
   "execution_count": 243,
   "id": "e9a727a0",
   "metadata": {},
   "outputs": [
    {
     "data": {
      "text/plain": [
       "array([[ 41, 100,  26,  22,  51],\n",
       "       [ 58,  47,  52,  50,  75],\n",
       "       [ 23,  17,   6,  69,  39],\n",
       "       [ 34,  39,   8,  48,  42],\n",
       "       [ 22,  75,  68,  35,  35],\n",
       "       [ 25,  16,  67,  66,  76]])"
      ]
     },
     "execution_count": 243,
     "metadata": {},
     "output_type": "execute_result"
    }
   ],
   "source": [
    "a5"
   ]
  },
  {
   "cell_type": "code",
   "execution_count": 244,
   "id": "efc8749e",
   "metadata": {},
   "outputs": [
    {
     "data": {
      "text/plain": [
       "array([[ 6.40312424, 10.        ,  5.09901951,  4.69041576,  7.14142843],\n",
       "       [ 7.61577311,  6.8556546 ,  7.21110255,  7.07106781,  8.66025404],\n",
       "       [ 4.79583152,  4.12310563,  2.44948974,  8.30662386,  6.244998  ],\n",
       "       [ 5.83095189,  6.244998  ,  2.82842712,  6.92820323,  6.4807407 ],\n",
       "       [ 4.69041576,  8.66025404,  8.24621125,  5.91607978,  5.91607978],\n",
       "       [ 5.        ,  4.        ,  8.18535277,  8.1240384 ,  8.71779789]])"
      ]
     },
     "execution_count": 244,
     "metadata": {},
     "output_type": "execute_result"
    }
   ],
   "source": [
    "np.sqrt(a5)"
   ]
  },
  {
   "cell_type": "code",
   "execution_count": 245,
   "id": "452d0aec",
   "metadata": {},
   "outputs": [
    {
     "data": {
      "text/plain": [
       "array([[6.39843494e+17, 2.68811714e+43, 1.95729609e+11, 3.58491285e+09,\n",
       "        1.40934908e+22],\n",
       "       [1.54553894e+25, 2.58131289e+20, 3.83100800e+22, 5.18470553e+21,\n",
       "        3.73324200e+32],\n",
       "       [9.74480345e+09, 2.41549528e+07, 4.03428793e+02, 9.25378173e+29,\n",
       "        8.65934004e+16],\n",
       "       [5.83461743e+14, 8.65934004e+16, 2.98095799e+03, 7.01673591e+20,\n",
       "        1.73927494e+18],\n",
       "       [3.58491285e+09, 3.73324200e+32, 3.40427605e+29, 1.58601345e+15,\n",
       "        1.58601345e+15],\n",
       "       [7.20048993e+10, 8.88611052e+06, 1.25236317e+29, 4.60718663e+28,\n",
       "        1.01480039e+33]])"
      ]
     },
     "execution_count": 245,
     "metadata": {},
     "output_type": "execute_result"
    }
   ],
   "source": [
    "np.exp(a5)"
   ]
  },
  {
   "cell_type": "code",
   "execution_count": 246,
   "id": "5253f8bf",
   "metadata": {},
   "outputs": [
    {
     "data": {
      "text/plain": [
       "array([[1.61278386, 2.        , 1.41497335, 1.34242268, 1.70757018],\n",
       "       [1.76342799, 1.67209786, 1.71600334, 1.69897   , 1.87506126],\n",
       "       [1.36172784, 1.23044892, 0.77815125, 1.83884909, 1.59106461],\n",
       "       [1.53147892, 1.59106461, 0.90308999, 1.68124124, 1.62324929],\n",
       "       [1.34242268, 1.87506126, 1.83250891, 1.54406804, 1.54406804],\n",
       "       [1.39794001, 1.20411998, 1.8260748 , 1.81954394, 1.88081359]])"
      ]
     },
     "execution_count": 246,
     "metadata": {},
     "output_type": "execute_result"
    }
   ],
   "source": [
    "np.log10(a5)"
   ]
  },
  {
   "cell_type": "code",
   "execution_count": 247,
   "id": "caa35444",
   "metadata": {},
   "outputs": [
    {
     "data": {
      "text/plain": [
       "[0, 2, 4, 6, 8]"
      ]
     },
     "execution_count": 247,
     "metadata": {},
     "output_type": "execute_result"
    }
   ],
   "source": [
    "list(range(0,10 , 2))"
   ]
  },
  {
   "cell_type": "code",
   "execution_count": 252,
   "id": "46bf2104",
   "metadata": {},
   "outputs": [
    {
     "name": "stdout",
     "output_type": "stream",
     "text": [
      "[0 1 2 3 4 5 6 7 8 9]\n",
      "[1.8 4.3 6.8 9.3]\n"
     ]
    }
   ],
   "source": [
    "#Arange same as range but it also takes jump size as float\n",
    "print(np.arange(10))\n",
    "print(np.arange(1.8,10.7,2.5)) "
   ]
  },
  {
   "cell_type": "code",
   "execution_count": 253,
   "id": "dff433c5",
   "metadata": {},
   "outputs": [
    {
     "data": {
      "text/plain": [
       "array([1.8, 4.3, 6.8, 9.3])"
      ]
     },
     "execution_count": 253,
     "metadata": {},
     "output_type": "execute_result"
    }
   ],
   "source": [
    "np.arange(1.8,10.7,2.5)\n"
   ]
  },
  {
   "cell_type": "code",
   "execution_count": 249,
   "id": "4f14827f",
   "metadata": {},
   "outputs": [
    {
     "data": {
      "text/plain": [
       "(array([2.        , 2.02040816, 2.04081633, 2.06122449, 2.08163265,\n",
       "        2.10204082, 2.12244898, 2.14285714, 2.16326531, 2.18367347,\n",
       "        2.20408163, 2.2244898 , 2.24489796, 2.26530612, 2.28571429,\n",
       "        2.30612245, 2.32653061, 2.34693878, 2.36734694, 2.3877551 ,\n",
       "        2.40816327, 2.42857143, 2.44897959, 2.46938776, 2.48979592,\n",
       "        2.51020408, 2.53061224, 2.55102041, 2.57142857, 2.59183673,\n",
       "        2.6122449 , 2.63265306, 2.65306122, 2.67346939, 2.69387755,\n",
       "        2.71428571, 2.73469388, 2.75510204, 2.7755102 , 2.79591837,\n",
       "        2.81632653, 2.83673469, 2.85714286, 2.87755102, 2.89795918,\n",
       "        2.91836735, 2.93877551, 2.95918367, 2.97959184, 3.        ]),\n",
       " 0.02040816326530612)"
      ]
     },
     "execution_count": 249,
     "metadata": {},
     "output_type": "execute_result"
    }
   ],
   "source": [
    "np.linspace(2,3,num=50,retstep=True)"
   ]
  },
  {
   "cell_type": "code",
   "execution_count": 254,
   "id": "05a79c98",
   "metadata": {},
   "outputs": [
    {
     "name": "stdout",
     "output_type": "stream",
     "text": [
      "[2.         2.02040816 2.04081633 2.06122449 2.08163265 2.10204082\n",
      " 2.12244898 2.14285714 2.16326531 2.18367347 2.20408163 2.2244898\n",
      " 2.24489796 2.26530612 2.28571429 2.30612245 2.32653061 2.34693878\n",
      " 2.36734694 2.3877551  2.40816327 2.42857143 2.44897959 2.46938776\n",
      " 2.48979592 2.51020408 2.53061224 2.55102041 2.57142857 2.59183673\n",
      " 2.6122449  2.63265306 2.65306122 2.67346939 2.69387755 2.71428571\n",
      " 2.73469388 2.75510204 2.7755102  2.79591837 2.81632653 2.83673469\n",
      " 2.85714286 2.87755102 2.89795918 2.91836735 2.93877551 2.95918367\n",
      " 2.97959184 3.        ]\n",
      "(array([2.        , 2.02040816, 2.04081633, 2.06122449, 2.08163265,\n",
      "       2.10204082, 2.12244898, 2.14285714, 2.16326531, 2.18367347,\n",
      "       2.20408163, 2.2244898 , 2.24489796, 2.26530612, 2.28571429,\n",
      "       2.30612245, 2.32653061, 2.34693878, 2.36734694, 2.3877551 ,\n",
      "       2.40816327, 2.42857143, 2.44897959, 2.46938776, 2.48979592,\n",
      "       2.51020408, 2.53061224, 2.55102041, 2.57142857, 2.59183673,\n",
      "       2.6122449 , 2.63265306, 2.65306122, 2.67346939, 2.69387755,\n",
      "       2.71428571, 2.73469388, 2.75510204, 2.7755102 , 2.79591837,\n",
      "       2.81632653, 2.83673469, 2.85714286, 2.87755102, 2.89795918,\n",
      "       2.91836735, 2.93877551, 2.95918367, 2.97959184, 3.        ]), 0.02040816326530612)\n"
     ]
    }
   ],
   "source": [
    "#In between certain range, we want to generate numbers\n",
    "print(np.linspace(2,3,num=50)) #Considers Linear Space\n",
    "print(np.linspace(2,3,num=50,retstep=True)) #Jumpsize will also be returned"
   ]
  },
  {
   "cell_type": "code",
   "execution_count": 260,
   "id": "1e9bc699",
   "metadata": {},
   "outputs": [
    {
     "data": {
      "text/plain": [
       "array([  100.        ,   464.15888336,  2154.43469003, 10000.        ])"
      ]
     },
     "execution_count": 260,
     "metadata": {},
     "output_type": "execute_result"
    }
   ],
   "source": [
    "np.logspace(2,4,num=4,base=10) #Considers Logarithmic Base"
   ]
  },
  {
   "cell_type": "code",
   "execution_count": 262,
   "id": "6ea075ff",
   "metadata": {},
   "outputs": [
    {
     "data": {
      "text/plain": [
       "array([[1., 0., 0., 0., 0.],\n",
       "       [0., 1., 0., 0., 0.],\n",
       "       [0., 0., 1., 0., 0.],\n",
       "       [0., 0., 0., 1., 0.],\n",
       "       [0., 0., 0., 0., 1.]])"
      ]
     },
     "execution_count": 262,
     "metadata": {},
     "output_type": "execute_result"
    }
   ],
   "source": [
    "#Identity Matrix\n",
    "np.eye(5)"
   ]
  },
  {
   "cell_type": "code",
   "execution_count": null,
   "id": "a419d1f0",
   "metadata": {},
   "outputs": [],
   "source": []
  }
 ],
 "metadata": {
  "kernelspec": {
   "display_name": "Python 3 (ipykernel)",
   "language": "python",
   "name": "python3"
  },
  "language_info": {
   "codemirror_mode": {
    "name": "ipython",
    "version": 3
   },
   "file_extension": ".py",
   "mimetype": "text/x-python",
   "name": "python",
   "nbconvert_exporter": "python",
   "pygments_lexer": "ipython3",
   "version": "3.9.13"
  }
 },
 "nbformat": 4,
 "nbformat_minor": 5
}
