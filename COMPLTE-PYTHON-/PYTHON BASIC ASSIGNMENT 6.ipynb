{
 "cells": [
  {
   "cell_type": "markdown",
   "id": "97c74649",
   "metadata": {},
   "source": [
    "#SOLUTION ASSIGNMENT 6:\n",
    "#SUBMITTED BY: SWAPNIL GOSAVI\n",
    "#20 May Python Basic - 1\n",
    "#Q.1. What are keywords in python? Using the keyword library, print all the python keywords.\n",
    "#Q.2. What are the rules to create variables in python?\n",
    "#Q.3. What are the standards and conventions followed for the nomenclature of variables in\n",
    "#python to improve code readability and maintainability?\n",
    "#Q.4. What will happen if a keyword is used as a variable name?\n",
    "#Q.5. For what purpose def keyword is used?\n",
    "#Q.6. What is the operation of this special character ‘\\’?\n",
    "#Q.7. Give an example of the following conditions:\n",
    "#(i) Homogeneous list\n",
    "#(ii) Heterogeneous set\n",
    "#(iii) Homogeneous tuple\n",
    "#Q.8. Explain the mutable and immutable data types with proper explanation & examples.\n",
    "#Q.9. Write a code to create the given structure using only for loop.\n",
    "*\n",
    "***\n",
    "*****\n",
    "*******\n",
    "*********\n",
    "#Q.10. Write a code to create the given structure using while loop.\n",
    "|||||||||\n",
    "|||||||\n",
    "|||||\n",
    "|||\n",
    "|"
   ]
  },
  {
   "cell_type": "markdown",
   "id": "0daf86bf",
   "metadata": {},
   "source": [
    " Q.1. What are keywords in python? Using the keyword library, print all the python keywords.\n",
    " Ans 1:#we should not use all  kewords as per your choice in python .They have a dedicated function reserved in python .\n",
    " Keywords are immutable, case sensitive.pip install keyword is used to instal package \"keyword\" to check how many keywords are in python. \n",
    " \n",
    " \n",
    " "
   ]
  },
  {
   "cell_type": "code",
   "execution_count": 6,
   "id": "2abd30b8",
   "metadata": {},
   "outputs": [],
   "source": [
    "import keyword#load package"
   ]
  },
  {
   "cell_type": "code",
   "execution_count": 7,
   "id": "9a765ba2",
   "metadata": {},
   "outputs": [
    {
     "name": "stdout",
     "output_type": "stream",
     "text": [
      "['False', 'None', 'True', '__peg_parser__', 'and', 'as', 'assert', 'async', 'await', 'break', 'class', 'continue', 'def', 'del', 'elif', 'else', 'except', 'finally', 'for', 'from', 'global', 'if', 'import', 'in', 'is', 'lambda', 'nonlocal', 'not', 'or', 'pass', 'raise', 'return', 'try', 'while', 'with', 'yield']\n"
     ]
    }
   ],
   "source": [
    "print((keyword.kwlist))#As of Python 3.9, there are 35 keywords."
   ]
  },
  {
   "cell_type": "markdown",
   "id": "10c50a7d",
   "metadata": {},
   "source": [
    "Q.2. What are the rules to create variables in python?\n",
    "Ans 2: A varibale is name given to a memory location in a program.\n",
    "example :\n",
    "a =30\n",
    "b=\"swapnil\"\n",
    "c=71.22 \n",
    "Variables=contain to store a value\n",
    "Keywords=reserve words in python\n",
    "Identifiers=Class/function/varibles name\n",
    "\n",
    "Rules:-Below are the rules to create a variables \n",
    "Varibales can be a combination of letters in lowercase (a to z) or uppercase (A to Z) or digits (0 to 9) or an underscore (_).\n",
    "They must start with a letter or the underscore character, but not with a digit.\n",
    "Variables in Python are case-sensitive. For example, myVariable and myvariable are two different varibles in Python.\n",
    "Varibles cannot have special characters such as !, @, #, $, %, etc.\n",
    "Python keywords cannot be used as varibles.\n",
    "\n"
   ]
  },
  {
   "cell_type": "code",
   "execution_count": null,
   "id": "1d9abae0",
   "metadata": {},
   "outputs": [],
   "source": [
    "Q.3. What are the standards and conventions followed for the nomenclature of variables in\n",
    "python to improve code readability and maintainability?\n",
    "Ans 3:\n",
    "Use descriptive names: Choose variable names that are meaningful and describe their purpose or the data they store.\n",
    "This helps in understanding the code's intent and makes it easier for others (and your future self) to read and maintain the \n",
    "code.\n",
    "\n",
    "Use lowercase letters: Variable names in Python are typically written in lowercase letters. If a variable name consists of \n",
    "multiple words, separate them with underscores. For example: my_variable, total_count, first_name.\n",
    "    \n",
    "Avoid using single characters: While it's technically allowed to use single-letter variable names, it's generally better to \n",
    "use more descriptive names that convey the purpose of the variable.(in lops we use it for more clarity of code flow)\n",
    "\n",
    "Consistent with naming style: Stick to a consistent naming style throughout your codebase.\n",
    "\n",
    "Avoid using reserved keywords:NOt use reserved words as varible names.\n",
    "\n",
    "Use meaningful abbreviations: If you need to use abbreviations, ensure they are widely understood and make the \n",
    "code more readable.\n",
    "\n",
    "\n",
    "\n",
    "\n"
   ]
  },
  {
   "cell_type": "markdown",
   "id": "649c818e",
   "metadata": {},
   "source": [
    "Q.4. What will happen if a keyword is used as a variable name?\n",
    "Ans 4: If a keyword is used as a variable name in Python, it will result in a syntax error. Keywords are reserved words in the Python language, and they have special meanings and functionalities associated with them. They cannot be used as identifiers, including variable names.we should not use all these kewords as per your choice in python .They have a dedicated function reserved in python"
   ]
  },
  {
   "cell_type": "code",
   "execution_count": 10,
   "id": "b2b9f16b",
   "metadata": {},
   "outputs": [
    {
     "ename": "SyntaxError",
     "evalue": "invalid syntax (4258171486.py, line 1)",
     "output_type": "error",
     "traceback": [
      "\u001b[1;36m  File \u001b[1;32m\"C:\\Users\\Swapnil\\AppData\\Local\\Temp\\ipykernel_14952\\4258171486.py\"\u001b[1;36m, line \u001b[1;32m1\u001b[0m\n\u001b[1;33m    for=10\u001b[0m\n\u001b[1;37m       ^\u001b[0m\n\u001b[1;31mSyntaxError\u001b[0m\u001b[1;31m:\u001b[0m invalid syntax\n"
     ]
    }
   ],
   "source": [
    "for=10#reserve keword is used as varaible name"
   ]
  },
  {
   "cell_type": "markdown",
   "id": "3960cd72",
   "metadata": {},
   "source": [
    "Q.5. For what purpose def keyword is used\n",
    "Ans 5)def keyword is used to define a function. It is an essential keyword for function declaration and is used to create user-defined functions that perform specific tasks."
   ]
  },
  {
   "cell_type": "code",
   "execution_count": 20,
   "id": "8775ca3b",
   "metadata": {},
   "outputs": [],
   "source": [
    "def greeting(name):\n",
    "    message = \"Hello\"\n",
    "    return message"
   ]
  },
  {
   "cell_type": "markdown",
   "id": "95cf3f60",
   "metadata": {},
   "source": [
    "Q.6. What is the operation of this special character ‘\\’?\n",
    "Ans 6)The special character '\\' in Python is called the backslash. It has several uses and serves as an escape character, indicating that the character following it has a special meaning. \n",
    "\n",
    "Use:\n",
    "\n",
    "'\\n' represents a newline character.\n",
    "'\\t' represents a tab character.\n",
    "'\\' represents a literal backslash character.\n",
    "\n"
   ]
  },
  {
   "cell_type": "code",
   "execution_count": null,
   "id": "8d4af627",
   "metadata": {},
   "outputs": [],
   "source": [
    "Q.7. Give an example of the following conditions:\n",
    "(i) Homogeneous list\n",
    "(ii) Heterogeneous set\n",
    "(iii) Homogeneous tuple\n",
    "\n",
    "Ans 7:"
   ]
  },
  {
   "cell_type": "code",
   "execution_count": 21,
   "id": "187dbd9d",
   "metadata": {},
   "outputs": [
    {
     "name": "stdout",
     "output_type": "stream",
     "text": [
      "['apple', 'banana', 'cherry']\n"
     ]
    }
   ],
   "source": [
    "#Homogeneous list A list can contain elements of same  types: integers, floats, strings, and even other lists or tuples.\n",
    "list = [\"apple\", \"banana\", \"cherry\"]\n",
    "print(fruits)"
   ]
  },
  {
   "cell_type": "code",
   "execution_count": 23,
   "id": "6691bbdb",
   "metadata": {},
   "outputs": [
    {
     "name": "stdout",
     "output_type": "stream",
     "text": [
      "('apple', 18, 22.5, 'cherry')\n"
     ]
    }
   ],
   "source": [
    "# Heterogeneous set can also contain elements of different types: integers, floats, strings, and even other tuples or lists.\n",
    "set = (\"apple\", 18, 22.5,\"cherry\")\n",
    "print(set)\n"
   ]
  },
  {
   "cell_type": "code",
   "execution_count": 24,
   "id": "b6d15040",
   "metadata": {},
   "outputs": [
    {
     "name": "stdout",
     "output_type": "stream",
     "text": [
      "(1, 2, 3, 4, 5)\n"
     ]
    }
   ],
   "source": [
    "# Homogeneous tuple\n",
    "\n",
    "tuple = (1, 2, 3, 4, 5)\n",
    "print(tuple)"
   ]
  },
  {
   "cell_type": "markdown",
   "id": "797e0074",
   "metadata": {},
   "source": [
    "Q.8. Explain the mutable and immutable data types with proper explanation & examples.\n",
    "Ans 8)\n",
    "Mutable Data Type:\n",
    "A mutable data type is one where the value or contents of the object can be modified after it is created. This means that we can change individual elements, add or remove elements, or modify the state of the object without creating a new object. In Python, some examples of mutable data types are lists, dictionaries, sets.\n",
    "\n",
    "Immutable Data Type:\n",
    "An immutable data type is one where the value or contents of the object cannot be modified after it is created. This means that once the object is assigned a value, it cannot be changed. In Python, some examples of immutable data types are numbers (integers, floats, etc.), strings, tuples.\n",
    "\n",
    "\n"
   ]
  },
  {
   "cell_type": "raw",
   "id": "f42484eb",
   "metadata": {},
   "source": [
    "#Mutable examples\n",
    "\n",
    "#LIST\n",
    "my_list = [1, 2, 3, 4]  # List\n",
    "print(my_list)  # Output: [1, 2, 3, 4]\n",
    "\n",
    "my_list[2] = 5  # Modifying the value at index 2\n",
    "print(my_list)  # Output: [1, 2, 5, 4]\n",
    "\n",
    "my_list.append(6)  # Adding an element to the end of the list\n",
    "print(my_list)  # Output: [1, 2, 5, 4, 6]"
   ]
  },
  {
   "cell_type": "code",
   "execution_count": 30,
   "id": "21ab5837",
   "metadata": {},
   "outputs": [
    {
     "name": "stdout",
     "output_type": "stream",
     "text": [
      "{1, 2, 3, 4}\n",
      "{1, 2, 3, 4, 5}\n",
      "{1, 3, 4, 5}\n"
     ]
    }
   ],
   "source": [
    "#SET\n",
    "my_set = {1, 2, 3, 4}  # Set\n",
    "print(my_set)  # Output: {1, 2, 3, 4}\n",
    "\n",
    "my_set.add(5)  # Adding an element to the set\n",
    "print(my_set)  # Output: {1, 2, 3, 4, 5}\n",
    "\n",
    "my_set.remove(2)  # Removing an element from the set\n",
    "print(my_set)  # Output: {1, 3, 4, 5}"
   ]
  },
  {
   "cell_type": "code",
   "execution_count": 31,
   "id": "332e9597",
   "metadata": {},
   "outputs": [
    {
     "name": "stdout",
     "output_type": "stream",
     "text": [
      "{'a': 1, 'b': 2, 'c': 3}\n",
      "{'a': 1, 'b': 5, 'c': 3}\n",
      "{'a': 1, 'b': 5, 'c': 3, 'd': 4}\n",
      "{'b': 5, 'c': 3, 'd': 4}\n"
     ]
    }
   ],
   "source": [
    "my_dict = {'a': 1, 'b': 2, 'c': 3}  # Dictionary\n",
    "print(my_dict)  # Output: {'a': 1, 'b': 2, 'c': 3}\n",
    "\n",
    "my_dict['b'] = 5  # Modifying the value associated with the key 'b'\n",
    "print(my_dict)  # Output: {'a': 1, 'b': 5, 'c': 3}\n",
    "\n",
    "my_dict['d'] = 4  # Adding a new key-value pair to the dictionary\n",
    "print(my_dict)  # Output: {'a': 1, 'b': 5, 'c': 3, 'd': 4}\n",
    "\n",
    "del my_dict['a']  # Removing a key-value pair from the dictionary\n",
    "print(my_dict)  # Output: {'b': 5, 'c': 3, 'd': 4}"
   ]
  },
  {
   "cell_type": "code",
   "execution_count": 34,
   "id": "dba10dff",
   "metadata": {},
   "outputs": [
    {
     "name": "stdout",
     "output_type": "stream",
     "text": [
      "(1, 2, 3, 4)\n"
     ]
    },
    {
     "ename": "TypeError",
     "evalue": "'tuple' object does not support item assignment",
     "output_type": "error",
     "traceback": [
      "\u001b[1;31m---------------------------------------------------------------------------\u001b[0m",
      "\u001b[1;31mTypeError\u001b[0m                                 Traceback (most recent call last)",
      "\u001b[1;32m~\\AppData\\Local\\Temp\\ipykernel_14952\\116142726.py\u001b[0m in \u001b[0;36m<module>\u001b[1;34m\u001b[0m\n\u001b[0;32m      5\u001b[0m \u001b[0mprint\u001b[0m\u001b[1;33m(\u001b[0m\u001b[0mmy_tuple\u001b[0m\u001b[1;33m)\u001b[0m  \u001b[1;31m# Output: (1, 2, 3, 4)\u001b[0m\u001b[1;33m\u001b[0m\u001b[1;33m\u001b[0m\u001b[0m\n\u001b[0;32m      6\u001b[0m \u001b[1;33m\u001b[0m\u001b[0m\n\u001b[1;32m----> 7\u001b[1;33m \u001b[0mmy_tuple\u001b[0m\u001b[1;33m[\u001b[0m\u001b[1;36m2\u001b[0m\u001b[1;33m]\u001b[0m \u001b[1;33m=\u001b[0m \u001b[1;36m5\u001b[0m  \u001b[1;31m# Attempting to modify a tuple (results in an error)\u001b[0m\u001b[1;33m\u001b[0m\u001b[1;33m\u001b[0m\u001b[0m\n\u001b[0m",
      "\u001b[1;31mTypeError\u001b[0m: 'tuple' object does not support item assignment"
     ]
    }
   ],
   "source": [
    "#Immutable\n",
    "#TUPLE\n",
    "\n",
    "my_tuple = (1, 2, 3, 4)  # Tuple\n",
    "print(my_tuple)  # Output: (1, 2, 3, 4)\n",
    "\n",
    "my_tuple[2] = 5  # Attempting to modify a tuple (results in an error)"
   ]
  },
  {
   "cell_type": "code",
   "execution_count": 35,
   "id": "e4be1b54",
   "metadata": {},
   "outputs": [
    {
     "name": "stdout",
     "output_type": "stream",
     "text": [
      "Hello\n"
     ]
    },
    {
     "ename": "TypeError",
     "evalue": "'str' object does not support item assignment",
     "output_type": "error",
     "traceback": [
      "\u001b[1;31m---------------------------------------------------------------------------\u001b[0m",
      "\u001b[1;31mTypeError\u001b[0m                                 Traceback (most recent call last)",
      "\u001b[1;32m~\\AppData\\Local\\Temp\\ipykernel_14952\\493022390.py\u001b[0m in \u001b[0;36m<module>\u001b[1;34m\u001b[0m\n\u001b[0;32m      3\u001b[0m \u001b[0mprint\u001b[0m\u001b[1;33m(\u001b[0m\u001b[0mmy_string\u001b[0m\u001b[1;33m)\u001b[0m  \u001b[1;31m# Output: Hello\u001b[0m\u001b[1;33m\u001b[0m\u001b[1;33m\u001b[0m\u001b[0m\n\u001b[0;32m      4\u001b[0m \u001b[1;33m\u001b[0m\u001b[0m\n\u001b[1;32m----> 5\u001b[1;33m \u001b[0mmy_string\u001b[0m\u001b[1;33m[\u001b[0m\u001b[1;36m1\u001b[0m\u001b[1;33m]\u001b[0m \u001b[1;33m=\u001b[0m \u001b[1;34m'a'\u001b[0m  \u001b[1;31m# Attempting to modify a string (results in an error\u001b[0m\u001b[1;33m\u001b[0m\u001b[1;33m\u001b[0m\u001b[0m\n\u001b[0m",
      "\u001b[1;31mTypeError\u001b[0m: 'str' object does not support item assignment"
     ]
    }
   ],
   "source": [
    "#STRING\n",
    "my_string = \"Hello\"  # String\n",
    "print(my_string)  # Output: Hello\n",
    "\n",
    "my_string[1] = 'a'  # Attempting to modify a string (results in an error"
   ]
  },
  {
   "cell_type": "markdown",
   "id": "139ceefa",
   "metadata": {},
   "source": [
    "Q.9. Write a code to create the given structure using only for loop.\n",
    "          * \n",
    "        * * * \n",
    "      * * * * * \n",
    "    * * * * * * * \n",
    "  * * * * * * * * * \n"
   ]
  },
  {
   "cell_type": "code",
   "execution_count": 43,
   "id": "f0c68c00",
   "metadata": {},
   "outputs": [
    {
     "name": "stdout",
     "output_type": "stream",
     "text": [
      "          * \n",
      "        * * * \n",
      "      * * * * * \n",
      "    * * * * * * * \n",
      "  * * * * * * * * * \n"
     ]
    }
   ],
   "source": [
    "#Ans 9)\n",
    "#hill pattern(decreasing spaces , increasings star,increasing star)\n",
    "n=5\n",
    "for var1 in range(n):\n",
    "    for var2 in range(var1,n):\n",
    "        print(\" \", end=\" \")\n",
    "    for var2 in range(var1+1):\n",
    "        print(\"*\", end=\" \")\n",
    "    for var2 in range(var1):\n",
    "        print(\"*\", end=\" \")\n",
    "    print()\n",
    "    \n",
    "    \n",
    "\n",
    "\n"
   ]
  },
  {
   "cell_type": "markdown",
   "id": "f5724a1f",
   "metadata": {},
   "source": [
    "Q.10. Write a code to create the given structure using while loop.\n",
    "| | | | | | | | | \n",
    "    | | | | | | | \n",
    "      | | | | | \n",
    "        | | | \n",
    "          | \n",
    "    \n",
    "    "
   ]
  },
  {
   "cell_type": "code",
   "execution_count": 46,
   "id": "99ed74ac",
   "metadata": {},
   "outputs": [
    {
     "name": "stdout",
     "output_type": "stream",
     "text": [
      "  | | | | | | | | | \n",
      "    | | | | | | | \n",
      "      | | | | | \n",
      "        | | | \n",
      "          | \n"
     ]
    }
   ],
   "source": [
    "#Ans 10:\n",
    "Using for loop\n",
    "#reverse hill(increasing space,decresing star,decresing star)\n",
    "n=5\n",
    "for var1 in range(n):\n",
    "    for var2 in range(var1+1):\n",
    "        print(\" \", end=\" \")\n",
    "    for var2 in range(var1,n-1): \n",
    "        print(\"|\", end=\" \")\n",
    "    for var2 in range(var1,n): \n",
    "        print(\"|\", end=\" \")\n",
    "    print()\n"
   ]
  },
  {
   "cell_type": "code",
   "execution_count": 51,
   "id": "7a893a80",
   "metadata": {},
   "outputs": [
    {
     "name": "stdout",
     "output_type": "stream",
     "text": [
      "| | | | | | | | | \n",
      "  | | | | | | | \n",
      "    | | | | | \n",
      "      | | | \n",
      "        | \n"
     ]
    }
   ],
   "source": [
    "#Ans 10:\n",
    "#Using while loop\n",
    "\n",
    "#To generate a downhill pattern using a while loop, you can modify the previous code as follows:\n",
    "\n",
    "\n",
    "rows = 5\n",
    "spaces = 0\n",
    "stars = 9\n",
    "\n",
    "while rows > 0:\n",
    "    # Print spaces\n",
    "    for _ in range(spaces):\n",
    "        print(\"  \", end=\"\")\n",
    "    \n",
    "    # Print stars\n",
    "    for _ in range(stars):\n",
    "        print(\"| \", end=\"\")\n",
    "    \n",
    "    print()  # Move to the next line\n",
    "    \n",
    "    spaces += 1\n",
    "    stars -= 2\n",
    "    rows -= 1\n"
   ]
  },
  {
   "cell_type": "code",
   "execution_count": null,
   "id": "d1c38dbd",
   "metadata": {},
   "outputs": [],
   "source": []
  }
 ],
 "metadata": {
  "kernelspec": {
   "display_name": "Python 3 (ipykernel)",
   "language": "python",
   "name": "python3"
  },
  "language_info": {
   "codemirror_mode": {
    "name": "ipython",
    "version": 3
   },
   "file_extension": ".py",
   "mimetype": "text/x-python",
   "name": "python",
   "nbconvert_exporter": "python",
   "pygments_lexer": "ipython3",
   "version": "3.9.13"
  }
 },
 "nbformat": 4,
 "nbformat_minor": 5
}
