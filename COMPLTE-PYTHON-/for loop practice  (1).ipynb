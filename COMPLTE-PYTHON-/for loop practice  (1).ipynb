{
 "cells": [
  {
   "cell_type": "code",
   "execution_count": 1,
   "id": "39fae000",
   "metadata": {},
   "outputs": [],
   "source": [
    "l = [1,2,3,4,\"*\" ,\"kumar\" , 45.56]"
   ]
  },
  {
   "cell_type": "code",
   "execution_count": 2,
   "id": "8efb4581",
   "metadata": {},
   "outputs": [
    {
     "name": "stdout",
     "output_type": "stream",
     "text": [
      "1\n",
      "2\n",
      "3\n",
      "4\n",
      "sudh\n",
      "kumar\n",
      "45.56\n"
     ]
    }
   ],
   "source": [
    "for i in l :\n",
    "    print(i)"
   ]
  },
  {
   "cell_type": "code",
   "execution_count": 3,
   "id": "a3c4aaa1",
   "metadata": {},
   "outputs": [],
   "source": [
    "for i in l :\n",
    "    pass"
   ]
  },
  {
   "cell_type": "code",
   "execution_count": 4,
   "id": "e158d612",
   "metadata": {},
   "outputs": [
    {
     "name": "stdout",
     "output_type": "stream",
     "text": [
      "s\n",
      "u\n",
      "d\n",
      "h\n"
     ]
    }
   ],
   "source": [
    "s = \"*\"\n",
    "for i in s :\n",
    "    print(i)"
   ]
  },
  {
   "cell_type": "code",
   "execution_count": 5,
   "id": "0027fea7",
   "metadata": {},
   "outputs": [
    {
     "name": "stdout",
     "output_type": "stream",
     "text": [
      "1\n",
      "2\n",
      "3\n",
      "4\n",
      "sudh\n",
      "kumar\n",
      "45.56\n",
      "if for loop is going to complete itself the it will execute else \n"
     ]
    }
   ],
   "source": [
    "for i in l :\n",
    "    print(i)\n",
    "else :\n",
    "    print(\"if for loop is going to complete itself the it will execute else \")"
   ]
  },
  {
   "cell_type": "code",
   "execution_count": 6,
   "id": "d9a80907",
   "metadata": {},
   "outputs": [
    {
     "data": {
      "text/plain": [
       "[1, 2, 3, 4, 'sudh', 'kumar', 45.56]"
      ]
     },
     "execution_count": 6,
     "metadata": {},
     "output_type": "execute_result"
    }
   ],
   "source": [
    "l"
   ]
  },
  {
   "cell_type": "code",
   "execution_count": 7,
   "id": "62d285ec",
   "metadata": {},
   "outputs": [
    {
     "name": "stdout",
     "output_type": "stream",
     "text": [
      "1\n",
      "2\n",
      "3\n"
     ]
    }
   ],
   "source": [
    "for i in l :\n",
    "    if i == 4 :\n",
    "        break\n",
    "    print(i)\n",
    "else :\n",
    "    print(\"this will execute only if for is going to complete itself\")"
   ]
  },
  {
   "cell_type": "code",
   "execution_count": 8,
   "id": "3c6cb81e",
   "metadata": {},
   "outputs": [
    {
     "name": "stdout",
     "output_type": "stream",
     "text": [
      "s\n",
      "u\n",
      "d\n",
      "h\n",
      "a\n",
      "n\n",
      "s\n",
      "h\n",
      "u\n",
      "print srtring  sudhanshu\n"
     ]
    }
   ],
   "source": [
    "s = \"*anshu\"\n",
    "for i in s :\n",
    "    if i == 'z' :\n",
    "        break\n",
    "    print(i)\n",
    "else :\n",
    "    print(\"print srtring \" , s )\n",
    "        "
   ]
  },
  {
   "cell_type": "code",
   "execution_count": 9,
   "id": "c05c6c17",
   "metadata": {},
   "outputs": [
    {
     "name": "stdout",
     "output_type": "stream",
     "text": [
      "4\n",
      "5\n",
      "6\n",
      "7\n",
      "8\n",
      "6\n",
      "sudh\n"
     ]
    }
   ],
   "source": [
    "t = (4,5,6,7,8,6,\"*\")\n",
    "for i in t :\n",
    "    print(i)"
   ]
  },
  {
   "cell_type": "code",
   "execution_count": 10,
   "id": "aee7e59b",
   "metadata": {},
   "outputs": [],
   "source": [
    "b = {4,5,6,7,7,7,7,7,7,7,7, 8,\"*\"}"
   ]
  },
  {
   "cell_type": "code",
   "execution_count": 11,
   "id": "a124b211",
   "metadata": {},
   "outputs": [
    {
     "data": {
      "text/plain": [
       "set"
      ]
     },
     "execution_count": 11,
     "metadata": {},
     "output_type": "execute_result"
    }
   ],
   "source": [
    "type(b)"
   ]
  },
  {
   "cell_type": "code",
   "execution_count": 12,
   "id": "9e379087",
   "metadata": {},
   "outputs": [
    {
     "data": {
      "text/plain": [
       "{4, 5, 6, 7, 8, 'sudh'}"
      ]
     },
     "execution_count": 12,
     "metadata": {},
     "output_type": "execute_result"
    }
   ],
   "source": [
    "b"
   ]
  },
  {
   "cell_type": "code",
   "execution_count": 13,
   "id": "927717fe",
   "metadata": {},
   "outputs": [
    {
     "name": "stdout",
     "output_type": "stream",
     "text": [
      "4\n",
      "5\n",
      "6\n",
      "7\n",
      "8\n",
      "sudh\n"
     ]
    }
   ],
   "source": [
    "for i in b :\n",
    "    print(i)"
   ]
  },
  {
   "cell_type": "code",
   "execution_count": 67,
   "id": "444d8f49",
   "metadata": {},
   "outputs": [],
   "source": [
    "d = {'key1' :\"*\" , 'contact' : \"*anshu@ineuron.ai\" , \"position\" : \"xyz\"}"
   ]
  },
  {
   "cell_type": "code",
   "execution_count": 71,
   "id": "c49b2c4c",
   "metadata": {},
   "outputs": [
    {
     "name": "stdout",
     "output_type": "stream",
     "text": [
      "key1 : sudh\n",
      "contact : sudhanshu@ineuron.ai\n",
      "position : xyz\n"
     ]
    }
   ],
   "source": [
    "for i in d :\n",
    "    print(i ,\":\" ,  d[i] )"
   ]
  },
  {
   "cell_type": "code",
   "execution_count": 16,
   "id": "94395d44",
   "metadata": {},
   "outputs": [
    {
     "data": {
      "text/plain": [
       "'sudh'"
      ]
     },
     "execution_count": 16,
     "metadata": {},
     "output_type": "execute_result"
    }
   ],
   "source": [
    "d['key1']"
   ]
  },
  {
   "cell_type": "code",
   "execution_count": 17,
   "id": "554220c4",
   "metadata": {},
   "outputs": [
    {
     "data": {
      "text/plain": [
       "range(0, 9)"
      ]
     },
     "execution_count": 17,
     "metadata": {},
     "output_type": "execute_result"
    }
   ],
   "source": [
    "range(9)"
   ]
  },
  {
   "cell_type": "code",
   "execution_count": 66,
   "id": "9203e12d",
   "metadata": {},
   "outputs": [
    {
     "data": {
      "text/plain": [
       "[0, 1, 2, 3, 4, 5, 6, 7, 8]"
      ]
     },
     "execution_count": 66,
     "metadata": {},
     "output_type": "execute_result"
    }
   ],
   "source": [
    "list(range(9))"
   ]
  },
  {
   "cell_type": "code",
   "execution_count": 65,
   "id": "16549fcf",
   "metadata": {},
   "outputs": [
    {
     "name": "stdout",
     "output_type": "stream",
     "text": [
      "0\n",
      "1\n",
      "2\n",
      "3\n",
      "4\n",
      "5\n",
      "6\n",
      "7\n",
      "8\n"
     ]
    }
   ],
   "source": [
    "for i in range(9):\n",
    "    print(i)"
   ]
  },
  {
   "cell_type": "code",
   "execution_count": 72,
   "id": "4753ccf8",
   "metadata": {},
   "outputs": [
    {
     "data": {
      "text/plain": [
       "[0, 1, 2, 3, 4, 5, 6, 7, 8]"
      ]
     },
     "execution_count": 72,
     "metadata": {},
     "output_type": "execute_result"
    }
   ],
   "source": [
    "list(range(0,9))"
   ]
  },
  {
   "cell_type": "code",
   "execution_count": 74,
   "id": "1f883fd8",
   "metadata": {},
   "outputs": [
    {
     "data": {
      "text/plain": [
       "[0, 2, 4, 6, 8]"
      ]
     },
     "execution_count": 74,
     "metadata": {},
     "output_type": "execute_result"
    }
   ],
   "source": [
    "list(range(0,9 , 2))"
   ]
  },
  {
   "cell_type": "code",
   "execution_count": 22,
   "id": "692f4890",
   "metadata": {},
   "outputs": [
    {
     "data": {
      "text/plain": [
       "[]"
      ]
     },
     "execution_count": 22,
     "metadata": {},
     "output_type": "execute_result"
    }
   ],
   "source": [
    "list(range(0,9 , -1))"
   ]
  },
  {
   "cell_type": "code",
   "execution_count": 23,
   "id": "097f8d2e",
   "metadata": {},
   "outputs": [
    {
     "data": {
      "text/plain": [
       "[9, 8, 7, 6, 5, 4, 3, 2, 1]"
      ]
     },
     "execution_count": 23,
     "metadata": {},
     "output_type": "execute_result"
    }
   ],
   "source": [
    "list(range(9,0 , -1))"
   ]
  },
  {
   "cell_type": "code",
   "execution_count": 23,
   "id": "eb744426",
   "metadata": {},
   "outputs": [
    {
     "name": "stdout",
     "output_type": "stream",
     "text": [
      "*   \n",
      "*  *   \n",
      "*  *  *   \n",
      "*  *  *  *   \n"
     ]
    }
   ],
   "source": [
    "n = 4 \n",
    "for i in range(n) :\n",
    "    for j in range(0 ,i+1) : \n",
    "        print(\"*\" , end = \"  \")\n",
    "    print(\" \")"
   ]
  },
  {
   "cell_type": "code",
   "execution_count": 8,
   "id": "6d5e1b53",
   "metadata": {},
   "outputs": [
    {
     "name": "stdout",
     "output_type": "stream",
     "text": [
      "    * \n",
      "  * * * \n",
      "* * * * * \n"
     ]
    }
   ],
   "source": [
    "n=3\n",
    "for i in range(n):\n",
    "    for j in range(i,n-1):\n",
    "        print(\" \" * len(\"*\"),end=\" \")\n",
    "    for j in range(i+1):\n",
    "        print(\"*\",end=\" \")\n",
    "    for j in range(i): \n",
    "        print(\"*\",end=\" \")\n",
    "    print()\n"
   ]
  },
  {
   "cell_type": "code",
   "execution_count": 7,
   "id": "539c7a4b",
   "metadata": {},
   "outputs": [
    {
     "name": "stdout",
     "output_type": "stream",
     "text": [
      "      * \n",
      "    * * \n",
      "  * * * \n",
      "* * * * \n"
     ]
    }
   ],
   "source": [
    "n=4\n",
    "k=n\n",
    "for i in range(n):\n",
    "    k=k-1\n",
    "    print('  '*k, end='')\n",
    "    for j in range(i+1):\n",
    "        print('* ', end= '')\n",
    "    print()\n"
   ]
  },
  {
   "cell_type": "code",
   "execution_count": 34,
   "id": "dc823bf5",
   "metadata": {},
   "outputs": [
    {
     "name": "stdout",
     "output_type": "stream",
     "text": [
      "  * \n",
      " * * \n",
      "* * * \n"
     ]
    }
   ],
   "source": [
    "n=3\n",
    "for i in range(n):\n",
    "    for j in range(i,n-1):\n",
    "        print(\"\",end=' ')\n",
    "    for j in range(i+1):\n",
    "        print(\"*\",end=' ')\n",
    "    print()\n"
   ]
  },
  {
   "cell_type": "code",
   "execution_count": 32,
   "id": "5cce0196",
   "metadata": {},
   "outputs": [
    {
     "name": "stdout",
     "output_type": "stream",
     "text": [
      "   \n",
      "  * \n",
      " * * \n",
      "* * * \n"
     ]
    }
   ],
   "source": [
    "n = 3\n",
    "\n",
    "for i in range(n+1):\n",
    "    print(' '*(n-i) + '* '*i)\n"
   ]
  },
  {
   "cell_type": "code",
   "execution_count": 29,
   "id": "1965a936",
   "metadata": {},
   "outputs": [
    {
     "data": {
      "text/plain": [
       "[]"
      ]
     },
     "execution_count": 29,
     "metadata": {},
     "output_type": "execute_result"
    }
   ],
   "source": [
    "list(range(0))"
   ]
  },
  {
   "cell_type": "code",
   "execution_count": 30,
   "id": "ae20e482",
   "metadata": {},
   "outputs": [],
   "source": [
    "t = (3,23,45,67,2,4,5,6)"
   ]
  },
  {
   "cell_type": "code",
   "execution_count": 31,
   "id": "fa3a7dd7",
   "metadata": {},
   "outputs": [
    {
     "data": {
      "text/plain": [
       "3"
      ]
     },
     "execution_count": 31,
     "metadata": {},
     "output_type": "execute_result"
    }
   ],
   "source": [
    "t[0]"
   ]
  },
  {
   "cell_type": "code",
   "execution_count": 32,
   "id": "787cc580",
   "metadata": {},
   "outputs": [
    {
     "name": "stdout",
     "output_type": "stream",
     "text": [
      "0 3\n",
      "1 23\n",
      "2 45\n",
      "3 67\n",
      "4 2\n",
      "5 4\n",
      "6 5\n",
      "7 6\n"
     ]
    }
   ],
   "source": [
    "for i in range(len(t)):\n",
    "    print(i,t[i])"
   ]
  },
  {
   "cell_type": "code",
   "execution_count": 33,
   "id": "d945f1c1",
   "metadata": {},
   "outputs": [
    {
     "data": {
      "text/plain": [
       "[0, 1, 2, 3, 4, 5, 6, 7]"
      ]
     },
     "execution_count": 33,
     "metadata": {},
     "output_type": "execute_result"
    }
   ],
   "source": [
    "list(range(len(t)))"
   ]
  },
  {
   "cell_type": "code",
   "execution_count": 34,
   "id": "45ec0df8",
   "metadata": {},
   "outputs": [
    {
     "name": "stdout",
     "output_type": "stream",
     "text": [
      "0 3\n",
      "1 23\n",
      "2 45\n",
      "3 67\n",
      "4 2\n",
      "5 4\n",
      "6 5\n",
      "7 6\n"
     ]
    }
   ],
   "source": [
    "t = (3,23,45,67,2,4,5,6)\n",
    "\n",
    "for i in range(len(t)):\n",
    "    print(i,t[i])\n"
   ]
  },
  {
   "cell_type": "code",
   "execution_count": 35,
   "id": "f03784cb",
   "metadata": {},
   "outputs": [
    {
     "name": "stdout",
     "output_type": "stream",
     "text": [
      "0 i\n",
      "1 n\n",
      "2 e\n",
      "3 u\n",
      "4 r\n",
      "5 o\n",
      "6 n\n"
     ]
    }
   ],
   "source": [
    "s = \"ineuron\"\n",
    "for i in range(len(s)) :\n",
    "    print(i , s[i])"
   ]
  },
  {
   "cell_type": "code",
   "execution_count": 36,
   "id": "a3373360",
   "metadata": {},
   "outputs": [
    {
     "data": {
      "text/plain": [
       "'ineuron'"
      ]
     },
     "execution_count": 36,
     "metadata": {},
     "output_type": "execute_result"
    }
   ],
   "source": [
    "s "
   ]
  },
  {
   "cell_type": "code",
   "execution_count": 37,
   "id": "c9c66ea9",
   "metadata": {},
   "outputs": [
    {
     "name": "stdout",
     "output_type": "stream",
     "text": [
      "6 n\n",
      "5 o\n",
      "4 r\n",
      "3 u\n",
      "2 e\n",
      "1 n\n",
      "0 i\n"
     ]
    }
   ],
   "source": [
    "for i in range(len(s)-1 , -1, -1):\n",
    "    print(i , s[i])"
   ]
  },
  {
   "cell_type": "code",
   "execution_count": 38,
   "id": "07908b6b",
   "metadata": {},
   "outputs": [
    {
     "data": {
      "text/plain": [
       "{'key1': 'sudh', 'contact': 'sudhanshu@ineuron.ai', 'position': 'xyz'}"
      ]
     },
     "execution_count": 38,
     "metadata": {},
     "output_type": "execute_result"
    }
   ],
   "source": [
    "d"
   ]
  },
  {
   "cell_type": "code",
   "execution_count": 39,
   "id": "1a11f6a0",
   "metadata": {},
   "outputs": [
    {
     "name": "stdout",
     "output_type": "stream",
     "text": [
      "('key1', 'sudh') <class 'tuple'> <class 'str'>\n",
      "('contact', 'sudhanshu@ineuron.ai') <class 'tuple'> <class 'str'>\n",
      "('position', 'xyz') <class 'tuple'> <class 'str'>\n"
     ]
    }
   ],
   "source": [
    "for i in d.items():\n",
    "    print(i , type(i) , type(i[1]))"
   ]
  },
  {
   "cell_type": "code",
   "execution_count": 35,
   "id": "27105750",
   "metadata": {},
   "outputs": [],
   "source": [
    "l = [\"*\" , \"kuamr\" , 3234545 , \"*anshu@ineuron.ai\" , 345, 34345353]\n",
    "l1 = []\n",
    "for i in l :\n",
    "    if type(i) == int :\n",
    "        l1.append(i)\n",
    "\n"
   ]
  },
  {
   "cell_type": "code",
   "execution_count": 41,
   "id": "b4ac33cc",
   "metadata": {},
   "outputs": [
    {
     "data": {
      "text/plain": [
       "[3234545, 345, 34345353]"
      ]
     },
     "execution_count": 41,
     "metadata": {},
     "output_type": "execute_result"
    }
   ],
   "source": [
    "l1"
   ]
  },
  {
   "cell_type": "code",
   "execution_count": 40,
   "id": "bf54b65b",
   "metadata": {},
   "outputs": [],
   "source": [
    " d = {1: 3345345  , \"name\" : \"*\" , \"email_id\" : \"*anshu@ineuron.ai\" , 234 : \"fsfddsf\" , \"43\" : \"sfsaf\" , 234 : \"3454\"}"
   ]
  },
  {
   "cell_type": "code",
   "execution_count": 41,
   "id": "c502d0ca",
   "metadata": {},
   "outputs": [
    {
     "name": "stdout",
     "output_type": "stream",
     "text": [
      "1 : 3345345\n",
      "234 : 3454\n"
     ]
    }
   ],
   "source": [
    "for i in d :\n",
    "    if type(i) == int :\n",
    "        print(i , \":\"  , d[i])"
   ]
  },
  {
   "cell_type": "code",
   "execution_count": 42,
   "id": "bc5be456",
   "metadata": {},
   "outputs": [],
   "source": [
    "s = \"aaaabbccd\""
   ]
  },
  {
   "cell_type": "code",
   "execution_count": 45,
   "id": "b62dc9a2",
   "metadata": {},
   "outputs": [
    {
     "name": "stdout",
     "output_type": "stream",
     "text": [
      "c : 2\n",
      "d : 1\n",
      "b : 2\n",
      "a : 4\n"
     ]
    }
   ],
   "source": [
    "for i in set(s):\n",
    "    print(i  , \":\" , s.count(i))    "
   ]
  },
  {
   "cell_type": "code",
   "execution_count": 43,
   "id": "c2546bb9",
   "metadata": {},
   "outputs": [
    {
     "data": {
      "text/plain": [
       "4"
      ]
     },
     "execution_count": 43,
     "metadata": {},
     "output_type": "execute_result"
    }
   ],
   "source": [
    "s.count('a')"
   ]
  },
  {
   "cell_type": "code",
   "execution_count": 44,
   "id": "35375dc5",
   "metadata": {},
   "outputs": [
    {
     "name": "stdout",
     "output_type": "stream",
     "text": [
      "3 <class 'int'>\n",
      "4 <class 'int'>\n",
      "5 <class 'int'>\n",
      "3 <class 'int'>\n",
      "4 <class 'int'>\n",
      "6 <class 'int'>\n",
      "5 <class 'int'>\n",
      "4 <class 'int'>\n",
      "6 <class 'int'>\n",
      "4 <class 'int'>\n",
      "6 <class 'int'>\n",
      "4 <class 'int'>\n",
      "3 <class 'int'>\n",
      "5 <class 'int'>\n"
     ]
    }
   ],
   "source": [
    "i = 34534654646435\n",
    "for j in str(i) :\n",
    "    print(int(j ), type(int(j)))"
   ]
  },
  {
   "cell_type": "code",
   "execution_count": 45,
   "id": "1a78889b",
   "metadata": {},
   "outputs": [
    {
     "data": {
      "text/plain": [
       "'34534654646435'"
      ]
     },
     "execution_count": 45,
     "metadata": {},
     "output_type": "execute_result"
    }
   ],
   "source": [
    "str(i)"
   ]
  },
  {
   "cell_type": "code",
   "execution_count": 46,
   "id": "b7c07cb6",
   "metadata": {},
   "outputs": [],
   "source": [
    "t = (\"*\" , \"kumar\" ,[1,2,3,4,5] , (3,4,5,6) , {3:3 , \"key2\" :\"kumar\"})"
   ]
  },
  {
   "cell_type": "code",
   "execution_count": 47,
   "id": "ee62969e",
   "metadata": {},
   "outputs": [],
   "source": [
    "t=(\"*\",\"kumar\",[1,3,5,7,4],(3,5,88,4),{3:3,3:\"kjshdf\",\"key1\":\"*\",\"key2\":\"kumar\"})"
   ]
  },
  {
   "cell_type": "code",
   "execution_count": 48,
   "id": "3d9496f8",
   "metadata": {},
   "outputs": [
    {
     "name": "stdout",
     "output_type": "stream",
     "text": [
      "3\n",
      "3\n",
      "3\n",
      "kjshdf\n"
     ]
    }
   ],
   "source": [
    "for i in t :\n",
    "    if type(i) == list or type(i) == tuple :\n",
    "        for j in i :\n",
    "            if j == 3 :\n",
    "                print(j)\n",
    "    if type(i) == dict :\n",
    "        for k,v  in i.items():\n",
    "            if k == 3 or v == 3 :\n",
    "                print(k)\n",
    "                print(v)\n",
    "        "
   ]
  },
  {
   "cell_type": "code",
   "execution_count": 49,
   "id": "76b278bf",
   "metadata": {},
   "outputs": [],
   "source": [
    "d = {4:5 , \"key1\" : \"*\" , \"key2\" : \"kumar\"}"
   ]
  },
  {
   "cell_type": "code",
   "execution_count": 51,
   "id": "0955b52c",
   "metadata": {},
   "outputs": [
    {
     "data": {
      "text/plain": [
       "dict_items([(4, 5), ('key1', '*'), ('key2', 'kumar')])"
      ]
     },
     "execution_count": 51,
     "metadata": {},
     "output_type": "execute_result"
    }
   ],
   "source": [
    "d.items()"
   ]
  },
  {
   "cell_type": "code",
   "execution_count": 52,
   "id": "b54881ee",
   "metadata": {},
   "outputs": [
    {
     "name": "stdout",
     "output_type": "stream",
     "text": [
      "(4, 5)\n",
      "('key1', '*')\n",
      "('key2', 'kumar')\n"
     ]
    }
   ],
   "source": [
    "for i in d.items():\n",
    "    print(i)"
   ]
  },
  {
   "cell_type": "code",
   "execution_count": 53,
   "id": "4f78888b",
   "metadata": {},
   "outputs": [
    {
     "data": {
      "text/plain": [
       "dict_items([(4, 5), ('key1', '*'), ('key2', 'kumar')])"
      ]
     },
     "execution_count": 53,
     "metadata": {},
     "output_type": "execute_result"
    }
   ],
   "source": [
    "d.items()"
   ]
  },
  {
   "cell_type": "code",
   "execution_count": 56,
   "id": "99091377",
   "metadata": {},
   "outputs": [],
   "source": [
    "a = 10 \n",
    "b = 20\n",
    "c = 30 "
   ]
  },
  {
   "cell_type": "code",
   "execution_count": 57,
   "id": "b1a6b6ca",
   "metadata": {},
   "outputs": [],
   "source": [
    "a , b , c = 10 , 20 , 30 "
   ]
  },
  {
   "cell_type": "code",
   "execution_count": 58,
   "id": "41ab2383",
   "metadata": {},
   "outputs": [],
   "source": [
    "a,b,c = (10,20,30)"
   ]
  },
  {
   "cell_type": "code",
   "execution_count": 60,
   "id": "db438917",
   "metadata": {},
   "outputs": [
    {
     "ename": "IndentationError",
     "evalue": "unindent does not match any outer indentation level (<tokenize>, line 10)",
     "output_type": "error",
     "traceback": [
      "\u001b[1;36m  File \u001b[1;32m<tokenize>:10\u001b[1;36m\u001b[0m\n\u001b[1;33m    ineruon      ineruon\u001b[0m\n\u001b[1;37m    ^\u001b[0m\n\u001b[1;31mIndentationError\u001b[0m\u001b[1;31m:\u001b[0m unindent does not match any outer indentation level\n"
     ]
    }
   ],
   "source": [
    "q1 :\n",
    "ineruon \n",
    "ineruon ineruon \n",
    "ineruon ineruon ineruon\n",
    "ineruon ineruon ineruon ineruon\n",
    "\n",
    "q2 - \n",
    "\n",
    "          ineruon\n",
    "    ineruon      ineruon\n",
    "ineruon\t\tineruon \tineruon\n",
    "\tineruon\t\t ineruon\n",
    "\t\t  ineruon\n",
    "\n",
    "l = [[1,2,3,4] , (2,3,4,5,6) , (3,4,5,6,7) , set([23,4,5,45,4,4,5,45,45,4,5]) , {'k1' :\"*\" , \"k2\" : \"ineuron\",\"k3\":\n",
    "            \"kumar\" , 3:6 , 7:8} , [\"ineuron\" , \"data science \"]]\n",
    "\n",
    "q3 : Try to extract all the list entity \n",
    "q4 : Try to extract all the dict enteties\n",
    "q5 : Try to extract all the tuples entities\n",
    "q6 : Try to extract all the numerical data it may b a part of dict key and values \n",
    "q7 : Try to give summation of all the numeric data \n",
    "q8 : Try to filter out all the odd values out all numeric data which is a part of a list \n",
    "q9 : Try to extract \"ineruon\" out of this data\n",
    "q10 :Try to find out a number of occurances of all the data \n",
    "q11 : Try to find out number of keys in dict element\n",
    "q12 : Try to filter out all the string data \n",
    "q13 : Try to Find  out alphanum in data\n",
    "q14 : Try to find out multiplication of all numeric value in  the individual collection inside dataset \n",
    "q15 : Try to unwrape all the collection inside collection and create a flat list \n",
    "    \n",
    "    \n",
    "before 29th may 2022 3 PM IST you have to send an answer to me or to shivan \n",
    "*anshu@ineuron.ai\n",
    "shivan@ineuron.ai"
   ]
  },
  {
   "cell_type": "code",
   "execution_count": null,
   "id": "577d9dfb",
   "metadata": {},
   "outputs": [],
   "source": [
    "d= {'key1' :\"*\" , (3,4,5,65) : \"fdsfdsd\" , [3,4,5,6] :\"345\"}"
   ]
  },
  {
   "cell_type": "code",
   "execution_count": null,
   "id": "e94d0e64",
   "metadata": {},
   "outputs": [],
   "source": [
    "for i in t:\n",
    "    if type(i) == list or type(i) == tuple:\n",
    "        for j in i:\n",
    "            if j == 3:\n",
    "                print(j)\n",
    "    if type(i) == dict:\n",
    "        for k,v in i.items():\n",
    "            if k == 3 or v == 3:\n",
    "                print(k)\n",
    "                print(v)"
   ]
  },
  {
   "cell_type": "code",
   "execution_count": null,
   "id": "4269cdc2",
   "metadata": {},
   "outputs": [],
   "source": [
    "d1 = {}\n",
    "d1['a'] == None"
   ]
  },
  {
   "cell_type": "code",
   "execution_count": null,
   "id": "b023587b",
   "metadata": {},
   "outputs": [],
   "source": [
    "s=\"aaaabbccd\"\n",
    "d1={}\n",
    "\n",
    "for i in s:\n",
    "    if d1[i]==None :\n",
    "        key=i\n",
    "        d1={key:0}\n",
    "    else:\n",
    "        d1[i]=d1[i]+1\n",
    "print(d1)\n"
   ]
  },
  {
   "cell_type": "code",
   "execution_count": null,
   "id": "27afcae7",
   "metadata": {},
   "outputs": [],
   "source": [
    "s=\"aaaabbccd\"\n",
    "d = {}\n",
    "for i in set(s) : \n",
    "    d[i] =  s.count(i)\n",
    "    "
   ]
  },
  {
   "cell_type": "code",
   "execution_count": null,
   "id": "761bf90f",
   "metadata": {},
   "outputs": [],
   "source": [
    "d"
   ]
  },
  {
   "cell_type": "code",
   "execution_count": null,
   "id": "ca866355",
   "metadata": {},
   "outputs": [],
   "source": [
    "l = list(range(6,-1,-1))\n",
    "s = 'ineuron'\n",
    "t = (l,s)\n",
    "\n",
    "t"
   ]
  },
  {
   "cell_type": "code",
   "execution_count": null,
   "id": "18b0e400",
   "metadata": {},
   "outputs": [],
   "source": [
    "print(t)\n",
    "for i,j in t:\n",
    "    print(i,j)"
   ]
  },
  {
   "cell_type": "code",
   "execution_count": null,
   "id": "18fc6daf",
   "metadata": {},
   "outputs": [],
   "source": [
    "d"
   ]
  },
  {
   "cell_type": "code",
   "execution_count": null,
   "id": "c3937a50",
   "metadata": {},
   "outputs": [],
   "source": [
    "d.items()"
   ]
  },
  {
   "cell_type": "code",
   "execution_count": null,
   "id": "7cf489b5",
   "metadata": {},
   "outputs": [],
   "source": [
    "1.\ti = j = [3]\n",
    "              i += j\n",
    "              print(i,j)\n",
    "\n",
    "\n",
    "2.\tset = {\"python\", \"coding\", \"tips\", \"for\", \"beginners\"}\n",
    "               print(set)\n",
    "              ''.join(set)\n",
    "3.\ttuple = (\"python\", \"coding\", \"tips\", \"for\", \"beginners\")\n",
    "               print(tuple)\n",
    "              ''.join(tuple)\n",
    "4.\tprint(dict((\"py\", \"th\", \"on\")))\n",
    "5.\tx, y = (0,1) if True else None, None\n",
    "print(x)\n",
    "6.\ti = j = [3]\n",
    "i += j\n",
    "print(i,j)\n"
   ]
  },
  {
   "cell_type": "code",
   "execution_count": null,
   "id": "46d04ef0",
   "metadata": {},
   "outputs": [],
   "source": [
    "i = j = [3]\n",
    "i = [3] + [3]\n",
    "print(i,j)"
   ]
  },
  {
   "cell_type": "code",
   "execution_count": null,
   "id": "91e56cff",
   "metadata": {},
   "outputs": [],
   "source": [
    "set = {\"python\", \"coding\", \"tips\", \"for\", \"beginners\"}\n",
    "print(set)\n",
    "' '.join(set)"
   ]
  },
  {
   "cell_type": "code",
   "execution_count": null,
   "id": "691847f4",
   "metadata": {},
   "outputs": [],
   "source": [
    "tuple = (\"python\", \"coding\", \"tips\", \"for\", \"beginners\")\n",
    "print(tuple)\n",
    "' '.join(tuple)"
   ]
  },
  {
   "cell_type": "code",
   "execution_count": null,
   "id": "bd8d1a9c",
   "metadata": {},
   "outputs": [],
   "source": [
    "print(dict((\"py\", \"th\", \"on\")))"
   ]
  },
  {
   "cell_type": "code",
   "execution_count": null,
   "id": "029b152d",
   "metadata": {},
   "outputs": [],
   "source": [
    "x, y = (0,1) if True else None , None\n",
    "print(x)"
   ]
  },
  {
   "cell_type": "code",
   "execution_count": null,
   "id": "1d89ad27",
   "metadata": {},
   "outputs": [],
   "source": [
    "i = j = [3]\n",
    "i += j\n",
    "print(i,j)"
   ]
  },
  {
   "cell_type": "code",
   "execution_count": null,
   "id": "1416dae1",
   "metadata": {},
   "outputs": [],
   "source": [
    "n=5\n",
    "for i in range(n-1):\n",
    "    for j in range(i,n):\n",
    "        print(\" \",end=\" \")\n",
    "    for j in range(i):\n",
    "        print(\"*\",end=\" \")\n",
    "    for j in range(i+1):\n",
    "        print(\"*\",end=\" \")\n",
    "    print()\n",
    "for i in range(n):    \n",
    "    for j in range(i+1):\n",
    "        print(\" \",end=\" \")\n",
    "    for j in range(i,n-1):\n",
    "        print(\"*\",end=\" \")\n",
    "    for j in range(i,n):\n",
    "        print(\"*\",end=\" \")\n",
    "    print()\n"
   ]
  },
  {
   "cell_type": "code",
   "execution_count": null,
   "id": "66aee2a0",
   "metadata": {},
   "outputs": [],
   "source": [
    "s = {1,1,1,11,1,1,4,4,4,4}"
   ]
  },
  {
   "cell_type": "code",
   "execution_count": null,
   "id": "b7a06dfe",
   "metadata": {},
   "outputs": [],
   "source": [
    "f = frozenset((1,2,2,3,34,4,4,4,4))"
   ]
  },
  {
   "cell_type": "code",
   "execution_count": null,
   "id": "d81c4500",
   "metadata": {},
   "outputs": [],
   "source": [
    "s.add(3)"
   ]
  },
  {
   "cell_type": "code",
   "execution_count": null,
   "id": "061f7670",
   "metadata": {},
   "outputs": [],
   "source": [
    "for i in range(4) :\n",
    "    for j in range (0 , i+1) :\n",
    "        print(\"*\" , end = \"*\")\n",
    "    print()"
   ]
  },
  {
   "cell_type": "code",
   "execution_count": null,
   "id": "3f391244",
   "metadata": {},
   "outputs": [],
   "source": [
    "l= [(3,4,5,6) , [2,4,5,5,6] , {'k1' : 'v1' , 'k2' :'v2'}]\n",
    "l1 = []"
   ]
  },
  {
   "cell_type": "code",
   "execution_count": null,
   "id": "f2e26c2d",
   "metadata": {},
   "outputs": [],
   "source": [
    "for i in l :\n",
    "    if type(i) == list or type( i )== tuple :\n",
    "        for j in i :\n",
    "            l1.append(j)\n",
    "    if type(i) == dict :\n",
    "        for k in i.items():\n",
    "            for m in k :\n",
    "                l1.append(m)    "
   ]
  },
  {
   "cell_type": "code",
   "execution_count": null,
   "id": "47b4e893",
   "metadata": {},
   "outputs": [],
   "source": [
    "l1"
   ]
  },
  {
   "cell_type": "code",
   "execution_count": null,
   "id": "234bf593",
   "metadata": {},
   "outputs": [],
   "source": [
    "5%2"
   ]
  },
  {
   "cell_type": "code",
   "execution_count": null,
   "id": "f7c7e969",
   "metadata": {},
   "outputs": [],
   "source": [
    "t = (\"*\" , \"kumar\" , [1,2,3,4,5] , (3,4,5,6) , {3:3 , \"key2\":\"kumar\"})\n",
    "for i in t :\n",
    "    if type(i) == list or type(i) == tuple :\n",
    "        for j in i :\n",
    "            if j == 3 :\n",
    "                print(j)\n",
    "    if type(i) == dict : \n",
    "        for k,v  in i.items():\n",
    "            if k == 3 or v == 3 :\n",
    "                    print(k)\n",
    "                    print(v)\n"
   ]
  },
  {
   "cell_type": "code",
   "execution_count": null,
   "id": "776d959d",
   "metadata": {},
   "outputs": [],
   "source": [
    "a = \"*\"\n",
    "\n",
    "if \"3\" in a:\n",
    "    print(\"yes\")\n",
    "else:\n",
    "    print(\"No\")\n"
   ]
  },
  {
   "cell_type": "code",
   "execution_count": null,
   "id": "81e7d146",
   "metadata": {},
   "outputs": [],
   "source": [
    "a = \"*\"\n",
    "\n",
    "if 3 in a:\n",
    "    print(\"yes\")\n",
    "else:\n",
    "    print(\"No\")\n",
    "\n",
    "\n",
    "\n",
    "b = [\"*\",\"kumar\",\"vyas\"]\n",
    "\n",
    "if 3 in b:\n",
    "    print(\"yes\")\n",
    "else:\n",
    "    print(\"No\")\n"
   ]
  },
  {
   "cell_type": "code",
   "execution_count": null,
   "id": "8fec796f",
   "metadata": {},
   "outputs": [],
   "source": [
    "n = 4\n",
    "for i in range(4) :\n",
    "    for j in range(0,i+1) :\n",
    "        print(\"*\" , end =\" \")\n",
    "    print(\"\\n\")\n"
   ]
  },
  {
   "cell_type": "code",
   "execution_count": null,
   "id": "3d5e2090",
   "metadata": {},
   "outputs": [],
   "source": [
    "n=3\n",
    "for i in range (n):\n",
    "    for j in range(i,n-1):\n",
    "        print(\"\" *len(\"*\"),end= \" \")\n",
    "    for j in range (i+1):\n",
    "        print(\"*\",end=\" \" )\n",
    "    for j in range(i):\n",
    "        print(\"*\",end= \" \")\n",
    "    print()\n"
   ]
  },
  {
   "cell_type": "code",
   "execution_count": null,
   "id": "2eef345e",
   "metadata": {},
   "outputs": [],
   "source": [
    "for i in t :\n",
    "    if type(i) == list or type (i) == tuple :\n",
    "        for j in i :\n",
    "            if j ==3 :\n",
    "                print(j)\n",
    "    if type(i) ==dict :\n",
    "            for k,v in i . items():\n",
    "                if k == 3 or v == 3:\n",
    "                    print(k)   \n",
    "                    print(v)\n"
   ]
  },
  {
   "cell_type": "code",
   "execution_count": null,
   "id": "414d91fa",
   "metadata": {},
   "outputs": [],
   "source": [
    "b = input()"
   ]
  },
  {
   "cell_type": "code",
   "execution_count": null,
   "id": "c2d2c091",
   "metadata": {},
   "outputs": [],
   "source": []
  }
 ],
 "metadata": {
  "kernelspec": {
   "display_name": "Python 3 (ipykernel)",
   "language": "python",
   "name": "python3"
  },
  "language_info": {
   "codemirror_mode": {
    "name": "ipython",
    "version": 3
   },
   "file_extension": ".py",
   "mimetype": "text/x-python",
   "name": "python",
   "nbconvert_exporter": "python",
   "pygments_lexer": "ipython3",
   "version": "3.11.5"
  }
 },
 "nbformat": 4,
 "nbformat_minor": 5
}
