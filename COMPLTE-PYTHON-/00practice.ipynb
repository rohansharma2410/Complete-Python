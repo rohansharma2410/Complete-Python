{
 "cells": [
  {
   "cell_type": "markdown",
   "metadata": {},
   "source": [
    "Palindrome"
   ]
  },
  {
   "cell_type": "code",
   "execution_count": 25,
   "metadata": {},
   "outputs": [],
   "source": [
    "def is_palindrome(word):\n",
    "    reversed = word[::-1]\n",
    "    return word == reversed\n",
    "word = input(\"Enter a String\")\n",
    "if is_palindrome(word):\n",
    "    print(f\"{word} is a palindrome\")\n",
    "else:\n",
    "    print(f\"{word} is not a palindrome\")"
   ]
  },
  {
   "cell_type": "markdown",
   "metadata": {},
   "source": [
    "<h3> Factorial </h3>\n",
    "Factorial of 5 meaning 1x2x3x4x5  = 120 "
   ]
  },
  {
   "cell_type": "code",
   "execution_count": null,
   "metadata": {},
   "outputs": [],
   "source": [
    "def Factorial_of(num):\n",
    "    if num == 0 :\n",
    "        return 1\n",
    "    else :\n",
    "        return num * Factorial_of(num-1)\n",
    "num = int(input(\"enter the number\"))\n",
    "result = Factorial_of(num)\n",
    "print(f\" The factorial of {num} is {result}\")\n",
    "    "
   ]
  },
  {
   "cell_type": "markdown",
   "metadata": {},
   "source": [
    "<h3>Largest Element in the list </h3>"
   ]
  },
  {
   "cell_type": "code",
   "execution_count": null,
   "metadata": {},
   "outputs": [],
   "source": [
    "def largest_num(number):\n",
    "    largest = number[0]\n",
    "    for num in number:\n",
    "        if num > largest:\n",
    "            largest = num \n",
    "    return largest\n",
    "\n",
    "number = [10,12,13,12,15]\n",
    "large= largest_num(number)\n",
    "print (f\"the laregst number is {large}\")"
   ]
  },
  {
   "cell_type": "markdown",
   "metadata": {},
   "source": [
    "<h3>Reverse a string</h3>\n"
   ]
  },
  {
   "cell_type": "code",
   "execution_count": null,
   "metadata": {},
   "outputs": [],
   "source": [
    "def reversee(letter):\n",
    "    return letter[::-1]\n",
    "\n",
    "letter = input(\"enter the  number \")\n",
    "word = reversee(letter)\n",
    "print(f\"the reverse of {letter} is {word}\")"
   ]
  },
  {
   "cell_type": "markdown",
   "metadata": {},
   "source": [
    "<h3>Count Frequency of each element in list</h3>"
   ]
  },
  {
   "cell_type": "code",
   "execution_count": 9,
   "metadata": {},
   "outputs": [
    {
     "name": "stdout",
     "output_type": "stream",
     "text": [
      "{1: 3, 2: 2, 3: 2, 4: 1}\n"
     ]
    }
   ],
   "source": [
    "def Frequency_count(my_list):\n",
    "    frequency = {}\n",
    "    for i in my_list:\n",
    "        if i in frequency:\n",
    "            frequency[i] += 1\n",
    "        else:\n",
    "            frequency[i] = 1\n",
    "    return frequency\n",
    "\n",
    "my_list = [1,2,3,4,3,2,1,1]\n",
    "count = Frequency_count(my_list)\n",
    "print (count)"
   ]
  },
  {
   "cell_type": "markdown",
   "metadata": {},
   "source": [
    "<h3>Prime Number </h3>"
   ]
  },
  {
   "cell_type": "code",
   "execution_count": 26,
   "metadata": {},
   "outputs": [
    {
     "name": "stdout",
     "output_type": "stream",
     "text": [
      "4 is not a prime number\n"
     ]
    }
   ],
   "source": [
    "def is_prime(number):\n",
    "    if number < 2:\n",
    "        return False\n",
    "    for i in range(2, number):\n",
    "        if number % i == 0:\n",
    "            return False\n",
    "    return True\n",
    "\n",
    "# Test the function\n",
    "num = int(input(\"enter the number\"))\n",
    "if is_prime(num):\n",
    "    print(f\"{num} is a prime number\")\n",
    "else:\n",
    "    print(f\"{num} is not a prime number\")"
   ]
  },
  {
   "cell_type": "code",
   "execution_count": null,
   "metadata": {},
   "outputs": [],
   "source": []
  }
 ],
 "metadata": {
  "kernelspec": {
   "display_name": "Python 3",
   "language": "python",
   "name": "python3"
  },
  "language_info": {
   "codemirror_mode": {
    "name": "ipython",
    "version": 3
   },
   "file_extension": ".py",
   "mimetype": "text/x-python",
   "name": "python",
   "nbconvert_exporter": "python",
   "pygments_lexer": "ipython3",
   "version": "3.11.5"
  }
 },
 "nbformat": 4,
 "nbformat_minor": 2
}
