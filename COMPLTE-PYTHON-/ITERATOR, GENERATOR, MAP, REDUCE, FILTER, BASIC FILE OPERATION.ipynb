{
 "cells": [
  {
   "cell_type": "code",
   "execution_count": 150,
   "id": "eab027cd",
   "metadata": {},
   "outputs": [],
   "source": [
    "#iterator"
   ]
  },
  {
   "cell_type": "code",
   "execution_count": 12,
   "id": "2319c921",
   "metadata": {},
   "outputs": [],
   "source": [
    "l=[1,2,3,4,5]"
   ]
  },
  {
   "cell_type": "code",
   "execution_count": 13,
   "id": "3bbcb6a2",
   "metadata": {},
   "outputs": [
    {
     "data": {
      "text/plain": [
       "[1, 2, 3, 4, 5]"
      ]
     },
     "execution_count": 13,
     "metadata": {},
     "output_type": "execute_result"
    }
   ],
   "source": [
    "l"
   ]
  },
  {
   "cell_type": "code",
   "execution_count": 14,
   "id": "01af7ad6",
   "metadata": {},
   "outputs": [
    {
     "name": "stdout",
     "output_type": "stream",
     "text": [
      "1\n",
      "2\n",
      "3\n",
      "4\n",
      "5\n"
     ]
    }
   ],
   "source": [
    "for i in l:\n",
    "    print(i)"
   ]
  },
  {
   "cell_type": "code",
   "execution_count": 15,
   "id": "2760dc07",
   "metadata": {},
   "outputs": [
    {
     "ename": "TypeError",
     "evalue": "'list' object is not an iterator",
     "output_type": "error",
     "traceback": [
      "\u001b[1;31m---------------------------------------------------------------------------\u001b[0m",
      "\u001b[1;31mTypeError\u001b[0m                                 Traceback (most recent call last)",
      "\u001b[1;32m~\\AppData\\Local\\Temp\\ipykernel_15080\\2016234150.py\u001b[0m in \u001b[0;36m<module>\u001b[1;34m\u001b[0m\n\u001b[1;32m----> 1\u001b[1;33m \u001b[0mnext\u001b[0m\u001b[1;33m(\u001b[0m\u001b[0ml\u001b[0m\u001b[1;33m)\u001b[0m\u001b[1;33m\u001b[0m\u001b[1;33m\u001b[0m\u001b[0m\n\u001b[0m",
      "\u001b[1;31mTypeError\u001b[0m: 'list' object is not an iterator"
     ]
    }
   ],
   "source": [
    "next(l)"
   ]
  },
  {
   "cell_type": "code",
   "execution_count": 22,
   "id": "63547c10",
   "metadata": {},
   "outputs": [],
   "source": [
    "b=iter(l)"
   ]
  },
  {
   "cell_type": "code",
   "execution_count": 23,
   "id": "da16fc1d",
   "metadata": {},
   "outputs": [
    {
     "data": {
      "text/plain": [
       "1"
      ]
     },
     "execution_count": 23,
     "metadata": {},
     "output_type": "execute_result"
    }
   ],
   "source": [
    "next(b)"
   ]
  },
  {
   "cell_type": "code",
   "execution_count": 24,
   "id": "ef2bd343",
   "metadata": {},
   "outputs": [
    {
     "data": {
      "text/plain": [
       "2"
      ]
     },
     "execution_count": 24,
     "metadata": {},
     "output_type": "execute_result"
    }
   ],
   "source": [
    "\n",
    "next(b)"
   ]
  },
  {
   "cell_type": "code",
   "execution_count": 25,
   "id": "2f9b04a0",
   "metadata": {},
   "outputs": [
    {
     "data": {
      "text/plain": [
       "3"
      ]
     },
     "execution_count": 25,
     "metadata": {},
     "output_type": "execute_result"
    }
   ],
   "source": [
    "next(b)"
   ]
  },
  {
   "cell_type": "code",
   "execution_count": 26,
   "id": "cb4665b7",
   "metadata": {},
   "outputs": [
    {
     "data": {
      "text/plain": [
       "4"
      ]
     },
     "execution_count": 26,
     "metadata": {},
     "output_type": "execute_result"
    }
   ],
   "source": [
    "next(b)"
   ]
  },
  {
   "cell_type": "code",
   "execution_count": 27,
   "id": "fa3e211b",
   "metadata": {},
   "outputs": [
    {
     "data": {
      "text/plain": [
       "5"
      ]
     },
     "execution_count": 27,
     "metadata": {},
     "output_type": "execute_result"
    }
   ],
   "source": [
    "next(b)"
   ]
  },
  {
   "cell_type": "code",
   "execution_count": 28,
   "id": "45038543",
   "metadata": {},
   "outputs": [
    {
     "ename": "StopIteration",
     "evalue": "",
     "output_type": "error",
     "traceback": [
      "\u001b[1;31m---------------------------------------------------------------------------\u001b[0m",
      "\u001b[1;31mStopIteration\u001b[0m                             Traceback (most recent call last)",
      "\u001b[1;32m~\\AppData\\Local\\Temp\\ipykernel_15080\\973617480.py\u001b[0m in \u001b[0;36m<module>\u001b[1;34m\u001b[0m\n\u001b[1;32m----> 1\u001b[1;33m \u001b[0mnext\u001b[0m\u001b[1;33m(\u001b[0m\u001b[0mb\u001b[0m\u001b[1;33m)\u001b[0m\u001b[1;33m\u001b[0m\u001b[1;33m\u001b[0m\u001b[0m\n\u001b[0m",
      "\u001b[1;31mStopIteration\u001b[0m: "
     ]
    }
   ],
   "source": [
    "next(b)"
   ]
  },
  {
   "cell_type": "code",
   "execution_count": 29,
   "id": "591a737a",
   "metadata": {},
   "outputs": [
    {
     "ename": "TypeError",
     "evalue": "'int' object is not an iterator",
     "output_type": "error",
     "traceback": [
      "\u001b[1;31m---------------------------------------------------------------------------\u001b[0m",
      "\u001b[1;31mTypeError\u001b[0m                                 Traceback (most recent call last)",
      "\u001b[1;32m~\\AppData\\Local\\Temp\\ipykernel_15080\\1567221448.py\u001b[0m in \u001b[0;36m<module>\u001b[1;34m\u001b[0m\n\u001b[1;32m----> 1\u001b[1;33m \u001b[0mnext\u001b[0m\u001b[1;33m(\u001b[0m\u001b[1;36m45\u001b[0m\u001b[1;33m)\u001b[0m\u001b[1;33m\u001b[0m\u001b[1;33m\u001b[0m\u001b[0m\n\u001b[0m",
      "\u001b[1;31mTypeError\u001b[0m: 'int' object is not an iterator"
     ]
    }
   ],
   "source": [
    "\n",
    "next(45)"
   ]
  },
  {
   "cell_type": "code",
   "execution_count": 30,
   "id": "c525a195",
   "metadata": {},
   "outputs": [
    {
     "ename": "TypeError",
     "evalue": "'int' object is not iterable",
     "output_type": "error",
     "traceback": [
      "\u001b[1;31m---------------------------------------------------------------------------\u001b[0m",
      "\u001b[1;31mTypeError\u001b[0m                                 Traceback (most recent call last)",
      "\u001b[1;32m~\\AppData\\Local\\Temp\\ipykernel_15080\\3186544426.py\u001b[0m in \u001b[0;36m<module>\u001b[1;34m\u001b[0m\n\u001b[1;32m----> 1\u001b[1;33m \u001b[0miter\u001b[0m\u001b[1;33m(\u001b[0m\u001b[1;36m45\u001b[0m\u001b[1;33m)\u001b[0m\u001b[1;33m\u001b[0m\u001b[1;33m\u001b[0m\u001b[0m\n\u001b[0m",
      "\u001b[1;31mTypeError\u001b[0m: 'int' object is not iterable"
     ]
    }
   ],
   "source": [
    "iter(45)"
   ]
  },
  {
   "cell_type": "code",
   "execution_count": 31,
   "id": "db2dd857",
   "metadata": {},
   "outputs": [
    {
     "ename": "TypeError",
     "evalue": "'int' object is not iterable",
     "output_type": "error",
     "traceback": [
      "\u001b[1;31m---------------------------------------------------------------------------\u001b[0m",
      "\u001b[1;31mTypeError\u001b[0m                                 Traceback (most recent call last)",
      "\u001b[1;32m~\\AppData\\Local\\Temp\\ipykernel_15080\\3102702078.py\u001b[0m in \u001b[0;36m<module>\u001b[1;34m\u001b[0m\n\u001b[1;32m----> 1\u001b[1;33m \u001b[1;32mfor\u001b[0m \u001b[0mi\u001b[0m \u001b[1;32min\u001b[0m \u001b[1;36m54444\u001b[0m\u001b[1;33m:\u001b[0m\u001b[1;33m\u001b[0m\u001b[1;33m\u001b[0m\u001b[0m\n\u001b[0m\u001b[0;32m      2\u001b[0m     \u001b[0mprint\u001b[0m\u001b[1;33m(\u001b[0m\u001b[0mi\u001b[0m\u001b[1;33m)\u001b[0m\u001b[1;33m\u001b[0m\u001b[1;33m\u001b[0m\u001b[0m\n",
      "\u001b[1;31mTypeError\u001b[0m: 'int' object is not iterable"
     ]
    }
   ],
   "source": [
    "for i in 54444:\n",
    "    print(i)"
   ]
  },
  {
   "cell_type": "code",
   "execution_count": 32,
   "id": "44adf7e4",
   "metadata": {},
   "outputs": [
    {
     "name": "stdout",
     "output_type": "stream",
     "text": [
      "1\n",
      "2\n",
      "3\n",
      "4\n",
      "5\n"
     ]
    }
   ],
   "source": [
    "for i in l:\n",
    "    print(i)"
   ]
  },
  {
   "cell_type": "code",
   "execution_count": 36,
   "id": "3fe7a97d",
   "metadata": {},
   "outputs": [],
   "source": [
    "b=iter(l)"
   ]
  },
  {
   "cell_type": "code",
   "execution_count": 37,
   "id": "539c3414",
   "metadata": {},
   "outputs": [
    {
     "data": {
      "text/plain": [
       "1"
      ]
     },
     "execution_count": 37,
     "metadata": {},
     "output_type": "execute_result"
    }
   ],
   "source": [
    "next(b)"
   ]
  },
  {
   "cell_type": "code",
   "execution_count": 38,
   "id": "d16d755e",
   "metadata": {},
   "outputs": [
    {
     "data": {
      "text/plain": [
       "2"
      ]
     },
     "execution_count": 38,
     "metadata": {},
     "output_type": "execute_result"
    }
   ],
   "source": [
    "next(b)"
   ]
  },
  {
   "cell_type": "code",
   "execution_count": 39,
   "id": "3718b7bc",
   "metadata": {},
   "outputs": [
    {
     "ename": "TypeError",
     "evalue": "'str' object is not an iterator",
     "output_type": "error",
     "traceback": [
      "\u001b[1;31m---------------------------------------------------------------------------\u001b[0m",
      "\u001b[1;31mTypeError\u001b[0m                                 Traceback (most recent call last)",
      "\u001b[1;32m~\\AppData\\Local\\Temp\\ipykernel_15080\\128933522.py\u001b[0m in \u001b[0;36m<module>\u001b[1;34m\u001b[0m\n\u001b[0;32m      1\u001b[0m \u001b[0ms\u001b[0m\u001b[1;33m=\u001b[0m\u001b[1;34m\"sudh\"\u001b[0m\u001b[1;33m\u001b[0m\u001b[1;33m\u001b[0m\u001b[0m\n\u001b[1;32m----> 2\u001b[1;33m \u001b[0mnext\u001b[0m\u001b[1;33m(\u001b[0m\u001b[0ms\u001b[0m\u001b[1;33m)\u001b[0m\u001b[1;33m\u001b[0m\u001b[1;33m\u001b[0m\u001b[0m\n\u001b[0m",
      "\u001b[1;31mTypeError\u001b[0m: 'str' object is not an iterator"
     ]
    }
   ],
   "source": [
    "s=\"sudh\"\n",
    "next(s)"
   ]
  },
  {
   "cell_type": "code",
   "execution_count": 40,
   "id": "bfdd2b06",
   "metadata": {},
   "outputs": [],
   "source": [
    "s=iter(s)"
   ]
  },
  {
   "cell_type": "code",
   "execution_count": 41,
   "id": "53bb7697",
   "metadata": {},
   "outputs": [
    {
     "data": {
      "text/plain": [
       "'s'"
      ]
     },
     "execution_count": 41,
     "metadata": {},
     "output_type": "execute_result"
    }
   ],
   "source": [
    "next(s)"
   ]
  },
  {
   "cell_type": "code",
   "execution_count": 42,
   "id": "598bf3b7",
   "metadata": {},
   "outputs": [
    {
     "data": {
      "text/plain": [
       "'u'"
      ]
     },
     "execution_count": 42,
     "metadata": {},
     "output_type": "execute_result"
    }
   ],
   "source": [
    "next(s)"
   ]
  },
  {
   "cell_type": "code",
   "execution_count": 43,
   "id": "e4ef4ac2",
   "metadata": {},
   "outputs": [
    {
     "data": {
      "text/plain": [
       "'d'"
      ]
     },
     "execution_count": 43,
     "metadata": {},
     "output_type": "execute_result"
    }
   ],
   "source": [
    "next(s)"
   ]
  },
  {
   "cell_type": "code",
   "execution_count": 44,
   "id": "70a28428",
   "metadata": {},
   "outputs": [
    {
     "data": {
      "text/plain": [
       "'h'"
      ]
     },
     "execution_count": 44,
     "metadata": {},
     "output_type": "execute_result"
    }
   ],
   "source": [
    "\n",
    "next(s)"
   ]
  },
  {
   "cell_type": "code",
   "execution_count": 45,
   "id": "52d2ef75",
   "metadata": {},
   "outputs": [
    {
     "ename": "StopIteration",
     "evalue": "",
     "output_type": "error",
     "traceback": [
      "\u001b[1;31m---------------------------------------------------------------------------\u001b[0m",
      "\u001b[1;31mStopIteration\u001b[0m                             Traceback (most recent call last)",
      "\u001b[1;32m~\\AppData\\Local\\Temp\\ipykernel_15080\\788902134.py\u001b[0m in \u001b[0;36m<module>\u001b[1;34m\u001b[0m\n\u001b[1;32m----> 1\u001b[1;33m \u001b[0mnext\u001b[0m\u001b[1;33m(\u001b[0m\u001b[0ms\u001b[0m\u001b[1;33m)\u001b[0m\u001b[1;33m\u001b[0m\u001b[1;33m\u001b[0m\u001b[0m\n\u001b[0m",
      "\u001b[1;31mStopIteration\u001b[0m: "
     ]
    }
   ],
   "source": [
    "\n",
    "next(s)"
   ]
  },
  {
   "cell_type": "code",
   "execution_count": 46,
   "id": "f0450fca",
   "metadata": {},
   "outputs": [
    {
     "name": "stdout",
     "output_type": "stream",
     "text": [
      "s\n",
      "u\n",
      "d\n",
      "h\n"
     ]
    }
   ],
   "source": [
    "s=\"sudh\"\n",
    "for i in s:\n",
    "    print(i)"
   ]
  },
  {
   "cell_type": "code",
   "execution_count": 47,
   "id": "84c8e980",
   "metadata": {},
   "outputs": [],
   "source": [
    "t=(2,8,9,10)"
   ]
  },
  {
   "cell_type": "code",
   "execution_count": 48,
   "id": "3d946f35",
   "metadata": {},
   "outputs": [
    {
     "ename": "TypeError",
     "evalue": "'tuple' object is not an iterator",
     "output_type": "error",
     "traceback": [
      "\u001b[1;31m---------------------------------------------------------------------------\u001b[0m",
      "\u001b[1;31mTypeError\u001b[0m                                 Traceback (most recent call last)",
      "\u001b[1;32m~\\AppData\\Local\\Temp\\ipykernel_15080\\2139502855.py\u001b[0m in \u001b[0;36m<module>\u001b[1;34m\u001b[0m\n\u001b[1;32m----> 1\u001b[1;33m \u001b[0mnext\u001b[0m\u001b[1;33m(\u001b[0m\u001b[0mt\u001b[0m\u001b[1;33m)\u001b[0m\u001b[1;33m\u001b[0m\u001b[1;33m\u001b[0m\u001b[0m\n\u001b[0m",
      "\u001b[1;31mTypeError\u001b[0m: 'tuple' object is not an iterator"
     ]
    }
   ],
   "source": [
    "next(t)"
   ]
  },
  {
   "cell_type": "code",
   "execution_count": 55,
   "id": "6c9e226c",
   "metadata": {},
   "outputs": [],
   "source": [
    "t=iter(t)"
   ]
  },
  {
   "cell_type": "code",
   "execution_count": 50,
   "id": "9948b2a6",
   "metadata": {},
   "outputs": [
    {
     "data": {
      "text/plain": [
       "2"
      ]
     },
     "execution_count": 50,
     "metadata": {},
     "output_type": "execute_result"
    }
   ],
   "source": [
    "next(t)"
   ]
  },
  {
   "cell_type": "code",
   "execution_count": 51,
   "id": "714ade10",
   "metadata": {},
   "outputs": [
    {
     "data": {
      "text/plain": [
       "8"
      ]
     },
     "execution_count": 51,
     "metadata": {},
     "output_type": "execute_result"
    }
   ],
   "source": [
    "next(t)"
   ]
  },
  {
   "cell_type": "code",
   "execution_count": 52,
   "id": "d76ae559",
   "metadata": {},
   "outputs": [
    {
     "data": {
      "text/plain": [
       "9"
      ]
     },
     "execution_count": 52,
     "metadata": {},
     "output_type": "execute_result"
    }
   ],
   "source": [
    "next(t)"
   ]
  },
  {
   "cell_type": "code",
   "execution_count": 53,
   "id": "173ff40d",
   "metadata": {},
   "outputs": [
    {
     "data": {
      "text/plain": [
       "10"
      ]
     },
     "execution_count": 53,
     "metadata": {},
     "output_type": "execute_result"
    }
   ],
   "source": [
    "next(t)"
   ]
  },
  {
   "cell_type": "code",
   "execution_count": 54,
   "id": "5ed2bb67",
   "metadata": {},
   "outputs": [
    {
     "ename": "StopIteration",
     "evalue": "",
     "output_type": "error",
     "traceback": [
      "\u001b[1;31m---------------------------------------------------------------------------\u001b[0m",
      "\u001b[1;31mStopIteration\u001b[0m                             Traceback (most recent call last)",
      "\u001b[1;32m~\\AppData\\Local\\Temp\\ipykernel_15080\\2139502855.py\u001b[0m in \u001b[0;36m<module>\u001b[1;34m\u001b[0m\n\u001b[1;32m----> 1\u001b[1;33m \u001b[0mnext\u001b[0m\u001b[1;33m(\u001b[0m\u001b[0mt\u001b[0m\u001b[1;33m)\u001b[0m\u001b[1;33m\u001b[0m\u001b[1;33m\u001b[0m\u001b[0m\n\u001b[0m",
      "\u001b[1;31mStopIteration\u001b[0m: "
     ]
    }
   ],
   "source": [
    "next(t)"
   ]
  },
  {
   "cell_type": "code",
   "execution_count": 151,
   "id": "3ade3ed1",
   "metadata": {},
   "outputs": [],
   "source": [
    "#generator"
   ]
  },
  {
   "cell_type": "code",
   "execution_count": 56,
   "id": "eeb66f46",
   "metadata": {},
   "outputs": [
    {
     "data": {
      "text/plain": [
       "[0, 1, 2, 3, 4, 5, 6, 7, 8, 9]"
      ]
     },
     "execution_count": 56,
     "metadata": {},
     "output_type": "execute_result"
    }
   ],
   "source": [
    "list(range(10))"
   ]
  },
  {
   "cell_type": "code",
   "execution_count": 57,
   "id": "597200f6",
   "metadata": {},
   "outputs": [],
   "source": [
    "def square_fun(n):\n",
    "    x=[i*i for i in  range(n)]\n",
    "    return x"
   ]
  },
  {
   "cell_type": "code",
   "execution_count": 58,
   "id": "11e0c614",
   "metadata": {},
   "outputs": [
    {
     "data": {
      "text/plain": [
       "[0, 1, 4, 9]"
      ]
     },
     "execution_count": 58,
     "metadata": {},
     "output_type": "execute_result"
    }
   ],
   "source": [
    "square_fun(4)"
   ]
  },
  {
   "cell_type": "code",
   "execution_count": 59,
   "id": "c11c17e5",
   "metadata": {},
   "outputs": [],
   "source": [
    "def square_fun1(n):\n",
    "    x=[i*i for i in  range(n)]\n",
    "    yield x"
   ]
  },
  {
   "cell_type": "code",
   "execution_count": 60,
   "id": "6727a28d",
   "metadata": {},
   "outputs": [
    {
     "data": {
      "text/plain": [
       "<generator object square_fun1 at 0x00000274081EE190>"
      ]
     },
     "execution_count": 60,
     "metadata": {},
     "output_type": "execute_result"
    }
   ],
   "source": [
    "square_fun1(5)"
   ]
  },
  {
   "cell_type": "code",
   "execution_count": 61,
   "id": "1982d5ca",
   "metadata": {},
   "outputs": [
    {
     "name": "stdout",
     "output_type": "stream",
     "text": [
      "[0, 1, 4, 9]\n"
     ]
    }
   ],
   "source": [
    "for i in square_fun1(4):\n",
    "    print(i)"
   ]
  },
  {
   "cell_type": "code",
   "execution_count": 62,
   "id": "31f4f9cd",
   "metadata": {},
   "outputs": [
    {
     "data": {
      "text/plain": [
       "<generator object square_fun1 at 0x00000274081EE120>"
      ]
     },
     "execution_count": 62,
     "metadata": {},
     "output_type": "execute_result"
    }
   ],
   "source": [
    "square_fun1(5)"
   ]
  },
  {
   "cell_type": "code",
   "execution_count": 63,
   "id": "81e49fe2",
   "metadata": {},
   "outputs": [],
   "source": [
    "def genfib(n):\n",
    "    a=1\n",
    "    b=1\n",
    "    l=[]\n",
    "    for i in range(n):\n",
    "        l.append(a)\n",
    "        a,b= b, a+b\n",
    "    return l\n"
   ]
  },
  {
   "cell_type": "code",
   "execution_count": 64,
   "id": "3c94e123",
   "metadata": {},
   "outputs": [
    {
     "data": {
      "text/plain": [
       "[1, 1, 2, 3, 5, 8, 13, 21, 34, 55]"
      ]
     },
     "execution_count": 64,
     "metadata": {},
     "output_type": "execute_result"
    }
   ],
   "source": [
    "genfib(10)"
   ]
  },
  {
   "cell_type": "code",
   "execution_count": 65,
   "id": "53f9f9c7",
   "metadata": {},
   "outputs": [],
   "source": [
    "def genfib1(n):\n",
    "    a=1\n",
    "    b=1\n",
    "    for i in range(n):\n",
    "        yield a\n",
    "        a,b= b, a+b\n",
    "\n"
   ]
  },
  {
   "cell_type": "code",
   "execution_count": 66,
   "id": "e5c0f686",
   "metadata": {},
   "outputs": [
    {
     "data": {
      "text/plain": [
       "<generator object genfib1 at 0x00000274081EE6D0>"
      ]
     },
     "execution_count": 66,
     "metadata": {},
     "output_type": "execute_result"
    }
   ],
   "source": [
    "genfib1(5)"
   ]
  },
  {
   "cell_type": "code",
   "execution_count": 67,
   "id": "33d753d4",
   "metadata": {},
   "outputs": [
    {
     "name": "stdout",
     "output_type": "stream",
     "text": [
      "1\n",
      "1\n",
      "2\n",
      "3\n",
      "5\n",
      "8\n",
      "13\n",
      "21\n",
      "34\n",
      "55\n"
     ]
    }
   ],
   "source": [
    "for i in genfib1(10):\n",
    "    print(i)"
   ]
  },
  {
   "cell_type": "code",
   "execution_count": 152,
   "id": "36c3b7c5",
   "metadata": {},
   "outputs": [],
   "source": [
    "#file operation"
   ]
  },
  {
   "cell_type": "code",
   "execution_count": 69,
   "id": "c427bbe4",
   "metadata": {},
   "outputs": [],
   "source": [
    "f=open(\"swap.txt\")"
   ]
  },
  {
   "cell_type": "code",
   "execution_count": 70,
   "id": "00ed3b8f",
   "metadata": {},
   "outputs": [],
   "source": [
    "f=open(\"swap.txt\",\"w\" )"
   ]
  },
  {
   "cell_type": "code",
   "execution_count": 71,
   "id": "f35dfd9c",
   "metadata": {},
   "outputs": [
    {
     "name": "stdout",
     "output_type": "stream",
     "text": [
      " Volume in drive C is OS\n",
      " Volume Serial Number is FE0E-8CB5\n",
      "\n",
      " Directory of C:\\Users\\Swapnil\\Ineuron Practice\n",
      "\n",
      "18-06-2023  21:55    <DIR>          .\n",
      "18-06-2023  15:11    <DIR>          ..\n",
      "14-05-2023  00:51    <DIR>          .idea\n",
      "18-06-2023  09:58    <DIR>          .ipynb_checkpoints\n",
      "28-05-2023  20:15             5,215 API.ipynb\n",
      "03-06-2023  19:43             6,389 APPLICATION PROGRAMMING INTERFACE TASK PENDING.ipynb\n",
      "23-04-2023  13:05             7,460 Assignment 1.ipynb\n",
      "23-04-2023  14:45             5,154 Assignment 2.ipynb\n",
      "21-05-2023  19:49    <DIR>          CHEAT ASSIGNMENTS\n",
      "30-04-2023  13:32            35,477 conditional statement - if , elif, else.ipynb\n",
      "29-04-2023  15:37            13,459 DICT.ipynb\n",
      "28-05-2023  18:00            44,178 EDA .ipynb\n",
      "27-05-2023  19:56         3,543,320 EDA DATA VISUALIZATION .ipynb\n",
      "28-05-2023  15:38         1,574,541 EDA- Part 1.ipynb\n",
      "17-06-2023  22:15            17,208 Exception handling .ipynb\n",
      "13-05-2023  03:58            88,515 fitbit.jason\n",
      "13-05-2023  13:51            88,515 fitbit.json\n",
      "30-04-2023  16:45            41,960 for loop practice.ipynb\n",
      "01-05-2023  07:42            27,582 FOR LOOP.ipynb\n",
      "13-05-2023  00:48            37,569 FSDS11thaug.pdf\n",
      "27-05-2023  18:38         1,794,021 Graph .ipynb\n",
      "18-06-2023  16:21                 0 HYDHJJD.txt\n",
      "18-06-2023  21:55            18,781 ITERATOR, GENERATOR, MAP, REDUCE, FILTER, BASIC FILE OPERATION.ipynb\n",
      "01-05-2023  08:04            83,390 List , tuples , dict , set .ipynb\n",
      "01-05-2023  22:00             9,864 list task.ipynb\n",
      "10-06-2023  12:22            30,683 LIST.ipynb\n",
      "18-06-2023  20:11                 0 list.txt\n",
      "13-05-2023  02:44               457 Mongodb with python.py\n",
      "07-05-2023  22:28             8,514 mongodb.txt\n",
      "13-05-2023  02:44             9,157 NO SQL MONGODB.py\n",
      "21-05-2023  11:51           465,908 Numpy and basic of graph.ipynb\n",
      "21-05-2023  14:10            47,787 NUMPY.ipynb\n",
      "12-05-2023  21:05           423,949 pandas class 2.ipynb\n",
      "21-05-2023  01:11           141,385 pandas class 3 - with task .ipynb\n",
      "20-05-2023  14:11           913,519 PANDAS LIBRARY .ipynb\n",
      "13-05-2023  20:38           121,522 PANDAS TASK CARS DATASET.ipynb\n",
      "14-05-2023  04:59         3,099,061 PANDAS TASK CENSUS DATASET.ipynb\n",
      "14-05-2023  00:38            59,409 PANDAS TASK COVID DATA SET.ipynb\n",
      "22-05-2023  00:34            88,792 PANDAS TASK FITBIT DATASET .ipynb\n",
      "14-05-2023  03:07            54,545 PANDAS TASK LONDON HOUSING DATA.ipynb\n",
      "16-05-2023  10:54           212,847 PANDAS TASK NETFLIX DATASET.ipynb\n",
      "13-05-2023  23:07            63,910 PANDAS TASK POLICE DATA SET.ipynb\n",
      "20-05-2023  14:35           203,125 PANDAS TASK SUPERSTORE DATASET.ipynb\n",
      "18-05-2023  11:04           312,682 PANDAS TASK SURVEY DATA SET.ipynb\n",
      "14-05-2023  11:07           123,607 PANDAS TASK UDEMY DATASET.ipynb\n",
      "13-05-2023  18:15           193,413 PANDAS TASK WEATHER DATA SET.ipynb\n",
      "13-05-2023  00:33           913,494 Pandas.ipynb\n",
      "19-05-2023  09:34           238,869 PANDAS_PIVOT TASK .ipynb\n",
      "06-05-2023  18:29               444 p-s connectivity 1.py\n",
      "06-05-2023  14:43               642 p-s connectivity 2.py\n",
      "06-05-2023  14:43               296 p-s connectivity 3.py\n",
      "06-05-2023  14:43                 2 p-s.py\n",
      "21-05-2023  19:26            10,767 PYTHON BASIC ASSIGNMENT 1.ipynb\n",
      "21-05-2023  20:32            14,259 PYTHON BASIC ASSIGNMENT 2.ipynb\n",
      "27-05-2023  18:30            15,244 PYTHON BASIC ASSIGNMENT 3.ipynb\n",
      "27-05-2023  18:30            17,628 PYTHON BASIC ASSIGNMENT 4.ipynb\n",
      "27-05-2023  18:30            14,619 PYTHON BASIC ASSIGNMENT 5.ipynb\n",
      "27-05-2023  18:30            19,103 PYTHON BASIC ASSIGNMENT 6.ipynb\n",
      "18-06-2023  20:03    <DIR>          PYTHON BASIC ASSIGNMENTS\n",
      "10-06-2023  15:54    <DIR>          PYTHON BASIC PROGRAMMING ASSIGNMENT\n",
      "17-06-2023  15:49    <DIR>          PYTHON CLASS\n",
      "13-05-2023  02:46               395 Python-sql connnection.py\n",
      "03-06-2023  20:55           310,900 REVIEW SCRAPPER PENDING.ipynb\n",
      "01-05-2023  22:03           113,561 Revision and task solving (1).ipynb\n",
      "29-04-2023  16:08            12,521 SET.ipynb\n",
      "07-05-2023  01:24             7,137 sql mongodb and git .txt\n",
      "13-05-2023  02:42             5,625 SQL.sql\n",
      "27-05-2023  16:49            13,396 STAR PATTERNS USING LOOP.ipynb\n",
      "30-04-2023  00:52            19,406 STATEMENTS.ipynb\n",
      "01-05-2023  08:05            86,596 string .ipynb\n",
      "01-05-2023  09:43            13,840 String task.ipynb\n",
      "29-04-2023  16:32            48,877 STRING.ipynb\n",
      "18-06-2023  20:34               102 sunday.txt\n",
      "20-05-2023  12:55         4,007,322 superstore.json\n",
      "18-06-2023  21:57                 0 swap.txt\n",
      "13-05-2023  02:45               444 table cration in python and visualization in sql .py\n",
      "01-05-2023  22:04            23,946 Task 3.ipynb\n",
      "11-05-2023  00:41            94,421 test.json\n",
      "18-06-2023  20:24                 0 test.txt\n",
      "29-04-2023  14:56            10,723 TUPLE.ipynb\n",
      "21-05-2023  20:54    <DIR>          Untiled folder\n",
      "14-06-2023  11:53                72 Untitled.ipynb\n",
      "01-05-2023  07:53         3,648,199 WHILE LOOP.ipynb\n",
      "01-05-2023  07:49         3,644,399 WHILE.ipynb\n",
      "              75 File(s)     27,324,119 bytes\n",
      "               9 Dir(s)  190,040,469,504 bytes free\n"
     ]
    }
   ],
   "source": [
    "ls"
   ]
  },
  {
   "cell_type": "code",
   "execution_count": 72,
   "id": "c80673c4",
   "metadata": {},
   "outputs": [
    {
     "data": {
      "text/plain": [
       "31"
      ]
     },
     "execution_count": 72,
     "metadata": {},
     "output_type": "execute_result"
    }
   ],
   "source": [
    "f.write(\"this is my first file operation\")"
   ]
  },
  {
   "cell_type": "code",
   "execution_count": 73,
   "id": "31cf0335",
   "metadata": {},
   "outputs": [],
   "source": [
    "f.close()"
   ]
  },
  {
   "cell_type": "code",
   "execution_count": 74,
   "id": "25973702",
   "metadata": {},
   "outputs": [
    {
     "name": "stdout",
     "output_type": "stream",
     "text": [
      " Volume in drive C is OS\n",
      " Volume Serial Number is FE0E-8CB5\n",
      "\n",
      " Directory of C:\\Users\\Swapnil\\Ineuron Practice\n",
      "\n",
      "18-06-2023  21:55    <DIR>          .\n",
      "18-06-2023  15:11    <DIR>          ..\n",
      "14-05-2023  00:51    <DIR>          .idea\n",
      "18-06-2023  09:58    <DIR>          .ipynb_checkpoints\n",
      "28-05-2023  20:15             5,215 API.ipynb\n",
      "03-06-2023  19:43             6,389 APPLICATION PROGRAMMING INTERFACE TASK PENDING.ipynb\n",
      "23-04-2023  13:05             7,460 Assignment 1.ipynb\n",
      "23-04-2023  14:45             5,154 Assignment 2.ipynb\n",
      "21-05-2023  19:49    <DIR>          CHEAT ASSIGNMENTS\n",
      "30-04-2023  13:32            35,477 conditional statement - if , elif, else.ipynb\n",
      "29-04-2023  15:37            13,459 DICT.ipynb\n",
      "28-05-2023  18:00            44,178 EDA .ipynb\n",
      "27-05-2023  19:56         3,543,320 EDA DATA VISUALIZATION .ipynb\n",
      "28-05-2023  15:38         1,574,541 EDA- Part 1.ipynb\n",
      "17-06-2023  22:15            17,208 Exception handling .ipynb\n",
      "13-05-2023  03:58            88,515 fitbit.jason\n",
      "13-05-2023  13:51            88,515 fitbit.json\n",
      "30-04-2023  16:45            41,960 for loop practice.ipynb\n",
      "01-05-2023  07:42            27,582 FOR LOOP.ipynb\n",
      "13-05-2023  00:48            37,569 FSDS11thaug.pdf\n",
      "27-05-2023  18:38         1,794,021 Graph .ipynb\n",
      "18-06-2023  16:21                 0 HYDHJJD.txt\n",
      "18-06-2023  21:55            18,781 ITERATOR, GENERATOR, MAP, REDUCE, FILTER, BASIC FILE OPERATION.ipynb\n",
      "01-05-2023  08:04            83,390 List , tuples , dict , set .ipynb\n",
      "01-05-2023  22:00             9,864 list task.ipynb\n",
      "10-06-2023  12:22            30,683 LIST.ipynb\n",
      "18-06-2023  20:11                 0 list.txt\n",
      "13-05-2023  02:44               457 Mongodb with python.py\n",
      "07-05-2023  22:28             8,514 mongodb.txt\n",
      "13-05-2023  02:44             9,157 NO SQL MONGODB.py\n",
      "21-05-2023  11:51           465,908 Numpy and basic of graph.ipynb\n",
      "21-05-2023  14:10            47,787 NUMPY.ipynb\n",
      "12-05-2023  21:05           423,949 pandas class 2.ipynb\n",
      "21-05-2023  01:11           141,385 pandas class 3 - with task .ipynb\n",
      "20-05-2023  14:11           913,519 PANDAS LIBRARY .ipynb\n",
      "13-05-2023  20:38           121,522 PANDAS TASK CARS DATASET.ipynb\n",
      "14-05-2023  04:59         3,099,061 PANDAS TASK CENSUS DATASET.ipynb\n",
      "14-05-2023  00:38            59,409 PANDAS TASK COVID DATA SET.ipynb\n",
      "22-05-2023  00:34            88,792 PANDAS TASK FITBIT DATASET .ipynb\n",
      "14-05-2023  03:07            54,545 PANDAS TASK LONDON HOUSING DATA.ipynb\n",
      "16-05-2023  10:54           212,847 PANDAS TASK NETFLIX DATASET.ipynb\n",
      "13-05-2023  23:07            63,910 PANDAS TASK POLICE DATA SET.ipynb\n",
      "20-05-2023  14:35           203,125 PANDAS TASK SUPERSTORE DATASET.ipynb\n",
      "18-05-2023  11:04           312,682 PANDAS TASK SURVEY DATA SET.ipynb\n",
      "14-05-2023  11:07           123,607 PANDAS TASK UDEMY DATASET.ipynb\n",
      "13-05-2023  18:15           193,413 PANDAS TASK WEATHER DATA SET.ipynb\n",
      "13-05-2023  00:33           913,494 Pandas.ipynb\n",
      "19-05-2023  09:34           238,869 PANDAS_PIVOT TASK .ipynb\n",
      "06-05-2023  18:29               444 p-s connectivity 1.py\n",
      "06-05-2023  14:43               642 p-s connectivity 2.py\n",
      "06-05-2023  14:43               296 p-s connectivity 3.py\n",
      "06-05-2023  14:43                 2 p-s.py\n",
      "21-05-2023  19:26            10,767 PYTHON BASIC ASSIGNMENT 1.ipynb\n",
      "21-05-2023  20:32            14,259 PYTHON BASIC ASSIGNMENT 2.ipynb\n",
      "27-05-2023  18:30            15,244 PYTHON BASIC ASSIGNMENT 3.ipynb\n",
      "27-05-2023  18:30            17,628 PYTHON BASIC ASSIGNMENT 4.ipynb\n",
      "27-05-2023  18:30            14,619 PYTHON BASIC ASSIGNMENT 5.ipynb\n",
      "27-05-2023  18:30            19,103 PYTHON BASIC ASSIGNMENT 6.ipynb\n",
      "18-06-2023  20:03    <DIR>          PYTHON BASIC ASSIGNMENTS\n",
      "10-06-2023  15:54    <DIR>          PYTHON BASIC PROGRAMMING ASSIGNMENT\n",
      "17-06-2023  15:49    <DIR>          PYTHON CLASS\n",
      "13-05-2023  02:46               395 Python-sql connnection.py\n",
      "03-06-2023  20:55           310,900 REVIEW SCRAPPER PENDING.ipynb\n",
      "01-05-2023  22:03           113,561 Revision and task solving (1).ipynb\n",
      "29-04-2023  16:08            12,521 SET.ipynb\n",
      "07-05-2023  01:24             7,137 sql mongodb and git .txt\n",
      "13-05-2023  02:42             5,625 SQL.sql\n",
      "27-05-2023  16:49            13,396 STAR PATTERNS USING LOOP.ipynb\n",
      "30-04-2023  00:52            19,406 STATEMENTS.ipynb\n",
      "01-05-2023  08:05            86,596 string .ipynb\n",
      "01-05-2023  09:43            13,840 String task.ipynb\n",
      "29-04-2023  16:32            48,877 STRING.ipynb\n",
      "18-06-2023  20:34               102 sunday.txt\n",
      "20-05-2023  12:55         4,007,322 superstore.json\n",
      "18-06-2023  21:57                31 swap.txt\n",
      "13-05-2023  02:45               444 table cration in python and visualization in sql .py\n",
      "01-05-2023  22:04            23,946 Task 3.ipynb\n",
      "11-05-2023  00:41            94,421 test.json\n",
      "18-06-2023  20:24                 0 test.txt\n",
      "29-04-2023  14:56            10,723 TUPLE.ipynb\n",
      "21-05-2023  20:54    <DIR>          Untiled folder\n",
      "14-06-2023  11:53                72 Untitled.ipynb\n",
      "01-05-2023  07:53         3,648,199 WHILE LOOP.ipynb\n",
      "01-05-2023  07:49         3,644,399 WHILE.ipynb\n",
      "              75 File(s)     27,324,150 bytes\n",
      "               9 Dir(s)  190,040,375,296 bytes free\n"
     ]
    }
   ],
   "source": [
    "ls"
   ]
  },
  {
   "cell_type": "code",
   "execution_count": 75,
   "id": "e35d0184",
   "metadata": {},
   "outputs": [],
   "source": [
    "f1=open(\"test.txt\",\"w\")"
   ]
  },
  {
   "cell_type": "code",
   "execution_count": 76,
   "id": "5a261e5c",
   "metadata": {},
   "outputs": [
    {
     "data": {
      "text/plain": [
       "16"
      ]
     },
     "execution_count": 76,
     "metadata": {},
     "output_type": "execute_result"
    }
   ],
   "source": [
    "f1.write(\"this is my file \")"
   ]
  },
  {
   "cell_type": "code",
   "execution_count": 77,
   "id": "7911813b",
   "metadata": {},
   "outputs": [],
   "source": [
    "f1.close()"
   ]
  },
  {
   "cell_type": "code",
   "execution_count": 78,
   "id": "159a373a",
   "metadata": {},
   "outputs": [
    {
     "name": "stdout",
     "output_type": "stream",
     "text": [
      " Volume in drive C is OS\n",
      " Volume Serial Number is FE0E-8CB5\n",
      "\n",
      " Directory of C:\\Users\\Swapnil\\Ineuron Practice\n",
      "\n",
      "18-06-2023  21:55    <DIR>          .\n",
      "18-06-2023  15:11    <DIR>          ..\n",
      "14-05-2023  00:51    <DIR>          .idea\n",
      "18-06-2023  09:58    <DIR>          .ipynb_checkpoints\n",
      "28-05-2023  20:15             5,215 API.ipynb\n",
      "03-06-2023  19:43             6,389 APPLICATION PROGRAMMING INTERFACE TASK PENDING.ipynb\n",
      "23-04-2023  13:05             7,460 Assignment 1.ipynb\n",
      "23-04-2023  14:45             5,154 Assignment 2.ipynb\n",
      "21-05-2023  19:49    <DIR>          CHEAT ASSIGNMENTS\n",
      "30-04-2023  13:32            35,477 conditional statement - if , elif, else.ipynb\n",
      "29-04-2023  15:37            13,459 DICT.ipynb\n",
      "28-05-2023  18:00            44,178 EDA .ipynb\n",
      "27-05-2023  19:56         3,543,320 EDA DATA VISUALIZATION .ipynb\n",
      "28-05-2023  15:38         1,574,541 EDA- Part 1.ipynb\n",
      "17-06-2023  22:15            17,208 Exception handling .ipynb\n",
      "13-05-2023  03:58            88,515 fitbit.jason\n",
      "13-05-2023  13:51            88,515 fitbit.json\n",
      "30-04-2023  16:45            41,960 for loop practice.ipynb\n",
      "01-05-2023  07:42            27,582 FOR LOOP.ipynb\n",
      "13-05-2023  00:48            37,569 FSDS11thaug.pdf\n",
      "27-05-2023  18:38         1,794,021 Graph .ipynb\n",
      "18-06-2023  16:21                 0 HYDHJJD.txt\n",
      "18-06-2023  21:55            18,781 ITERATOR, GENERATOR, MAP, REDUCE, FILTER, BASIC FILE OPERATION.ipynb\n",
      "01-05-2023  08:04            83,390 List , tuples , dict , set .ipynb\n",
      "01-05-2023  22:00             9,864 list task.ipynb\n",
      "10-06-2023  12:22            30,683 LIST.ipynb\n",
      "18-06-2023  20:11                 0 list.txt\n",
      "13-05-2023  02:44               457 Mongodb with python.py\n",
      "07-05-2023  22:28             8,514 mongodb.txt\n",
      "13-05-2023  02:44             9,157 NO SQL MONGODB.py\n",
      "21-05-2023  11:51           465,908 Numpy and basic of graph.ipynb\n",
      "21-05-2023  14:10            47,787 NUMPY.ipynb\n",
      "12-05-2023  21:05           423,949 pandas class 2.ipynb\n",
      "21-05-2023  01:11           141,385 pandas class 3 - with task .ipynb\n",
      "20-05-2023  14:11           913,519 PANDAS LIBRARY .ipynb\n",
      "13-05-2023  20:38           121,522 PANDAS TASK CARS DATASET.ipynb\n",
      "14-05-2023  04:59         3,099,061 PANDAS TASK CENSUS DATASET.ipynb\n",
      "14-05-2023  00:38            59,409 PANDAS TASK COVID DATA SET.ipynb\n",
      "22-05-2023  00:34            88,792 PANDAS TASK FITBIT DATASET .ipynb\n",
      "14-05-2023  03:07            54,545 PANDAS TASK LONDON HOUSING DATA.ipynb\n",
      "16-05-2023  10:54           212,847 PANDAS TASK NETFLIX DATASET.ipynb\n",
      "13-05-2023  23:07            63,910 PANDAS TASK POLICE DATA SET.ipynb\n",
      "20-05-2023  14:35           203,125 PANDAS TASK SUPERSTORE DATASET.ipynb\n",
      "18-05-2023  11:04           312,682 PANDAS TASK SURVEY DATA SET.ipynb\n",
      "14-05-2023  11:07           123,607 PANDAS TASK UDEMY DATASET.ipynb\n",
      "13-05-2023  18:15           193,413 PANDAS TASK WEATHER DATA SET.ipynb\n",
      "13-05-2023  00:33           913,494 Pandas.ipynb\n",
      "19-05-2023  09:34           238,869 PANDAS_PIVOT TASK .ipynb\n",
      "06-05-2023  18:29               444 p-s connectivity 1.py\n",
      "06-05-2023  14:43               642 p-s connectivity 2.py\n",
      "06-05-2023  14:43               296 p-s connectivity 3.py\n",
      "06-05-2023  14:43                 2 p-s.py\n",
      "21-05-2023  19:26            10,767 PYTHON BASIC ASSIGNMENT 1.ipynb\n",
      "21-05-2023  20:32            14,259 PYTHON BASIC ASSIGNMENT 2.ipynb\n",
      "27-05-2023  18:30            15,244 PYTHON BASIC ASSIGNMENT 3.ipynb\n",
      "27-05-2023  18:30            17,628 PYTHON BASIC ASSIGNMENT 4.ipynb\n",
      "27-05-2023  18:30            14,619 PYTHON BASIC ASSIGNMENT 5.ipynb\n",
      "27-05-2023  18:30            19,103 PYTHON BASIC ASSIGNMENT 6.ipynb\n",
      "18-06-2023  20:03    <DIR>          PYTHON BASIC ASSIGNMENTS\n",
      "10-06-2023  15:54    <DIR>          PYTHON BASIC PROGRAMMING ASSIGNMENT\n",
      "17-06-2023  15:49    <DIR>          PYTHON CLASS\n",
      "13-05-2023  02:46               395 Python-sql connnection.py\n",
      "03-06-2023  20:55           310,900 REVIEW SCRAPPER PENDING.ipynb\n",
      "01-05-2023  22:03           113,561 Revision and task solving (1).ipynb\n",
      "29-04-2023  16:08            12,521 SET.ipynb\n",
      "07-05-2023  01:24             7,137 sql mongodb and git .txt\n",
      "13-05-2023  02:42             5,625 SQL.sql\n",
      "27-05-2023  16:49            13,396 STAR PATTERNS USING LOOP.ipynb\n",
      "30-04-2023  00:52            19,406 STATEMENTS.ipynb\n",
      "01-05-2023  08:05            86,596 string .ipynb\n",
      "01-05-2023  09:43            13,840 String task.ipynb\n",
      "29-04-2023  16:32            48,877 STRING.ipynb\n",
      "18-06-2023  20:34               102 sunday.txt\n",
      "20-05-2023  12:55         4,007,322 superstore.json\n",
      "18-06-2023  21:57                31 swap.txt\n",
      "13-05-2023  02:45               444 table cration in python and visualization in sql .py\n",
      "01-05-2023  22:04            23,946 Task 3.ipynb\n",
      "11-05-2023  00:41            94,421 test.json\n",
      "18-06-2023  21:57                16 test.txt\n",
      "29-04-2023  14:56            10,723 TUPLE.ipynb\n",
      "21-05-2023  20:54    <DIR>          Untiled folder\n",
      "14-06-2023  11:53                72 Untitled.ipynb\n",
      "01-05-2023  07:53         3,648,199 WHILE LOOP.ipynb\n",
      "01-05-2023  07:49         3,644,399 WHILE.ipynb\n",
      "              75 File(s)     27,324,166 bytes\n",
      "               9 Dir(s)  190,041,423,872 bytes free\n"
     ]
    }
   ],
   "source": [
    "ls"
   ]
  },
  {
   "cell_type": "code",
   "execution_count": 79,
   "id": "e1a60d04",
   "metadata": {},
   "outputs": [],
   "source": [
    "l=[1,45,88,112,45,96]"
   ]
  },
  {
   "cell_type": "code",
   "execution_count": 80,
   "id": "b350f66a",
   "metadata": {},
   "outputs": [],
   "source": [
    "f3=open(\"list.txt\", \"w\")"
   ]
  },
  {
   "cell_type": "code",
   "execution_count": 81,
   "id": "b311792c",
   "metadata": {},
   "outputs": [
    {
     "data": {
      "text/plain": [
       "24"
      ]
     },
     "execution_count": 81,
     "metadata": {},
     "output_type": "execute_result"
    }
   ],
   "source": [
    "f3.write(str(l))"
   ]
  },
  {
   "cell_type": "code",
   "execution_count": 82,
   "id": "4755b332",
   "metadata": {},
   "outputs": [
    {
     "name": "stdout",
     "output_type": "stream",
     "text": [
      " Volume in drive C is OS\n",
      " Volume Serial Number is FE0E-8CB5\n",
      "\n",
      " Directory of C:\\Users\\Swapnil\\Ineuron Practice\n",
      "\n",
      "18-06-2023  21:55    <DIR>          .\n",
      "18-06-2023  15:11    <DIR>          ..\n",
      "14-05-2023  00:51    <DIR>          .idea\n",
      "18-06-2023  09:58    <DIR>          .ipynb_checkpoints\n",
      "28-05-2023  20:15             5,215 API.ipynb\n",
      "03-06-2023  19:43             6,389 APPLICATION PROGRAMMING INTERFACE TASK PENDING.ipynb\n",
      "23-04-2023  13:05             7,460 Assignment 1.ipynb\n",
      "23-04-2023  14:45             5,154 Assignment 2.ipynb\n",
      "21-05-2023  19:49    <DIR>          CHEAT ASSIGNMENTS\n",
      "30-04-2023  13:32            35,477 conditional statement - if , elif, else.ipynb\n",
      "29-04-2023  15:37            13,459 DICT.ipynb\n",
      "28-05-2023  18:00            44,178 EDA .ipynb\n",
      "27-05-2023  19:56         3,543,320 EDA DATA VISUALIZATION .ipynb\n",
      "28-05-2023  15:38         1,574,541 EDA- Part 1.ipynb\n",
      "17-06-2023  22:15            17,208 Exception handling .ipynb\n",
      "13-05-2023  03:58            88,515 fitbit.jason\n",
      "13-05-2023  13:51            88,515 fitbit.json\n",
      "30-04-2023  16:45            41,960 for loop practice.ipynb\n",
      "01-05-2023  07:42            27,582 FOR LOOP.ipynb\n",
      "13-05-2023  00:48            37,569 FSDS11thaug.pdf\n",
      "27-05-2023  18:38         1,794,021 Graph .ipynb\n",
      "18-06-2023  16:21                 0 HYDHJJD.txt\n",
      "18-06-2023  21:55            18,781 ITERATOR, GENERATOR, MAP, REDUCE, FILTER, BASIC FILE OPERATION.ipynb\n",
      "01-05-2023  08:04            83,390 List , tuples , dict , set .ipynb\n",
      "01-05-2023  22:00             9,864 list task.ipynb\n",
      "10-06-2023  12:22            30,683 LIST.ipynb\n",
      "18-06-2023  21:57                 0 list.txt\n",
      "13-05-2023  02:44               457 Mongodb with python.py\n",
      "07-05-2023  22:28             8,514 mongodb.txt\n",
      "13-05-2023  02:44             9,157 NO SQL MONGODB.py\n",
      "21-05-2023  11:51           465,908 Numpy and basic of graph.ipynb\n",
      "21-05-2023  14:10            47,787 NUMPY.ipynb\n",
      "12-05-2023  21:05           423,949 pandas class 2.ipynb\n",
      "21-05-2023  01:11           141,385 pandas class 3 - with task .ipynb\n",
      "20-05-2023  14:11           913,519 PANDAS LIBRARY .ipynb\n",
      "13-05-2023  20:38           121,522 PANDAS TASK CARS DATASET.ipynb\n",
      "14-05-2023  04:59         3,099,061 PANDAS TASK CENSUS DATASET.ipynb\n",
      "14-05-2023  00:38            59,409 PANDAS TASK COVID DATA SET.ipynb\n",
      "22-05-2023  00:34            88,792 PANDAS TASK FITBIT DATASET .ipynb\n",
      "14-05-2023  03:07            54,545 PANDAS TASK LONDON HOUSING DATA.ipynb\n",
      "16-05-2023  10:54           212,847 PANDAS TASK NETFLIX DATASET.ipynb\n",
      "13-05-2023  23:07            63,910 PANDAS TASK POLICE DATA SET.ipynb\n",
      "20-05-2023  14:35           203,125 PANDAS TASK SUPERSTORE DATASET.ipynb\n",
      "18-05-2023  11:04           312,682 PANDAS TASK SURVEY DATA SET.ipynb\n",
      "14-05-2023  11:07           123,607 PANDAS TASK UDEMY DATASET.ipynb\n",
      "13-05-2023  18:15           193,413 PANDAS TASK WEATHER DATA SET.ipynb\n",
      "13-05-2023  00:33           913,494 Pandas.ipynb\n",
      "19-05-2023  09:34           238,869 PANDAS_PIVOT TASK .ipynb\n",
      "06-05-2023  18:29               444 p-s connectivity 1.py\n",
      "06-05-2023  14:43               642 p-s connectivity 2.py\n",
      "06-05-2023  14:43               296 p-s connectivity 3.py\n",
      "06-05-2023  14:43                 2 p-s.py\n",
      "21-05-2023  19:26            10,767 PYTHON BASIC ASSIGNMENT 1.ipynb\n",
      "21-05-2023  20:32            14,259 PYTHON BASIC ASSIGNMENT 2.ipynb\n",
      "27-05-2023  18:30            15,244 PYTHON BASIC ASSIGNMENT 3.ipynb\n",
      "27-05-2023  18:30            17,628 PYTHON BASIC ASSIGNMENT 4.ipynb\n",
      "27-05-2023  18:30            14,619 PYTHON BASIC ASSIGNMENT 5.ipynb\n",
      "27-05-2023  18:30            19,103 PYTHON BASIC ASSIGNMENT 6.ipynb\n",
      "18-06-2023  20:03    <DIR>          PYTHON BASIC ASSIGNMENTS\n",
      "10-06-2023  15:54    <DIR>          PYTHON BASIC PROGRAMMING ASSIGNMENT\n",
      "17-06-2023  15:49    <DIR>          PYTHON CLASS\n",
      "13-05-2023  02:46               395 Python-sql connnection.py\n",
      "03-06-2023  20:55           310,900 REVIEW SCRAPPER PENDING.ipynb\n",
      "01-05-2023  22:03           113,561 Revision and task solving (1).ipynb\n",
      "29-04-2023  16:08            12,521 SET.ipynb\n",
      "07-05-2023  01:24             7,137 sql mongodb and git .txt\n",
      "13-05-2023  02:42             5,625 SQL.sql\n",
      "27-05-2023  16:49            13,396 STAR PATTERNS USING LOOP.ipynb\n",
      "30-04-2023  00:52            19,406 STATEMENTS.ipynb\n",
      "01-05-2023  08:05            86,596 string .ipynb\n",
      "01-05-2023  09:43            13,840 String task.ipynb\n",
      "29-04-2023  16:32            48,877 STRING.ipynb\n",
      "18-06-2023  20:34               102 sunday.txt\n",
      "20-05-2023  12:55         4,007,322 superstore.json\n",
      "18-06-2023  21:57                31 swap.txt\n",
      "13-05-2023  02:45               444 table cration in python and visualization in sql .py\n",
      "01-05-2023  22:04            23,946 Task 3.ipynb\n",
      "11-05-2023  00:41            94,421 test.json\n",
      "18-06-2023  21:57                16 test.txt\n",
      "29-04-2023  14:56            10,723 TUPLE.ipynb\n",
      "21-05-2023  20:54    <DIR>          Untiled folder\n",
      "14-06-2023  11:53                72 Untitled.ipynb\n",
      "01-05-2023  07:53         3,648,199 WHILE LOOP.ipynb\n",
      "01-05-2023  07:49         3,644,399 WHILE.ipynb\n",
      "              75 File(s)     27,324,166 bytes\n",
      "               9 Dir(s)  190,041,247,744 bytes free\n"
     ]
    }
   ],
   "source": [
    "ls"
   ]
  },
  {
   "cell_type": "code",
   "execution_count": 83,
   "id": "2f2eac7c",
   "metadata": {},
   "outputs": [],
   "source": [
    "f3.close()"
   ]
  },
  {
   "cell_type": "code",
   "execution_count": 84,
   "id": "32f77115",
   "metadata": {},
   "outputs": [
    {
     "name": "stdout",
     "output_type": "stream",
     "text": [
      " Volume in drive C is OS\n",
      " Volume Serial Number is FE0E-8CB5\n",
      "\n",
      " Directory of C:\\Users\\Swapnil\\Ineuron Practice\n",
      "\n",
      "18-06-2023  21:55    <DIR>          .\n",
      "18-06-2023  15:11    <DIR>          ..\n",
      "14-05-2023  00:51    <DIR>          .idea\n",
      "18-06-2023  09:58    <DIR>          .ipynb_checkpoints\n",
      "28-05-2023  20:15             5,215 API.ipynb\n",
      "03-06-2023  19:43             6,389 APPLICATION PROGRAMMING INTERFACE TASK PENDING.ipynb\n",
      "23-04-2023  13:05             7,460 Assignment 1.ipynb\n",
      "23-04-2023  14:45             5,154 Assignment 2.ipynb\n",
      "21-05-2023  19:49    <DIR>          CHEAT ASSIGNMENTS\n",
      "30-04-2023  13:32            35,477 conditional statement - if , elif, else.ipynb\n",
      "29-04-2023  15:37            13,459 DICT.ipynb\n",
      "28-05-2023  18:00            44,178 EDA .ipynb\n",
      "27-05-2023  19:56         3,543,320 EDA DATA VISUALIZATION .ipynb\n",
      "28-05-2023  15:38         1,574,541 EDA- Part 1.ipynb\n",
      "17-06-2023  22:15            17,208 Exception handling .ipynb\n",
      "13-05-2023  03:58            88,515 fitbit.jason\n",
      "13-05-2023  13:51            88,515 fitbit.json\n",
      "30-04-2023  16:45            41,960 for loop practice.ipynb\n",
      "01-05-2023  07:42            27,582 FOR LOOP.ipynb\n",
      "13-05-2023  00:48            37,569 FSDS11thaug.pdf\n",
      "27-05-2023  18:38         1,794,021 Graph .ipynb\n",
      "18-06-2023  16:21                 0 HYDHJJD.txt\n",
      "18-06-2023  21:55            18,781 ITERATOR, GENERATOR, MAP, REDUCE, FILTER, BASIC FILE OPERATION.ipynb\n",
      "01-05-2023  08:04            83,390 List , tuples , dict , set .ipynb\n",
      "01-05-2023  22:00             9,864 list task.ipynb\n",
      "10-06-2023  12:22            30,683 LIST.ipynb\n",
      "18-06-2023  21:57                24 list.txt\n",
      "13-05-2023  02:44               457 Mongodb with python.py\n",
      "07-05-2023  22:28             8,514 mongodb.txt\n",
      "13-05-2023  02:44             9,157 NO SQL MONGODB.py\n",
      "21-05-2023  11:51           465,908 Numpy and basic of graph.ipynb\n",
      "21-05-2023  14:10            47,787 NUMPY.ipynb\n",
      "12-05-2023  21:05           423,949 pandas class 2.ipynb\n",
      "21-05-2023  01:11           141,385 pandas class 3 - with task .ipynb\n",
      "20-05-2023  14:11           913,519 PANDAS LIBRARY .ipynb\n",
      "13-05-2023  20:38           121,522 PANDAS TASK CARS DATASET.ipynb\n",
      "14-05-2023  04:59         3,099,061 PANDAS TASK CENSUS DATASET.ipynb\n",
      "14-05-2023  00:38            59,409 PANDAS TASK COVID DATA SET.ipynb\n",
      "22-05-2023  00:34            88,792 PANDAS TASK FITBIT DATASET .ipynb\n",
      "14-05-2023  03:07            54,545 PANDAS TASK LONDON HOUSING DATA.ipynb\n",
      "16-05-2023  10:54           212,847 PANDAS TASK NETFLIX DATASET.ipynb\n",
      "13-05-2023  23:07            63,910 PANDAS TASK POLICE DATA SET.ipynb\n",
      "20-05-2023  14:35           203,125 PANDAS TASK SUPERSTORE DATASET.ipynb\n",
      "18-05-2023  11:04           312,682 PANDAS TASK SURVEY DATA SET.ipynb\n",
      "14-05-2023  11:07           123,607 PANDAS TASK UDEMY DATASET.ipynb\n",
      "13-05-2023  18:15           193,413 PANDAS TASK WEATHER DATA SET.ipynb\n",
      "13-05-2023  00:33           913,494 Pandas.ipynb\n",
      "19-05-2023  09:34           238,869 PANDAS_PIVOT TASK .ipynb\n",
      "06-05-2023  18:29               444 p-s connectivity 1.py\n",
      "06-05-2023  14:43               642 p-s connectivity 2.py\n",
      "06-05-2023  14:43               296 p-s connectivity 3.py\n",
      "06-05-2023  14:43                 2 p-s.py\n",
      "21-05-2023  19:26            10,767 PYTHON BASIC ASSIGNMENT 1.ipynb\n",
      "21-05-2023  20:32            14,259 PYTHON BASIC ASSIGNMENT 2.ipynb\n",
      "27-05-2023  18:30            15,244 PYTHON BASIC ASSIGNMENT 3.ipynb\n",
      "27-05-2023  18:30            17,628 PYTHON BASIC ASSIGNMENT 4.ipynb\n",
      "27-05-2023  18:30            14,619 PYTHON BASIC ASSIGNMENT 5.ipynb\n",
      "27-05-2023  18:30            19,103 PYTHON BASIC ASSIGNMENT 6.ipynb\n",
      "18-06-2023  20:03    <DIR>          PYTHON BASIC ASSIGNMENTS\n",
      "10-06-2023  15:54    <DIR>          PYTHON BASIC PROGRAMMING ASSIGNMENT\n",
      "17-06-2023  15:49    <DIR>          PYTHON CLASS\n",
      "13-05-2023  02:46               395 Python-sql connnection.py\n",
      "03-06-2023  20:55           310,900 REVIEW SCRAPPER PENDING.ipynb\n",
      "01-05-2023  22:03           113,561 Revision and task solving (1).ipynb\n",
      "29-04-2023  16:08            12,521 SET.ipynb\n",
      "07-05-2023  01:24             7,137 sql mongodb and git .txt\n",
      "13-05-2023  02:42             5,625 SQL.sql\n",
      "27-05-2023  16:49            13,396 STAR PATTERNS USING LOOP.ipynb\n",
      "30-04-2023  00:52            19,406 STATEMENTS.ipynb\n",
      "01-05-2023  08:05            86,596 string .ipynb\n",
      "01-05-2023  09:43            13,840 String task.ipynb\n",
      "29-04-2023  16:32            48,877 STRING.ipynb\n",
      "18-06-2023  20:34               102 sunday.txt\n",
      "20-05-2023  12:55         4,007,322 superstore.json\n",
      "18-06-2023  21:57                31 swap.txt\n",
      "13-05-2023  02:45               444 table cration in python and visualization in sql .py\n",
      "01-05-2023  22:04            23,946 Task 3.ipynb\n",
      "11-05-2023  00:41            94,421 test.json\n",
      "18-06-2023  21:57                16 test.txt\n",
      "29-04-2023  14:56            10,723 TUPLE.ipynb\n",
      "21-05-2023  20:54    <DIR>          Untiled folder\n",
      "14-06-2023  11:53                72 Untitled.ipynb\n",
      "01-05-2023  07:53         3,648,199 WHILE LOOP.ipynb\n",
      "01-05-2023  07:49         3,644,399 WHILE.ipynb\n",
      "              75 File(s)     27,324,190 bytes\n",
      "               9 Dir(s)  190,041,239,552 bytes free\n"
     ]
    }
   ],
   "source": [
    "ls"
   ]
  },
  {
   "cell_type": "code",
   "execution_count": 85,
   "id": "d130f4b2",
   "metadata": {},
   "outputs": [
    {
     "name": "stdout",
     "output_type": "stream",
     "text": [
      "Overwriting test.txt\n"
     ]
    }
   ],
   "source": [
    "%%writefile test.txt\n",
    "this is my file for i/o file \n",
    "this is my file for i/o file\n",
    "this is my file for i/o file\n"
   ]
  },
  {
   "cell_type": "code",
   "execution_count": 86,
   "id": "df073431",
   "metadata": {},
   "outputs": [],
   "source": [
    "f1=open(\"test.txt\")"
   ]
  },
  {
   "cell_type": "code",
   "execution_count": 87,
   "id": "6952e753",
   "metadata": {},
   "outputs": [
    {
     "data": {
      "text/plain": [
       "'this is my file for i/o file \\nthis is my file for i/o file\\nthis is my file for i/o file\\n'"
      ]
     },
     "execution_count": 87,
     "metadata": {},
     "output_type": "execute_result"
    }
   ],
   "source": [
    "f1.read()"
   ]
  },
  {
   "cell_type": "code",
   "execution_count": 88,
   "id": "06fe099e",
   "metadata": {},
   "outputs": [
    {
     "data": {
      "text/plain": [
       "''"
      ]
     },
     "execution_count": 88,
     "metadata": {},
     "output_type": "execute_result"
    }
   ],
   "source": [
    "f1.read()"
   ]
  },
  {
   "cell_type": "code",
   "execution_count": 89,
   "id": "36fdb50d",
   "metadata": {},
   "outputs": [
    {
     "data": {
      "text/plain": [
       "0"
      ]
     },
     "execution_count": 89,
     "metadata": {},
     "output_type": "execute_result"
    }
   ],
   "source": [
    "f1.seek(0)"
   ]
  },
  {
   "cell_type": "code",
   "execution_count": 90,
   "id": "9747ff0b",
   "metadata": {},
   "outputs": [
    {
     "data": {
      "text/plain": [
       "'this is my file for i/o file \\nthis is my file for i/o file\\nthis is my file for i/o file\\n'"
      ]
     },
     "execution_count": 90,
     "metadata": {},
     "output_type": "execute_result"
    }
   ],
   "source": [
    "f1.read()"
   ]
  },
  {
   "cell_type": "code",
   "execution_count": 91,
   "id": "e1cc847f",
   "metadata": {},
   "outputs": [
    {
     "data": {
      "text/plain": [
       "''"
      ]
     },
     "execution_count": 91,
     "metadata": {},
     "output_type": "execute_result"
    }
   ],
   "source": [
    "f1.read()"
   ]
  },
  {
   "cell_type": "code",
   "execution_count": 92,
   "id": "425b2342",
   "metadata": {},
   "outputs": [
    {
     "data": {
      "text/plain": [
       "0"
      ]
     },
     "execution_count": 92,
     "metadata": {},
     "output_type": "execute_result"
    }
   ],
   "source": [
    "f1.seek(0)"
   ]
  },
  {
   "cell_type": "code",
   "execution_count": 93,
   "id": "9338d764",
   "metadata": {},
   "outputs": [
    {
     "data": {
      "text/plain": [
       "'this is my file for i/o file \\nthis is my file for i/o file\\nthis is my file for i/o file\\n'"
      ]
     },
     "execution_count": 93,
     "metadata": {},
     "output_type": "execute_result"
    }
   ],
   "source": [
    "f1.read()"
   ]
  },
  {
   "cell_type": "code",
   "execution_count": 94,
   "id": "31ace5f0",
   "metadata": {},
   "outputs": [
    {
     "data": {
      "text/plain": [
       "4"
      ]
     },
     "execution_count": 94,
     "metadata": {},
     "output_type": "execute_result"
    }
   ],
   "source": [
    "f1.seek(4)"
   ]
  },
  {
   "cell_type": "code",
   "execution_count": 95,
   "id": "697bd2fa",
   "metadata": {},
   "outputs": [
    {
     "data": {
      "text/plain": [
       "' is my file for i/o file \\nthis is my file for i/o file\\nthis is my file for i/o file\\n'"
      ]
     },
     "execution_count": 95,
     "metadata": {},
     "output_type": "execute_result"
    }
   ],
   "source": [
    "f1.read()"
   ]
  },
  {
   "cell_type": "code",
   "execution_count": 96,
   "id": "50f9a429",
   "metadata": {},
   "outputs": [],
   "source": [
    "f1=open(\"test.txt\")"
   ]
  },
  {
   "cell_type": "code",
   "execution_count": 97,
   "id": "fdbb531b",
   "metadata": {},
   "outputs": [
    {
     "data": {
      "text/plain": [
       "0"
      ]
     },
     "execution_count": 97,
     "metadata": {},
     "output_type": "execute_result"
    }
   ],
   "source": [
    "f1.tell()"
   ]
  },
  {
   "cell_type": "code",
   "execution_count": 98,
   "id": "d45da8ce",
   "metadata": {},
   "outputs": [
    {
     "data": {
      "text/plain": [
       "'this is my file for i/o file \\nthis is my file for i/o file\\nthis is my file for i/o file\\n'"
      ]
     },
     "execution_count": 98,
     "metadata": {},
     "output_type": "execute_result"
    }
   ],
   "source": [
    "f1.read()\n"
   ]
  },
  {
   "cell_type": "code",
   "execution_count": 99,
   "id": "34d8148b",
   "metadata": {},
   "outputs": [
    {
     "data": {
      "text/plain": [
       "91"
      ]
     },
     "execution_count": 99,
     "metadata": {},
     "output_type": "execute_result"
    }
   ],
   "source": [
    "f1.tell()"
   ]
  },
  {
   "cell_type": "code",
   "execution_count": 100,
   "id": "8cb5c5a2",
   "metadata": {},
   "outputs": [
    {
     "data": {
      "text/plain": [
       "5"
      ]
     },
     "execution_count": 100,
     "metadata": {},
     "output_type": "execute_result"
    }
   ],
   "source": [
    "f1.seek(5)"
   ]
  },
  {
   "cell_type": "code",
   "execution_count": 101,
   "id": "dfdadb79",
   "metadata": {},
   "outputs": [
    {
     "data": {
      "text/plain": [
       "5"
      ]
     },
     "execution_count": 101,
     "metadata": {},
     "output_type": "execute_result"
    }
   ],
   "source": [
    "f1.tell()"
   ]
  },
  {
   "cell_type": "code",
   "execution_count": 102,
   "id": "fd8b1199",
   "metadata": {},
   "outputs": [
    {
     "data": {
      "text/plain": [
       "'is my file for '"
      ]
     },
     "execution_count": 102,
     "metadata": {},
     "output_type": "execute_result"
    }
   ],
   "source": [
    "f1.read(15)"
   ]
  },
  {
   "cell_type": "code",
   "execution_count": 105,
   "id": "06bdd498",
   "metadata": {},
   "outputs": [],
   "source": [
    "f1=open(\"test.txt\")"
   ]
  },
  {
   "cell_type": "code",
   "execution_count": 104,
   "id": "82ad2045",
   "metadata": {},
   "outputs": [
    {
     "data": {
      "text/plain": [
       "'this is my file for i/o file \\nthis is my file for i/o file\\nthis is my file for i/o file\\n'"
      ]
     },
     "execution_count": 104,
     "metadata": {},
     "output_type": "execute_result"
    }
   ],
   "source": [
    "f1.read()"
   ]
  },
  {
   "cell_type": "code",
   "execution_count": 106,
   "id": "daf9ccfd",
   "metadata": {},
   "outputs": [
    {
     "data": {
      "text/plain": [
       "['this is my file for i/o file \\n',\n",
       " 'this is my file for i/o file\\n',\n",
       " 'this is my file for i/o file\\n']"
      ]
     },
     "execution_count": 106,
     "metadata": {},
     "output_type": "execute_result"
    }
   ],
   "source": [
    "f1.readlines()"
   ]
  },
  {
   "cell_type": "code",
   "execution_count": 107,
   "id": "c3bbb745",
   "metadata": {},
   "outputs": [
    {
     "ename": "ValueError",
     "evalue": "I/O operation on closed file",
     "output_type": "error",
     "traceback": [
      "\u001b[1;31m---------------------------------------------------------------------------\u001b[0m",
      "\u001b[1;31mValueError\u001b[0m                                Traceback (most recent call last)",
      "\u001b[1;32m~\\AppData\\Local\\Temp\\ipykernel_15080\\1932113692.py\u001b[0m in \u001b[0;36m<module>\u001b[1;34m\u001b[0m\n\u001b[1;32m----> 1\u001b[1;33m \u001b[0mf3\u001b[0m\u001b[1;33m.\u001b[0m\u001b[0mfileno\u001b[0m\u001b[1;33m(\u001b[0m\u001b[1;33m)\u001b[0m\u001b[1;33m\u001b[0m\u001b[1;33m\u001b[0m\u001b[0m\n\u001b[0m",
      "\u001b[1;31mValueError\u001b[0m: I/O operation on closed file"
     ]
    }
   ],
   "source": [
    "f3.fileno()"
   ]
  },
  {
   "cell_type": "code",
   "execution_count": 108,
   "id": "d3775fd6",
   "metadata": {},
   "outputs": [],
   "source": [
    "s=open(\"test.txt\", \"w\")"
   ]
  },
  {
   "cell_type": "code",
   "execution_count": 109,
   "id": "9e36058e",
   "metadata": {},
   "outputs": [
    {
     "data": {
      "text/plain": [
       "40"
      ]
     },
     "execution_count": 109,
     "metadata": {},
     "output_type": "execute_result"
    }
   ],
   "source": [
    "s.write(\"today is sunday ,tomorrow will be monday\")"
   ]
  },
  {
   "cell_type": "code",
   "execution_count": 110,
   "id": "631be1be",
   "metadata": {},
   "outputs": [],
   "source": [
    "s.close()"
   ]
  },
  {
   "cell_type": "code",
   "execution_count": 111,
   "id": "03bf2d09",
   "metadata": {},
   "outputs": [
    {
     "name": "stdout",
     "output_type": "stream",
     "text": [
      " Volume in drive C is OS\n",
      " Volume Serial Number is FE0E-8CB5\n",
      "\n",
      " Directory of C:\\Users\\Swapnil\\Ineuron Practice\n",
      "\n",
      "18-06-2023  21:55    <DIR>          .\n",
      "18-06-2023  15:11    <DIR>          ..\n",
      "14-05-2023  00:51    <DIR>          .idea\n",
      "18-06-2023  09:58    <DIR>          .ipynb_checkpoints\n",
      "28-05-2023  20:15             5,215 API.ipynb\n",
      "03-06-2023  19:43             6,389 APPLICATION PROGRAMMING INTERFACE TASK PENDING.ipynb\n",
      "23-04-2023  13:05             7,460 Assignment 1.ipynb\n",
      "23-04-2023  14:45             5,154 Assignment 2.ipynb\n",
      "21-05-2023  19:49    <DIR>          CHEAT ASSIGNMENTS\n",
      "30-04-2023  13:32            35,477 conditional statement - if , elif, else.ipynb\n",
      "29-04-2023  15:37            13,459 DICT.ipynb\n",
      "28-05-2023  18:00            44,178 EDA .ipynb\n",
      "27-05-2023  19:56         3,543,320 EDA DATA VISUALIZATION .ipynb\n",
      "28-05-2023  15:38         1,574,541 EDA- Part 1.ipynb\n",
      "17-06-2023  22:15            17,208 Exception handling .ipynb\n",
      "13-05-2023  03:58            88,515 fitbit.jason\n",
      "13-05-2023  13:51            88,515 fitbit.json\n",
      "30-04-2023  16:45            41,960 for loop practice.ipynb\n",
      "01-05-2023  07:42            27,582 FOR LOOP.ipynb\n",
      "13-05-2023  00:48            37,569 FSDS11thaug.pdf\n",
      "27-05-2023  18:38         1,794,021 Graph .ipynb\n",
      "18-06-2023  16:21                 0 HYDHJJD.txt\n",
      "18-06-2023  21:55            18,781 ITERATOR, GENERATOR, MAP, REDUCE, FILTER, BASIC FILE OPERATION.ipynb\n",
      "01-05-2023  08:04            83,390 List , tuples , dict , set .ipynb\n",
      "01-05-2023  22:00             9,864 list task.ipynb\n",
      "10-06-2023  12:22            30,683 LIST.ipynb\n",
      "18-06-2023  21:57                24 list.txt\n",
      "13-05-2023  02:44               457 Mongodb with python.py\n",
      "07-05-2023  22:28             8,514 mongodb.txt\n",
      "13-05-2023  02:44             9,157 NO SQL MONGODB.py\n",
      "21-05-2023  11:51           465,908 Numpy and basic of graph.ipynb\n",
      "21-05-2023  14:10            47,787 NUMPY.ipynb\n",
      "12-05-2023  21:05           423,949 pandas class 2.ipynb\n",
      "21-05-2023  01:11           141,385 pandas class 3 - with task .ipynb\n",
      "20-05-2023  14:11           913,519 PANDAS LIBRARY .ipynb\n",
      "13-05-2023  20:38           121,522 PANDAS TASK CARS DATASET.ipynb\n",
      "14-05-2023  04:59         3,099,061 PANDAS TASK CENSUS DATASET.ipynb\n",
      "14-05-2023  00:38            59,409 PANDAS TASK COVID DATA SET.ipynb\n",
      "22-05-2023  00:34            88,792 PANDAS TASK FITBIT DATASET .ipynb\n",
      "14-05-2023  03:07            54,545 PANDAS TASK LONDON HOUSING DATA.ipynb\n",
      "16-05-2023  10:54           212,847 PANDAS TASK NETFLIX DATASET.ipynb\n",
      "13-05-2023  23:07            63,910 PANDAS TASK POLICE DATA SET.ipynb\n",
      "20-05-2023  14:35           203,125 PANDAS TASK SUPERSTORE DATASET.ipynb\n",
      "18-05-2023  11:04           312,682 PANDAS TASK SURVEY DATA SET.ipynb\n",
      "14-05-2023  11:07           123,607 PANDAS TASK UDEMY DATASET.ipynb\n",
      "13-05-2023  18:15           193,413 PANDAS TASK WEATHER DATA SET.ipynb\n",
      "13-05-2023  00:33           913,494 Pandas.ipynb\n",
      "19-05-2023  09:34           238,869 PANDAS_PIVOT TASK .ipynb\n",
      "06-05-2023  18:29               444 p-s connectivity 1.py\n",
      "06-05-2023  14:43               642 p-s connectivity 2.py\n",
      "06-05-2023  14:43               296 p-s connectivity 3.py\n",
      "06-05-2023  14:43                 2 p-s.py\n",
      "21-05-2023  19:26            10,767 PYTHON BASIC ASSIGNMENT 1.ipynb\n",
      "21-05-2023  20:32            14,259 PYTHON BASIC ASSIGNMENT 2.ipynb\n",
      "27-05-2023  18:30            15,244 PYTHON BASIC ASSIGNMENT 3.ipynb\n",
      "27-05-2023  18:30            17,628 PYTHON BASIC ASSIGNMENT 4.ipynb\n",
      "27-05-2023  18:30            14,619 PYTHON BASIC ASSIGNMENT 5.ipynb\n",
      "27-05-2023  18:30            19,103 PYTHON BASIC ASSIGNMENT 6.ipynb\n",
      "18-06-2023  20:03    <DIR>          PYTHON BASIC ASSIGNMENTS\n",
      "10-06-2023  15:54    <DIR>          PYTHON BASIC PROGRAMMING ASSIGNMENT\n",
      "17-06-2023  15:49    <DIR>          PYTHON CLASS\n",
      "13-05-2023  02:46               395 Python-sql connnection.py\n",
      "03-06-2023  20:55           310,900 REVIEW SCRAPPER PENDING.ipynb\n",
      "01-05-2023  22:03           113,561 Revision and task solving (1).ipynb\n",
      "29-04-2023  16:08            12,521 SET.ipynb\n",
      "07-05-2023  01:24             7,137 sql mongodb and git .txt\n",
      "13-05-2023  02:42             5,625 SQL.sql\n",
      "27-05-2023  16:49            13,396 STAR PATTERNS USING LOOP.ipynb\n",
      "30-04-2023  00:52            19,406 STATEMENTS.ipynb\n",
      "01-05-2023  08:05            86,596 string .ipynb\n",
      "01-05-2023  09:43            13,840 String task.ipynb\n",
      "29-04-2023  16:32            48,877 STRING.ipynb\n",
      "18-06-2023  20:34               102 sunday.txt\n",
      "20-05-2023  12:55         4,007,322 superstore.json\n",
      "18-06-2023  21:57                31 swap.txt\n",
      "13-05-2023  02:45               444 table cration in python and visualization in sql .py\n",
      "01-05-2023  22:04            23,946 Task 3.ipynb\n",
      "11-05-2023  00:41            94,421 test.json\n",
      "18-06-2023  21:57                40 test.txt\n",
      "29-04-2023  14:56            10,723 TUPLE.ipynb\n",
      "21-05-2023  20:54    <DIR>          Untiled folder\n",
      "14-06-2023  11:53                72 Untitled.ipynb\n",
      "01-05-2023  07:53         3,648,199 WHILE LOOP.ipynb\n",
      "01-05-2023  07:49         3,644,399 WHILE.ipynb\n",
      "              75 File(s)     27,324,214 bytes\n",
      "               9 Dir(s)  190,039,732,224 bytes free\n"
     ]
    }
   ],
   "source": [
    "ls"
   ]
  },
  {
   "cell_type": "code",
   "execution_count": 112,
   "id": "13a4af01",
   "metadata": {},
   "outputs": [],
   "source": [
    "k=open(\"sunday.txt\", \"w\")"
   ]
  },
  {
   "cell_type": "code",
   "execution_count": 113,
   "id": "af2fce5f",
   "metadata": {},
   "outputs": [
    {
     "data": {
      "text/plain": [
       "87"
      ]
     },
     "execution_count": 113,
     "metadata": {},
     "output_type": "execute_result"
    }
   ],
   "source": [
    "k.write(\"swapnil devgir gosavi, aarti swapnil gosavi swapnil devgir gosavi, aarti swapnil gosavi\")"
   ]
  },
  {
   "cell_type": "code",
   "execution_count": 114,
   "id": "6e973bde",
   "metadata": {},
   "outputs": [],
   "source": [
    "k.close()"
   ]
  },
  {
   "cell_type": "code",
   "execution_count": 115,
   "id": "54aecdf0",
   "metadata": {},
   "outputs": [
    {
     "ename": "ValueError",
     "evalue": "I/O operation on closed file.",
     "output_type": "error",
     "traceback": [
      "\u001b[1;31m---------------------------------------------------------------------------\u001b[0m",
      "\u001b[1;31mValueError\u001b[0m                                Traceback (most recent call last)",
      "\u001b[1;32m~\\AppData\\Local\\Temp\\ipykernel_15080\\2850329853.py\u001b[0m in \u001b[0;36m<module>\u001b[1;34m\u001b[0m\n\u001b[1;32m----> 1\u001b[1;33m \u001b[0mk\u001b[0m\u001b[1;33m.\u001b[0m\u001b[0mwrite\u001b[0m\u001b[1;33m(\u001b[0m\u001b[1;34m\"sbghshsjjjsjjksjksjksjk\"\u001b[0m\u001b[1;33m)\u001b[0m\u001b[1;33m\u001b[0m\u001b[1;33m\u001b[0m\u001b[0m\n\u001b[0m",
      "\u001b[1;31mValueError\u001b[0m: I/O operation on closed file."
     ]
    }
   ],
   "source": [
    "k.write(\"sbghshsjjjsjjksjksjksjk\")"
   ]
  },
  {
   "cell_type": "code",
   "execution_count": 116,
   "id": "423663db",
   "metadata": {},
   "outputs": [],
   "source": [
    "k.close()"
   ]
  },
  {
   "cell_type": "code",
   "execution_count": 117,
   "id": "8f5f12be",
   "metadata": {},
   "outputs": [],
   "source": [
    "k=open(\"sunday.txt\", \"w\")"
   ]
  },
  {
   "cell_type": "code",
   "execution_count": 118,
   "id": "7c8f95a9",
   "metadata": {},
   "outputs": [],
   "source": [
    "k=open(\"sunday.txt\", \"a\")"
   ]
  },
  {
   "cell_type": "code",
   "execution_count": 119,
   "id": "873e7351",
   "metadata": {},
   "outputs": [
    {
     "data": {
      "text/plain": [
       "87"
      ]
     },
     "execution_count": 119,
     "metadata": {},
     "output_type": "execute_result"
    }
   ],
   "source": [
    "k.write(\"swapnil devgir gosavi, aarti swapnil gosavi swapnil devgir gosavi, aarti swapnil gosavi\")"
   ]
  },
  {
   "cell_type": "code",
   "execution_count": 120,
   "id": "39fa9c79",
   "metadata": {},
   "outputs": [],
   "source": [
    "k.close()"
   ]
  },
  {
   "cell_type": "code",
   "execution_count": 121,
   "id": "6cc8dc2d",
   "metadata": {},
   "outputs": [],
   "source": [
    "k=open(\"sunday.txt\", \"w\")"
   ]
  },
  {
   "cell_type": "code",
   "execution_count": 122,
   "id": "06186201",
   "metadata": {},
   "outputs": [
    {
     "data": {
      "text/plain": [
       "87"
      ]
     },
     "execution_count": 122,
     "metadata": {},
     "output_type": "execute_result"
    }
   ],
   "source": [
    "k.write(\"swapnil devgir gosavi, aarti swapnil gosavi swapnil devgir gosavi, aarti swapnil gosavi\")"
   ]
  },
  {
   "cell_type": "code",
   "execution_count": 123,
   "id": "d88ab5a4",
   "metadata": {},
   "outputs": [],
   "source": [
    "k=open(\"sunday.txt\", \"a\")"
   ]
  },
  {
   "cell_type": "code",
   "execution_count": 124,
   "id": "b89f7f97",
   "metadata": {},
   "outputs": [
    {
     "data": {
      "text/plain": [
       "15"
      ]
     },
     "execution_count": 124,
     "metadata": {},
     "output_type": "execute_result"
    }
   ],
   "source": [
    "k.write(\"jskhbjkslkklskl\")"
   ]
  },
  {
   "cell_type": "code",
   "execution_count": 125,
   "id": "f32a73cf",
   "metadata": {},
   "outputs": [],
   "source": [
    "k.close()"
   ]
  },
  {
   "cell_type": "code",
   "execution_count": 126,
   "id": "21207da6",
   "metadata": {},
   "outputs": [],
   "source": [
    "#map , reduce,filter"
   ]
  },
  {
   "cell_type": "code",
   "execution_count": 127,
   "id": "3df1e319",
   "metadata": {},
   "outputs": [],
   "source": [
    "l=[2,3,4,5,6]\n",
    "l1=[]\n",
    "for i in l:\n",
    "    l1.append(i**2)\n",
    "    "
   ]
  },
  {
   "cell_type": "code",
   "execution_count": 135,
   "id": "cdd69b31",
   "metadata": {},
   "outputs": [
    {
     "data": {
      "text/plain": [
       "[4, 9, 16, 25, 36]"
      ]
     },
     "execution_count": 135,
     "metadata": {},
     "output_type": "execute_result"
    }
   ],
   "source": [
    "l1"
   ]
  },
  {
   "cell_type": "code",
   "execution_count": 138,
   "id": "3d6a15d6",
   "metadata": {},
   "outputs": [],
   "source": [
    "def sq(n):\n",
    "    return n*n"
   ]
  },
  {
   "cell_type": "code",
   "execution_count": 140,
   "id": "196b4dd5",
   "metadata": {},
   "outputs": [
    {
     "data": {
      "text/plain": [
       "[4, 9, 16, 25, 36]"
      ]
     },
     "execution_count": 140,
     "metadata": {},
     "output_type": "execute_result"
    }
   ],
   "source": [
    "list(map(sq, l))"
   ]
  },
  {
   "cell_type": "code",
   "execution_count": 143,
   "id": "ab233acb",
   "metadata": {},
   "outputs": [
    {
     "data": {
      "text/plain": [
       "[4, 9, 16, 25, 36]"
      ]
     },
     "execution_count": 143,
     "metadata": {},
     "output_type": "execute_result"
    }
   ],
   "source": [
    "list(map(lambda x:x*x,l))"
   ]
  },
  {
   "cell_type": "code",
   "execution_count": 146,
   "id": "8335e9a5",
   "metadata": {},
   "outputs": [
    {
     "data": {
      "text/plain": [
       "['2', '3', '4', '5', '6']"
      ]
     },
     "execution_count": 146,
     "metadata": {},
     "output_type": "execute_result"
    }
   ],
   "source": [
    "list(map(lambda x: str(x), l))"
   ]
  },
  {
   "cell_type": "code",
   "execution_count": 149,
   "id": "2d9e4e47",
   "metadata": {},
   "outputs": [
    {
     "data": {
      "text/plain": [
       "['2', '3', '4', '5', '6']"
      ]
     },
     "execution_count": 149,
     "metadata": {},
     "output_type": "execute_result"
    }
   ],
   "source": [
    "def str_c(n):\n",
    "    return str(n)\n",
    "\n",
    "list(map(str_c,l))"
   ]
  },
  {
   "cell_type": "code",
   "execution_count": null,
   "id": "3965c968",
   "metadata": {},
   "outputs": [],
   "source": [
    "#reduce"
   ]
  },
  {
   "cell_type": "code",
   "execution_count": 156,
   "id": "fce1ce31",
   "metadata": {},
   "outputs": [],
   "source": [
    "from functools import reduce"
   ]
  },
  {
   "cell_type": "code",
   "execution_count": 157,
   "id": "4111c39b",
   "metadata": {},
   "outputs": [],
   "source": [
    "l=[1,2,3,5]"
   ]
  },
  {
   "cell_type": "code",
   "execution_count": 158,
   "id": "2b5e9e2b",
   "metadata": {},
   "outputs": [
    {
     "data": {
      "text/plain": [
       "11"
      ]
     },
     "execution_count": 158,
     "metadata": {},
     "output_type": "execute_result"
    }
   ],
   "source": [
    "sum(l)"
   ]
  },
  {
   "cell_type": "code",
   "execution_count": 159,
   "id": "6c3cddcc",
   "metadata": {},
   "outputs": [
    {
     "data": {
      "text/plain": [
       "11"
      ]
     },
     "execution_count": 159,
     "metadata": {},
     "output_type": "execute_result"
    }
   ],
   "source": [
    "reduce(lambda a,b:a+b, l)"
   ]
  },
  {
   "cell_type": "code",
   "execution_count": 160,
   "id": "595add26",
   "metadata": {},
   "outputs": [],
   "source": [
    "#filter"
   ]
  },
  {
   "cell_type": "code",
   "execution_count": 161,
   "id": "19f190e6",
   "metadata": {},
   "outputs": [],
   "source": [
    "l=[1,2,3,4,5,6,7,8]"
   ]
  },
  {
   "cell_type": "code",
   "execution_count": 162,
   "id": "5ea287bd",
   "metadata": {},
   "outputs": [
    {
     "data": {
      "text/plain": [
       "[1, 2, 3, 4, 5, 6, 7, 8]"
      ]
     },
     "execution_count": 162,
     "metadata": {},
     "output_type": "execute_result"
    }
   ],
   "source": [
    "l"
   ]
  },
  {
   "cell_type": "code",
   "execution_count": 165,
   "id": "c6a44e76",
   "metadata": {},
   "outputs": [
    {
     "data": {
      "text/plain": [
       "[2, 4, 6, 8]"
      ]
     },
     "execution_count": 165,
     "metadata": {},
     "output_type": "execute_result"
    }
   ],
   "source": [
    "list(filter(lambda x:x%2==0, l))"
   ]
  },
  {
   "cell_type": "code",
   "execution_count": 169,
   "id": "a933b32f",
   "metadata": {},
   "outputs": [
    {
     "data": {
      "text/plain": [
       "[2, 4, 6, 8]"
      ]
     },
     "execution_count": 169,
     "metadata": {},
     "output_type": "execute_result"
    }
   ],
   "source": [
    "def check_even(n):\n",
    "    if n%2==0:\n",
    "        return True\n",
    "list(filter(check_even,l))"
   ]
  },
  {
   "cell_type": "code",
   "execution_count": null,
   "id": "91282170",
   "metadata": {},
   "outputs": [],
   "source": []
  }
 ],
 "metadata": {
  "kernelspec": {
   "display_name": "Python 3 (ipykernel)",
   "language": "python",
   "name": "python3"
  },
  "language_info": {
   "codemirror_mode": {
    "name": "ipython",
    "version": 3
   },
   "file_extension": ".py",
   "mimetype": "text/x-python",
   "name": "python",
   "nbconvert_exporter": "python",
   "pygments_lexer": "ipython3",
   "version": "3.9.13"
  }
 },
 "nbformat": 4,
 "nbformat_minor": 5
}
