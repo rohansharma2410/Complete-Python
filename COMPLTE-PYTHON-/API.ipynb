{
 "cells": [
  {
   "cell_type": "code",
   "execution_count": null,
   "id": "f5d7dbdb",
   "metadata": {},
   "outputs": [
    {
     "name": "stdout",
     "output_type": "stream",
     "text": [
      " * Serving Flask app \"__main__\" (lazy loading)\n",
      " * Environment: production\n",
      "\u001b[31m   WARNING: This is a development server. Do not use it in a production deployment.\u001b[0m\n",
      "\u001b[2m   Use a production WSGI server instead.\u001b[0m\n",
      " * Debug mode: off\n"
     ]
    },
    {
     "name": "stderr",
     "output_type": "stream",
     "text": [
      " * Running on http://127.0.0.1:5000/ (Press CTRL+C to quit)\n"
     ]
    }
   ],
   "source": [
    "#pip install flask\n",
    "from flask import Flask, request, jsonify\n",
    "app = Flask(__name__)#Creating object of Flask class\n",
    "#API Platform Independent: we use HTTP or HTTPS Protocol to reach out to respective systems\n",
    "#If I have to send some data, use GET(through URL/Browser) and POST(through body), @ is annotation(Behaving as decorator)\n",
    "# whatever after @  call that function\n",
    "\n",
    "\n",
    "@app.route('/abc',methods=['GET','POST'])#If the function test1 is receiving data, then it will be through GET or POST method\n",
    "#app.route: we are calling app function which is defied at line 3 and route is also a function which is available in flask\n",
    "#'/abc' it is url , so If the function test1 is receiving data, then it will be through GET or POST method\n",
    "#get means posting a data in url..sending a data via url/browser\n",
    "#post means posting a data through a body ..sending a data through body\n",
    "def test1():\n",
    "    if (request.method == 'POST'):  # If from some other system person is sending data through POST\n",
    "        a = request.json['num1']  # We can use csv/xml and other formats\n",
    "        b = request.json['num2']\n",
    "        result = a + b\n",
    "        return jsonify((str(result)))\n",
    "    \n",
    "@app.route('/abc1',methods=['GET','POST'])\n",
    "def test2():\n",
    "    if(request.method=='POST'):  #If from some other system person is sending data through POST\n",
    "        a = request.json['num1'] #We can use csv/xml and other formats\n",
    "        b = request.json['num2']\n",
    "        result = a*b\n",
    "        return jsonify((str(result)))\n",
    "\n",
    "@app.route('/abc2',methods=['GET','POST'])\n",
    "def test3():\n",
    "    if(request.method=='POST'):  #If from some other system person is sending data through POST\n",
    "        a = request.json['num1'] #We can use csv/xml and other formats\n",
    "        b = request.json['num2']\n",
    "        result = a**b\n",
    "        return jsonify((str(result)))\n",
    "\n",
    "@app.route('/abc3',methods=['GET','POST'])\n",
    "def test4():\n",
    "    if(request.method=='POST'):  #If from some other system person is sending data through POST\n",
    "        a = request.json['num1'] #We can use csv/xml and other formats\n",
    "        b = request.json['num2']\n",
    "        result = a-b\n",
    "        return jsonify((str(result)))\n",
    "\n",
    "    \n",
    "\n",
    "if __name__ =='__main__': #Invoking Python Main Class\n",
    "    app.run()  #Exposing entire function: app.run() will invoke Line 3\n",
    "    \n",
    "\n",
    "\n",
    "\n",
    "\n"
   ]
  },
  {
   "cell_type": "code",
   "execution_count": null,
   "id": "5d089213",
   "metadata": {},
   "outputs": [],
   "source": []
  },
  {
   "cell_type": "code",
   "execution_count": null,
   "id": "0ea7cd02",
   "metadata": {},
   "outputs": [],
   "source": []
  },
  {
   "cell_type": "code",
   "execution_count": null,
   "id": "31c0b45a",
   "metadata": {},
   "outputs": [],
   "source": []
  },
  {
   "cell_type": "code",
   "execution_count": null,
   "id": "351e270c",
   "metadata": {},
   "outputs": [],
   "source": []
  },
  {
   "cell_type": "code",
   "execution_count": null,
   "id": "81e63f33",
   "metadata": {},
   "outputs": [],
   "source": []
  },
  {
   "cell_type": "code",
   "execution_count": null,
   "id": "b70cfdfa",
   "metadata": {},
   "outputs": [],
   "source": []
  },
  {
   "cell_type": "code",
   "execution_count": null,
   "id": "c26c675e",
   "metadata": {},
   "outputs": [],
   "source": []
  },
  {
   "cell_type": "code",
   "execution_count": null,
   "id": "c907e5c3",
   "metadata": {},
   "outputs": [],
   "source": []
  },
  {
   "cell_type": "code",
   "execution_count": null,
   "id": "aaeca485",
   "metadata": {},
   "outputs": [],
   "source": []
  },
  {
   "cell_type": "code",
   "execution_count": null,
   "id": "79a18a5f",
   "metadata": {},
   "outputs": [],
   "source": []
  }
 ],
 "metadata": {
  "kernelspec": {
   "display_name": "Python 3 (ipykernel)",
   "language": "python",
   "name": "python3"
  },
  "language_info": {
   "codemirror_mode": {
    "name": "ipython",
    "version": 3
   },
   "file_extension": ".py",
   "mimetype": "text/x-python",
   "name": "python",
   "nbconvert_exporter": "python",
   "pygments_lexer": "ipython3",
   "version": "3.9.13"
  }
 },
 "nbformat": 4,
 "nbformat_minor": 5
}
