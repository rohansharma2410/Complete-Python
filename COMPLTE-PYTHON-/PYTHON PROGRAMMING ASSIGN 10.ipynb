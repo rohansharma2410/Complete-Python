{
 "cells": [
  {
   "cell_type": "markdown",
   "id": "ed32b223",
   "metadata": {},
   "source": [
    "PYTHON PROGRAMMING ASSIGN 10\n",
    "SUBMITTED BY:SWAPNIL GOSAVI"
   ]
  },
  {
   "cell_type": "markdown",
   "id": "387f59c1",
   "metadata": {},
   "source": [
    "1.\tWrite a Python program to find sum of elements in list?\n",
    "2.\tWrite a Python program to  Multiply all numbers in the list?\n",
    "3.\tWrite a Python program to find smallest number in a list?\n",
    "4.\tWrite a Python program to find largest number in a list?\n",
    "5.\tWrite a Python program to find second largest number in a list?\n",
    "6.\tWrite a Python program to find N largest elements from a list?\n",
    "7.\tWrite a Python program to print even numbers in a list?\n",
    "8.\tWrite a Python program to print odd numbers in a List?\n",
    "9.\tWrite a Python program to Remove empty List from List?\n",
    "10.\tWrite a Python program to Cloning or Copying a list?\n",
    "11.\tWrite a Python program to Count occurrences of an element in a list?\n"
   ]
  },
  {
   "cell_type": "markdown",
   "id": "f0e9d976",
   "metadata": {},
   "source": [
    "Q 1) Write a Python program to find sum of elements in list?"
   ]
  },
  {
   "cell_type": "code",
   "execution_count": 1,
   "id": "2c0f10c3",
   "metadata": {},
   "outputs": [
    {
     "name": "stdout",
     "output_type": "stream",
     "text": [
      "Enter the No of Entries in a List: 2\n",
      "Enter a element: 11\n",
      "Enter a element: 32\n",
      "Sum of Elements: 43\n"
     ]
    }
   ],
   "source": [
    "#Ans 1)\n",
    "def sumofList():\n",
    "    elements = int(input('Enter the No of Entries in a List: '))\n",
    "    list = []\n",
    "    for i in range(elements):\n",
    "        list.append(int(input('Enter a element: ')))\n",
    "    print(f'Sum of Elements: {sum(list)}')\n",
    "\n",
    "sumofList()"
   ]
  },
  {
   "cell_type": "code",
   "execution_count": 2,
   "id": "45c2f639",
   "metadata": {},
   "outputs": [
    {
     "name": "stdout",
     "output_type": "stream",
     "text": [
      "sum of elements: 167\n"
     ]
    }
   ],
   "source": [
    "#if list is already availble \n",
    "numbers = [11, 25, 32, 44, 55]\n",
    "\n",
    "def sumofList(list):\n",
    "    total=0\n",
    "    for numbers in list:\n",
    "        total +=numbers\n",
    "    return total\n",
    "result=sumofList(numbers)\n",
    "print(\"sum of elements:\", result)"
   ]
  },
  {
   "cell_type": "markdown",
   "id": "e16b8c87",
   "metadata": {},
   "source": [
    "Q 2) Write a Python program to Multiply all numbers in the list?"
   ]
  },
  {
   "cell_type": "code",
   "execution_count": 3,
   "id": "0f121570",
   "metadata": {},
   "outputs": [
    {
     "name": "stdout",
     "output_type": "stream",
     "text": [
      "Enter the No of Entries in a List: 2\n",
      "Enter a element: 10\n",
      "Enter a element: 3\n",
      "30\n"
     ]
    }
   ],
   "source": [
    "#Ans 1)\n",
    "def mulofList():\n",
    "    elements = int(input('Enter the No of Entries in a List: '))\n",
    "    list = []\n",
    "    mul = 1\n",
    "    for i in range(elements):\n",
    "        list.append(int(input('Enter a element: ')))\n",
    "    for j in list:\n",
    "        mul = mul * j\n",
    "    print(mul)\n",
    "\n",
    "mulofList()"
   ]
  },
  {
   "cell_type": "markdown",
   "id": "c23849ec",
   "metadata": {},
   "source": [
    "#Q 3) Write a Python program to find smallest number in a list?"
   ]
  },
  {
   "cell_type": "code",
   "execution_count": 4,
   "id": "2b5118fd",
   "metadata": {},
   "outputs": [
    {
     "name": "stdout",
     "output_type": "stream",
     "text": [
      "Enter the No of elements in a list: 14\n",
      "Enter a Element: 26\n",
      "Enter a Element: 31\n",
      "Enter a Element: 12\n",
      "Enter a Element: 212\n",
      "Enter a Element: 22\n",
      "Enter a Element: 53\n",
      "Enter a Element: 25251\n",
      "Enter a Element: 55\n",
      "Enter a Element: 55\n",
      "Enter a Element: 555\n",
      "Enter a Element: 55664\n",
      "Enter a Element: 141\n",
      "Enter a Element: 4444\n",
      "Enter a Element: 11\n",
      "The Smallest Element in [26, 31, 12, 212, 22, 53, 25251, 55, 55, 555, 55664, 141, 4444, 11] is 11\n"
     ]
    }
   ],
   "source": [
    "#Ans 3)\n",
    "\n",
    "def smallEleInList():\n",
    "    elements = int(input('Enter the No of elements in a list: '))\n",
    "    list = []\n",
    "    for i in range(elements):\n",
    "        list.append(int(input('Enter a Element: ')))\n",
    "    print(f'The Smallest Element in {list} is {sorted(list)[0]}')\n",
    "smallEleInList()"
   ]
  },
  {
   "cell_type": "markdown",
   "id": "7214d319",
   "metadata": {},
   "source": [
    "Q 4.Write a Python program to find largest number in a list?"
   ]
  },
  {
   "cell_type": "code",
   "execution_count": 8,
   "id": "62068835",
   "metadata": {},
   "outputs": [
    {
     "name": "stdout",
     "output_type": "stream",
     "text": [
      "Enter the No of elements in a list: 3\n",
      "Enter a Element: 12\n",
      "Enter a Element: 21122\n",
      "Enter a Element: 1412\n",
      "The largest Element in [12, 21122, 1412] is 21122\n"
     ]
    }
   ],
   "source": [
    "#Ans 4)\n",
    "def largeEleInList():\n",
    "    elements = int(input('Enter the No of elements in a list: '))\n",
    "    list = []\n",
    "    for i in range(elements):\n",
    "        list.append(int(input('Enter a Element: ')))\n",
    "    print(f'The largest Element in {list} is {sorted(list, reverse=True)[0]}')\n",
    "    \n",
    "largeEleInList()"
   ]
  },
  {
   "cell_type": "markdown",
   "id": "cc966615",
   "metadata": {},
   "source": [
    "Q 5) Write a Python program to find second largest number in a list?"
   ]
  },
  {
   "cell_type": "code",
   "execution_count": 9,
   "id": "226361cb",
   "metadata": {},
   "outputs": [
    {
     "name": "stdout",
     "output_type": "stream",
     "text": [
      "Enter the No of elements in a list: 3\n",
      "Enter a Element: 15\n",
      "Enter a Element: 875\n",
      "Enter a Element: 45\n",
      "The Second Largest Element in [15, 875, 45] is 45\n"
     ]
    }
   ],
   "source": [
    "#Ans 5)\n",
    "\n",
    "def secondLargestEleInList():\n",
    "    elements = int(input('Enter the No of elements in a list: '))\n",
    "    list = []\n",
    "    for i in range(elements):\n",
    "        list.append(int(input('Enter a Element: ')))\n",
    "    print(f'The Second Largest Element in {list} is {sorted(list, reverse=True)[1]}')\n",
    "\n",
    "secondLargestEleInList()\n"
   ]
  },
  {
   "cell_type": "markdown",
   "id": "ac7dce19",
   "metadata": {},
   "source": [
    "Q 6)Write a Python program to find N largest elements from a list?"
   ]
  },
  {
   "cell_type": "code",
   "execution_count": 10,
   "id": "268f1085",
   "metadata": {
    "scrolled": true
   },
   "outputs": [
    {
     "name": "stdout",
     "output_type": "stream",
     "text": [
      "Enter the No of elements in a list: 3\n",
      "Enter a Element: 12\n",
      "Enter a Element: 455\n",
      "Enter a Element: 78\n",
      "The 4 Largest Element in [12, 455, 78] is [455, 78, 12]\n"
     ]
    }
   ],
   "source": [
    "#Ans 6)\n",
    "def nLargestEleInList(k):\n",
    "    elements = int(input('Enter the No of elements in a list: '))\n",
    "    list = []\n",
    "    for i in range(elements):\n",
    "        list.append(int(input('Enter a Element: ')))\n",
    "    print(f'The {k} Largest Element in {list} is {sorted(list, reverse=True)[0:k]}')\n",
    "\n",
    "nLargestEleInList(4)"
   ]
  },
  {
   "cell_type": "markdown",
   "id": "e2abe98b",
   "metadata": {},
   "source": [
    "Q 7) Write a Python program to print even numbers in a list?"
   ]
  },
  {
   "cell_type": "code",
   "execution_count": 21,
   "id": "7d3ffe01",
   "metadata": {},
   "outputs": [
    {
     "name": "stdout",
     "output_type": "stream",
     "text": [
      "Enter the No of elements in a list: 3\n",
      "Enter a Element: 12\n",
      "Enter a Element: 21\n",
      "Enter a Element: 44\n",
      "The Even Elements in [12, 21, 44] are [12, 44]\n"
     ]
    }
   ],
   "source": [
    "def evenNoInList():\n",
    "    in_ele = int(input('Enter the No of elements in a list: '))\n",
    "    in_list = []\n",
    "    even_list = []\n",
    "    for ele in range(in_ele):\n",
    "        in_list.append(int(input('Enter a Element: ')))\n",
    "    for ele in in_list:\n",
    "        if ele%2 == 0:\n",
    "            even_list.append(ele)\n",
    "    print(f'The Even Elements in {in_list} are {even_list}')\n",
    "\n",
    "evenNoInList()"
   ]
  },
  {
   "cell_type": "markdown",
   "id": "17b7957e",
   "metadata": {},
   "source": [
    "Q 8.\tWrite a Python program to print odd numbers in a List?"
   ]
  },
  {
   "cell_type": "code",
   "execution_count": 22,
   "id": "f4ecbdef",
   "metadata": {},
   "outputs": [
    {
     "name": "stdout",
     "output_type": "stream",
     "text": [
      "Enter the No of elements in a list: 3\n",
      "Enter a Element: 11\n",
      "Enter a Element: 45\n",
      "Enter a Element: 34\n",
      "The Even Elements in [11, 45, 34] are [11, 45]\n"
     ]
    }
   ],
   "source": [
    "#Ans 8)\n",
    "def oddNoInList():\n",
    "    in_ele = int(input('Enter the No of elements in a list: '))\n",
    "    in_list = []\n",
    "    odd_list = []\n",
    "    for ele in range(in_ele):\n",
    "        in_list.append(int(input('Enter a Element: ')))\n",
    "    for ele in in_list:\n",
    "        if ele%2 != 0:\n",
    "            odd_list.append(ele)\n",
    "    print(f'The Even Elements in {in_list} are {odd_list}')\n",
    "\n",
    "oddNoInList()"
   ]
  },
  {
   "cell_type": "markdown",
   "id": "a280d895",
   "metadata": {},
   "source": [
    "Q 9)Write a Python Program to remove empty list from list ?"
   ]
  },
  {
   "cell_type": "code",
   "execution_count": null,
   "id": "46ae1d89",
   "metadata": {},
   "outputs": [],
   "source": [
    "\n",
    "def checkEmptyList():\n",
    "    in_list = eval(input('Enter all elements of the list: '))\n",
    "    if [] in in_list:\n",
    "        print(f'There is an Empty list in {in_list} at Position {in_list.index([])}')\n",
    "        in_list.remove([])\n",
    "        print(f'The List after removing [] is {in_list}')\n",
    "    else:\n",
    "        print(f'There is no [] List in the list {in_list}')\n",
    "        \n",
    "checkEmptyList()"
   ]
  },
  {
   "cell_type": "code",
   "execution_count": null,
   "id": "a580a4a6",
   "metadata": {},
   "outputs": [],
   "source": [
    "Q 10) Write a Python Program to Cloning or Copying a list ?"
   ]
  },
  {
   "cell_type": "code",
   "execution_count": null,
   "id": "42821ee3",
   "metadata": {},
   "outputs": [],
   "source": [
    "#Ans 10)\n",
    "import copy\n",
    "\n",
    "def cloneList():\n",
    "    in_list = eval(input('Enter a list'))\n",
    "    print(in_list, id(in_list))\n",
    "    cloned_list = in_list.copy()\n",
    "    print(cloned_list, id(cloned_list))\n",
    "\n",
    "cloneList()"
   ]
  },
  {
   "cell_type": "code",
   "execution_count": null,
   "id": "a6b44c54",
   "metadata": {},
   "outputs": [],
   "source": []
  },
  {
   "cell_type": "code",
   "execution_count": null,
   "id": "5c1a78f3",
   "metadata": {},
   "outputs": [],
   "source": []
  },
  {
   "cell_type": "code",
   "execution_count": null,
   "id": "d3f3b8b4",
   "metadata": {},
   "outputs": [],
   "source": []
  },
  {
   "cell_type": "code",
   "execution_count": null,
   "id": "00ddc416",
   "metadata": {},
   "outputs": [],
   "source": []
  },
  {
   "cell_type": "code",
   "execution_count": null,
   "id": "89b7c0fc",
   "metadata": {},
   "outputs": [],
   "source": []
  },
  {
   "cell_type": "code",
   "execution_count": null,
   "id": "60ebcec1",
   "metadata": {},
   "outputs": [],
   "source": []
  },
  {
   "cell_type": "code",
   "execution_count": null,
   "id": "b5202cc7",
   "metadata": {},
   "outputs": [],
   "source": []
  },
  {
   "cell_type": "code",
   "execution_count": null,
   "id": "d52498be",
   "metadata": {},
   "outputs": [],
   "source": []
  },
  {
   "cell_type": "code",
   "execution_count": null,
   "id": "c6acba34",
   "metadata": {},
   "outputs": [],
   "source": []
  },
  {
   "cell_type": "code",
   "execution_count": null,
   "id": "4171d609",
   "metadata": {},
   "outputs": [],
   "source": []
  },
  {
   "cell_type": "code",
   "execution_count": null,
   "id": "ba040952",
   "metadata": {},
   "outputs": [],
   "source": []
  },
  {
   "cell_type": "code",
   "execution_count": null,
   "id": "33cf0bfd",
   "metadata": {},
   "outputs": [],
   "source": []
  },
  {
   "cell_type": "code",
   "execution_count": null,
   "id": "b6625874",
   "metadata": {},
   "outputs": [],
   "source": []
  },
  {
   "cell_type": "code",
   "execution_count": null,
   "id": "13c6eac2",
   "metadata": {},
   "outputs": [],
   "source": []
  },
  {
   "cell_type": "code",
   "execution_count": null,
   "id": "067bc87f",
   "metadata": {},
   "outputs": [],
   "source": []
  },
  {
   "cell_type": "code",
   "execution_count": null,
   "id": "336090ce",
   "metadata": {},
   "outputs": [],
   "source": []
  },
  {
   "cell_type": "code",
   "execution_count": null,
   "id": "b8103c8c",
   "metadata": {},
   "outputs": [],
   "source": []
  },
  {
   "cell_type": "code",
   "execution_count": null,
   "id": "59686a06",
   "metadata": {},
   "outputs": [],
   "source": []
  },
  {
   "cell_type": "code",
   "execution_count": null,
   "id": "fc77f684",
   "metadata": {},
   "outputs": [],
   "source": []
  },
  {
   "cell_type": "code",
   "execution_count": null,
   "id": "a4b4a189",
   "metadata": {},
   "outputs": [],
   "source": []
  },
  {
   "cell_type": "code",
   "execution_count": null,
   "id": "cc9d6f3e",
   "metadata": {},
   "outputs": [],
   "source": []
  },
  {
   "cell_type": "code",
   "execution_count": null,
   "id": "4453ca46",
   "metadata": {},
   "outputs": [],
   "source": []
  },
  {
   "cell_type": "code",
   "execution_count": null,
   "id": "fccacb2a",
   "metadata": {},
   "outputs": [],
   "source": []
  },
  {
   "cell_type": "code",
   "execution_count": null,
   "id": "d1ef4fde",
   "metadata": {},
   "outputs": [],
   "source": []
  },
  {
   "cell_type": "code",
   "execution_count": null,
   "id": "b895f414",
   "metadata": {},
   "outputs": [],
   "source": []
  },
  {
   "cell_type": "code",
   "execution_count": null,
   "id": "27802ef0",
   "metadata": {},
   "outputs": [],
   "source": []
  },
  {
   "cell_type": "code",
   "execution_count": null,
   "id": "f6906f3b",
   "metadata": {},
   "outputs": [],
   "source": []
  },
  {
   "cell_type": "code",
   "execution_count": null,
   "id": "8c3bc210",
   "metadata": {},
   "outputs": [],
   "source": []
  },
  {
   "cell_type": "code",
   "execution_count": null,
   "id": "15498957",
   "metadata": {},
   "outputs": [],
   "source": []
  },
  {
   "cell_type": "code",
   "execution_count": null,
   "id": "2c89b200",
   "metadata": {},
   "outputs": [],
   "source": []
  },
  {
   "cell_type": "code",
   "execution_count": null,
   "id": "69cd89aa",
   "metadata": {},
   "outputs": [],
   "source": []
  },
  {
   "cell_type": "code",
   "execution_count": null,
   "id": "760e9e75",
   "metadata": {},
   "outputs": [],
   "source": []
  },
  {
   "cell_type": "code",
   "execution_count": null,
   "id": "10c62cc7",
   "metadata": {},
   "outputs": [],
   "source": []
  },
  {
   "cell_type": "code",
   "execution_count": null,
   "id": "927fa34e",
   "metadata": {},
   "outputs": [],
   "source": []
  },
  {
   "cell_type": "code",
   "execution_count": null,
   "id": "52669f0c",
   "metadata": {},
   "outputs": [],
   "source": []
  },
  {
   "cell_type": "code",
   "execution_count": null,
   "id": "a50daca6",
   "metadata": {},
   "outputs": [],
   "source": []
  },
  {
   "cell_type": "code",
   "execution_count": null,
   "id": "286f2618",
   "metadata": {},
   "outputs": [],
   "source": []
  },
  {
   "cell_type": "code",
   "execution_count": null,
   "id": "cf5cad97",
   "metadata": {},
   "outputs": [],
   "source": []
  },
  {
   "cell_type": "code",
   "execution_count": null,
   "id": "df56f667",
   "metadata": {},
   "outputs": [],
   "source": []
  },
  {
   "cell_type": "code",
   "execution_count": null,
   "id": "0c9bcc48",
   "metadata": {},
   "outputs": [],
   "source": []
  },
  {
   "cell_type": "code",
   "execution_count": null,
   "id": "96e76b26",
   "metadata": {},
   "outputs": [],
   "source": []
  },
  {
   "cell_type": "code",
   "execution_count": null,
   "id": "8c71f1de",
   "metadata": {},
   "outputs": [],
   "source": []
  }
 ],
 "metadata": {
  "kernelspec": {
   "display_name": "Python 3 (ipykernel)",
   "language": "python",
   "name": "python3"
  },
  "language_info": {
   "codemirror_mode": {
    "name": "ipython",
    "version": 3
   },
   "file_extension": ".py",
   "mimetype": "text/x-python",
   "name": "python",
   "nbconvert_exporter": "python",
   "pygments_lexer": "ipython3",
   "version": "3.9.13"
  }
 },
 "nbformat": 4,
 "nbformat_minor": 5
}
