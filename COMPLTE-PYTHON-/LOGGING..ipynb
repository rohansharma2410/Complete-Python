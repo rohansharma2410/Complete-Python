{
 "cells": [
  {
   "cell_type": "markdown",
   "metadata": {
    "id": "pr8wVTN_xAHl"
   },
   "source": [
    "**LOGGING**\n"
   ]
  },
  {
   "cell_type": "markdown",
   "metadata": {
    "id": "88pcnmVyv7yo"
   },
   "source": [
    "Suppose we have a big project consisting of tasks such as Loading Data, Merging Data, Filtering out Data , Storing a data in database etc. If suppose code stops execution and shows error, then how can a perosn who is monitoring the project would understand the problem? To maintain the standard of the project, we cannot use print statement to solve this problem. Also we dont have console access all the time. To solve this, we use **LOGGING**. We can either create a single log file for whole project or multiple log files for each of the processes involved in the project.\n",
    "\n",
    "By default we have to use Exception Handling and Logging in our project. Nobody will tell us to do so but it is standard procedure. "
   ]
  },
  {
   "cell_type": "code",
   "execution_count": null,
   "metadata": {
    "id": "yZIwjkSUv7QH"
   },
   "outputs": [],
   "source": [
    "import logging"
   ]
  },
  {
   "cell_type": "code",
   "execution_count": null,
   "metadata": {
    "id": "_T4GQE2Qvh0p"
   },
   "outputs": [],
   "source": [
    "logging.basicConfig(filename=\"test.log\", level = logging.INFO)  #Giving name of the log file\n",
    "logging.info(\"This is my very first code for logging\") #Whatever we want to dump in log file\n",
    "logging.warning(\"This will try to load a warning message\")\n",
    "logging.error(\"This is the error message from the system\")\n",
    "\n",
    "logging.shutdown() #Shuts down logging"
   ]
  },
  {
   "cell_type": "code",
   "execution_count": null,
   "metadata": {
    "id": "Ws1ebgCnzZ9k"
   },
   "outputs": [],
   "source": [
    "for i in l:  \n",
    "  if i == 2:\n",
    "    logging.info(i)"
   ]
  },
  {
   "cell_type": "markdown",
   "metadata": {
    "id": "oRcDFLPUztN7"
   },
   "source": [
    "We can have 5 levels of log: \n",
    "\n",
    "1) Debug Level log: When we need to perform investigation (Severity Level is 10)\n",
    "\n",
    "2) Info Level log: Generic Information to be recorded (Severity Level is 20)\n",
    "\n",
    "3) Warning Level Log: When we need to warn (Eg. Software is deprecated etc) (Severity Level is 30)\n",
    "\n",
    "4) Error Level log: When some error or exception has been raised (Severity Level is 40)\n",
    "\n",
    "5) Critical Level log: Severe Error to be recorded (Severity Level is 50)\n",
    "\n",
    "The Severity Level is important. If we put level as Info then it will handle Levels of Info and others which has more severity level. So, in this case Debug Level will not be handled. If we put level as Critical, it will only handle Critical Level and not any other it has maximum severity log whereas if we put level as Debug, it will handle all the levels as it has minimum severity level score.\n",
    "\n",
    "\n",
    "\n"
   ]
  },
  {
   "cell_type": "code",
   "execution_count": null,
   "metadata": {
    "id": "xRNxB3rJzswq"
   },
   "outputs": [],
   "source": [
    "import logging  \n",
    "logging.basicConfig(filename = \"test2.log\",level=logging.DEBUG,format='%(levelname)s %(asctime)s %(name)s  %(message)s')  #Trying to store system time as well with message and name of the log\n",
    "logging.info(\"This is my log with timestamp\")"
   ]
  },
  {
   "cell_type": "code",
   "execution_count": null,
   "metadata": {
    "id": "0UuZwNZc_k5t"
   },
   "outputs": [],
   "source": [
    "import logging\n",
    "logging.basicConfig(filename=\"Test4.log\",level=logging.INFO,format = '%(levelname)s %(asctime)s %(name)s  %(message)s')\n",
    "\n",
    "def divide(a,b):\n",
    "  logging.info('The number entered by user is %s and %s',a,b) #I want to store what user input is giving\n",
    "  try:\n",
    "    logging.info('We are into function ')\n",
    "    div = a/b\n",
    "    logging.info('We have completed a division operation')\n",
    "    logging.info('The result of the code is %s',div)\n",
    "  except Exception as e:\n",
    "    logging.exception(e)\n",
    "\n",
    "\n",
    "print((divide(3,0)))"
   ]
  },
  {
   "cell_type": "code",
   "execution_count": null,
   "metadata": {
    "id": "3mnd5k4yTEzu"
   },
   "outputs": [],
   "source": [
    "import logging\n",
    "\n",
    "logging.basicConfig(filename=\"test5.log\" , level=logging.INFO ,format='%(levelname)s %(asctime)s %(name)s  %(message)s')\n",
    "\n",
    "try : \n",
    "    logging.info(\"i am trying to read a file \")\n",
    "    with open(\"sudh.txt\" , \"r\"):\n",
    "        logging.info(\"succsfully it has read the file \")\n",
    "except Exception as e:\n",
    "    logging.critical(\"this is a situatoin for us \")\n",
    "    logging.error(e)\n",
    "    logging.exception(e)"
   ]
  }
 ],
 "metadata": {
  "colab": {
   "collapsed_sections": [],
   "name": "Class 14_Logging_29th June 2022.ipynb",
   "provenance": []
  },
  "kernelspec": {
   "display_name": "Python 3 (ipykernel)",
   "language": "python",
   "name": "python3"
  },
  "language_info": {
   "codemirror_mode": {
    "name": "ipython",
    "version": 3
   },
   "file_extension": ".py",
   "mimetype": "text/x-python",
   "name": "python",
   "nbconvert_exporter": "python",
   "pygments_lexer": "ipython3",
   "version": "3.9.13"
  }
 },
 "nbformat": 4,
 "nbformat_minor": 1
}
