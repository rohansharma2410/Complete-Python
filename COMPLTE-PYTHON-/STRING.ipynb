{
 "cells": [
  {
   "cell_type": "code",
   "execution_count": 42,
   "id": "5c0a212c",
   "metadata": {},
   "outputs": [],
   "source": [
    "s= \"ineuron\""
   ]
  },
  {
   "cell_type": "code",
   "execution_count": 43,
   "id": "fd541ed6",
   "metadata": {},
   "outputs": [
    {
     "data": {
      "text/plain": [
       "str"
      ]
     },
     "execution_count": 43,
     "metadata": {},
     "output_type": "execute_result"
    }
   ],
   "source": [
    "type(s)"
   ]
  },
  {
   "cell_type": "code",
   "execution_count": 44,
   "id": "067f5769",
   "metadata": {},
   "outputs": [
    {
     "data": {
      "text/plain": [
       "'i'"
      ]
     },
     "execution_count": 44,
     "metadata": {},
     "output_type": "execute_result"
    }
   ],
   "source": [
    "s[0]"
   ]
  },
  {
   "cell_type": "code",
   "execution_count": 45,
   "id": "7a9a92f2",
   "metadata": {},
   "outputs": [
    {
     "data": {
      "text/plain": [
       "'o'"
      ]
     },
     "execution_count": 45,
     "metadata": {},
     "output_type": "execute_result"
    }
   ],
   "source": [
    "s[5]"
   ]
  },
  {
   "cell_type": "code",
   "execution_count": 46,
   "id": "ecc45fbb",
   "metadata": {},
   "outputs": [
    {
     "data": {
      "text/plain": [
       "'n'"
      ]
     },
     "execution_count": 46,
     "metadata": {},
     "output_type": "execute_result"
    }
   ],
   "source": [
    "s[-1]"
   ]
  },
  {
   "cell_type": "code",
   "execution_count": 47,
   "id": "f98d46e5",
   "metadata": {},
   "outputs": [],
   "source": [
    "s1='sudh'"
   ]
  },
  {
   "cell_type": "code",
   "execution_count": 48,
   "id": "e786205c",
   "metadata": {},
   "outputs": [
    {
     "data": {
      "text/plain": [
       "'h'"
      ]
     },
     "execution_count": 48,
     "metadata": {},
     "output_type": "execute_result"
    }
   ],
   "source": [
    "s1[-1]"
   ]
  },
  {
   "cell_type": "code",
   "execution_count": 49,
   "id": "42c80366",
   "metadata": {},
   "outputs": [
    {
     "data": {
      "text/plain": [
       "'d'"
      ]
     },
     "execution_count": 49,
     "metadata": {},
     "output_type": "execute_result"
    }
   ],
   "source": [
    "s1[-2]"
   ]
  },
  {
   "cell_type": "code",
   "execution_count": 50,
   "id": "e315ff17",
   "metadata": {},
   "outputs": [
    {
     "data": {
      "text/plain": [
       "'u'"
      ]
     },
     "execution_count": 50,
     "metadata": {},
     "output_type": "execute_result"
    }
   ],
   "source": [
    "s1[-3]"
   ]
  },
  {
   "cell_type": "code",
   "execution_count": 51,
   "id": "cc6e200f",
   "metadata": {},
   "outputs": [],
   "source": [
    "s2=\"this is my very first programming class's\""
   ]
  },
  {
   "cell_type": "code",
   "execution_count": 52,
   "id": "9cd88ca3",
   "metadata": {},
   "outputs": [
    {
     "data": {
      "text/plain": [
       "\"this is my very first programming class's\""
      ]
     },
     "execution_count": 52,
     "metadata": {},
     "output_type": "execute_result"
    }
   ],
   "source": [
    "s2"
   ]
  },
  {
   "cell_type": "code",
   "execution_count": 53,
   "id": "c9700a9f",
   "metadata": {},
   "outputs": [
    {
     "data": {
      "text/plain": [
       "'t'"
      ]
     },
     "execution_count": 53,
     "metadata": {},
     "output_type": "execute_result"
    }
   ],
   "source": [
    "s2[0]"
   ]
  },
  {
   "cell_type": "code",
   "execution_count": 54,
   "id": "6fda154d",
   "metadata": {},
   "outputs": [
    {
     "data": {
      "text/plain": [
       "'m'"
      ]
     },
     "execution_count": 54,
     "metadata": {},
     "output_type": "execute_result"
    }
   ],
   "source": [
    "s2[8]"
   ]
  },
  {
   "cell_type": "code",
   "execution_count": 55,
   "id": "33095b54",
   "metadata": {},
   "outputs": [
    {
     "data": {
      "text/plain": [
       "'his '"
      ]
     },
     "execution_count": 55,
     "metadata": {},
     "output_type": "execute_result"
    }
   ],
   "source": [
    "s2[1:5]"
   ]
  },
  {
   "cell_type": "code",
   "execution_count": 56,
   "id": "23950581",
   "metadata": {},
   "outputs": [
    {
     "data": {
      "text/plain": [
       "'s my very first programm'"
      ]
     },
     "execution_count": 56,
     "metadata": {},
     "output_type": "execute_result"
    }
   ],
   "source": [
    "s2[6:30]"
   ]
  },
  {
   "cell_type": "code",
   "execution_count": 57,
   "id": "06725bad",
   "metadata": {},
   "outputs": [
    {
     "data": {
      "text/plain": [
       "'sm eyfrtporm'"
      ]
     },
     "execution_count": 57,
     "metadata": {},
     "output_type": "execute_result"
    }
   ],
   "source": [
    "s2[6:30:2]"
   ]
  },
  {
   "cell_type": "code",
   "execution_count": 17,
   "id": "764e4a89",
   "metadata": {},
   "outputs": [
    {
     "data": {
      "text/plain": [
       "\"this is my very first programming class's\""
      ]
     },
     "execution_count": 17,
     "metadata": {},
     "output_type": "execute_result"
    }
   ],
   "source": [
    "s2"
   ]
  },
  {
   "cell_type": "code",
   "execution_count": 58,
   "id": "9ed7e9c7",
   "metadata": {},
   "outputs": [],
   "source": [
    "s=\"sudhanshu\""
   ]
  },
  {
   "cell_type": "code",
   "execution_count": 59,
   "id": "91c3018d",
   "metadata": {},
   "outputs": [
    {
     "data": {
      "text/plain": [
       "'sdasu'"
      ]
     },
     "execution_count": 59,
     "metadata": {},
     "output_type": "execute_result"
    }
   ],
   "source": [
    "s[0:9:2]"
   ]
  },
  {
   "cell_type": "code",
   "execution_count": 60,
   "id": "dc43f716",
   "metadata": {},
   "outputs": [
    {
     "data": {
      "text/plain": [
       "'sudhanshu'"
      ]
     },
     "execution_count": 60,
     "metadata": {},
     "output_type": "execute_result"
    }
   ],
   "source": [
    "s[0:9:1]"
   ]
  },
  {
   "cell_type": "code",
   "execution_count": 61,
   "id": "5ad97d21",
   "metadata": {},
   "outputs": [
    {
     "data": {
      "text/plain": [
       "''"
      ]
     },
     "execution_count": 61,
     "metadata": {},
     "output_type": "execute_result"
    }
   ],
   "source": [
    "s[0:8:-1]"
   ]
  },
  {
   "cell_type": "code",
   "execution_count": 62,
   "id": "23f3956f",
   "metadata": {},
   "outputs": [
    {
     "data": {
      "text/plain": [
       "'uhsnahdu'"
      ]
     },
     "execution_count": 62,
     "metadata": {},
     "output_type": "execute_result"
    }
   ],
   "source": [
    "s[8:0:-1]"
   ]
  },
  {
   "cell_type": "code",
   "execution_count": 23,
   "id": "aad14fba",
   "metadata": {},
   "outputs": [
    {
     "data": {
      "text/plain": [
       "'usad'"
      ]
     },
     "execution_count": 23,
     "metadata": {},
     "output_type": "execute_result"
    }
   ],
   "source": [
    "s[8:0:-2]"
   ]
  },
  {
   "cell_type": "code",
   "execution_count": 63,
   "id": "1f56fb92",
   "metadata": {},
   "outputs": [
    {
     "data": {
      "text/plain": [
       "'sudhanshu'"
      ]
     },
     "execution_count": 63,
     "metadata": {},
     "output_type": "execute_result"
    }
   ],
   "source": [
    "s"
   ]
  },
  {
   "cell_type": "code",
   "execution_count": 64,
   "id": "82ce4595",
   "metadata": {},
   "outputs": [
    {
     "data": {
      "text/plain": [
       "'sudhan'"
      ]
     },
     "execution_count": 64,
     "metadata": {},
     "output_type": "execute_result"
    }
   ],
   "source": [
    "s[:-3]"
   ]
  },
  {
   "cell_type": "code",
   "execution_count": 65,
   "id": "7d0300de",
   "metadata": {},
   "outputs": [
    {
     "data": {
      "text/plain": [
       "'hu'"
      ]
     },
     "execution_count": 65,
     "metadata": {},
     "output_type": "execute_result"
    }
   ],
   "source": [
    "s[-2:]"
   ]
  },
  {
   "cell_type": "code",
   "execution_count": 66,
   "id": "42e3948d",
   "metadata": {},
   "outputs": [
    {
     "data": {
      "text/plain": [
       "'sudhanshu'"
      ]
     },
     "execution_count": 66,
     "metadata": {},
     "output_type": "execute_result"
    }
   ],
   "source": [
    "s[::1]"
   ]
  },
  {
   "cell_type": "code",
   "execution_count": 28,
   "id": "05981fcc",
   "metadata": {},
   "outputs": [
    {
     "data": {
      "text/plain": [
       "'sudhanshu'"
      ]
     },
     "execution_count": 28,
     "metadata": {},
     "output_type": "execute_result"
    }
   ],
   "source": [
    "s[0:50:1]"
   ]
  },
  {
   "cell_type": "code",
   "execution_count": 67,
   "id": "bf0e9ca2",
   "metadata": {},
   "outputs": [
    {
     "data": {
      "text/plain": [
       "'uhsnahdus'"
      ]
     },
     "execution_count": 67,
     "metadata": {},
     "output_type": "execute_result"
    }
   ],
   "source": [
    "s[::-1]"
   ]
  },
  {
   "cell_type": "code",
   "execution_count": 68,
   "id": "be468a87",
   "metadata": {},
   "outputs": [
    {
     "data": {
      "text/plain": [
       "'uhsnahdu'"
      ]
     },
     "execution_count": 68,
     "metadata": {},
     "output_type": "execute_result"
    }
   ],
   "source": [
    "s[8:0:-1]"
   ]
  },
  {
   "cell_type": "code",
   "execution_count": 69,
   "id": "9e1cbd58",
   "metadata": {},
   "outputs": [],
   "source": [
    "s3='ineuron'"
   ]
  },
  {
   "cell_type": "code",
   "execution_count": 70,
   "id": "ee372aee",
   "metadata": {},
   "outputs": [
    {
     "data": {
      "text/plain": [
       "'norueni'"
      ]
     },
     "execution_count": 70,
     "metadata": {},
     "output_type": "execute_result"
    }
   ],
   "source": [
    "s3[::-1]"
   ]
  },
  {
   "cell_type": "code",
   "execution_count": 71,
   "id": "eb0c9116",
   "metadata": {},
   "outputs": [
    {
     "data": {
      "text/plain": [
       "''"
      ]
     },
     "execution_count": 71,
     "metadata": {},
     "output_type": "execute_result"
    }
   ],
   "source": [
    "s3[-2:-7:1]"
   ]
  },
  {
   "cell_type": "code",
   "execution_count": 72,
   "id": "f4697e14",
   "metadata": {},
   "outputs": [
    {
     "data": {
      "text/plain": [
       "'ineur'"
      ]
     },
     "execution_count": 72,
     "metadata": {},
     "output_type": "execute_result"
    }
   ],
   "source": [
    "s3[-7:-2:1]"
   ]
  },
  {
   "cell_type": "code",
   "execution_count": 35,
   "id": "55cb765c",
   "metadata": {},
   "outputs": [
    {
     "data": {
      "text/plain": [
       "'ineuron'"
      ]
     },
     "execution_count": 35,
     "metadata": {},
     "output_type": "execute_result"
    }
   ],
   "source": [
    "s3"
   ]
  },
  {
   "cell_type": "code",
   "execution_count": 73,
   "id": "c8ecb746",
   "metadata": {},
   "outputs": [
    {
     "data": {
      "text/plain": [
       "'ineur'"
      ]
     },
     "execution_count": 73,
     "metadata": {},
     "output_type": "execute_result"
    }
   ],
   "source": [
    "s3[-7:-2:]"
   ]
  },
  {
   "cell_type": "code",
   "execution_count": 74,
   "id": "c8e65dca",
   "metadata": {},
   "outputs": [
    {
     "data": {
      "text/plain": [
       "''"
      ]
     },
     "execution_count": 74,
     "metadata": {},
     "output_type": "execute_result"
    }
   ],
   "source": [
    "s3[5:0]"
   ]
  },
  {
   "cell_type": "code",
   "execution_count": 75,
   "id": "b494b46f",
   "metadata": {},
   "outputs": [
    {
     "data": {
      "text/plain": [
       "'ineuro'"
      ]
     },
     "execution_count": 75,
     "metadata": {},
     "output_type": "execute_result"
    }
   ],
   "source": [
    "s3[-7:-1:1]"
   ]
  },
  {
   "cell_type": "code",
   "execution_count": 76,
   "id": "8167d5c3",
   "metadata": {},
   "outputs": [
    {
     "data": {
      "text/plain": [
       "''"
      ]
     },
     "execution_count": 76,
     "metadata": {},
     "output_type": "execute_result"
    }
   ],
   "source": [
    "s3[-7:0:1]"
   ]
  },
  {
   "cell_type": "code",
   "execution_count": 77,
   "id": "7ae30575",
   "metadata": {},
   "outputs": [
    {
     "data": {
      "text/plain": [
       "''"
      ]
     },
     "execution_count": 77,
     "metadata": {},
     "output_type": "execute_result"
    }
   ],
   "source": [
    "s3[:-1:-1]"
   ]
  },
  {
   "cell_type": "code",
   "execution_count": 78,
   "id": "ee8aa0ce",
   "metadata": {
    "scrolled": true
   },
   "outputs": [
    {
     "ename": "TypeError",
     "evalue": "can only concatenate str (not \"int\") to str",
     "output_type": "error",
     "traceback": [
      "\u001b[1;31m---------------------------------------------------------------------------\u001b[0m",
      "\u001b[1;31mTypeError\u001b[0m                                 Traceback (most recent call last)",
      "\u001b[1;32m~\\AppData\\Local\\Temp\\ipykernel_11912\\3519921828.py\u001b[0m in \u001b[0;36m<module>\u001b[1;34m\u001b[0m\n\u001b[1;32m----> 1\u001b[1;33m \u001b[0ms\u001b[0m\u001b[1;33m+\u001b[0m\u001b[1;36m1\u001b[0m\u001b[1;33m\u001b[0m\u001b[1;33m\u001b[0m\u001b[0m\n\u001b[0m",
      "\u001b[1;31mTypeError\u001b[0m: can only concatenate str (not \"int\") to str"
     ]
    }
   ],
   "source": [
    "s+1"
   ]
  },
  {
   "cell_type": "code",
   "execution_count": 79,
   "id": "1ddfded9",
   "metadata": {},
   "outputs": [
    {
     "data": {
      "text/plain": [
       "'sudhanshu1'"
      ]
     },
     "execution_count": 79,
     "metadata": {},
     "output_type": "execute_result"
    }
   ],
   "source": [
    "s+'1'"
   ]
  },
  {
   "cell_type": "code",
   "execution_count": 80,
   "id": "1f3ff696",
   "metadata": {},
   "outputs": [
    {
     "data": {
      "text/plain": [
       "'sudhanshu1'"
      ]
     },
     "execution_count": 80,
     "metadata": {},
     "output_type": "execute_result"
    }
   ],
   "source": [
    "s+\"1\""
   ]
  },
  {
   "cell_type": "code",
   "execution_count": 81,
   "id": "4fbae97f",
   "metadata": {},
   "outputs": [
    {
     "data": {
      "text/plain": [
       "'sudhanshu1'"
      ]
     },
     "execution_count": 81,
     "metadata": {},
     "output_type": "execute_result"
    }
   ],
   "source": [
    "s+str(1)"
   ]
  },
  {
   "cell_type": "code",
   "execution_count": 82,
   "id": "90047b47",
   "metadata": {},
   "outputs": [
    {
     "data": {
      "text/plain": [
       "'sudhanshusudhanshu'"
      ]
     },
     "execution_count": 82,
     "metadata": {},
     "output_type": "execute_result"
    }
   ],
   "source": [
    "s*2"
   ]
  },
  {
   "cell_type": "code",
   "execution_count": 83,
   "id": "727065db",
   "metadata": {},
   "outputs": [
    {
     "data": {
      "text/plain": [
       "2"
      ]
     },
     "execution_count": 83,
     "metadata": {},
     "output_type": "execute_result"
    }
   ],
   "source": [
    "s.count('s')"
   ]
  },
  {
   "cell_type": "code",
   "execution_count": 85,
   "id": "2edcb81e",
   "metadata": {},
   "outputs": [
    {
     "data": {
      "text/plain": [
       "['s', 'dhansh', '']"
      ]
     },
     "execution_count": 85,
     "metadata": {},
     "output_type": "execute_result"
    }
   ],
   "source": [
    "s.split('u')"
   ]
  },
  {
   "cell_type": "code",
   "execution_count": 84,
   "id": "2b7b417d",
   "metadata": {},
   "outputs": [
    {
     "data": {
      "text/plain": [
       "9"
      ]
     },
     "execution_count": 84,
     "metadata": {},
     "output_type": "execute_result"
    }
   ],
   "source": [
    "len(s)"
   ]
  },
  {
   "cell_type": "code",
   "execution_count": 86,
   "id": "a91ed972",
   "metadata": {},
   "outputs": [
    {
     "data": {
      "text/plain": [
       "1"
      ]
     },
     "execution_count": 86,
     "metadata": {},
     "output_type": "execute_result"
    }
   ],
   "source": [
    "s.count('su')"
   ]
  },
  {
   "cell_type": "code",
   "execution_count": 87,
   "id": "db2de60e",
   "metadata": {},
   "outputs": [
    {
     "data": {
      "text/plain": [
       "['s', 'dhansh', '']"
      ]
     },
     "execution_count": 87,
     "metadata": {},
     "output_type": "execute_result"
    }
   ],
   "source": [
    "s.split('u')"
   ]
  },
  {
   "cell_type": "code",
   "execution_count": 88,
   "id": "cb9af3f4",
   "metadata": {},
   "outputs": [
    {
     "data": {
      "text/plain": [
       "'sudhanshu'"
      ]
     },
     "execution_count": 88,
     "metadata": {},
     "output_type": "execute_result"
    }
   ],
   "source": [
    "s"
   ]
  },
  {
   "cell_type": "code",
   "execution_count": 89,
   "id": "7d7e2bc1",
   "metadata": {},
   "outputs": [
    {
     "data": {
      "text/plain": [
       "list"
      ]
     },
     "execution_count": 89,
     "metadata": {},
     "output_type": "execute_result"
    }
   ],
   "source": [
    "type(s.split('u'))"
   ]
  },
  {
   "cell_type": "code",
   "execution_count": 90,
   "id": "c68ebca7",
   "metadata": {},
   "outputs": [
    {
     "ename": "SyntaxError",
     "evalue": "invalid syntax (2849217547.py, line 1)",
     "output_type": "error",
     "traceback": [
      "\u001b[1;36m  File \u001b[1;32m\"C:\\Users\\Swapnil\\AppData\\Local\\Temp\\ipykernel_11912\\2849217547.py\"\u001b[1;36m, line \u001b[1;32m1\u001b[0m\n\u001b[1;33m    s=''Samsung Group,[3] or simply Samsung (Korean: 삼성; RR: samseong [samsʌŋ]) (stylized as SΛMSUNG), is a South Korean multinational manufacturing conglomerate headquartered in Samsung Town, Seoul, South Korea.[1] It comprises numerous affiliated businesses,[1] most of them united under the Samsung brand, and is the largest South Korean chaebol (business conglomerate). As of 2020, Samsung has the eighth highest global brand value.[4]'\u001b[0m\n\u001b[1;37m        ^\u001b[0m\n\u001b[1;31mSyntaxError\u001b[0m\u001b[1;31m:\u001b[0m invalid syntax\n"
     ]
    }
   ],
   "source": [
    "s=''Samsung Group,[3] or simply Samsung (Korean: 삼성; RR: samseong [samsʌŋ]) (stylized as SΛMSUNG), is a South Korean multinational manufacturing conglomerate headquartered in Samsung Town, Seoul, South Korea.[1] It comprises numerous affiliated businesses,[1] most of them united under the Samsung brand, and is the largest South Korean chaebol (business conglomerate). As of 2020, Samsung has the eighth highest global brand value.[4]'"
   ]
  },
  {
   "cell_type": "code",
   "execution_count": 91,
   "id": "74d0cf92",
   "metadata": {},
   "outputs": [
    {
     "data": {
      "text/plain": [
       "'sudhanshu'"
      ]
     },
     "execution_count": 91,
     "metadata": {},
     "output_type": "execute_result"
    }
   ],
   "source": [
    "s"
   ]
  },
  {
   "cell_type": "code",
   "execution_count": 92,
   "id": "4c8aef2c",
   "metadata": {},
   "outputs": [
    {
     "ename": "SyntaxError",
     "evalue": "EOL while scanning string literal (3768484147.py, line 1)",
     "output_type": "error",
     "traceback": [
      "\u001b[1;36m  File \u001b[1;32m\"C:\\Users\\Swapnil\\AppData\\Local\\Temp\\ipykernel_11912\\3768484147.py\"\u001b[1;36m, line \u001b[1;32m1\u001b[0m\n\u001b[1;33m    sw='Samsung Group,[3] or simply Samsung (Korean: 삼성; RR: samseong [samsʌŋ]) (stylized as SΛMSUNG), is a South Korean multinational manufacturing conglomerate headquartered in Samsung Town, Seoul, South Korea.[1] It comprises numerous affiliated businesses,[1] most of them united under the Samsung brand, and is the largest South Korean chaebol (business conglomerate). As of 2020, Samsung has the eighth highest global brand value.[4]\u001b[0m\n\u001b[1;37m                                                                                                                                                                                                                                                                                                                                                                                                                                                       ^\u001b[0m\n\u001b[1;31mSyntaxError\u001b[0m\u001b[1;31m:\u001b[0m EOL while scanning string literal\n"
     ]
    }
   ],
   "source": [
    "sw='Samsung Group,[3] or simply Samsung (Korean: 삼성; RR: samseong [samsʌŋ]) (stylized as SΛMSUNG), is a South Korean multinational manufacturing conglomerate headquartered in Samsung Town, Seoul, South Korea.[1] It comprises numerous affiliated businesses,[1] most of them united under the Samsung brand, and is the largest South Korean chaebol (business conglomerate). As of 2020, Samsung has the eighth highest global brand value.[4]\n",
    "\n",
    "Samsung was founded by Lee Byung-chul in 1938 as a trading company. Over the next three decades, the group diversified into areas including food processing, textiles, insurance, securities, and retail. Samsung entered the electronics industry in the late 1960s and the construction and shipbuilding industries in the mid-1970s; these areas would drive its subsequent growth. Following Lee's death in 1987, Samsung was separated into five business groups – Samsung Group, Shinsegae Group, CJ Group and Hansol Group, and JoongAng Group.'"
   ]
  },
  {
   "cell_type": "code",
   "execution_count": 93,
   "id": "424bf84b",
   "metadata": {},
   "outputs": [
    {
     "ename": "SyntaxError",
     "evalue": "EOL while scanning string literal (2262800727.py, line 1)",
     "output_type": "error",
     "traceback": [
      "\u001b[1;36m  File \u001b[1;32m\"C:\\Users\\Swapnil\\AppData\\Local\\Temp\\ipykernel_11912\\2262800727.py\"\u001b[1;36m, line \u001b[1;32m1\u001b[0m\n\u001b[1;33m    sw=\"Samsung Group,[3] or simply Samsung (Korean: 삼성; RR: samseong [samsʌŋ]) (stylized as SΛMSUNG), is a South Korean multinational manufacturing conglomerate headquartered in Samsung Town, Seoul, South Korea.[1] It comprises numerous affiliated businesses,[1] most of them united under the Samsung brand, and is the largest South Korean chaebol (business conglomerate). As of 2020, Samsung has the eighth highest global brand value.[4]\u001b[0m\n\u001b[1;37m                                                                                                                                                                                                                                                                                                                                                                                                                                                       ^\u001b[0m\n\u001b[1;31mSyntaxError\u001b[0m\u001b[1;31m:\u001b[0m EOL while scanning string literal\n"
     ]
    }
   ],
   "source": [
    "sw=\"Samsung Group,[3] or simply Samsung (Korean: 삼성; RR: samseong [samsʌŋ]) (stylized as SΛMSUNG), is a South Korean multinational manufacturing conglomerate headquartered in Samsung Town, Seoul, South Korea.[1] It comprises numerous affiliated businesses,[1] most of them united under the Samsung brand, and is the largest South Korean chaebol (business conglomerate). As of 2020, Samsung has the eighth highest global brand value.[4]\n",
    "\n",
    "Samsung was founded by Lee Byung-chul in 1938 as a trading company. Over the next three decades, the group diversified into areas including food processing, textiles, insurance, securities, and retail. Samsung entered the electronics industry in the late 1960s and the construction and shipbuilding industries in the mid-1970s; these areas would drive its subsequent growth. Following Lee's death in 1987, Samsung was separated into five business groups – Samsung Group, Shinsegae Group, CJ Group and Hansol Group, and JoongAng Group."
   ]
  },
  {
   "cell_type": "code",
   "execution_count": 95,
   "id": "c77bb4e1",
   "metadata": {},
   "outputs": [],
   "source": [
    "s=\"Samsung Group,[3] or simply Samsung (Korean: 삼성; RR: samseong [samsʌŋ]) (stylized as SΛMSUNG), is a South Korean multinational manufacturing conglomerate headquartered in Samsung Town, Seoul, South Korea \""
   ]
  },
  {
   "cell_type": "code",
   "execution_count": 94,
   "id": "4aac5b63",
   "metadata": {},
   "outputs": [
    {
     "data": {
      "text/plain": [
       "'sudhanshu'"
      ]
     },
     "execution_count": 94,
     "metadata": {},
     "output_type": "execute_result"
    }
   ],
   "source": [
    "s"
   ]
  },
  {
   "cell_type": "code",
   "execution_count": 96,
   "id": "0fd998f7",
   "metadata": {},
   "outputs": [
    {
     "data": {
      "text/plain": [
       "['Samsung',\n",
       " 'Group,[3]',\n",
       " 'or',\n",
       " 'simply',\n",
       " 'Samsung',\n",
       " '(Korean:',\n",
       " '삼성;',\n",
       " 'RR:',\n",
       " 'samseong',\n",
       " '[samsʌŋ])',\n",
       " '(stylized',\n",
       " 'as',\n",
       " 'SΛMSUNG),',\n",
       " 'is',\n",
       " 'a',\n",
       " 'South',\n",
       " 'Korean',\n",
       " 'multinational',\n",
       " 'manufacturing',\n",
       " 'conglomerate',\n",
       " 'headquartered',\n",
       " 'in',\n",
       " 'Samsung',\n",
       " 'Town,',\n",
       " 'Seoul,',\n",
       " 'South',\n",
       " 'Korea',\n",
       " '']"
      ]
     },
     "execution_count": 96,
     "metadata": {},
     "output_type": "execute_result"
    }
   ],
   "source": [
    "s.split(' ')"
   ]
  },
  {
   "cell_type": "code",
   "execution_count": 97,
   "id": "ee5b64ed",
   "metadata": {},
   "outputs": [],
   "source": [
    "sw=''' Samsung Group,[3] or simply Samsung (Korean: 삼성; RR: samseong [samsʌŋ]) (stylized as SΛMSUNG), is a South Korean multinational manufacturing conglomerate headquartered in Samsung Town, Seoul, South Korea.[1] It comprises numerous affiliated businesses,[1] most of them united under the Samsung brand, and is the largest South Korean chaebol (business conglomerate). As of 2020, Samsung has the eighth highest global brand value.[4]\n",
    "\n",
    "Samsung was founded by Lee Byung-chul in 1938 as a trading company. Over the next three decades, the group diversified into areas including food processing, textiles, insurance, securities, and retail. Samsung entered the electronics industry in the late 1960s and the construction and shipbuilding industries in the mid-1970s; these areas would drive its subsequent growth. Following Lee's death in 1987, Samsung was separated into five business groups – Samsung Group, Shinsegae Group, CJ Group and Hansol Group, and JoongAng Group.'''"
   ]
  },
  {
   "cell_type": "code",
   "execution_count": 98,
   "id": "842b675c",
   "metadata": {},
   "outputs": [
    {
     "data": {
      "text/plain": [
       "\" Samsung Group,[3] or simply Samsung (Korean: 삼성; RR: samseong [samsʌŋ]) (stylized as SΛMSUNG), is a South Korean multinational manufacturing conglomerate headquartered in Samsung Town, Seoul, South Korea.[1] It comprises numerous affiliated businesses,[1] most of them united under the Samsung brand, and is the largest South Korean chaebol (business conglomerate). As of 2020, Samsung has the eighth highest global brand value.[4]\\n\\nSamsung was founded by Lee Byung-chul in 1938 as a trading company. Over the next three decades, the group diversified into areas including food processing, textiles, insurance, securities, and retail. Samsung entered the electronics industry in the late 1960s and the construction and shipbuilding industries in the mid-1970s; these areas would drive its subsequent growth. Following Lee's death in 1987, Samsung was separated into five business groups – Samsung Group, Shinsegae Group, CJ Group and Hansol Group, and JoongAng Group.\""
      ]
     },
     "execution_count": 98,
     "metadata": {},
     "output_type": "execute_result"
    }
   ],
   "source": [
    "sw"
   ]
  },
  {
   "cell_type": "code",
   "execution_count": 99,
   "id": "2054f942",
   "metadata": {},
   "outputs": [
    {
     "data": {
      "text/plain": [
       "\" SAMSUNG GROUP,[3] OR SIMPLY SAMSUNG (KOREAN: 삼성; RR: SAMSEONG [SAMSɅŊ]) (STYLIZED AS SΛMSUNG), IS A SOUTH KOREAN MULTINATIONAL MANUFACTURING CONGLOMERATE HEADQUARTERED IN SAMSUNG TOWN, SEOUL, SOUTH KOREA.[1] IT COMPRISES NUMEROUS AFFILIATED BUSINESSES,[1] MOST OF THEM UNITED UNDER THE SAMSUNG BRAND, AND IS THE LARGEST SOUTH KOREAN CHAEBOL (BUSINESS CONGLOMERATE). AS OF 2020, SAMSUNG HAS THE EIGHTH HIGHEST GLOBAL BRAND VALUE.[4]\\n\\nSAMSUNG WAS FOUNDED BY LEE BYUNG-CHUL IN 1938 AS A TRADING COMPANY. OVER THE NEXT THREE DECADES, THE GROUP DIVERSIFIED INTO AREAS INCLUDING FOOD PROCESSING, TEXTILES, INSURANCE, SECURITIES, AND RETAIL. SAMSUNG ENTERED THE ELECTRONICS INDUSTRY IN THE LATE 1960S AND THE CONSTRUCTION AND SHIPBUILDING INDUSTRIES IN THE MID-1970S; THESE AREAS WOULD DRIVE ITS SUBSEQUENT GROWTH. FOLLOWING LEE'S DEATH IN 1987, SAMSUNG WAS SEPARATED INTO FIVE BUSINESS GROUPS – SAMSUNG GROUP, SHINSEGAE GROUP, CJ GROUP AND HANSOL GROUP, AND JOONGANG GROUP.\""
      ]
     },
     "execution_count": 99,
     "metadata": {},
     "output_type": "execute_result"
    }
   ],
   "source": [
    "sw.upper()"
   ]
  },
  {
   "cell_type": "code",
   "execution_count": null,
   "id": "ce0003b1",
   "metadata": {},
   "outputs": [],
   "source": [
    "sw.capitalize()"
   ]
  },
  {
   "cell_type": "code",
   "execution_count": 100,
   "id": "5cee08ef",
   "metadata": {},
   "outputs": [],
   "source": [
    "ma=\"sudhanshu\""
   ]
  },
  {
   "cell_type": "code",
   "execution_count": 105,
   "id": "8feb23bb",
   "metadata": {},
   "outputs": [
    {
     "data": {
      "text/plain": [
       "'sudhanshu kumar'"
      ]
     },
     "execution_count": 105,
     "metadata": {},
     "output_type": "execute_result"
    }
   ],
   "source": [
    "ma"
   ]
  },
  {
   "cell_type": "code",
   "execution_count": 106,
   "id": "4c1cb024",
   "metadata": {},
   "outputs": [
    {
     "data": {
      "text/plain": [
       "'Sudhanshu Kumar'"
      ]
     },
     "execution_count": 106,
     "metadata": {},
     "output_type": "execute_result"
    }
   ],
   "source": [
    "ma.title()"
   ]
  },
  {
   "cell_type": "code",
   "execution_count": 107,
   "id": "2c7a7508",
   "metadata": {},
   "outputs": [
    {
     "data": {
      "text/plain": [
       "'Sudhanshu kumar'"
      ]
     },
     "execution_count": 107,
     "metadata": {},
     "output_type": "execute_result"
    }
   ],
   "source": [
    "ma.capitalize()"
   ]
  },
  {
   "cell_type": "code",
   "execution_count": 108,
   "id": "28eb2efa",
   "metadata": {},
   "outputs": [],
   "source": [
    "ma=\"sudhanshu kumar\""
   ]
  },
  {
   "cell_type": "code",
   "execution_count": 109,
   "id": "468b7218",
   "metadata": {},
   "outputs": [
    {
     "data": {
      "text/plain": [
       "'SUDHANSHU KUMAR'"
      ]
     },
     "execution_count": 109,
     "metadata": {},
     "output_type": "execute_result"
    }
   ],
   "source": [
    "ma.swapcase()"
   ]
  },
  {
   "cell_type": "code",
   "execution_count": null,
   "id": "254f81bb",
   "metadata": {},
   "outputs": [],
   "source": [
    "reversed(ma)"
   ]
  },
  {
   "cell_type": "code",
   "execution_count": 110,
   "id": "a15bab86",
   "metadata": {},
   "outputs": [],
   "source": [
    "at=\" su dha \""
   ]
  },
  {
   "cell_type": "code",
   "execution_count": 111,
   "id": "bcbd9da0",
   "metadata": {},
   "outputs": [
    {
     "data": {
      "text/plain": [
       "'su dha'"
      ]
     },
     "execution_count": 111,
     "metadata": {},
     "output_type": "execute_result"
    }
   ],
   "source": [
    "at.strip()"
   ]
  },
  {
   "cell_type": "code",
   "execution_count": 112,
   "id": "810f4cd1",
   "metadata": {},
   "outputs": [
    {
     "data": {
      "text/plain": [
       "'su dha '"
      ]
     },
     "execution_count": 112,
     "metadata": {},
     "output_type": "execute_result"
    }
   ],
   "source": [
    "at.lstrip()"
   ]
  },
  {
   "cell_type": "code",
   "execution_count": 113,
   "id": "02757e25",
   "metadata": {},
   "outputs": [
    {
     "data": {
      "text/plain": [
       "' su dha'"
      ]
     },
     "execution_count": 113,
     "metadata": {},
     "output_type": "execute_result"
    }
   ],
   "source": [
    "at.rstrip()"
   ]
  },
  {
   "cell_type": "code",
   "execution_count": 114,
   "id": "062bcc56",
   "metadata": {},
   "outputs": [
    {
     "data": {
      "text/plain": [
       "'S u d h n a s h u'"
      ]
     },
     "execution_count": 114,
     "metadata": {},
     "output_type": "execute_result"
    }
   ],
   "source": [
    "\" \".join(\"Sudhnashu\")"
   ]
  },
  {
   "cell_type": "code",
   "execution_count": null,
   "id": "e79ce4eb",
   "metadata": {},
   "outputs": [],
   "source": [
    "s=\"sudha\""
   ]
  },
  {
   "cell_type": "code",
   "execution_count": 115,
   "id": "c4e02e6c",
   "metadata": {},
   "outputs": [
    {
     "data": {
      "text/plain": [
       "'Samsung Group,[3] or simply Samsung (Korean: 삼성; RR: samseong [samsʌŋ]) (stylized as SΛMSUNG), is a South Korean multinational manufacturing conglomerate headquartered in Samsung Town, Seoul, South Korea '"
      ]
     },
     "execution_count": 115,
     "metadata": {},
     "output_type": "execute_result"
    }
   ],
   "source": [
    "s.center(20,'w')"
   ]
  },
  {
   "cell_type": "code",
   "execution_count": 116,
   "id": "4df123d3",
   "metadata": {},
   "outputs": [
    {
     "data": {
      "text/plain": [
       "False"
      ]
     },
     "execution_count": 116,
     "metadata": {},
     "output_type": "execute_result"
    }
   ],
   "source": [
    "s.isupper()"
   ]
  },
  {
   "cell_type": "code",
   "execution_count": 117,
   "id": "aaa5d1e0",
   "metadata": {},
   "outputs": [],
   "source": [
    "jk=\"SAP\""
   ]
  },
  {
   "cell_type": "code",
   "execution_count": 118,
   "id": "00054e3f",
   "metadata": {},
   "outputs": [
    {
     "data": {
      "text/plain": [
       "True"
      ]
     },
     "execution_count": 118,
     "metadata": {},
     "output_type": "execute_result"
    }
   ],
   "source": [
    "jk.isupper()"
   ]
  },
  {
   "cell_type": "code",
   "execution_count": 119,
   "id": "71f68d86",
   "metadata": {},
   "outputs": [
    {
     "data": {
      "text/plain": [
       "False"
      ]
     },
     "execution_count": 119,
     "metadata": {},
     "output_type": "execute_result"
    }
   ],
   "source": [
    "s.isspace()"
   ]
  },
  {
   "cell_type": "code",
   "execution_count": 120,
   "id": "ee93cbd1",
   "metadata": {},
   "outputs": [],
   "source": [
    "s3=\"    biishk\""
   ]
  },
  {
   "cell_type": "code",
   "execution_count": 121,
   "id": "78b7df8e",
   "metadata": {},
   "outputs": [
    {
     "data": {
      "text/plain": [
       "False"
      ]
     },
     "execution_count": 121,
     "metadata": {},
     "output_type": "execute_result"
    }
   ],
   "source": [
    "s3.isspace()"
   ]
  },
  {
   "cell_type": "code",
   "execution_count": 122,
   "id": "0367ab73",
   "metadata": {},
   "outputs": [
    {
     "data": {
      "text/plain": [
       "False"
      ]
     },
     "execution_count": 122,
     "metadata": {},
     "output_type": "execute_result"
    }
   ],
   "source": [
    "s3.isdigit()"
   ]
  },
  {
   "cell_type": "code",
   "execution_count": 126,
   "id": "27db7d8f",
   "metadata": {},
   "outputs": [],
   "source": [
    "s4=\"98gfsgjss\""
   ]
  },
  {
   "cell_type": "code",
   "execution_count": 124,
   "id": "0ce6cfbe",
   "metadata": {},
   "outputs": [
    {
     "data": {
      "text/plain": [
       "False"
      ]
     },
     "execution_count": 124,
     "metadata": {},
     "output_type": "execute_result"
    }
   ],
   "source": [
    "s4.isdigit()"
   ]
  },
  {
   "cell_type": "code",
   "execution_count": 127,
   "id": "d08e9197",
   "metadata": {},
   "outputs": [],
   "source": [
    "s5=\"4455566\""
   ]
  },
  {
   "cell_type": "code",
   "execution_count": 128,
   "id": "5263eae5",
   "metadata": {},
   "outputs": [
    {
     "data": {
      "text/plain": [
       "True"
      ]
     },
     "execution_count": 128,
     "metadata": {},
     "output_type": "execute_result"
    }
   ],
   "source": [
    "s5.isdigit()"
   ]
  },
  {
   "cell_type": "code",
   "execution_count": 130,
   "id": "9a711215",
   "metadata": {},
   "outputs": [
    {
     "data": {
      "text/plain": [
       "True"
      ]
     },
     "execution_count": 130,
     "metadata": {},
     "output_type": "execute_result"
    }
   ],
   "source": [
    "s4.isalnum()"
   ]
  },
  {
   "cell_type": "code",
   "execution_count": 129,
   "id": "835ff3f9",
   "metadata": {},
   "outputs": [
    {
     "data": {
      "text/plain": [
       "False"
      ]
     },
     "execution_count": 129,
     "metadata": {},
     "output_type": "execute_result"
    }
   ],
   "source": [
    "s4.isalpha()"
   ]
  },
  {
   "cell_type": "code",
   "execution_count": 131,
   "id": "c2b7a395",
   "metadata": {},
   "outputs": [],
   "source": [
    "s7=\"455sm njsnjs\""
   ]
  },
  {
   "cell_type": "code",
   "execution_count": 132,
   "id": "a54b03e1",
   "metadata": {},
   "outputs": [
    {
     "data": {
      "text/plain": [
       "False"
      ]
     },
     "execution_count": 132,
     "metadata": {},
     "output_type": "execute_result"
    }
   ],
   "source": [
    "s7.isalpha()"
   ]
  },
  {
   "cell_type": "code",
   "execution_count": 133,
   "id": "6b0f2e74",
   "metadata": {},
   "outputs": [
    {
     "data": {
      "text/plain": [
       "True"
      ]
     },
     "execution_count": 133,
     "metadata": {},
     "output_type": "execute_result"
    }
   ],
   "source": [
    "s4.endswith('s')"
   ]
  },
  {
   "cell_type": "code",
   "execution_count": 134,
   "id": "3d951734",
   "metadata": {},
   "outputs": [
    {
     "data": {
      "text/plain": [
       "True"
      ]
     },
     "execution_count": 134,
     "metadata": {},
     "output_type": "execute_result"
    }
   ],
   "source": [
    "s4.isascii()"
   ]
  },
  {
   "cell_type": "code",
   "execution_count": 135,
   "id": "956f2a87",
   "metadata": {},
   "outputs": [],
   "source": [
    "sh='sudhanshu\\tkumar\\tineuron'"
   ]
  },
  {
   "cell_type": "code",
   "execution_count": 136,
   "id": "fa076fd5",
   "metadata": {},
   "outputs": [
    {
     "data": {
      "text/plain": [
       "'sudhanshu       kumar   ineuron'"
      ]
     },
     "execution_count": 136,
     "metadata": {},
     "output_type": "execute_result"
    }
   ],
   "source": [
    "sh.expandtabs()"
   ]
  },
  {
   "cell_type": "code",
   "execution_count": 137,
   "id": "be5620a6",
   "metadata": {},
   "outputs": [],
   "source": [
    "s=\"sudhnshu\""
   ]
  },
  {
   "cell_type": "code",
   "execution_count": 138,
   "id": "f4b479d3",
   "metadata": {},
   "outputs": [
    {
     "data": {
      "text/plain": [
       "'sudhnshu'"
      ]
     },
     "execution_count": 138,
     "metadata": {},
     "output_type": "execute_result"
    }
   ],
   "source": [
    "s"
   ]
  },
  {
   "cell_type": "code",
   "execution_count": 139,
   "id": "dca08937",
   "metadata": {},
   "outputs": [
    {
     "data": {
      "text/plain": [
       "''"
      ]
     },
     "execution_count": 139,
     "metadata": {},
     "output_type": "execute_result"
    }
   ],
   "source": [
    "s[-2:-7]"
   ]
  },
  {
   "cell_type": "code",
   "execution_count": 140,
   "id": "2861e664",
   "metadata": {},
   "outputs": [
    {
     "data": {
      "text/plain": [
       "'hh'"
      ]
     },
     "execution_count": 140,
     "metadata": {},
     "output_type": "execute_result"
    }
   ],
   "source": [
    "s[-2:-7:-3]"
   ]
  },
  {
   "cell_type": "code",
   "execution_count": null,
   "id": "8eadd18d",
   "metadata": {},
   "outputs": [],
   "source": []
  },
  {
   "cell_type": "code",
   "execution_count": null,
   "id": "8574c3f5",
   "metadata": {},
   "outputs": [],
   "source": []
  },
  {
   "cell_type": "code",
   "execution_count": null,
   "id": "e294a09d",
   "metadata": {},
   "outputs": [],
   "source": []
  },
  {
   "cell_type": "code",
   "execution_count": null,
   "id": "238901dd",
   "metadata": {},
   "outputs": [],
   "source": []
  },
  {
   "cell_type": "code",
   "execution_count": null,
   "id": "1248d2e1",
   "metadata": {},
   "outputs": [],
   "source": []
  },
  {
   "cell_type": "code",
   "execution_count": null,
   "id": "aa1695a3",
   "metadata": {},
   "outputs": [],
   "source": []
  },
  {
   "cell_type": "code",
   "execution_count": null,
   "id": "40ebdd7a",
   "metadata": {},
   "outputs": [],
   "source": []
  }
 ],
 "metadata": {
  "kernelspec": {
   "display_name": "Python 3 (ipykernel)",
   "language": "python",
   "name": "python3"
  },
  "language_info": {
   "codemirror_mode": {
    "name": "ipython",
    "version": 3
   },
   "file_extension": ".py",
   "mimetype": "text/x-python",
   "name": "python",
   "nbconvert_exporter": "python",
   "pygments_lexer": "ipython3",
   "version": "3.9.13"
  }
 },
 "nbformat": 4,
 "nbformat_minor": 5
}
