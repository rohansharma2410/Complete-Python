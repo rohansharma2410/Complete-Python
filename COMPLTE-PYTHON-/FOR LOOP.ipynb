{
 "cells": [
  {
   "cell_type": "markdown",
   "id": "96c495c0",
   "metadata": {},
   "source": [
    "FOR LOOP"
   ]
  },
  {
   "cell_type": "code",
   "execution_count": 2,
   "id": "7a58ffb1",
   "metadata": {},
   "outputs": [],
   "source": [
    "l=[1,2,3,4,6,8,\"swap\", 234.25]\n"
   ]
  },
  {
   "cell_type": "code",
   "execution_count": 3,
   "id": "11d2e9b1",
   "metadata": {},
   "outputs": [
    {
     "name": "stdout",
     "output_type": "stream",
     "text": [
      "1\n",
      "2\n",
      "3\n",
      "4\n",
      "6\n",
      "8\n",
      "swap\n",
      "234.25\n"
     ]
    }
   ],
   "source": [
    "for i in l:\n",
    "    print(i)"
   ]
  },
  {
   "cell_type": "code",
   "execution_count": 4,
   "id": "a6ba5222",
   "metadata": {},
   "outputs": [
    {
     "name": "stdout",
     "output_type": "stream",
     "text": [
      "2\n",
      "3\n",
      "4\n",
      "5\n",
      "7\n",
      "9\n"
     ]
    },
    {
     "ename": "TypeError",
     "evalue": "can only concatenate str (not \"int\") to str",
     "output_type": "error",
     "traceback": [
      "\u001b[1;31m---------------------------------------------------------------------------\u001b[0m",
      "\u001b[1;31mTypeError\u001b[0m                                 Traceback (most recent call last)",
      "Cell \u001b[1;32mIn[4], line 2\u001b[0m\n\u001b[0;32m      1\u001b[0m \u001b[38;5;28;01mfor\u001b[39;00m i \u001b[38;5;129;01min\u001b[39;00m l:\n\u001b[1;32m----> 2\u001b[0m     \u001b[38;5;28mprint\u001b[39m(\u001b[43mi\u001b[49m\u001b[38;5;241;43m+\u001b[39;49m\u001b[38;5;241;43m1\u001b[39;49m)\n",
      "\u001b[1;31mTypeError\u001b[0m: can only concatenate str (not \"int\") to str"
     ]
    }
   ],
   "source": [
    "for i in l:\n",
    "    print(i+1)"
   ]
  },
  {
   "cell_type": "code",
   "execution_count": 5,
   "id": "901f45a8",
   "metadata": {},
   "outputs": [
    {
     "name": "stdout",
     "output_type": "stream",
     "text": [
      "2\n",
      "3\n",
      "4\n",
      "5\n",
      "7\n",
      "9\n",
      "swap1\n"
     ]
    }
   ],
   "source": [
    "for i in l:\n",
    "    if type(i)==int:\n",
    "        print(i+1)\n",
    "    elif type(i)==str:\n",
    "        print(i+str(1))"
   ]
  },
  {
   "cell_type": "code",
   "execution_count": 6,
   "id": "7993e44c",
   "metadata": {},
   "outputs": [
    {
     "name": "stdout",
     "output_type": "stream",
     "text": [
      "2\n",
      "3\n",
      "4\n",
      "5\n",
      "7\n",
      "9\n",
      "swap1\n",
      "235.25\n"
     ]
    }
   ],
   "source": [
    "for i in l:\n",
    "    if type(i)==int or type(i)==float:\n",
    "        print(i+1)\n",
    "    elif type(i)==str:\n",
    "        print(i+str(1))"
   ]
  },
  {
   "cell_type": "code",
   "execution_count": 7,
   "id": "5ab170b8",
   "metadata": {},
   "outputs": [],
   "source": [
    "l1=[]\n",
    "for i in l:\n",
    "    if type(i)==int:\n",
    "        l1.append(i)"
   ]
  },
  {
   "cell_type": "code",
   "execution_count": 8,
   "id": "552b3c60",
   "metadata": {},
   "outputs": [
    {
     "data": {
      "text/plain": [
       "[1, 2, 3, 4, 6, 8]"
      ]
     },
     "execution_count": 8,
     "metadata": {},
     "output_type": "execute_result"
    }
   ],
   "source": [
    "l1"
   ]
  },
  {
   "cell_type": "code",
   "execution_count": 9,
   "id": "8e47a74e",
   "metadata": {},
   "outputs": [
    {
     "name": "stdout",
     "output_type": "stream",
     "text": [
      "s\n",
      "w\n",
      "a\n",
      "p\n",
      "n\n",
      "i\n",
      "l\n"
     ]
    }
   ],
   "source": [
    "s=\"swapnil\"\n",
    "for i in s:\n",
    "    print(i)"
   ]
  },
  {
   "cell_type": "code",
   "execution_count": 10,
   "id": "dcbbcf84",
   "metadata": {},
   "outputs": [
    {
     "data": {
      "text/plain": [
       "[1, 2, 3, 4, 6, 8, 'swap', 234.25]"
      ]
     },
     "execution_count": 10,
     "metadata": {},
     "output_type": "execute_result"
    }
   ],
   "source": [
    "l"
   ]
  },
  {
   "cell_type": "code",
   "execution_count": 11,
   "id": "b7918df0",
   "metadata": {},
   "outputs": [
    {
     "name": "stdout",
     "output_type": "stream",
     "text": [
      "1\n",
      "2\n",
      "3\n",
      "4\n",
      "6\n",
      "8\n",
      "swap\n",
      "234.25\n",
      "if for loop is going to complete itself then it will execute itself \n"
     ]
    }
   ],
   "source": [
    "l=[1,2,3,4,6,8,\"swap\", 234.25]\n",
    "for i in l:\n",
    "    print(i)\n",
    "else:\n",
    "    print(\"if for loop is going to complete itself then it will execute itself \")"
   ]
  },
  {
   "cell_type": "code",
   "execution_count": 12,
   "id": "a0741462",
   "metadata": {},
   "outputs": [
    {
     "name": "stdout",
     "output_type": "stream",
     "text": [
      "1\n",
      "2\n",
      "3\n"
     ]
    }
   ],
   "source": [
    "l=[1,2,3,4,6,8,\"swap\", 234.25]\n",
    "for i in l:\n",
    "    if i==4:\n",
    "        break\n",
    "    print(i)\n",
    "else:\n",
    "    print(\"this will exceute only if for is going to complete itself\")"
   ]
  },
  {
   "cell_type": "code",
   "execution_count": 13,
   "id": "cf5e7045",
   "metadata": {},
   "outputs": [
    {
     "name": "stdout",
     "output_type": "stream",
     "text": [
      "s\n",
      "w\n",
      "a\n",
      "p\n"
     ]
    }
   ],
   "source": [
    "s=\"swapnil\"\n",
    "for i in s:\n",
    "    if i=='n':\n",
    "        break\n",
    "    print(i)\n",
    "else:\n",
    "    print(\"print string \",s )\n",
    "    \n",
    "    "
   ]
  },
  {
   "cell_type": "code",
   "execution_count": 14,
   "id": "a3b3cc31",
   "metadata": {},
   "outputs": [
    {
     "name": "stdout",
     "output_type": "stream",
     "text": [
      "4\n",
      "5\n",
      "6\n",
      "7\n",
      "8\n",
      "swap\n"
     ]
    }
   ],
   "source": [
    "t=(4,5,6,7,8,\"swap\")\n",
    "for i in t:\n",
    "    print(i)"
   ]
  },
  {
   "cell_type": "code",
   "execution_count": 15,
   "id": "140d0eec",
   "metadata": {},
   "outputs": [],
   "source": [
    "s={4,5,6,45,857,4,4,4,4,4,}"
   ]
  },
  {
   "cell_type": "code",
   "execution_count": 16,
   "id": "fe43773b",
   "metadata": {},
   "outputs": [
    {
     "data": {
      "text/plain": [
       "{4, 5, 6, 45, 857}"
      ]
     },
     "execution_count": 16,
     "metadata": {},
     "output_type": "execute_result"
    }
   ],
   "source": [
    "s"
   ]
  },
  {
   "cell_type": "code",
   "execution_count": 17,
   "id": "b817f56f",
   "metadata": {},
   "outputs": [
    {
     "name": "stdout",
     "output_type": "stream",
     "text": [
      "4\n",
      "5\n",
      "6\n",
      "857\n",
      "45\n"
     ]
    }
   ],
   "source": [
    "for i in s:\n",
    "    print(i)"
   ]
  },
  {
   "cell_type": "markdown",
   "id": "24afa997",
   "metadata": {},
   "source": [
    "<h3> Dict\n",
    "</h3>"
   ]
  },
  {
   "cell_type": "code",
   "execution_count": 18,
   "id": "b837fa1a",
   "metadata": {},
   "outputs": [],
   "source": [
    "d={\"key1\":\"sudh\",\"contact\":92848,\"address\":\"Pune\" }"
   ]
  },
  {
   "cell_type": "code",
   "execution_count": 19,
   "id": "f3a0eca2",
   "metadata": {},
   "outputs": [
    {
     "name": "stdout",
     "output_type": "stream",
     "text": [
      "key1\n",
      "contact\n",
      "address\n"
     ]
    }
   ],
   "source": [
    "for i in d:\n",
    "    print(i)"
   ]
  },
  {
   "cell_type": "code",
   "execution_count": 20,
   "id": "f9aeebf3",
   "metadata": {},
   "outputs": [
    {
     "name": "stdout",
     "output_type": "stream",
     "text": [
      "sudh\n",
      "92848\n",
      "Pune\n"
     ]
    }
   ],
   "source": [
    "for i in d:\n",
    "    print (d[i])"
   ]
  },
  {
   "cell_type": "code",
   "execution_count": 21,
   "id": "aec38b74",
   "metadata": {},
   "outputs": [
    {
     "name": "stdout",
     "output_type": "stream",
     "text": [
      "key1 sudh\n",
      "contact 92848\n",
      "address Pune\n"
     ]
    }
   ],
   "source": [
    "for i in d:\n",
    "    print (i,(d[i]))"
   ]
  },
  {
   "cell_type": "code",
   "execution_count": 22,
   "id": "9cc485fa",
   "metadata": {},
   "outputs": [
    {
     "name": "stdout",
     "output_type": "stream",
     "text": [
      "key1   sudh\n",
      "contact   92848\n",
      "address   Pune\n"
     ]
    }
   ],
   "source": [
    "for i in d:\n",
    "    print (i, \" \",(d[i]))"
   ]
  },
  {
   "cell_type": "code",
   "execution_count": 23,
   "id": "1545672b",
   "metadata": {},
   "outputs": [
    {
     "data": {
      "text/plain": [
       "range(0, 9)"
      ]
     },
     "execution_count": 23,
     "metadata": {},
     "output_type": "execute_result"
    }
   ],
   "source": [
    "range(9)"
   ]
  },
  {
   "cell_type": "code",
   "execution_count": 43,
   "id": "ee3ab1c4",
   "metadata": {},
   "outputs": [
    {
     "data": {
      "text/plain": [
       "[0, 1, 2, 3, 4, 5, 6, 7, 8]"
      ]
     },
     "execution_count": 43,
     "metadata": {},
     "output_type": "execute_result"
    }
   ],
   "source": [
    "list(range(9))"
   ]
  },
  {
   "cell_type": "code",
   "execution_count": 44,
   "id": "a5ab334c",
   "metadata": {},
   "outputs": [
    {
     "name": "stdout",
     "output_type": "stream",
     "text": [
      "0\n",
      "1\n",
      "2\n",
      "3\n",
      "4\n",
      "5\n",
      "6\n",
      "7\n",
      "8\n"
     ]
    }
   ],
   "source": [
    "for i in range(9):\n",
    "    print(i)"
   ]
  },
  {
   "cell_type": "code",
   "execution_count": 45,
   "id": "d977bcf3",
   "metadata": {},
   "outputs": [
    {
     "data": {
      "text/plain": [
       "[0, 2, 4, 6, 8]"
      ]
     },
     "execution_count": 45,
     "metadata": {},
     "output_type": "execute_result"
    }
   ],
   "source": [
    "list(range(0,9,2))"
   ]
  },
  {
   "cell_type": "code",
   "execution_count": 46,
   "id": "44d382ce",
   "metadata": {},
   "outputs": [
    {
     "data": {
      "text/plain": [
       "[]"
      ]
     },
     "execution_count": 46,
     "metadata": {},
     "output_type": "execute_result"
    }
   ],
   "source": [
    "list(range(0,9,-1))"
   ]
  },
  {
   "cell_type": "code",
   "execution_count": 25,
   "id": "8f5e75cb",
   "metadata": {},
   "outputs": [
    {
     "name": "stdout",
     "output_type": "stream",
     "text": [
      "swap \n",
      "\n",
      "swap swap \n",
      "\n",
      "swap swap swap \n",
      "\n",
      "swap swap swap swap \n",
      "\n"
     ]
    }
   ],
   "source": [
    "n=4\n",
    "for i in range(4):\n",
    "    for j in range(0, i+1):\n",
    "        print(\"swap\", end=\" \")\n",
    "    print(\"\\n\")"
   ]
  },
  {
   "cell_type": "code",
   "execution_count": 55,
   "id": "782e9331",
   "metadata": {},
   "outputs": [
    {
     "data": {
      "text/plain": [
       "[0, 1, 2, 3, 4, 5, 6, 7]"
      ]
     },
     "execution_count": 55,
     "metadata": {},
     "output_type": "execute_result"
    }
   ],
   "source": [
    "t=(3,23,45,67,2,4,5,6)\n",
    "list(range(len(t)))"
   ]
  },
  {
   "cell_type": "code",
   "execution_count": 56,
   "id": "579322ac",
   "metadata": {},
   "outputs": [
    {
     "data": {
      "text/plain": [
       "3"
      ]
     },
     "execution_count": 56,
     "metadata": {},
     "output_type": "execute_result"
    }
   ],
   "source": [
    "t[0]"
   ]
  },
  {
   "cell_type": "code",
   "execution_count": 58,
   "id": "65ab8d0e",
   "metadata": {},
   "outputs": [
    {
     "name": "stdout",
     "output_type": "stream",
     "text": [
      "0 3\n",
      "1 23\n",
      "2 45\n",
      "3 67\n",
      "4 2\n",
      "5 4\n",
      "6 5\n",
      "7 6\n"
     ]
    }
   ],
   "source": [
    "t=(3,23,45,67,2,4,5,6)\n",
    "\n",
    "for i in range(len(t)):\n",
    "    print(i,t[i])"
   ]
  },
  {
   "cell_type": "code",
   "execution_count": 59,
   "id": "fd26aff0",
   "metadata": {},
   "outputs": [
    {
     "name": "stdout",
     "output_type": "stream",
     "text": [
      "0 i\n",
      "1 n\n",
      "2 e\n",
      "3 u\n",
      "4 r\n",
      "5 o\n",
      "6 n\n"
     ]
    }
   ],
   "source": [
    "s=\"ineuron\"\n",
    "for i in range(len(s)):\n",
    "    print(i, s[i])"
   ]
  },
  {
   "cell_type": "code",
   "execution_count": 60,
   "id": "a3024582",
   "metadata": {},
   "outputs": [
    {
     "name": "stdout",
     "output_type": "stream",
     "text": [
      "i\n",
      "n\n",
      "e\n",
      "u\n",
      "r\n",
      "o\n",
      "n\n"
     ]
    }
   ],
   "source": [
    "s=\"ineuron\"\n",
    "for i in range(len(s)):\n",
    "    print(s[i])"
   ]
  },
  {
   "cell_type": "code",
   "execution_count": 62,
   "id": "84b9cc00",
   "metadata": {},
   "outputs": [
    {
     "name": "stdout",
     "output_type": "stream",
     "text": [
      "0 i\n",
      "-1 n\n",
      "-2 o\n",
      "-3 r\n",
      "-4 u\n",
      "-5 e\n",
      "-6 n\n"
     ]
    }
   ],
   "source": [
    "s=\"ineuron\"\n",
    "for i in range(len(s)):\n",
    "    print(-i,s[-i])"
   ]
  },
  {
   "cell_type": "code",
   "execution_count": 63,
   "id": "975d43b7",
   "metadata": {},
   "outputs": [
    {
     "data": {
      "text/plain": [
       "range(0, 7)"
      ]
     },
     "execution_count": 63,
     "metadata": {},
     "output_type": "execute_result"
    }
   ],
   "source": [
    "range(len(s))"
   ]
  },
  {
   "cell_type": "code",
   "execution_count": 67,
   "id": "d4425263",
   "metadata": {},
   "outputs": [
    {
     "data": {
      "text/plain": [
       "[]"
      ]
     },
     "execution_count": 67,
     "metadata": {},
     "output_type": "execute_result"
    }
   ],
   "source": [
    "list(range(len(s),0))"
   ]
  },
  {
   "cell_type": "code",
   "execution_count": 72,
   "id": "bc64569a",
   "metadata": {},
   "outputs": [
    {
     "data": {
      "text/plain": [
       "[7, 6, 5, 4, 3, 2, 1]"
      ]
     },
     "execution_count": 72,
     "metadata": {},
     "output_type": "execute_result"
    }
   ],
   "source": [
    "list(range(len(s),0,-1))"
   ]
  },
  {
   "cell_type": "code",
   "execution_count": 73,
   "id": "06aca18f",
   "metadata": {},
   "outputs": [
    {
     "data": {
      "text/plain": [
       "[7, 6, 5, 4, 3, 2, 1, 0]"
      ]
     },
     "execution_count": 73,
     "metadata": {},
     "output_type": "execute_result"
    }
   ],
   "source": [
    "list(range(len(s),-1,-1))"
   ]
  },
  {
   "cell_type": "code",
   "execution_count": 74,
   "id": "b170d7fc",
   "metadata": {},
   "outputs": [
    {
     "data": {
      "text/plain": [
       "[6, 5, 4, 3, 2, 1, 0]"
      ]
     },
     "execution_count": 74,
     "metadata": {},
     "output_type": "execute_result"
    }
   ],
   "source": [
    "list(range(len(s)-1,-1,-1))"
   ]
  },
  {
   "cell_type": "code",
   "execution_count": 81,
   "id": "2567177b",
   "metadata": {},
   "outputs": [
    {
     "name": "stdout",
     "output_type": "stream",
     "text": [
      "6 n\n",
      "5 o\n",
      "4 r\n",
      "3 u\n",
      "2 e\n",
      "1 n\n",
      "0 i\n"
     ]
    }
   ],
   "source": [
    "for i in range(len(s)-1,-1,-1):\n",
    "    print(i,s[i])"
   ]
  },
  {
   "cell_type": "code",
   "execution_count": 82,
   "id": "7d5ace60",
   "metadata": {},
   "outputs": [
    {
     "data": {
      "text/plain": [
       "{'key1': 'sudh', 'contact': 92848, 'address': 'Pune'}"
      ]
     },
     "execution_count": 82,
     "metadata": {},
     "output_type": "execute_result"
    }
   ],
   "source": [
    "d"
   ]
  },
  {
   "cell_type": "code",
   "execution_count": 83,
   "id": "580f7bf1",
   "metadata": {},
   "outputs": [
    {
     "data": {
      "text/plain": [
       "dict_items([('key1', 'sudh'), ('contact', 92848), ('address', 'Pune')])"
      ]
     },
     "execution_count": 83,
     "metadata": {},
     "output_type": "execute_result"
    }
   ],
   "source": [
    "d.items()"
   ]
  },
  {
   "cell_type": "code",
   "execution_count": 85,
   "id": "b1efa218",
   "metadata": {},
   "outputs": [
    {
     "name": "stdout",
     "output_type": "stream",
     "text": [
      "('key1', 'sudh') <class 'tuple'>\n",
      "('contact', 92848) <class 'tuple'>\n",
      "('address', 'Pune') <class 'tuple'>\n"
     ]
    }
   ],
   "source": [
    "for i in d.items():\n",
    "    print(i, type(i))\n",
    "    "
   ]
  },
  {
   "cell_type": "code",
   "execution_count": 89,
   "id": "bb6d1462",
   "metadata": {},
   "outputs": [
    {
     "name": "stdout",
     "output_type": "stream",
     "text": [
      "('key1', 'sudh') <class 'tuple'> <class 'str'>\n",
      "('contact', 92848) <class 'tuple'> <class 'int'>\n",
      "('address', 'Pune') <class 'tuple'> <class 'str'>\n"
     ]
    }
   ],
   "source": [
    "for i in d.items():\n",
    "    print(i, type(i), type(i[1]))\n",
    "    "
   ]
  },
  {
   "cell_type": "code",
   "execution_count": 100,
   "id": "4d1742ea",
   "metadata": {},
   "outputs": [],
   "source": [
    "l=[\"swap\", \"kumar\",323145,\"abc@gmail.com\", 345, 784.51]"
   ]
  },
  {
   "cell_type": "code",
   "execution_count": 101,
   "id": "fb51b2e0",
   "metadata": {},
   "outputs": [
    {
     "data": {
      "text/plain": [
       "['swap', 'kumar', 323145, 'abc@gmail.com', 345, 784.51]"
      ]
     },
     "execution_count": 101,
     "metadata": {},
     "output_type": "execute_result"
    }
   ],
   "source": [
    "l"
   ]
  },
  {
   "cell_type": "code",
   "execution_count": 102,
   "id": "e9374375",
   "metadata": {},
   "outputs": [],
   "source": [
    "l=[\"swap\", \"kumar\",323145,\"abc@gmail.com\", 345, 784.51]\n",
    "l1=[]\n",
    "for i in l:\n",
    "    if type(i)==int:\n",
    "        l1.append(i)\n",
    "        "
   ]
  },
  {
   "cell_type": "code",
   "execution_count": 103,
   "id": "ee4b2299",
   "metadata": {},
   "outputs": [
    {
     "data": {
      "text/plain": [
       "[323145, 345]"
      ]
     },
     "execution_count": 103,
     "metadata": {},
     "output_type": "execute_result"
    }
   ],
   "source": [
    "l1"
   ]
  },
  {
   "cell_type": "code",
   "execution_count": 107,
   "id": "41f1a4cf",
   "metadata": {},
   "outputs": [],
   "source": [
    "d1={1:33445678,\"name\":\"sudh\", \"email_id\":\"swap@gmail.com\",234:\"Pune\", \"43\":\"Mumbai\",234:\"458660\"}\n"
   ]
  },
  {
   "cell_type": "code",
   "execution_count": 111,
   "id": "fb314fbd",
   "metadata": {},
   "outputs": [
    {
     "name": "stdout",
     "output_type": "stream",
     "text": [
      "1   33445678\n",
      "234   458660\n"
     ]
    }
   ],
   "source": [
    "for i in d1:\n",
    "    if type(i)==int:\n",
    "        print(i,\" \", d1[i])\n"
   ]
  },
  {
   "cell_type": "code",
   "execution_count": 112,
   "id": "b1f41319",
   "metadata": {},
   "outputs": [],
   "source": [
    "s=\"aaaabbccd\"\n"
   ]
  },
  {
   "cell_type": "code",
   "execution_count": 113,
   "id": "0b2b1c91",
   "metadata": {},
   "outputs": [
    {
     "data": {
      "text/plain": [
       "{'a', 'b', 'c', 'd'}"
      ]
     },
     "execution_count": 113,
     "metadata": {},
     "output_type": "execute_result"
    }
   ],
   "source": [
    "set(s)"
   ]
  },
  {
   "cell_type": "code",
   "execution_count": 114,
   "id": "07830e32",
   "metadata": {},
   "outputs": [
    {
     "name": "stdout",
     "output_type": "stream",
     "text": [
      "a   4\n",
      "b   2\n",
      "c   2\n",
      "d   1\n"
     ]
    }
   ],
   "source": [
    "for i in set(s):\n",
    "    print(i, \" \", s.count(i))\n",
    "    "
   ]
  },
  {
   "cell_type": "code",
   "execution_count": 117,
   "id": "5f4a1804",
   "metadata": {},
   "outputs": [
    {
     "name": "stdout",
     "output_type": "stream",
     "text": [
      "3 <class 'int'> <class 'str'>\n",
      "4 <class 'int'> <class 'str'>\n",
      "5 <class 'int'> <class 'str'>\n",
      "6 <class 'int'> <class 'str'>\n",
      "6 <class 'int'> <class 'str'>\n",
      "1 <class 'int'> <class 'str'>\n",
      "2 <class 'int'> <class 'str'>\n",
      "3 <class 'int'> <class 'str'>\n",
      "3 <class 'int'> <class 'str'>\n",
      "3 <class 'int'> <class 'str'>\n",
      "4 <class 'int'> <class 'str'>\n",
      "1 <class 'int'> <class 'str'>\n",
      "2 <class 'int'> <class 'str'>\n",
      "2 <class 'int'> <class 'str'>\n",
      "2 <class 'int'> <class 'str'>\n"
     ]
    }
   ],
   "source": [
    "i=345661233341222\n",
    "for j in str(i):\n",
    "    print(j,type(i),type(j))"
   ]
  },
  {
   "cell_type": "code",
   "execution_count": 118,
   "id": "df7b0a31",
   "metadata": {},
   "outputs": [
    {
     "name": "stdout",
     "output_type": "stream",
     "text": [
      "3 <class 'int'> <class 'int'>\n",
      "4 <class 'int'> <class 'int'>\n",
      "5 <class 'int'> <class 'int'>\n",
      "6 <class 'int'> <class 'int'>\n",
      "6 <class 'int'> <class 'int'>\n",
      "1 <class 'int'> <class 'int'>\n",
      "2 <class 'int'> <class 'int'>\n",
      "3 <class 'int'> <class 'int'>\n",
      "3 <class 'int'> <class 'int'>\n",
      "3 <class 'int'> <class 'int'>\n",
      "4 <class 'int'> <class 'int'>\n",
      "1 <class 'int'> <class 'int'>\n",
      "2 <class 'int'> <class 'int'>\n",
      "2 <class 'int'> <class 'int'>\n",
      "2 <class 'int'> <class 'int'>\n"
     ]
    }
   ],
   "source": [
    "i=345661233341222\n",
    "for j in str(i):\n",
    "    print(j,type(i),type(int(j)))"
   ]
  },
  {
   "cell_type": "code",
   "execution_count": 123,
   "id": "7afe4079",
   "metadata": {},
   "outputs": [],
   "source": [
    "t=(\"swap\",\"kumar\",[1,2,3,4,5],(3,4,5,6),{\"key1\":\"swap\",\"key2\":\"Gosavi\"}) #extract 3\n"
   ]
  },
  {
   "cell_type": "code",
   "execution_count": 124,
   "id": "c7a49503",
   "metadata": {},
   "outputs": [
    {
     "data": {
      "text/plain": [
       "('swap',\n",
       " 'kumar',\n",
       " [1, 2, 3, 4, 5],\n",
       " (3, 4, 5, 6),\n",
       " {'key1': 'swap', 'key2': 'Gosavi'})"
      ]
     },
     "execution_count": 124,
     "metadata": {},
     "output_type": "execute_result"
    }
   ],
   "source": [
    "t"
   ]
  },
  {
   "cell_type": "code",
   "execution_count": 132,
   "id": "04373bef",
   "metadata": {},
   "outputs": [
    {
     "name": "stdout",
     "output_type": "stream",
     "text": [
      "3\n",
      "3\n"
     ]
    }
   ],
   "source": [
    "for i in t:\n",
    "    if type(i)==list or type(i)==tuple:\n",
    "        for j in i :\n",
    "            if j==3:\n",
    "                print(j)"
   ]
  },
  {
   "cell_type": "code",
   "execution_count": 149,
   "id": "e0a8644f",
   "metadata": {},
   "outputs": [],
   "source": [
    "t1=(\"swap\",\"kumar\",[1,2,3,4,5],(3,4,5,6),{3:3,\"key2\":\"Gosavi\"})"
   ]
  },
  {
   "cell_type": "code",
   "execution_count": 150,
   "id": "570c007c",
   "metadata": {},
   "outputs": [
    {
     "data": {
      "text/plain": [
       "('swap', 'kumar', [1, 2, 3, 4, 5], (3, 4, 5, 6), {3: 3, 'key2': 'Gosavi'})"
      ]
     },
     "execution_count": 150,
     "metadata": {},
     "output_type": "execute_result"
    }
   ],
   "source": [
    "t1"
   ]
  },
  {
   "cell_type": "code",
   "execution_count": 152,
   "id": "1d7fea4b",
   "metadata": {},
   "outputs": [
    {
     "name": "stdout",
     "output_type": "stream",
     "text": [
      "3\n",
      "3\n",
      "3\n"
     ]
    }
   ],
   "source": [
    "for i in t1:\n",
    "    if type(i)==list or type(i)==tuple or type(i)==dict:\n",
    "        for j in i :\n",
    "            if j==3:\n",
    "                print(j)"
   ]
  },
  {
   "cell_type": "code",
   "execution_count": 155,
   "id": "e2ec453b",
   "metadata": {},
   "outputs": [
    {
     "name": "stdout",
     "output_type": "stream",
     "text": [
      "3\n",
      "3\n",
      "3\n",
      "3\n"
     ]
    }
   ],
   "source": [
    "for i in t1:\n",
    "    if type(i)==list or type(i)==tuple:\n",
    "        for j in i :\n",
    "            if j==3:\n",
    "                print(j)\n",
    "    if type(i)==dict:\n",
    "        for k, v in i.items():\n",
    "            if k==3 or v== 3:\n",
    "                print(k)\n",
    "                print(v)\n",
    "                "
   ]
  },
  {
   "cell_type": "code",
   "execution_count": null,
   "id": "0bff0651",
   "metadata": {},
   "outputs": [],
   "source": []
  },
  {
   "cell_type": "code",
   "execution_count": null,
   "id": "bd86295a",
   "metadata": {},
   "outputs": [],
   "source": []
  },
  {
   "cell_type": "code",
   "execution_count": null,
   "id": "34f10941",
   "metadata": {},
   "outputs": [],
   "source": []
  },
  {
   "cell_type": "code",
   "execution_count": null,
   "id": "13573e5a",
   "metadata": {},
   "outputs": [],
   "source": []
  },
  {
   "cell_type": "code",
   "execution_count": null,
   "id": "bedb9732",
   "metadata": {},
   "outputs": [],
   "source": []
  },
  {
   "cell_type": "code",
   "execution_count": null,
   "id": "bc6f567e",
   "metadata": {},
   "outputs": [],
   "source": []
  },
  {
   "cell_type": "code",
   "execution_count": null,
   "id": "175fa2aa",
   "metadata": {},
   "outputs": [],
   "source": []
  },
  {
   "cell_type": "code",
   "execution_count": null,
   "id": "549ab6ed",
   "metadata": {},
   "outputs": [],
   "source": []
  },
  {
   "cell_type": "code",
   "execution_count": null,
   "id": "b7f68a23",
   "metadata": {},
   "outputs": [],
   "source": []
  },
  {
   "cell_type": "code",
   "execution_count": null,
   "id": "7963e9da",
   "metadata": {},
   "outputs": [],
   "source": []
  },
  {
   "cell_type": "code",
   "execution_count": null,
   "id": "d87aaaf7",
   "metadata": {},
   "outputs": [],
   "source": []
  },
  {
   "cell_type": "code",
   "execution_count": null,
   "id": "f9727470",
   "metadata": {},
   "outputs": [],
   "source": []
  },
  {
   "cell_type": "code",
   "execution_count": null,
   "id": "cd487924",
   "metadata": {},
   "outputs": [],
   "source": []
  },
  {
   "cell_type": "code",
   "execution_count": null,
   "id": "9ebe841b",
   "metadata": {},
   "outputs": [],
   "source": []
  },
  {
   "cell_type": "code",
   "execution_count": null,
   "id": "adf89834",
   "metadata": {},
   "outputs": [],
   "source": []
  },
  {
   "cell_type": "code",
   "execution_count": null,
   "id": "170a0992",
   "metadata": {},
   "outputs": [],
   "source": []
  },
  {
   "cell_type": "code",
   "execution_count": null,
   "id": "c5bb8e09",
   "metadata": {},
   "outputs": [],
   "source": []
  },
  {
   "cell_type": "code",
   "execution_count": null,
   "id": "45dd2979",
   "metadata": {},
   "outputs": [],
   "source": []
  },
  {
   "cell_type": "code",
   "execution_count": null,
   "id": "84c28810",
   "metadata": {},
   "outputs": [],
   "source": []
  },
  {
   "cell_type": "code",
   "execution_count": null,
   "id": "b91406b9",
   "metadata": {},
   "outputs": [],
   "source": []
  }
 ],
 "metadata": {
  "kernelspec": {
   "display_name": "Python 3 (ipykernel)",
   "language": "python",
   "name": "python3"
  },
  "language_info": {
   "codemirror_mode": {
    "name": "ipython",
    "version": 3
   },
   "file_extension": ".py",
   "mimetype": "text/x-python",
   "name": "python",
   "nbconvert_exporter": "python",
   "pygments_lexer": "ipython3",
   "version": "3.11.5"
  }
 },
 "nbformat": 4,
 "nbformat_minor": 5
}
