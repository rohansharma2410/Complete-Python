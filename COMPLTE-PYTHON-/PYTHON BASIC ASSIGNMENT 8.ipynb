{
 "cells": [
  {
   "cell_type": "markdown",
   "id": "6b23f73b",
   "metadata": {},
   "source": [
    "PYTHON PROGRAMMING ASSIGNMENT 8\n",
    "SUBMITTED BY:SWAPNIL GOSAVI\n",
    "1. In Python, what is the difference between a built-in function and a user-defined function? Provide an\n",
    "example of each.\n",
    "2. How can you pass arguments to a function in Python? Explain the difference between positional\n",
    "arguments and keyword arguments.\n",
    "3. What is the purpose of the return statement in a function? Can a function have multiple return\n",
    "statements? Explain with an example.\n",
    "4. What are lambda functions in Python? How are they different from regular functions? Provide an\n",
    "example where a lambda function can be useful.\n",
    "5. How does the concept of \"scope\" apply to functions in Python? Explain the difference between local\n",
    "scope and global scope.\n",
    "6. How can you use the \"return\" statement in a Python function to return multiple values?\n",
    "7. What is the difference between the \"pass by value\" and \"pass by reference\" concepts when it\n",
    "comes to function arguments in Python?\n",
    "8. Create a function that can intake integer or decimal value and do following operations:\n",
    "a. Logarithmic function (log x)\n",
    "b. Exponential function (exp(x))\n",
    "c. Power function with base 2 (2\n",
    "x\n",
    ")\n",
    "d. Square root\n",
    "9. Create a function that takes a full name as an argument and returns first name and last name."
   ]
  },
  {
   "cell_type": "markdown",
   "id": "60a8b5b6",
   "metadata": {},
   "source": [
    "Q 1)In Python, what is the difference between a built-in function and a user-defined function? Provide an\n",
    "example of each."
   ]
  },
  {
   "cell_type": "markdown",
   "id": "c7144537",
   "metadata": {},
   "source": [
    "Ans 1)\n",
    "Built-in functions: These are functions that are pre-defined in the Python programming language. They are readily available for use without requiring any additional code or importing external modules. Built-in functions cover a wide range of functionalities and provide core operations for various tasks.\n",
    "Here's an example of a built-in function, len(), which returns the length of an object such as a string, list, or tuple:\n"
   ]
  },
  {
   "cell_type": "code",
   "execution_count": 2,
   "id": "0211b027",
   "metadata": {},
   "outputs": [
    {
     "name": "stdout",
     "output_type": "stream",
     "text": [
      "13\n"
     ]
    }
   ],
   "source": [
    "my_string = \"Hello, World!\"\n",
    "length = len(my_string)#here len is built in function\n",
    "print(length)  # Output: 13\n"
   ]
  },
  {
   "cell_type": "markdown",
   "id": "ea55f7be",
   "metadata": {},
   "source": [
    "User-defined functions: These are functions created by the user or programmer. They are defined using the def keyword and can be customized to perform specific tasks as needed. User-defined functions allow you to encapsulate a block of code and reuse it multiple times within your program.\n",
    "Definition: User-defined functions are created with the def keyword followed by a function name of your choosing.\n",
    "\n",
    "Parameters: Functions can take parameters, which are values you supply to the function so it can perform a computation with them. These parameters are placed inside parentheses after the function name.\n",
    "\n",
    "Body: After the parameters, you write a colon : and indent the next line to begin the function's body, which contains the statements that will be executed when the function is called.\n",
    "\n",
    "Return: Functions can optionally return a value using the return statement. The value that's returned can be used in other parts of your program. If no return statement is specified, the function will return None.\n",
    "\n",
    "Calling: After defining a function, you can \"call\" it by writing its name followed by parentheses (). If the function takes parameters, you can supply them inside these parentheses."
   ]
  },
  {
   "cell_type": "code",
   "execution_count": 4,
   "id": "a209001e",
   "metadata": {},
   "outputs": [
    {
     "name": "stdout",
     "output_type": "stream",
     "text": [
      "The sum is: 8\n"
     ]
    }
   ],
   "source": [
    "def add_numbers(number_1, number_2):\n",
    "    sum = number_1 + number_2\n",
    "    return sum\n",
    "\n",
    "result = add_numbers(5, 3)\n",
    "print(\"The sum is:\", result)"
   ]
  },
  {
   "cell_type": "markdown",
   "id": "6fcbfc81",
   "metadata": {},
   "source": [
    "Q 2)How can you pass arguments to a function in Python? Explain the difference between positional\n",
    "arguments and keyword arguments"
   ]
  },
  {
   "cell_type": "markdown",
   "id": "55a49236",
   "metadata": {},
   "source": [
    "#Ans 2)\n",
    "Positional Arguments: Positional arguments are passed to a function based on their position or order. The function's parameters are matched with the arguments based on their respective positions. The number of arguments and their order must match the number and order of the parameters defined in the function."
   ]
  },
  {
   "cell_type": "code",
   "execution_count": 6,
   "id": "90add0ff",
   "metadata": {},
   "outputs": [
    {
     "name": "stdout",
     "output_type": "stream",
     "text": [
      "Hello, Alice! You are 25 years old.\n"
     ]
    }
   ],
   "source": [
    "def greet(name, age):\n",
    "    print(f\"Hello, {name}! You are {age} years old.\")\n",
    "\n",
    "# Calling the function with positional arguments\n",
    "greet(\"Alice\", 25)\n"
   ]
  },
  {
   "cell_type": "markdown",
   "id": "3f478e35",
   "metadata": {},
   "source": [
    "Keyword Arguments: Keyword arguments are passed to a function with a specific keyword or parameter name. Each argument is explicitly assigned to its corresponding parameter using the parameter_name=value syntax. The order of the arguments doesn't matter when using keyword arguments."
   ]
  },
  {
   "cell_type": "code",
   "execution_count": 7,
   "id": "dbbf7ffd",
   "metadata": {},
   "outputs": [
    {
     "name": "stdout",
     "output_type": "stream",
     "text": [
      "Hello, Bob! You are 30 years old.\n"
     ]
    }
   ],
   "source": [
    "def greet(name, age):\n",
    "    print(f\"Hello, {name}! You are {age} years old.\")\n",
    "\n",
    "# Calling the function with keyword arguments\n",
    "greet(age=30, name=\"Bob\")\n"
   ]
  },
  {
   "cell_type": "markdown",
   "id": "49c4e868",
   "metadata": {},
   "source": [
    "Q 3)What is the purpose of the return statement in a function? Can a function have multiple return\n",
    "statements? Explain with an example.\n"
   ]
  },
  {
   "cell_type": "markdown",
   "id": "5e997374",
   "metadata": {},
   "source": [
    "#Ans 3)\n",
    "The return statement in a function serves the purpose of specifying the value or values that the function should produce as its result. It allows the function to calculate a value or perform a task and then provide the result back to the caller.\n",
    "\n",
    "The return statement accomplishes two main things:\n",
    "\n",
    "1)It terminates the execution of the function, exiting the function at the point where the return statement is encountered.\n",
    "2)It provides the value or values specified after the return keyword as the output of the function."
   ]
  },
  {
   "cell_type": "markdown",
   "id": "e516b7f8",
   "metadata": {},
   "source": [
    "A function can indeed have multiple return statements. Once a return statement is executed, the function immediately exits, and the specified value is returned. Having multiple return statements allows you to conditionally return different values or perform different actions based on certain conditions within the function."
   ]
  },
  {
   "cell_type": "code",
   "execution_count": 9,
   "id": "f75e5782",
   "metadata": {},
   "outputs": [
    {
     "name": "stdout",
     "output_type": "stream",
     "text": [
      "B\n"
     ]
    }
   ],
   "source": [
    "def get_grade(score):\n",
    "    if score >= 90:\n",
    "        return \"A\"\n",
    "    elif score >= 80:\n",
    "        return \"B\"\n",
    "    elif score >= 70:\n",
    "        return \"C\"\n",
    "    else:\n",
    "        return \"F\"\n",
    "\n",
    "# Calling the function\n",
    "grade = get_grade(85)\n",
    "print(grade)  # Output: \"B\"\n"
   ]
  },
  {
   "cell_type": "markdown",
   "id": "f3f27fae",
   "metadata": {},
   "source": [
    "Q 4) What are lambda functions in Python? How are they different from regular functions? Provide an\n",
    "example where a lambda function can be useful.\n"
   ]
  },
  {
   "cell_type": "markdown",
   "id": "2198b593",
   "metadata": {},
   "source": [
    "#Ans 4)\n",
    "They are typically used for one-time, simple operations and are defined using the lambda keyword. Lambda functions are different from regular functions in a few key ways:\n",
    "\n",
    "Syntax: Lambda functions have a compact syntax compared to regular functions. They are defined using the lambda keyword, followed by a list of parameters, a colon :, and the expression to be evaluated.\n",
    "\n",
    "Nameless Functions: Lambda functions don't have a specified name. They are anonymous functions that are often used as inline or throwaway functions.\n",
    "\n",
    "Single Expression: Lambda functions can only consist of a single expression. They can't contain multiple statements or complex logic like regular functions."
   ]
  },
  {
   "cell_type": "code",
   "execution_count": 10,
   "id": "8bd1bf4b",
   "metadata": {},
   "outputs": [
    {
     "name": "stdout",
     "output_type": "stream",
     "text": [
      "8\n"
     ]
    }
   ],
   "source": [
    "add_numbers = lambda x, y: x + y\n",
    "\n",
    "# Calling the lambda function\n",
    "result = add_numbers(5, 3)\n",
    "print(result)  # Output: 8\n"
   ]
  },
  {
   "cell_type": "markdown",
   "id": "a3b6ffbb",
   "metadata": {},
   "source": [
    "Q 5)How does the concept of \"scope\" apply to functions in Python? Explain the difference between local\n",
    "scope and global scope.\n"
   ]
  },
  {
   "cell_type": "markdown",
   "id": "490a7214",
   "metadata": {},
   "source": [
    "Local Scope: A local scope refers to the region within a function where variables are defined. Variables defined within a function have local scope, meaning they are only accessible within that specific function. They are not accessible outside the function or in other functions unless they are explicitly passed as arguments or returned."
   ]
  },
  {
   "cell_type": "code",
   "execution_count": 13,
   "id": "381142c1",
   "metadata": {},
   "outputs": [
    {
     "name": "stdout",
     "output_type": "stream",
     "text": [
      "10\n"
     ]
    },
    {
     "ename": "NameError",
     "evalue": "name 'x' is not defined",
     "output_type": "error",
     "traceback": [
      "\u001b[1;31m---------------------------------------------------------------------------\u001b[0m",
      "\u001b[1;31mNameError\u001b[0m                                 Traceback (most recent call last)",
      "\u001b[1;32m~\\AppData\\Local\\Temp\\ipykernel_16912\\1607962867.py\u001b[0m in \u001b[0;36m<module>\u001b[1;34m\u001b[0m\n\u001b[0;32m      4\u001b[0m \u001b[1;33m\u001b[0m\u001b[0m\n\u001b[0;32m      5\u001b[0m \u001b[0mmy_function\u001b[0m\u001b[1;33m(\u001b[0m\u001b[1;33m)\u001b[0m  \u001b[1;31m# Output: 10\u001b[0m\u001b[1;33m\u001b[0m\u001b[1;33m\u001b[0m\u001b[0m\n\u001b[1;32m----> 6\u001b[1;33m \u001b[0mprint\u001b[0m\u001b[1;33m(\u001b[0m\u001b[0mx\u001b[0m\u001b[1;33m)\u001b[0m  \u001b[1;31m# Raises an error, as x is not defined in the global scope\u001b[0m\u001b[1;33m\u001b[0m\u001b[1;33m\u001b[0m\u001b[0m\n\u001b[0m",
      "\u001b[1;31mNameError\u001b[0m: name 'x' is not defined"
     ]
    }
   ],
   "source": [
    "def my_function():\n",
    "    x = 10  # Variable with local scope\n",
    "    print(x)\n",
    "\n",
    "my_function()  # Output: 10\n",
    "print(x)  # Raises an error, as x is not defined in the global scope\n"
   ]
  },
  {
   "cell_type": "markdown",
   "id": "d45bde52",
   "metadata": {},
   "source": [
    "Global Scope: The global scope refers to the outermost level of a program, outside of any functions. Variables defined outside of functions, at the global level, have global scope. They can be accessed and modified from any part of the program, including inside functions."
   ]
  },
  {
   "cell_type": "code",
   "execution_count": 15,
   "id": "877a19d6",
   "metadata": {},
   "outputs": [
    {
     "name": "stdout",
     "output_type": "stream",
     "text": [
      "10\n"
     ]
    }
   ],
   "source": [
    "x = 10  # Variable with global scope\n",
    "\n",
    "def my_function():\n",
    "    print(x)\n",
    "\n",
    "my_function()  # Output: 10\n"
   ]
  },
  {
   "cell_type": "markdown",
   "id": "bbcc13b4",
   "metadata": {},
   "source": [
    "Q 6) How can you use the \"return\" statement in a Python function to return multiple values?"
   ]
  },
  {
   "cell_type": "markdown",
   "id": "adaefba9",
   "metadata": {},
   "source": [
    "#Ans 6)\n",
    "Return statement is typically used to exit a function and optionally return a single value. However, you can use the return statement to return multiple values by grouping them together in a data structure such as a tuple, list, or dictionary"
   ]
  },
  {
   "cell_type": "code",
   "execution_count": 3,
   "id": "7c7c7f27",
   "metadata": {},
   "outputs": [
    {
     "name": "stdout",
     "output_type": "stream",
     "text": [
      "(10, 'Hello', [1, 2, 3])\n"
     ]
    }
   ],
   "source": [
    "#Returning values as tuple\n",
    "def return_multiple_values():\n",
    "    value1 = 10\n",
    "    value2 = \"Hello\"\n",
    "    value3 = [1, 2, 3]\n",
    "    return value1, value2, value3\n",
    "\n",
    "result = return_multiple_values()\n",
    "print(result)  # (10, 'Hello', [1, 2, 3])\n"
   ]
  },
  {
   "cell_type": "code",
   "execution_count": null,
   "id": "26db3b5f",
   "metadata": {},
   "outputs": [],
   "source": [
    "#Returning values as LIst\n",
    "def return_multiple_values():\n",
    "    value1 = 10\n",
    "    value2 = \"Hello\"\n",
    "    value3 = [1, 2, 3]\n",
    "    return [value1, value2, value3]\n",
    "\n",
    "result = return_multiple_values()\n",
    "print(result)  # [10, 'Hello', [1, 2, 3]]\n"
   ]
  },
  {
   "cell_type": "code",
   "execution_count": null,
   "id": "6c4563ca",
   "metadata": {},
   "outputs": [],
   "source": [
    "#Returning value as dict\n",
    "def return_multiple_values():\n",
    "    value1 = 10\n",
    "    value2 = \"Hello\"\n",
    "    value3 = [1, 2, 3]\n",
    "    return {\"value1\": value1, \"value2\": value2, \"value3\": value3}\n",
    "\n",
    "result = return_multiple_values()\n",
    "print(result)  # {'value1': 10, 'value2': 'Hello', 'value3': [1, 2, 3]}\n"
   ]
  },
  {
   "cell_type": "markdown",
   "id": "cea1abc6",
   "metadata": {},
   "source": [
    "Q 7)What is the difference between the \"pass by value\" and \"pass by reference\" concepts when it comes to function arguments in Python?"
   ]
  },
  {
   "cell_type": "code",
   "execution_count": null,
   "id": "4de6f552",
   "metadata": {},
   "outputs": [],
   "source": [
    "#Ans 7)\n"
   ]
  },
  {
   "cell_type": "markdown",
   "id": "08ef69a0",
   "metadata": {},
   "source": [
    "Pass by Value:\n",
    "In a \"pass by value\" mechanism, a copy of the value of the argument is passed to the function. This means that any modifications made to the parameter within the function do not affect the original variable or object outside the function."
   ]
  },
  {
   "cell_type": "code",
   "execution_count": 4,
   "id": "2f52ea65",
   "metadata": {},
   "outputs": [
    {
     "name": "stdout",
     "output_type": "stream",
     "text": [
      "5\n"
     ]
    }
   ],
   "source": [
    "def increment(num):\n",
    "    num += 1\n",
    "\n",
    "my_num = 5\n",
    "increment(my_num)\n",
    "print(my_num)  # Output: 5 (unchanged)\n"
   ]
  },
  {
   "cell_type": "markdown",
   "id": "4a5d3368",
   "metadata": {},
   "source": [
    "Pass by Reference:\n",
    "In a \"pass by reference\" mechanism, a reference or memory address of the argument is passed to the function. This means that any modifications made to the parameter within the function directly affect the original variable or object outside the function."
   ]
  },
  {
   "cell_type": "code",
   "execution_count": 6,
   "id": "2de1eb6b",
   "metadata": {},
   "outputs": [
    {
     "name": "stdout",
     "output_type": "stream",
     "text": [
      "[1, 2, 3, 4]\n"
     ]
    }
   ],
   "source": [
    "def append_item(my_list):\n",
    "    my_list.append(4)\n",
    "\n",
    "my_list = [1, 2, 3]\n",
    "append_item(my_list)\n",
    "print(my_list)  # Output: [1, 2, 3, 4]\n"
   ]
  },
  {
   "cell_type": "markdown",
   "id": "d314757c",
   "metadata": {},
   "source": [
    "Q 8)Create a function that can intake integer or decimal value and do following operations: a. Logarithmic function (log x) b. Exponential function (exp(x)) c. Power function with base 2 (2 x ) d. Square root"
   ]
  },
  {
   "cell_type": "code",
   "execution_count": 8,
   "id": "220dfdf0",
   "metadata": {},
   "outputs": [
    {
     "name": "stdout",
     "output_type": "stream",
     "text": [
      "(1.0986122886681098, 20.085536923187668, 8.0, 1.7320508075688772)\n"
     ]
    }
   ],
   "source": [
    "#Ans 8)\n",
    "import math\n",
    "\n",
    "def perform_operations(value):\n",
    "    logarithm = math.log(value)\n",
    "    exponential = math.exp(value)\n",
    "    power_of_2 = math.pow(2, value)\n",
    "    square_root = math.sqrt(value)\n",
    "    \n",
    "    return logarithm, exponential, power_of_2, square_root\n",
    "\n",
    "result = perform_operations(3)\n",
    "print(result)\n"
   ]
  },
  {
   "cell_type": "markdown",
   "id": "cde47542",
   "metadata": {},
   "source": [
    "Q 9) Create a function that takes a full name as an argument and returns first name and last name."
   ]
  },
  {
   "cell_type": "code",
   "execution_count": 11,
   "id": "185f9a4a",
   "metadata": {},
   "outputs": [
    {
     "name": "stdout",
     "output_type": "stream",
     "text": [
      "('Swapnil', 'Gosavi')\n"
     ]
    }
   ],
   "source": [
    "#Ans 9)\n",
    "def get_first_and_last_name(full_name):\n",
    "    names = full_name.split()\n",
    "    first_name = names[0]\n",
    "    last_name = names[-1]\n",
    "    \n",
    "    return first_name, last_name\n",
    "\n",
    "name = \"Swapnil Gosavi\"\n",
    "result = get_first_and_last_name(name)\n",
    "print(result)\n"
   ]
  },
  {
   "cell_type": "code",
   "execution_count": null,
   "id": "d51f028f",
   "metadata": {},
   "outputs": [],
   "source": []
  }
 ],
 "metadata": {
  "kernelspec": {
   "display_name": "Python 3 (ipykernel)",
   "language": "python",
   "name": "python3"
  },
  "language_info": {
   "codemirror_mode": {
    "name": "ipython",
    "version": 3
   },
   "file_extension": ".py",
   "mimetype": "text/x-python",
   "name": "python",
   "nbconvert_exporter": "python",
   "pygments_lexer": "ipython3",
   "version": "3.9.13"
  }
 },
 "nbformat": 4,
 "nbformat_minor": 5
}
