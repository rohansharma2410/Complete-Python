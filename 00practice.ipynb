{
 "cells": [
  {
   "cell_type": "code",
   "execution_count": 25,
   "metadata": {},
   "outputs": [],
   "source": [
    "def is_palindrome(word):\n",
    "    reversed = word[::-1]\n",
    "    return word == reversed\n",
    "word = input(\"Enter a String\")\n",
    "if is_palindrome(word):\n",
    "    print(f\"{word} is a palindrome\")\n",
    "else:\n",
    "    print(f\"{word} is not a palindrome\")"
   ]
  },
  {
   "cell_type": "markdown",
   "metadata": {},
   "source": [
    "<h3> Factorial </h3>\n",
    "Factorial of 5 meaning 1x2x3x4x5  = 120 "
   ]
  },
  {
   "cell_type": "code",
   "execution_count": null,
   "metadata": {},
   "outputs": [],
   "source": [
    "def Factorial_of(num):\n",
    "    if num == 0 :\n",
    "        return 1\n",
    "    else :\n",
    "        return num * Factorial_of(num-1)\n",
    "num = int(input(\"enter the number\"))\n",
    "result = Factorial_of(num)\n",
    "print(f\" The factorial of {num} is {result}\")\n",
    "    "
   ]
  },
  {
   "cell_type": "markdown",
   "metadata": {},
   "source": [
    "<h3>Largest Element in the list </h3>"
   ]
  },
  {
   "cell_type": "code",
   "execution_count": null,
   "metadata": {},
   "outputs": [],
   "source": [
    "def largest_num(number):\n",
    "    largest = number[0]\n",
    "    for num in number:\n",
    "        if num > largest:\n",
    "            largest = num \n",
    "    return largest\n",
    "\n",
    "number = [10,12,13,12,15]\n",
    "large= largest_num(number)\n",
    "print (f\"the laregst number is {large}\")"
   ]
  },
  {
   "cell_type": "markdown",
   "metadata": {},
   "source": [
    "<h3>Reverse a string</h3>\n"
   ]
  },
  {
   "cell_type": "code",
   "execution_count": null,
   "metadata": {},
   "outputs": [],
   "source": [
    "def reversee(letter):\n",
    "    return letter[::-1]\n",
    "\n",
    "letter = input(\"enter the  number \")\n",
    "word = reversee(letter)\n",
    "print(f\"the reverse of {letter} is {word}\")"
   ]
  },
  {
   "cell_type": "markdown",
   "metadata": {},
   "source": [
    "<h3>Count Frequency of each element in list</h3>"
   ]
  },
  {
   "cell_type": "code",
   "execution_count": 9,
   "metadata": {},
   "outputs": [
    {
     "name": "stdout",
     "output_type": "stream",
     "text": [
      "{1: 3, 2: 2, 3: 2, 4: 1}\n"
     ]
    }
   ],
   "source": [
    "def Frequency_count(my_list):\n",
    "    frequency = {}\n",
    "    for i in my_list:\n",
    "        if i in frequency:\n",
    "            frequency[i] += 1\n",
    "        else:\n",
    "            frequency[i] = 1\n",
    "    return frequency\n",
    "\n",
    "my_list = [1,2,3,4,3,2,1,1]\n",
    "count = Frequency_count(my_list)\n",
    "print (count)"
   ]
  },
  {
   "cell_type": "markdown",
   "metadata": {},
   "source": [
    "<h3>Prime Number </h3>"
   ]
  },
  {
   "cell_type": "code",
   "execution_count": 26,
   "metadata": {},
   "outputs": [
    {
     "name": "stdout",
     "output_type": "stream",
     "text": [
      "4 is not a prime number\n"
     ]
    }
   ],
   "source": [
    "def is_prime(number):\n",
    "    if number < 2:\n",
    "        return False\n",
    "    for i in range(2, number):\n",
    "        if number % i == 0:\n",
    "            return False\n",
    "    return True\n",
    "\n",
    "# Test the function\n",
    "num = int(input(\"enter the number\"))\n",
    "if is_prime(num):\n",
    "    print(f\"{num} is a prime number\")\n",
    "else:\n",
    "    print(f\"{num} is not a prime number\")"
   ]
  },
  {
   "cell_type": "markdown",
   "metadata": {},
   "source": [
    "<H3>Common elements between two lists.</H3>"
   ]
  },
  {
   "cell_type": "code",
   "execution_count": 29,
   "metadata": {},
   "outputs": [
    {
     "name": "stdout",
     "output_type": "stream",
     "text": [
      "the common elemnt in list is [1, 2, 3, 3]\n"
     ]
    }
   ],
   "source": [
    "def find_common(list1, list2):\n",
    "    common_element=[]\n",
    "    for item in list1:\n",
    "        if item in list2:\n",
    "            common_element.append(item)\n",
    "    return common_element\n",
    "\n",
    "\n",
    "\n",
    "list1=[1,2,3,4,3]\n",
    "list2=[1,3,2,8]\n",
    "result = find_common(list1,list2)\n",
    "print(f\"the common elemnt in list is {result}\")"
   ]
  },
  {
   "cell_type": "markdown",
   "metadata": {},
   "source": [
    "<h3> Program to sort a list of elements using the bubble sort algorithm.</h3>"
   ]
  },
  {
   "cell_type": "code",
   "execution_count": 13,
   "metadata": {},
   "outputs": [
    {
     "name": "stdout",
     "output_type": "stream",
     "text": [
      "[1, 2, 4, 5, 7, 8]\n"
     ]
    }
   ],
   "source": [
    "def bubble_sort(elements):\n",
    "    n = len(elements)\n",
    "    for i in range(n):\n",
    "        for j in range(0,n - i - 1):\n",
    "            if elements[j] > elements[j + 1]:\n",
    "                elements[j], elements[j + 1] = elements[j + 1], elements[j]\n",
    "\n",
    "nums = [5, 2, 8, 1 ,4,7]\n",
    "bubble_sort(nums)\n",
    "print(nums)"
   ]
  },
  {
   "cell_type": "markdown",
   "metadata": {},
   "source": [
    "<h3> The second largest number in a list.</h3>"
   ]
  },
  {
   "cell_type": "code",
   "execution_count": 14,
   "metadata": {},
   "outputs": [
    {
     "data": {
      "text/plain": [
       "6"
      ]
     },
     "execution_count": 14,
     "metadata": {},
     "output_type": "execute_result"
    }
   ],
   "source": [
    "list =[1,3,5,6,7,4,2]\n",
    "list.sort()\n",
    "list[-2]\n",
    "\n",
    "    "
   ]
  },
  {
   "cell_type": "code",
   "execution_count": 28,
   "metadata": {},
   "outputs": [
    {
     "name": "stdout",
     "output_type": "stream",
     "text": [
      "the second largest number is 7\n"
     ]
    }
   ],
   "source": [
    "def find_second_largest(numbers):\n",
    "   \n",
    "    largest = second_largest = numbers[0]\n",
    "\n",
    "\n",
    "    for num in numbers[1:]:\n",
    "        if num > largest:\n",
    "            \n",
    "            second_largest = largest\n",
    "            largest = num\n",
    "        elif num > second_largest:\n",
    "            \n",
    "            second_largest = num\n",
    "\n",
    "    return second_largest\n",
    "\n",
    "num = [1,3,5,2,7,8]\n",
    "result = find_second_largest(num)\n",
    "print(f\"the second largest number is {result}\")"
   ]
  },
  {
   "cell_type": "code",
   "execution_count": 2,
   "metadata": {},
   "outputs": [
    {
     "name": "stdout",
     "output_type": "stream",
     "text": [
      "[1, 4, 5, 3, 2]\n"
     ]
    }
   ],
   "source": [
    "def duplicate(number):\n",
    "    uniqueNumber = []\n",
    "    for num in number:\n",
    "        if num not in uniqueNumber :\n",
    "            uniqueNumber.append(num)\n",
    "    return uniqueNumber\n",
    "            \n",
    "number = [1,4,5,3,5,3,5,2]\n",
    "num = duplicate(number)\n",
    "print(num)"
   ]
  },
  {
   "cell_type": "markdown",
   "metadata": {},
   "source": [
    "<H3> Converting int to decimal</H3>"
   ]
  },
  {
   "cell_type": "code",
   "execution_count": 60,
   "metadata": {},
   "outputs": [
    {
     "name": "stdout",
     "output_type": "stream",
     "text": [
      "<class 'decimal.Decimal'>\n"
     ]
    }
   ],
   "source": [
    "from decimal import Decimal\n",
    "\n",
    "def int_to_decimal(number):\n",
    "\n",
    "    return Decimal(number)\n",
    "\n",
    "num = 10\n",
    "decimal_num = int_to_decimal(num)\n",
    "print(type(decimal_num))"
   ]
  },
  {
   "cell_type": "markdown",
   "metadata": {},
   "source": [
    "<h3>Counting Vowel in given string</h3>"
   ]
  },
  {
   "cell_type": "code",
   "execution_count": 74,
   "metadata": {},
   "outputs": [
    {
     "name": "stdout",
     "output_type": "stream",
     "text": [
      "2 ['o', 'a']\n"
     ]
    }
   ],
   "source": [
    "def count_Vowel(String):\n",
    "    vowellist=[]\n",
    "    vowel = 'aeiou'\n",
    "    count=0\n",
    "    for word in String:\n",
    "        if word in vowel:\n",
    "            count +=1 \n",
    "            vowellist.append(word)\n",
    "        \n",
    "    print(count,vowellist)\n",
    "     \n",
    "String = \"rohan\"\n",
    "count_Vowel(String)\n",
    "\n"
   ]
  },
  {
   "cell_type": "markdown",
   "metadata": {},
   "source": [
    "<h3>Counting consonant in string</h3>"
   ]
  },
  {
   "cell_type": "code",
   "execution_count": 2,
   "metadata": {},
   "outputs": [
    {
     "name": "stdout",
     "output_type": "stream",
     "text": [
      "3 ['r', 'h', 'n']\n"
     ]
    }
   ],
   "source": [
    "def consonant(String):\n",
    "    vowel='aeiou'\n",
    "    vowellist = []\n",
    "    count = 0\n",
    "    for word in String:\n",
    "        if word not in vowel:\n",
    "            count +=1\n",
    "            vowellist.append(word)\n",
    "    print(count,vowellist)\n",
    "     \n",
    "String = \"rohan\"\n",
    "consonant(String)"
   ]
  },
  {
   "cell_type": "markdown",
   "metadata": {},
   "source": [
    "<h3>Fibonacci Series</h3>"
   ]
  },
  {
   "cell_type": "code",
   "execution_count": 7,
   "metadata": {},
   "outputs": [
    {
     "name": "stdout",
     "output_type": "stream",
     "text": [
      "1 2 3 5 8 13 21 34 55 89 \n"
     ]
    }
   ],
   "source": [
    "n = 10\n",
    "num1 = 0\n",
    "num2 = 1\n",
    "next_number = num2  \n",
    "count = 1\n",
    " \n",
    "while count <= n:\n",
    "    print(next_number, end=\" \")\n",
    "    count += 1\n",
    "    num1, num2 = num2, next_number\n",
    "    next_number = num1 + num2\n",
    "print()"
   ]
  },
  {
   "cell_type": "markdown",
   "metadata": {},
   "source": [
    "<h3>Add All element in list</h3>"
   ]
  },
  {
   "cell_type": "code",
   "execution_count": 37,
   "metadata": {},
   "outputs": [
    {
     "name": "stdout",
     "output_type": "stream",
     "text": [
      "55\n"
     ]
    }
   ],
   "source": [
    "def listadd(list1):\n",
    "    \n",
    "    total = 0\n",
    "    for element in range(0,len(list1)):\n",
    "        total = total + list1[element]\n",
    "    return total\n",
    "\n",
    "list1 = [1,3,4,2,45]\n",
    "total = listadd(list1)\n",
    "print(total)"
   ]
  },
  {
   "cell_type": "markdown",
   "metadata": {},
   "source": [
    "<h3> program to find the largest number in a list.</h3>"
   ]
  },
  {
   "cell_type": "code",
   "execution_count": null,
   "metadata": {},
   "outputs": [],
   "source": []
  }
 ],
 "metadata": {
  "kernelspec": {
   "display_name": "Python 3",
   "language": "python",
   "name": "python3"
  },
  "language_info": {
   "codemirror_mode": {
    "name": "ipython",
    "version": 3
   },
   "file_extension": ".py",
   "mimetype": "text/x-python",
   "name": "python",
   "nbconvert_exporter": "python",
   "pygments_lexer": "ipython3",
   "version": "3.11.5"
  }
 },
 "nbformat": 4,
 "nbformat_minor": 2
}
