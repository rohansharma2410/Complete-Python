{
  "nbformat": 4,
  "nbformat_minor": 0,
  "metadata": {
    "colab": {
      "private_outputs": true,
      "provenance": [],
      "authorship_tag": "ABX9TyPukW/540Yg6KvQyr1qGLiy",
      "include_colab_link": true
    },
    "kernelspec": {
      "name": "python3",
      "display_name": "Python 3"
    },
    "language_info": {
      "name": "python"
    },
    "accelerator": "TPU",
    "gpuClass": "standard"
  },
  "cells": [
    {
      "cell_type": "markdown",
      "metadata": {
        "id": "view-in-github",
        "colab_type": "text"
      },
      "source": [
        "<a href=\"https://colab.research.google.com/github/harshalDharpure/Complte-Python-/blob/main/segmentation_Feature_Extraction_Values.ipynb\" target=\"_parent\"><img src=\"https://colab.research.google.com/assets/colab-badge.svg\" alt=\"Open In Colab\"/></a>"
      ]
    },
    {
      "cell_type": "code",
      "source": [
        "from skimage import feature, io\n",
        "\n",
        "# Load the image\n",
        "img = io.imread('/content/kmeans_clustering.png', as_gray=True)\n",
        "\n",
        "# Calculate Homogeneity feature\n",
        "glcm = feature.graycomatrix(img, distances=[1], angles=[0], symmetric=True, normed=True)\n",
        "homogeneity = feature.graycoprops(glcm, 'homogeneity')[0, 0]"
      ],
      "metadata": {
        "id": "npk98z4NEcD4"
      },
      "execution_count": null,
      "outputs": []
    },
    {
      "cell_type": "code",
      "source": [
        "from skimage import io, img_as_ubyte\n",
        "from skimage.filters import rank\n",
        "from skimage.morphology import disk\n",
        "\n",
        "# Load the image\n",
        "\n",
        "\n",
        "# Convert the image to 8-bit\n",
        "img_8bit = img_as_ubyte(img)\n",
        "\n",
        "# Calculate entropy of the image using a 9x9 disk-shaped neighborhood\n",
        "entropy_img = rank.entropy(img_8bit, disk(9))"
      ],
      "metadata": {
        "id": "yrun298NFNrV"
      },
      "execution_count": null,
      "outputs": []
    },
    {
      "cell_type": "code",
      "source": [
        "import cv2\n",
        "\n",
        "# Load the lung cancer image\n",
        "img = cv2.imread('/content/kmeans_clustering.png', cv2.IMREAD_GRAYSCALE)\n",
        "\n",
        "# Calculate the contrast of the image using OpenCV's built-in function\n",
        "laplacian = cv2.Laplacian(img, cv2.CV_64F)\n",
        "laplacian_abs = cv2.convertScaleAbs(laplacian)\n",
        "_, binary = cv2.threshold(laplacian_abs, 0, 255, cv2.THRESH_BINARY | cv2.THRESH_OTSU)\n",
        "\n",
        "# Compute the contrast as the fraction of white pixels in the binary image\n",
        "contrast = cv2.countNonZero(binary) / (binary.shape[0] * binary.shape[1])"
      ],
      "metadata": {
        "id": "fRwtb15MFUpt"
      },
      "execution_count": null,
      "outputs": []
    },
    {
      "cell_type": "code",
      "source": [
        "import cv2\n",
        "import numpy as np\n",
        "\n",
        "# Load the segmented input image\n",
        "input_image = cv2.imread('/content/kmeans_clustering.png', 0)\n",
        "\n",
        "# Define a kernel for convolution\n",
        "kernel_size = 2\n",
        "kernel = np.ones((kernel_size, kernel_size), np.uint8)\n",
        "\n",
        "# Perform erosion and dilation to enhance the edges\n",
        "erosion = cv2.erode(input_image, kernel, iterations=1)\n",
        "dilation = cv2.dilate(erosion, kernel, iterations=1)\n",
        "\n",
        "# Calculate the correlation of the input image\n",
        "correlation = cv2.filter2D(dilation, -1, kernel)\n",
        "\n",
        "# Calculate the correlation coefficient\n",
        "corr_coef = np.corrcoef(input_image.flatten(), correlation.flatten())[0,1]\n"
      ],
      "metadata": {
        "id": "WLW7FgsZIoRA"
      },
      "execution_count": null,
      "outputs": []
    },
    {
      "cell_type": "code",
      "source": [
        "import cv2\n",
        "import numpy as np\n",
        "\n",
        "# Load the segmented lung image\n",
        "lung_image = cv2.imread('/content/kmeans_clustering.png')\n",
        "\n",
        "# Convert to grayscale\n",
        "gray = cv2.cvtColor(lung_image, cv2.COLOR_BGR2GRAY)\n",
        "\n",
        "# Calculate the energy using the Laplacian operator\n",
        "laplacian = cv2.Laplacian(gray, cv2.CV_64F)\n",
        "energy = np.sum(np.square(laplacian))\n",
        "\n",
        "# Calculate the energy density and scale it to the desired range\n",
        "num_pixels = gray.shape[0] * gray.shape[1]\n",
        "energy_density = energy / num_pixels\n",
        "energy_norm = energy_density / 4000.0 # Use an even smaller scaling factor to increase the normalized energy value\n"
      ],
      "metadata": {
        "id": "D42EL1BlMH2b"
      },
      "execution_count": null,
      "outputs": []
    },
    {
      "cell_type": "code",
      "source": [
        "print(\"Homogeneity: \", homogeneity)\n",
        "print(\"Entropy:\", entropy_img.mean())\n",
        "print(\"Contrast: \", contrast)\n",
        "print(\"Correlation coefficient: \", corr_coef)\n",
        "print(\"The normalized energy of the segmented lung image is: {:.8f}\".format(energy_norm))"
      ],
      "metadata": {
        "id": "hGAwGf7EMrxz"
      },
      "execution_count": null,
      "outputs": []
    },
    {
      "cell_type": "code",
      "source": [
        "from skimage import feature, io\n",
        "\n",
        "# Load the image\n",
        "img = io.imread('/content/edge_based.png', as_gray=True)\n",
        "\n",
        "# Calculate Homogeneity feature\n",
        "glcm = feature.graycomatrix(img, distances=[1], angles=[0], symmetric=True, normed=True)\n",
        "homogeneity = feature.graycoprops(glcm, 'homogeneity')[0, 0]\n",
        "\n",
        "from skimage import io, img_as_ubyte\n",
        "from skimage.filters import rank\n",
        "from skimage.morphology import disk\n",
        "\n",
        "# Convert the image to 8-bit\n",
        "img_8bit = img_as_ubyte(img)\n",
        "\n",
        "# Calculate entropy of the image using a 9x9 disk-shaped neighborhood\n",
        "entropy_img = rank.entropy(img_8bit, disk(9))\n",
        "import cv2\n",
        "\n",
        "# Load the lung cancer image\n",
        "img = cv2.imread('/content/edge_based.png', cv2.IMREAD_GRAYSCALE)\n",
        "\n",
        "# Calculate the contrast of the image using OpenCV's built-in function\n",
        "laplacian = cv2.Laplacian(img, cv2.CV_64F)\n",
        "laplacian_abs = cv2.convertScaleAbs(laplacian)\n",
        "_, binary = cv2.threshold(laplacian_abs, 0, 255, cv2.THRESH_BINARY | cv2.THRESH_OTSU)\n",
        "\n",
        "# Compute the contrast as the fraction of white pixels in the binary image\n",
        "contrast = cv2.countNonZero(binary) / (binary.shape[0] * binary.shape[1])\n"
      ],
      "metadata": {
        "id": "roRAoSHVRdR3"
      },
      "execution_count": null,
      "outputs": []
    },
    {
      "cell_type": "code",
      "source": [
        "import cv2\n",
        "import numpy as np\n",
        "\n",
        "# Load the segmented input image\n",
        "input_image = cv2.imread('/content/edge_based.png', 0)\n",
        "\n",
        "# Define a kernel for convolution\n",
        "kernel_size = 2\n",
        "kernel = np.ones((kernel_size, kernel_size), np.uint8)\n",
        "\n",
        "# Perform erosion and dilation to enhance the edges\n",
        "erosion = cv2.erode(input_image, kernel, iterations=1)\n",
        "dilation = cv2.dilate(erosion, kernel, iterations=1)\n",
        "\n",
        "# Calculate the correlation of the input image\n",
        "correlation = cv2.filter2D(dilation, -1, kernel)\n",
        "\n",
        "# Calculate the correlation coefficient\n",
        "corr_coef = np.corrcoef(input_image.flatten(), correlation.flatten())[0,1]\n",
        "import cv2\n",
        "import numpy as np\n",
        "\n",
        "# Load the segmented lung image\n",
        "lung_image = cv2.imread('/content/edge_based.png')\n",
        "\n",
        "# Convert to grayscale\n",
        "gray = cv2.cvtColor(lung_image, cv2.COLOR_BGR2GRAY)\n",
        "\n",
        "# Calculate the energy using the Laplacian operator\n",
        "laplacian = cv2.Laplacian(gray, cv2.CV_64F)\n",
        "energy = np.sum(np.square(laplacian))\n",
        "\n",
        "# Calculate the energy density and scale it to the desired range\n",
        "num_pixels = gray.shape[0] * gray.shape[1]\n",
        "energy_density = energy / num_pixels\n",
        "energy_norm = energy_density / 4000.0 # Use an even smaller scaling factor to increase the normalized energy value\n"
      ],
      "metadata": {
        "id": "tMMJwA5TW4z6"
      },
      "execution_count": null,
      "outputs": []
    },
    {
      "cell_type": "code",
      "source": [
        "print(\"Homogeneity: \", homogeneity)\n",
        "print(\"Entropy:\", entropy_img.mean())\n",
        "print(\"Contrast: \", contrast)\n",
        "print(\"Correlation coefficient: \", corr_coef)\n",
        "print(\"The normalized energy of the segmented lung image is: {:.8f}\".format(energy_norm))"
      ],
      "metadata": {
        "id": "R3UB3ed7Wz04"
      },
      "execution_count": null,
      "outputs": []
    },
    {
      "cell_type": "code",
      "source": [
        "from skimage import io, img_as_ubyte\n",
        "from skimage.filters import rank\n",
        "from skimage.morphology import disk\n",
        "\n",
        "# Convert the image to 8-bit\n",
        "img_8bit = img_as_ubyte(img)\n",
        "\n",
        "# Calculate entropy of the image using a 9x9 disk-shaped neighborhood\n",
        "entropy_img = rank.entropy(img_8bit, disk(9))\n",
        "import cv2\n",
        "\n",
        "# Load the lung cancer image\n",
        "img = cv2.imread('/content/regionbasedk=2.png', cv2.IMREAD_GRAYSCALE)\n",
        "\n",
        "# Calculate the contrast of the image using OpenCV's built-in function\n",
        "laplacian = cv2.Laplacian(img, cv2.CV_64F)\n",
        "laplacian_abs = cv2.convertScaleAbs(laplacian)\n",
        "_, binary = cv2.threshold(laplacian_abs, 0, 255, cv2.THRESH_BINARY | cv2.THRESH_OTSU)\n",
        "\n",
        "# Compute the contrast as the fraction of white pixels in the binary image\n",
        "contrast = cv2.countNonZero(binary) / (binary.shape[0] * binary.shape[1])\n",
        "import cv2\n",
        "import numpy as np\n",
        "\n",
        "# Load the segmented input image\n",
        "input_image = cv2.imread('/content/regionbasedk=2.png', 0)\n",
        "\n",
        "# Define a kernel for convolution\n",
        "kernel_size = 2\n",
        "kernel = np.ones((kernel_size, kernel_size), np.uint8)\n",
        "\n",
        "# Perform erosion and dilation to enhance the edges\n",
        "erosion = cv2.erode(input_image, kernel, iterations=1)\n",
        "dilation = cv2.dilate(erosion, kernel, iterations=1)\n",
        "\n",
        "# Calculate the correlation of the input image\n",
        "correlation = cv2.filter2D(dilation, -1, kernel)\n",
        "\n",
        "# Calculate the correlation coefficient\n",
        "corr_coef = np.corrcoef(input_image.flatten(), correlation.flatten())[0,1]\n",
        "import cv2\n",
        "import numpy as np\n",
        "\n",
        "# Load the segmented lung image\n",
        "lung_image = cv2.imread('/content/regionbasedk=2.png')\n",
        "\n",
        "# Convert to grayscale\n",
        "gray = cv2.cvtColor(lung_image, cv2.COLOR_BGR2GRAY)\n",
        "\n",
        "# Calculate the energy using the Laplacian operator\n",
        "laplacian = cv2.Laplacian(gray, cv2.CV_64F)\n",
        "energy = np.sum(np.square(laplacian))\n",
        "\n",
        "# Calculate the energy density and scale it to the desired range\n",
        "num_pixels = gray.shape[0] * gray.shape[1]\n",
        "energy_density = energy / num_pixels\n",
        "energy_norm = energy_density / 4000.0 # Use an even smaller scaling factor to increase the normalized energy value\n"
      ],
      "metadata": {
        "id": "-ERvAW4iTZMg"
      },
      "execution_count": null,
      "outputs": []
    },
    {
      "cell_type": "code",
      "source": [
        "from skimage import io, feature, util\n",
        "\n",
        "# load the input image\n",
        "img = io.imread('/content/regionbasedk=2.png', as_gray=True)\n",
        "\n",
        "# convert the image to an unsigned 8-bit integer type\n",
        "img_uint8 = util.img_as_ubyte(img)\n",
        "\n",
        "# calculate the gray-level co-occurrence matrix\n",
        "glcm = feature.graycomatrix(img_uint8, distances=[1], angles=[0], symmetric=True, normed=True)\n",
        "\n",
        "# calculate the homogeneity feature\n",
        "homogeneity = feature.graycoprops(glcm, 'homogeneity')[0, 0]\n"
      ],
      "metadata": {
        "id": "30d-2h4icaje"
      },
      "execution_count": null,
      "outputs": []
    },
    {
      "cell_type": "code",
      "source": [
        "print(\"Homogeneity: \", homogeneity)\n",
        "print(\"Entropy:\", entropy_img.mean())\n",
        "print(\"Contrast: \", contrast)\n",
        "print(\"Correlation coefficient: \", corr_coef)\n",
        "print(\"The normalized energy of the segmented lung image is: {:.8f}\".format(energy_norm))"
      ],
      "metadata": {
        "id": "RGRYr7z-NASR"
      },
      "execution_count": null,
      "outputs": []
    },
    {
      "cell_type": "code",
      "source": [
        "from skimage import io, img_as_ubyte\n",
        "from skimage.filters import rank\n",
        "from skimage.morphology import disk\n",
        "\n",
        "# Convert the image to 8-bit\n",
        "img_8bit = img_as_ubyte(img)\n",
        "\n",
        "# Calculate entropy of the image using a 9x9 disk-shaped neighborhood\n",
        "entropy_img = rank.entropy(img_8bit, disk(9))\n",
        "import cv2\n",
        "\n",
        "# Load the lung cancer image\n",
        "img = cv2.imread('/content/simpleglobalthreshold.png', cv2.IMREAD_GRAYSCALE)\n",
        "\n",
        "# Calculate the contrast of the image using OpenCV's built-in function\n",
        "laplacian = cv2.Laplacian(img, cv2.CV_64F)\n",
        "laplacian_abs = cv2.convertScaleAbs(laplacian)\n",
        "_, binary = cv2.threshold(laplacian_abs, 0, 255, cv2.THRESH_BINARY | cv2.THRESH_OTSU)\n",
        "\n",
        "# Compute the contrast as the fraction of white pixels in the binary image\n",
        "contrast = cv2.countNonZero(binary) / (binary.shape[0] * binary.shape[1])\n",
        "import cv2\n",
        "import numpy as np\n",
        "\n",
        "# Load the segmented input image\n",
        "input_image = cv2.imread('/content/simpleglobalthreshold.png', 0)\n",
        "\n",
        "# Define a kernel for convolution\n",
        "kernel_size = 2\n",
        "kernel = np.ones((kernel_size, kernel_size), np.uint8)\n",
        "\n",
        "# Perform erosion and dilation to enhance the edges\n",
        "erosion = cv2.erode(input_image, kernel, iterations=1)\n",
        "dilation = cv2.dilate(erosion, kernel, iterations=1)\n",
        "\n",
        "# Calculate the correlation of the input image\n",
        "correlation = cv2.filter2D(dilation, -1, kernel)\n",
        "\n",
        "# Calculate the correlation coefficient\n",
        "corr_coef = np.corrcoef(input_image.flatten(), correlation.flatten())[0,1]\n",
        "import cv2\n",
        "import numpy as np\n",
        "\n",
        "# Load the segmented lung image\n",
        "lung_image = cv2.imread('/content/simpleglobalthreshold.png')\n",
        "\n",
        "# Convert to grayscale\n",
        "gray = cv2.cvtColor(lung_image, cv2.COLOR_BGR2GRAY)\n",
        "\n",
        "# Calculate the energy using the Laplacian operator\n",
        "laplacian = cv2.Laplacian(gray, cv2.CV_64F)\n",
        "energy = np.sum(np.square(laplacian))\n",
        "\n",
        "# Calculate the energy density and scale it to the desired range\n",
        "num_pixels = gray.shape[0] * gray.shape[1]\n",
        "energy_density = energy / num_pixels\n",
        "energy_norm = energy_density / 4000.0 # Use an even smaller scaling factor to increase the normalized energy value\n"
      ],
      "metadata": {
        "id": "CiMuSg8GMTLF"
      },
      "execution_count": null,
      "outputs": []
    },
    {
      "cell_type": "code",
      "source": [
        "from skimage import io, feature, util\n",
        "\n",
        "# load the input image\n",
        "img = io.imread('/content/simpleglobalthreshold.png', as_gray=True)\n",
        "\n",
        "# convert the image to an unsigned 8-bit integer type\n",
        "img_uint8 = util.img_as_ubyte(img)\n",
        "\n",
        "# calculate the gray-level co-occurrence matrix\n",
        "glcm = feature.graycomatrix(img_uint8, distances=[1], angles=[0], symmetric=True, normed=True)\n",
        "\n",
        "# calculate the homogeneity feature\n",
        "homogeneity = feature.graycoprops(glcm, 'homogeneity')[0, 0]\n"
      ],
      "metadata": {
        "id": "tU85_iOWMAhK"
      },
      "execution_count": null,
      "outputs": []
    },
    {
      "cell_type": "code",
      "source": [
        "print(\"Homogeneity: \", homogeneity)\n",
        "print(\"Entropy:\", entropy_img.mean())\n",
        "print(\"Contrast: \", contrast)\n",
        "print(\"Correlation coefficient: \", corr_coef)\n",
        "print(\"The normalized energy of the segmented lung image is: {:.8f}\".format(energy_norm))"
      ],
      "metadata": {
        "id": "egfFVqQPLgdB"
      },
      "execution_count": null,
      "outputs": []
    },
    {
      "cell_type": "code",
      "source": [
        "from skimage import io, img_as_ubyte\n",
        "from skimage.filters import rank\n",
        "from skimage.morphology import disk\n",
        "\n",
        "# Convert the image to 8-bit\n",
        "img_8bit = img_as_ubyte(img)\n",
        "\n",
        "# Calculate entropy of the image using a 9x9 disk-shaped neighborhood\n",
        "entropy_img = rank.entropy(img_8bit, disk(9))\n",
        "import cv2\n",
        "\n",
        "# Load the lung cancer image\n",
        "img = cv2.imread('/content/simplethresholding.png', cv2.IMREAD_GRAYSCALE)\n",
        "\n",
        "# Calculate the contrast of the image using OpenCV's built-in function\n",
        "laplacian = cv2.Laplacian(img, cv2.CV_64F)\n",
        "laplacian_abs = cv2.convertScaleAbs(laplacian)\n",
        "_, binary = cv2.threshold(laplacian_abs, 0, 255, cv2.THRESH_BINARY | cv2.THRESH_OTSU)\n",
        "\n",
        "# Compute the contrast as the fraction of white pixels in the binary image\n",
        "contrast = cv2.countNonZero(binary) / (binary.shape[0] * binary.shape[1])\n",
        "import cv2\n",
        "import numpy as np\n",
        "\n",
        "# Load the segmented input image\n",
        "input_image = cv2.imread('/content/simplethresholding.png', 0)\n",
        "\n",
        "# Define a kernel for convolution\n",
        "kernel_size = 2\n",
        "kernel = np.ones((kernel_size, kernel_size), np.uint8)\n",
        "\n",
        "# Perform erosion and dilation to enhance the edges\n",
        "erosion = cv2.erode(input_image, kernel, iterations=1)\n",
        "dilation = cv2.dilate(erosion, kernel, iterations=1)\n",
        "\n",
        "# Calculate the correlation of the input image\n",
        "correlation = cv2.filter2D(dilation, -1, kernel)\n",
        "\n",
        "# Calculate the correlation coefficient\n",
        "corr_coef = np.corrcoef(input_image.flatten(), correlation.flatten())[0,1]\n",
        "import cv2\n",
        "import numpy as np\n",
        "\n",
        "# Load the segmented lung image\n",
        "lung_image = cv2.imread('/content/simplethresholding.png')\n",
        "\n",
        "# Convert to grayscale\n",
        "gray = cv2.cvtColor(lung_image, cv2.COLOR_BGR2GRAY)\n",
        "\n",
        "# Calculate the energy using the Laplacian operator\n",
        "laplacian = cv2.Laplacian(gray, cv2.CV_64F)\n",
        "energy = np.sum(np.square(laplacian))\n",
        "\n",
        "# Calculate the energy density and scale it to the desired range\n",
        "num_pixels = gray.shape[0] * gray.shape[1]\n",
        "energy_density = energy / num_pixels\n",
        "energy_norm = energy_density / 4000.0 # Use an even smaller scaling factor to increase the normalized energy value\n"
      ],
      "metadata": {
        "id": "b_5oTyWKLetG"
      },
      "execution_count": null,
      "outputs": []
    },
    {
      "cell_type": "code",
      "source": [
        "from skimage import io, feature, util\n",
        "\n",
        "# load the input image\n",
        "img = io.imread('/content/simplethresholding.png', as_gray=True)\n",
        "\n",
        "# convert the image to an unsigned 8-bit integer type\n",
        "img_uint8 = util.img_as_ubyte(img)\n",
        "\n",
        "# calculate the gray-level co-occurrence matrix\n",
        "glcm = feature.graycomatrix(img_uint8, distances=[1], angles=[0], symmetric=True, normed=True)\n",
        "\n",
        "# calculate the homogeneity feature\n",
        "homogeneity = feature.graycoprops(glcm, 'homogeneity')[0, 0]\n"
      ],
      "metadata": {
        "id": "JjwF-ZeSLdGH"
      },
      "execution_count": null,
      "outputs": []
    },
    {
      "cell_type": "code",
      "source": [
        "print(\"Homogeneity: \", homogeneity)\n",
        "print(\"Entropy:\", entropy_img.mean())\n",
        "print(\"Contrast: \", contrast)\n",
        "print(\"Correlation coefficient: \", corr_coef)\n",
        "print(\"The normalized energy of the segmented lung image is: {:.8f}\".format(energy_norm))"
      ],
      "metadata": {
        "id": "L9w7jlziKZ1n"
      },
      "execution_count": null,
      "outputs": []
    },
    {
      "cell_type": "code",
      "source": [
        "from skimage import io, img_as_ubyte\n",
        "from skimage.filters import rank\n",
        "from skimage.morphology import disk\n",
        "\n",
        "# Convert the image to 8-bit\n",
        "img_8bit = img_as_ubyte(img)\n",
        "\n",
        "# Calculate entropy of the image using a 9x9 disk-shaped neighborhood\n",
        "entropy_img = rank.entropy(img_8bit, disk(9))\n",
        "import cv2\n",
        "\n",
        "# Load the lung cancer image\n",
        "img = cv2.imread('/content/simplewatershed.png', cv2.IMREAD_GRAYSCALE)\n",
        "\n",
        "# Calculate the contrast of the image using OpenCV's built-in function\n",
        "laplacian = cv2.Laplacian(img, cv2.CV_64F)\n",
        "laplacian_abs = cv2.convertScaleAbs(laplacian)\n",
        "_, binary = cv2.threshold(laplacian_abs, 0, 255, cv2.THRESH_BINARY | cv2.THRESH_OTSU)\n",
        "\n",
        "# Compute the contrast as the fraction of white pixels in the binary image\n",
        "contrast = cv2.countNonZero(binary) / (binary.shape[0] * binary.shape[1])\n",
        "import cv2\n",
        "import numpy as np\n",
        "\n",
        "# Load the segmented input image\n",
        "input_image = cv2.imread('/content/simplewatershed.png', 0)\n",
        "\n",
        "# Define a kernel for convolution\n",
        "kernel_size = 2\n",
        "kernel = np.ones((kernel_size, kernel_size), np.uint8)\n",
        "\n",
        "# Perform erosion and dilation to enhance the edges\n",
        "erosion = cv2.erode(input_image, kernel, iterations=1)\n",
        "dilation = cv2.dilate(erosion, kernel, iterations=1)\n",
        "\n",
        "# Calculate the correlation of the input image\n",
        "correlation = cv2.filter2D(dilation, -1, kernel)\n",
        "\n",
        "# Calculate the correlation coefficient\n",
        "corr_coef = np.corrcoef(input_image.flatten(), correlation.flatten())[0,1]\n",
        "import cv2\n",
        "import numpy as np\n",
        "\n",
        "# Load the segmented lung image\n",
        "lung_image = cv2.imread('/content/simplewatershed.png')\n",
        "\n",
        "# Convert to grayscale\n",
        "gray = cv2.cvtColor(lung_image, cv2.COLOR_BGR2GRAY)\n",
        "\n",
        "# Calculate the energy using the Laplacian operator\n",
        "laplacian = cv2.Laplacian(gray, cv2.CV_64F)\n",
        "energy = np.sum(np.square(laplacian))\n",
        "\n",
        "# Calculate the energy density and scale it to the desired range\n",
        "num_pixels = gray.shape[0] * gray.shape[1]\n",
        "energy_density = energy / num_pixels\n",
        "energy_norm = energy_density / 4000.0 # Use an even smaller scaling factor to increase the normalized energy value\n"
      ],
      "metadata": {
        "id": "MQMyq61PJTul"
      },
      "execution_count": null,
      "outputs": []
    },
    {
      "cell_type": "code",
      "source": [
        "from skimage import io, feature, util\n",
        "\n",
        "# load the input image\n",
        "img = io.imread('/content/simplewatershed.png', as_gray=True)\n",
        "\n",
        "# convert the image to an unsigned 8-bit integer type\n",
        "img_uint8 = util.img_as_ubyte(img)\n",
        "\n",
        "# calculate the gray-level co-occurrence matrix\n",
        "glcm = feature.graycomatrix(img_uint8, distances=[1], angles=[0], symmetric=True, normed=True)\n",
        "\n",
        "# calculate the homogeneity feature\n",
        "homogeneity = feature.graycoprops(glcm, 'homogeneity')[0, 0]\n",
        "print(\"Homogeneity: \", homogeneity)\n",
        "print(\"Entropy:\", entropy_img.mean())\n",
        "print(\"Contrast: \", contrast)\n",
        "print(\"Correlation coefficient: \", corr_coef)\n",
        "print(\"The normalized energy of the segmented lung image is: {:.8f}\".format(energy_norm))"
      ],
      "metadata": {
        "id": "MGKNDfVbJSFh"
      },
      "execution_count": null,
      "outputs": []
    },
    {
      "cell_type": "code",
      "source": [
        "from skimage import io, img_as_ubyte\n",
        "from skimage.filters import rank\n",
        "from skimage.morphology import disk\n",
        "\n",
        "# Convert the image to 8-bit\n",
        "img_8bit = img_as_ubyte(img)\n",
        "\n",
        "# Calculate entropy of the image using a 9x9 disk-shaped neighborhood\n",
        "entropy_img = rank.entropy(img_8bit, disk(9))\n",
        "import cv2\n",
        "\n",
        "# Load the lung cancer image\n",
        "img = cv2.imread('/content/watershed_transform.png', cv2.IMREAD_GRAYSCALE)\n",
        "\n",
        "# Calculate the contrast of the image using OpenCV's built-in function\n",
        "laplacian = cv2.Laplacian(img, cv2.CV_64F)\n",
        "laplacian_abs = cv2.convertScaleAbs(laplacian)\n",
        "_, binary = cv2.threshold(laplacian_abs, 0, 255, cv2.THRESH_BINARY | cv2.THRESH_OTSU)\n",
        "\n",
        "# Compute the contrast as the fraction of white pixels in the binary image\n",
        "contrast = cv2.countNonZero(binary) / (binary.shape[0] * binary.shape[1])\n",
        "import cv2\n",
        "import numpy as np\n",
        "\n",
        "# Load the segmented input image\n",
        "input_image = cv2.imread('/content/watershed_transform.png', 0)\n",
        "\n",
        "# Define a kernel for convolution\n",
        "kernel_size = 2\n",
        "kernel = np.ones((kernel_size, kernel_size), np.uint8)\n",
        "\n",
        "# Perform erosion and dilation to enhance the edges\n",
        "erosion = cv2.erode(input_image, kernel, iterations=1)\n",
        "dilation = cv2.dilate(erosion, kernel, iterations=1)\n",
        "\n",
        "# Calculate the correlation of the input image\n",
        "correlation = cv2.filter2D(dilation, -1, kernel)\n",
        "\n",
        "# Calculate the correlation coefficient\n",
        "corr_coef = np.corrcoef(input_image.flatten(), correlation.flatten())[0,1]\n",
        "import cv2\n",
        "import numpy as np\n",
        "\n",
        "# Load the segmented lung image\n",
        "lung_image = cv2.imread('/content/watershed_transform.png')\n",
        "\n",
        "# Convert to grayscale\n",
        "gray = cv2.cvtColor(lung_image, cv2.COLOR_BGR2GRAY)\n",
        "\n",
        "# Calculate the energy using the Laplacian operator\n",
        "laplacian = cv2.Laplacian(gray, cv2.CV_64F)\n",
        "energy = np.sum(np.square(laplacian))\n",
        "\n",
        "# Calculate the energy density and scale it to the desired range\n",
        "num_pixels = gray.shape[0] * gray.shape[1]\n",
        "energy_density = energy / num_pixels\n",
        "energy_norm = energy_density / 4000.0 # Use an even smaller scaling factor to increase the normalized energy value\n"
      ],
      "metadata": {
        "id": "JSea6P6pJQta"
      },
      "execution_count": null,
      "outputs": []
    },
    {
      "cell_type": "code",
      "source": [
        "from skimage import io, feature, util\n",
        "\n",
        "# load the input image\n",
        "img = io.imread('/content/watershed_transform.png', as_gray=True)\n",
        "\n",
        "# convert the image to an unsigned 8-bit integer type\n",
        "img_uint8 = util.img_as_ubyte(img)\n",
        "\n",
        "# calculate the gray-level co-occurrence matrix\n",
        "glcm = feature.graycomatrix(img_uint8, distances=[1], angles=[0], symmetric=True, normed=True)\n",
        "\n",
        "# calculate the homogeneity feature\n",
        "homogeneity = feature.graycoprops(glcm, 'homogeneity')[0, 0]\n",
        "print(\"Homogeneity: \", homogeneity)\n",
        "print(\"Entropy:\", entropy_img.mean())\n",
        "print(\"Contrast: \", contrast)\n",
        "print(\"Correlation coefficient: \", corr_coef)\n",
        "print(\"The normalized energy of the segmented lung image is: {:.8f}\".format(energy_norm))"
      ],
      "metadata": {
        "id": "OeJOOMo1JOpz"
      },
      "execution_count": null,
      "outputs": []
    },
    {
      "cell_type": "code",
      "source": [],
      "metadata": {
        "id": "BAt8kXzBI37p"
      },
      "execution_count": null,
      "outputs": []
    },
    {
      "cell_type": "code",
      "source": [],
      "metadata": {
        "id": "D_AIGQT9IY1-"
      },
      "execution_count": null,
      "outputs": []
    },
    {
      "cell_type": "code",
      "source": [],
      "metadata": {
        "id": "HI2xgtLQIUBR"
      },
      "execution_count": null,
      "outputs": []
    },
    {
      "cell_type": "code",
      "source": [],
      "metadata": {
        "id": "iHne0BmJHGSt"
      },
      "execution_count": null,
      "outputs": []
    },
    {
      "cell_type": "code",
      "source": [],
      "metadata": {
        "id": "GkdQf-bYGkPF"
      },
      "execution_count": null,
      "outputs": []
    },
    {
      "cell_type": "code",
      "source": [],
      "metadata": {
        "id": "m6k1BCxOFnRs"
      },
      "execution_count": null,
      "outputs": []
    }
  ]
}